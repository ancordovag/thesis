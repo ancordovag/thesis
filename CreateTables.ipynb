{
 "cells": [
  {
   "cell_type": "code",
   "execution_count": 1,
   "id": "5ae1a03a-5655-4400-8f45-6d2679038dda",
   "metadata": {},
   "outputs": [],
   "source": [
    "import psycopg2"
   ]
  },
  {
   "cell_type": "code",
   "execution_count": 2,
   "id": "be817ce7-c83f-4702-9aed-2743b77edde0",
   "metadata": {},
   "outputs": [],
   "source": [
    "conn_string = \"dbname=thesis user=postgres password=postgres\"\n",
    "conn = psycopg2.connect(conn_string)\n",
    "cursor = conn.cursor()"
   ]
  },
  {
   "cell_type": "code",
   "execution_count": 4,
   "id": "7ce0a762-2654-4a9e-b9ff-d37286b4fda8",
   "metadata": {},
   "outputs": [
    {
     "name": "stdout",
     "output_type": "stream",
     "text": [
      "Finished dropping table experiments (if existed)\n",
      "Finished creating table experiments\n"
     ]
    }
   ],
   "source": [
    "cursor.execute(\"DROP TABLE IF EXISTS experiments CASCADE;\")\n",
    "print(\"Finished dropping table experiments (if existed)\")\n",
    "\n",
    "conn.commit()\n",
    "cursor.close()"
   ]
  },
  {
   "cell_type": "code",
   "execution_count": 9,
   "id": "4bc374f3-e009-4fb2-b292-f0c3ca4239fe",
   "metadata": {},
   "outputs": [
    {
     "name": "stdout",
     "output_type": "stream",
     "text": [
      "Finished creating table experiments\n"
     ]
    }
   ],
   "source": [
    "cursor = conn.cursor()\n",
    "# Create a table\n",
    "cursor.execute('''CREATE TABLE experiments (\n",
    "                id SERIAL PRIMARY KEY, \n",
    "                prompt1 TEXT, \n",
    "                prompt2 TEXT,\n",
    "                encoding TEXT,\n",
    "                story VARCHAR(20),\n",
    "                story_1 VARCHAR(20),\n",
    "                story_2 VARCHAR(20),\n",
    "                version INTEGER,\n",
    "                file VARCHAR(75),\n",
    "                created_at TIMESTAMP DEFAULT CURRENT_TIMESTAMP             \n",
    "                );''')\n",
    "print(\"Finished creating table experiments\")"
   ]
  },
  {
   "cell_type": "code",
   "execution_count": 10,
   "id": "7403f58d-f9dd-4ee6-a20d-3f4dbec6de76",
   "metadata": {},
   "outputs": [],
   "source": [
    "conn.commit()\n",
    "cursor.close()"
   ]
  },
  {
   "cell_type": "code",
   "execution_count": 3,
   "id": "f4ea5336-ec2f-451a-8da0-68f692eb1a81",
   "metadata": {},
   "outputs": [
    {
     "name": "stdout",
     "output_type": "stream",
     "text": [
      "Finished dropping table results (if existed)\n"
     ]
    }
   ],
   "source": [
    "cursor.execute(\"DROP TABLE IF EXISTS results CASCADE;\")\n",
    "print(\"Finished dropping table results (if existed)\")\n",
    "\n",
    "conn.commit()\n",
    "cursor.close()"
   ]
  },
  {
   "cell_type": "code",
   "execution_count": 6,
   "id": "a33ad0ca-d223-45f3-8cce-b1aa44ed0299",
   "metadata": {},
   "outputs": [
    {
     "name": "stdout",
     "output_type": "stream",
     "text": [
      "Finished creating table experiments\n"
     ]
    }
   ],
   "source": [
    "cursor = conn.cursor()\n",
    "# Create a table\n",
    "cursor.execute('''CREATE TABLE results (\n",
    "                id_result SERIAL PRIMARY KEY, \n",
    "                file VARCHAR(75),\n",
    "                kpi REAL,\n",
    "                diff_lines INTEGER,\n",
    "                errors INTEGER,\n",
    "                n_models INTEGER,\n",
    "                symbols TEXT,\n",
    "                matchs INTEGER, \n",
    "                match_ratio REAL,\n",
    "                created_at TIMESTAMP DEFAULT CURRENT_TIMESTAMP             \n",
    "                );''')\n",
    "print(\"Finished creating table results\")"
   ]
  },
  {
   "cell_type": "code",
   "execution_count": 7,
   "id": "21554005-03b1-43af-b83f-646ebdb78c41",
   "metadata": {},
   "outputs": [],
   "source": [
    "conn.commit()\n",
    "cursor.close()"
   ]
  },
  {
   "cell_type": "code",
   "execution_count": null,
   "id": "970cf8ae-aa8a-446b-bc13-964b79946ced",
   "metadata": {},
   "outputs": [],
   "source": []
  }
 ],
 "metadata": {
  "kernelspec": {
   "display_name": "Python 3 (ipykernel)",
   "language": "python",
   "name": "python3"
  },
  "language_info": {
   "codemirror_mode": {
    "name": "ipython",
    "version": 3
   },
   "file_extension": ".py",
   "mimetype": "text/x-python",
   "name": "python",
   "nbconvert_exporter": "python",
   "pygments_lexer": "ipython3",
   "version": "3.9.13"
  }
 },
 "nbformat": 4,
 "nbformat_minor": 5
}
