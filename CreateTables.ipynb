{
 "cells": [
  {
   "cell_type": "code",
   "execution_count": 1,
   "id": "5ae1a03a-5655-4400-8f45-6d2679038dda",
   "metadata": {},
   "outputs": [],
   "source": [
    "import psycopg2"
   ]
  },
  {
   "cell_type": "code",
   "execution_count": 2,
   "id": "be817ce7-c83f-4702-9aed-2743b77edde0",
   "metadata": {},
   "outputs": [],
   "source": [
    "conn_string = \"dbname=thesis user=postgres password=postgres\"\n",
    "conn = psycopg2.connect(conn_string)\n",
    "cursor = conn.cursor()"
   ]
  },
  {
   "cell_type": "code",
   "execution_count": 3,
   "id": "7ce0a762-2654-4a9e-b9ff-d37286b4fda8",
   "metadata": {},
   "outputs": [
    {
     "name": "stdout",
     "output_type": "stream",
     "text": [
      "Finished dropping table experiments (if existed)\n"
     ]
    }
   ],
   "source": [
    "input(\"Are you sure you want to delete?\")\n",
    "cursor.execute(\"DROP TABLE IF EXISTS experiments CASCADE;\")\n",
    "print(\"Finished dropping table experiments (if existed)\")\n",
    "\n",
    "conn.commit()\n",
    "cursor.close()"
   ]
  },
  {
   "cell_type": "code",
   "execution_count": 4,
   "id": "4bc374f3-e009-4fb2-b292-f0c3ca4239fe",
   "metadata": {},
   "outputs": [
    {
     "name": "stdout",
     "output_type": "stream",
     "text": [
      "Finished creating table experiments\n"
     ]
    }
   ],
   "source": [
    "cursor = conn.cursor()\n",
    "# Create a table\n",
    "cursor.execute('''CREATE TABLE experiments (\n",
    "                id SERIAL PRIMARY KEY, \n",
    "                prompt1 TEXT, \n",
    "                prompt2 TEXT,\n",
    "                encoding TEXT,\n",
    "                story VARCHAR(20),\n",
    "                story_1 VARCHAR(20),\n",
    "                story_2 VARCHAR(20),\n",
    "                version INTEGER,\n",
    "                file VARCHAR(75),\n",
    "                created_at TIMESTAMP DEFAULT CURRENT_TIMESTAMP             \n",
    "                );''')\n",
    "print(\"Finished creating table experiments\")"
   ]
  },
  {
   "cell_type": "code",
   "execution_count": 5,
   "id": "7403f58d-f9dd-4ee6-a20d-3f4dbec6de76",
   "metadata": {},
   "outputs": [],
   "source": [
    "conn.commit()\n",
    "cursor.close()"
   ]
  },
  {
   "cell_type": "code",
   "execution_count": 10,
   "id": "dacfa582-0ce6-4442-93e1-8e860ad81313",
   "metadata": {},
   "outputs": [],
   "source": [
    "cursor = conn.cursor()\n",
    "cursor.execute(\"CREATE UNIQUE INDEX unique_idx_file_experiments ON experiments(file);\")\n",
    "conn.cursor()\n",
    "cursor.close()"
   ]
  },
  {
   "cell_type": "code",
   "execution_count": 7,
   "id": "f4ea5336-ec2f-451a-8da0-68f692eb1a81",
   "metadata": {},
   "outputs": [
    {
     "name": "stdout",
     "output_type": "stream",
     "text": [
      "Finished dropping table results (if existed)\n"
     ]
    }
   ],
   "source": [
    "input(\"Are you sure you want to delete?\")\n",
    "cursor = conn.cursor()\n",
    "cursor.execute(\"DROP TABLE IF EXISTS results CASCADE;\")\n",
    "print(\"Finished dropping table results (if existed)\")\n",
    "\n",
    "conn.commit()\n",
    "cursor.close()"
   ]
  },
  {
   "cell_type": "code",
   "execution_count": 3,
   "id": "a33ad0ca-d223-45f3-8cce-b1aa44ed0299",
   "metadata": {},
   "outputs": [
    {
     "name": "stdout",
     "output_type": "stream",
     "text": [
      "Finished creating table results\n"
     ]
    }
   ],
   "source": [
    "cursor = conn.cursor()\n",
    "# Create a table\n",
    "cursor.execute('''CREATE TABLE results (\n",
    "                id_result SERIAL PRIMARY KEY, \n",
    "                file VARCHAR(75),\n",
    "                kpi REAL,\n",
    "                diff_lines INTEGER,\n",
    "                repeated INTEGER,\n",
    "                errors INTEGER,\n",
    "                n_models INTEGER,\n",
    "                symbols TEXT,\n",
    "                messages TEXT,\n",
    "                matchs INTEGER, \n",
    "                accuracy REAL,\n",
    "                precision REAL,\n",
    "                recall REAL,\n",
    "                f1_score REAL,\n",
    "                jaccard REAL,\n",
    "                created_at TIMESTAMP DEFAULT CURRENT_TIMESTAMP             \n",
    "                );''')\n",
    "print(\"Finished creating table results\")"
   ]
  },
  {
   "cell_type": "code",
   "execution_count": 4,
   "id": "21554005-03b1-43af-b83f-646ebdb78c41",
   "metadata": {},
   "outputs": [],
   "source": [
    "conn.commit()\n",
    "cursor.close()"
   ]
  },
  {
   "cell_type": "code",
   "execution_count": 3,
   "id": "c5695b9e-14a0-4317-b307-59b9d93afed0",
   "metadata": {},
   "outputs": [
    {
     "name": "stdout",
     "output_type": "stream",
     "text": [
      "Finished creating table results\n"
     ]
    }
   ],
   "source": [
    "cursor = conn.cursor()\n",
    "# Create a table\n",
    "cursor.execute('''CREATE TABLE newtry (\n",
    "                id_result SERIAL PRIMARY KEY, \n",
    "                file VARCHAR(75),\n",
    "                kpi REAL,\n",
    "                diff_lines INTEGER,\n",
    "                repeated INTEGER,\n",
    "                errors INTEGER,\n",
    "                n_models INTEGER,\n",
    "                symbols TEXT,\n",
    "                messages TEXT,\n",
    "                matchs INTEGER, \n",
    "                accuracy REAL,\n",
    "                precision REAL,\n",
    "                recall REAL,\n",
    "                f1_score REAL,\n",
    "                jaccard REAL,\n",
    "                created_at TIMESTAMP DEFAULT CURRENT_TIMESTAMP             \n",
    "                );''')\n",
    "print(\"Finished creating table results\")"
   ]
  },
  {
   "cell_type": "code",
   "execution_count": 4,
   "id": "f0ca5668-fa5e-41bf-845e-8306b957a257",
   "metadata": {},
   "outputs": [],
   "source": [
    "conn.commit()\n",
    "cursor.close()"
   ]
  },
  {
   "cell_type": "code",
   "execution_count": 5,
   "id": "970cf8ae-aa8a-446b-bc13-964b79946ced",
   "metadata": {},
   "outputs": [],
   "source": [
    "cursor = conn.cursor()\n",
    "cursor.execute(\"CREATE UNIQUE INDEX unique_idx_file_results ON results(file);\")\n",
    "conn.commit()\n",
    "cursor.close()"
   ]
  },
  {
   "cell_type": "markdown",
   "id": "8d6d74d8-134e-461d-b9eb-707f4bf2436c",
   "metadata": {},
   "source": [
    "CREATE TABLE panel AS\n",
    "\t(SELECT id, experiments.file, prompt1, prompt2, encoding, story, story_1, story_2, version, experiments.created_at, id_result, kpi,\n",
    "\t \tdiff_lines, repeated, n_models, errors, n_errors, symbols, matchs, accuracy, precision, recall, f1_score, jaccard \n",
    "\tFROM experiments INNER JOIN results ON experiments.file = results.file )"
   ]
  },
  {
   "cell_type": "code",
   "execution_count": 6,
   "id": "6ff7ba2d-1a8d-45c1-80ea-cd43428ae0aa",
   "metadata": {},
   "outputs": [
    {
     "ename": "DuplicateTable",
     "evalue": "FEHLER:  Relation »panel« existiert bereits\n",
     "output_type": "error",
     "traceback": [
      "\u001b[1;31m---------------------------------------------------------------------------\u001b[0m",
      "\u001b[1;31mDuplicateTable\u001b[0m                            Traceback (most recent call last)",
      "Cell \u001b[1;32mIn[6], line 3\u001b[0m\n\u001b[0;32m      1\u001b[0m sql \u001b[38;5;241m=\u001b[39m \u001b[38;5;124m\"\u001b[39m\u001b[38;5;124mCREATE TABLE panel AS (SELECT id, experiments.file, prompt1, prompt2, encoding, story, story_1, story_2, version, experiments.created_at, id_result, kpi, diff_lines, repeated, n_models, errors, n_errors, symbols, messages, matchs, accuracy, precision, recall, f1_score, jaccard FROM experiments INNER JOIN results ON experiments.file = results.file )\u001b[39m\u001b[38;5;124m\"\u001b[39m\n\u001b[0;32m      2\u001b[0m cursor \u001b[38;5;241m=\u001b[39m conn\u001b[38;5;241m.\u001b[39mcursor()\n\u001b[1;32m----> 3\u001b[0m \u001b[43mcursor\u001b[49m\u001b[38;5;241;43m.\u001b[39;49m\u001b[43mexecute\u001b[49m\u001b[43m(\u001b[49m\u001b[43msql\u001b[49m\u001b[43m)\u001b[49m\n\u001b[0;32m      4\u001b[0m conn\u001b[38;5;241m.\u001b[39mcursor()\n\u001b[0;32m      5\u001b[0m cursor\u001b[38;5;241m.\u001b[39mclose()\n",
      "\u001b[1;31mDuplicateTable\u001b[0m: FEHLER:  Relation »panel« existiert bereits\n"
     ]
    }
   ],
   "source": [
    "sql = \"CREATE TABLE panel AS (SELECT id, experiments.file, prompt1, prompt2, encoding, story, story_1, story_2, version, experiments.created_at, id_result, kpi, diff_lines, repeated, n_models, errors, n_errors, symbols, messages, matchs, accuracy, precision, recall, f1_score, jaccard FROM experiments INNER JOIN results ON experiments.file = results.file )\"\n",
    "cursor = conn.cursor()\n",
    "cursor.execute(sql)\n",
    "conn.commit()\n",
    "cursor.close()"
   ]
  },
  {
   "cell_type": "code",
   "execution_count": 3,
   "id": "c1b2af45-948d-402b-8cfa-534ab0b1fce6",
   "metadata": {},
   "outputs": [],
   "source": [
    "sql = \"CREATE TABLE ne_panel AS (SELECT id, ne_linebyline.file, prompt1, prompt2, encoding, story, story_1, story_2, version, ne_linebyline.created_at, id_result, kpi, diff_lines, repeated, n_models, errors, n_errors, symbols, messages, matchs, accuracy, precision, recall, f1_score, jaccard FROM ne_linebyline INNER JOIN ne_results ON ne_linebyline.file = ne_results.file )\"\n",
    "cursor = conn.cursor()\n",
    "cursor.execute(sql)\n",
    "conn.commit()\n",
    "cursor.close()"
   ]
  },
  {
   "cell_type": "code",
   "execution_count": 9,
   "id": "4474ba7b-52bf-434f-834b-efa639f37841",
   "metadata": {},
   "outputs": [
    {
     "name": "stdout",
     "output_type": "stream",
     "text": [
      "[(1050,)]\n"
     ]
    }
   ],
   "source": [
    "sql = \"SELECT COUNT(*) FROM panel\"\n",
    "cursor = conn.cursor()\n",
    "cursor.execute(sql)\n",
    "results = cursor.fetchall()\n",
    "print(results)\n",
    "conn.commit()\n",
    "cursor.close()"
   ]
  },
  {
   "cell_type": "code",
   "execution_count": 8,
   "id": "70f64c3b-85d3-430d-bb47-e9a01d38f264",
   "metadata": {},
   "outputs": [
    {
     "name": "stdout",
     "output_type": "stream",
     "text": [
      "Finished creating table ne_results\n"
     ]
    }
   ],
   "source": [
    "cursor = conn.cursor()\n",
    "cursor.execute('''CREATE TABLE ne_results (\n",
    "                id_result SERIAL PRIMARY KEY, \n",
    "                file VARCHAR(75),\n",
    "                kpi REAL,\n",
    "                diff_lines INTEGER,\n",
    "                repeated INTEGER,\n",
    "                n_models INTEGER,\n",
    "                symbols TEXT,\n",
    "                matchs INTEGER,\n",
    "                accuracy REAL,\n",
    "                precision REAL,\n",
    "                recall REAL,\n",
    "                f1_score REAL,\n",
    "                jaccard REAL,                \n",
    "                created_at TIMESTAMP DEFAULT CURRENT_TIMESTAMP,\n",
    "                errors TEXT,\n",
    "                n_errors INTEGER,\n",
    "                messages TEXT\n",
    "                );''')\n",
    "print(\"Finished creating table ne_results\")\n",
    "conn.commit()\n",
    "cursor.close()"
   ]
  },
  {
   "cell_type": "code",
   "execution_count": 7,
   "id": "6e727143-9346-4d53-99c7-2cf23e764f4f",
   "metadata": {},
   "outputs": [],
   "source": [
    "conn.commit()\n",
    "cursor.close()"
   ]
  },
  {
   "cell_type": "code",
   "execution_count": null,
   "id": "1734b9db-69f0-4cd4-a1e1-d6d38efb987d",
   "metadata": {},
   "outputs": [],
   "source": []
  }
 ],
 "metadata": {
  "kernelspec": {
   "display_name": "Python 3 (ipykernel)",
   "language": "python",
   "name": "python3"
  },
  "language_info": {
   "codemirror_mode": {
    "name": "ipython",
    "version": 3
   },
   "file_extension": ".py",
   "mimetype": "text/x-python",
   "name": "python",
   "nbconvert_exporter": "python",
   "pygments_lexer": "ipython3",
   "version": "3.9.13"
  }
 },
 "nbformat": 4,
 "nbformat_minor": 5
}
