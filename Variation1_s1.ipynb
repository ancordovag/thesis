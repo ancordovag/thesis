{
 "cells": [
  {
   "cell_type": "code",
   "execution_count": 121,
   "id": "cd915efe-2a9e-4bbb-a434-c6b08492ed63",
   "metadata": {},
   "outputs": [],
   "source": [
    "### Import libraries\n",
    "import openai\n",
    "import os\n",
    "import time\n",
    "from datetime import datetime\n",
    "import pandas as pd\n",
    "import numpy as np\n",
    "from numpy.linalg import norm\n",
    "import clingo\n",
    "from clingo.control import Control\n",
    "import json\n",
    "from yaml import load, Loader\n",
    "from helper import *\n",
    "from stories1 import *"
   ]
  },
  {
   "cell_type": "code",
   "execution_count": 122,
   "id": "26392ca8-3189-491e-8fe6-261e2bb6f807",
   "metadata": {},
   "outputs": [],
   "source": [
    "with open(\"config.yml\",\"r\") as config:\n",
    "    data = load(config, Loader=Loader)\n",
    "    api_key = data[\"apikey\"]\n",
    "    openai.api_key  = api_key"
   ]
  },
  {
   "cell_type": "code",
   "execution_count": 123,
   "id": "3527de00-092e-4c0b-bcc5-09d4a856c08b",
   "metadata": {},
   "outputs": [],
   "source": [
    "version = 1"
   ]
  },
  {
   "cell_type": "code",
   "execution_count": 124,
   "id": "3305f92f-da03-4f07-89d2-dca265d5d474",
   "metadata": {},
   "outputs": [],
   "source": [
    "projects = [sudoku,seeknumbers,minotaur,creek]"
   ]
  },
  {
   "cell_type": "code",
   "execution_count": 5,
   "id": "0b2c9397-2e15-4648-b67d-70ca51fed043",
   "metadata": {},
   "outputs": [],
   "source": [
    "for i in range(len(projects)):\n",
    "    query = dict(projects[i])\n",
    "    example_1 = projects[i-2]\n",
    "    example_2 = projects[i-3]\n",
    "    story = query[\"story\"]\n",
    "    story_1 = example_1[\"story\"]\n",
    "    story_2 = example_2[\"story\"]\n",
    "    answer = pipeline(example_1,example_2,query)\n",
    "    name_of_file = os.path.join(\"generated_solutions\",story+\"_from_\"+story_1+\"_and_\"+story_2+\"_v\"+str(version)+\".lp\")\n",
    "    with open(name_of_file,\"w\") as file:\n",
    "        file.write(answer)"
   ]
  },
  {
   "cell_type": "code",
   "execution_count": 125,
   "id": "7bac1d0a-7dff-432d-bc04-0b88fb5c80b9",
   "metadata": {},
   "outputs": [],
   "source": [
    "def asp_try(asp_file, instance):\n",
    "    solution = \"\"\n",
    "    models = None\n",
    "    success = 0\n",
    "    try:\n",
    "        ctl = Control(arguments=[\"--opt-mode=opt\"])\n",
    "        ctl.load(asp_file)\n",
    "        ctl.load(instance)\n",
    "        ctl.add(\"base\", [], solution)\n",
    "        parts = [(\"base\", [])]\n",
    "        ctl.ground(parts)      \n",
    "        try:       \n",
    "            with ctl.solve(yield_=True, async_=True) as handle: \n",
    "                handle.wait(10)\n",
    "                handle.cancel()\n",
    "                models = list(iter(handle))\n",
    "                if len(models) > 0:\n",
    "                    success = 1\n",
    "                    #for m in models:\n",
    "                    #    print(m.symbols(True,True,True))\n",
    "            if ctl.statistics['solving']['conflicts'] > 0:\n",
    "                print(\"Errors occurred during solving.\")\n",
    "                # Analyze the conflicts to get more information\n",
    "                conflicts_analyzed = ctl.statistics['solving']['conflicts_analyzed']\n",
    "                print(\"Conflicts analyzed: {}\".format(conflicts_analyzed))\n",
    "            else:\n",
    "                print(\"No errors occurred during solving.\")\n",
    "        except:\n",
    "            print(\"Unsatisfiable\")\n",
    "    except:\n",
    "        print(\"Parsing or Safety Issues\")\n",
    "    return success, models"
   ]
  },
  {
   "cell_type": "code",
   "execution_count": 126,
   "id": "a6cdabcd-0213-4468-a538-ccc62816a768",
   "metadata": {},
   "outputs": [],
   "source": [
    "instances_dict ={\"sudoku\":os.path.join(\"projects\",\"sudoku\",\"instances\",\"ex01.lp\"),\n",
    "                 \"seeknumbers\":os.path.join(\"projects\",\"seeknumbers\",\"instances\",\"ex01.lp\"),\n",
    "                 \"minotaur\":os.path.join(\"projects\",\"minotaur\",\"instances\",\"level01.lp\"),\n",
    "                 \"creek\":os.path.join(\"projects\",\"creek\",\"instances\",\"ex01.lp\")\n",
    "                }"
   ]
  },
  {
   "cell_type": "code",
   "execution_count": 8,
   "id": "20c25039-cc33-4b24-bcc5-a9f0ed36ece7",
   "metadata": {},
   "outputs": [
    {
     "name": "stdout",
     "output_type": "stream",
     "text": [
      "========================================generated_solutions\\sudoku_from_creek_and_minotaur_v1.lp========================================\n",
      "Length of File:31\n",
      "Parsing or Safety Issues\n",
      "Success: 0\n",
      "========================================generated_solutions\\seeknumbers_from_sudoku_and_creek_v1.lp========================================\n",
      "Length of File:12\n",
      "Parsing or Safety Issues\n",
      "Success: 0\n",
      "========================================generated_solutions\\minotaur_from_seeknumbers_and_sudoku_v1.lp========================================\n",
      "Length of File:95\n",
      "Parsing or Safety Issues\n",
      "Success: 0\n",
      "========================================generated_solutions\\creek_from_minotaur_and_seeknumbers_v1.lp========================================\n",
      "Length of File:40\n",
      "Success: 0\n"
     ]
    }
   ],
   "source": [
    "for i in range(len(projects)):\n",
    "    query = dict(projects[i])\n",
    "    story = query[\"story\"]\n",
    "    story_1 = projects[i-1][\"story\"]\n",
    "    story_2 = projects[i-2][\"story\"]\n",
    "    name_of_file = os.path.join(\"generated_solutions\",story+\"_from_\"+story_1+\"_and_\"+story_2+\"_v\"+str(version)+\".lp\")\n",
    "    print(\"=\"*40 + name_of_file + \"=\"*40)\n",
    "    with open(name_of_file,\"r\") as f:\n",
    "        print(\"Length of File:\" + str(len(f.readlines())))\n",
    "    instance = instances_dict[story]\n",
    "    success, models = asp_try(name_of_file,instance)\n",
    "    print(\"Success: \" + str(success))\n",
    "    if models:\n",
    "        for m in models:\n",
    "            print(m.symbols(True,True,True))"
   ]
  },
  {
   "cell_type": "markdown",
   "id": "b54e6c88-51c4-4397-b668-38266aa1ebbc",
   "metadata": {},
   "source": [
    "### Now trying with the best matches"
   ]
  },
  {
   "cell_type": "code",
   "execution_count": 127,
   "id": "661c5528-99f0-4bae-ad13-638ce47a8acf",
   "metadata": {},
   "outputs": [],
   "source": [
    "def get_embedding(text, model=\"text-embedding-ada-002\"):\n",
    "   text = text.replace(\"\\n\", \" \")\n",
    "   return openai.Embedding.create(input = [text], model=model)['data'][0]['embedding']"
   ]
  },
  {
   "cell_type": "code",
   "execution_count": 128,
   "id": "8514dbee-d262-4eca-b3fa-bc25248778ac",
   "metadata": {},
   "outputs": [],
   "source": [
    "stories=[]\n",
    "problems = []\n",
    "embeddings = [] \n",
    "for project in projects:\n",
    "    stories.append(project[\"story\"])\n",
    "    problems.append(project[\"problem\"])"
   ]
  },
  {
   "cell_type": "code",
   "execution_count": 129,
   "id": "886c2cbb-c980-4d8e-8539-c3af05c56837",
   "metadata": {},
   "outputs": [
    {
     "data": {
      "text/html": [
       "<div>\n",
       "<style scoped>\n",
       "    .dataframe tbody tr th:only-of-type {\n",
       "        vertical-align: middle;\n",
       "    }\n",
       "\n",
       "    .dataframe tbody tr th {\n",
       "        vertical-align: top;\n",
       "    }\n",
       "\n",
       "    .dataframe thead th {\n",
       "        text-align: right;\n",
       "    }\n",
       "</style>\n",
       "<table border=\"1\" class=\"dataframe\">\n",
       "  <thead>\n",
       "    <tr style=\"text-align: right;\">\n",
       "      <th></th>\n",
       "      <th>stories</th>\n",
       "      <th>problems</th>\n",
       "    </tr>\n",
       "  </thead>\n",
       "  <tbody>\n",
       "    <tr>\n",
       "      <th>0</th>\n",
       "      <td>sudoku</td>\n",
       "      <td>The task of this project is to solve a Sudoku ...</td>\n",
       "    </tr>\n",
       "    <tr>\n",
       "      <th>1</th>\n",
       "      <td>seeknumbers</td>\n",
       "      <td>Given a square grid as shown on the left side,...</td>\n",
       "    </tr>\n",
       "    <tr>\n",
       "      <th>2</th>\n",
       "      <td>minotaur</td>\n",
       "      <td>The task of this project is to solve the Minot...</td>\n",
       "    </tr>\n",
       "    <tr>\n",
       "      <th>3</th>\n",
       "      <td>creek</td>\n",
       "      <td>The task of this project is to solve a Creek p...</td>\n",
       "    </tr>\n",
       "  </tbody>\n",
       "</table>\n",
       "</div>"
      ],
      "text/plain": [
       "       stories                                           problems\n",
       "0       sudoku  The task of this project is to solve a Sudoku ...\n",
       "1  seeknumbers  Given a square grid as shown on the left side,...\n",
       "2     minotaur  The task of this project is to solve the Minot...\n",
       "3        creek  The task of this project is to solve a Creek p..."
      ]
     },
     "execution_count": 129,
     "metadata": {},
     "output_type": "execute_result"
    }
   ],
   "source": [
    "df = pd.DataFrame({\"stories\":stories,\"problems\":problems})\n",
    "df.head(5)"
   ]
  },
  {
   "cell_type": "code",
   "execution_count": 130,
   "id": "de0f4870-d01c-4d18-b6f7-96e360bcf0e4",
   "metadata": {},
   "outputs": [],
   "source": [
    "df[\"embeddings\"] = df.problems.apply(lambda x : get_embedding(x))"
   ]
  },
  {
   "cell_type": "code",
   "execution_count": 131,
   "id": "e74ab16d-434a-4dd5-96d6-abaceb059148",
   "metadata": {},
   "outputs": [
    {
     "data": {
      "text/html": [
       "<div>\n",
       "<style scoped>\n",
       "    .dataframe tbody tr th:only-of-type {\n",
       "        vertical-align: middle;\n",
       "    }\n",
       "\n",
       "    .dataframe tbody tr th {\n",
       "        vertical-align: top;\n",
       "    }\n",
       "\n",
       "    .dataframe thead th {\n",
       "        text-align: right;\n",
       "    }\n",
       "</style>\n",
       "<table border=\"1\" class=\"dataframe\">\n",
       "  <thead>\n",
       "    <tr style=\"text-align: right;\">\n",
       "      <th></th>\n",
       "      <th>stories</th>\n",
       "      <th>problems</th>\n",
       "      <th>embeddings</th>\n",
       "    </tr>\n",
       "  </thead>\n",
       "  <tbody>\n",
       "    <tr>\n",
       "      <th>0</th>\n",
       "      <td>sudoku</td>\n",
       "      <td>The task of this project is to solve a Sudoku ...</td>\n",
       "      <td>[0.0061800191178917885, -0.0026702347677201033...</td>\n",
       "    </tr>\n",
       "    <tr>\n",
       "      <th>1</th>\n",
       "      <td>seeknumbers</td>\n",
       "      <td>Given a square grid as shown on the left side,...</td>\n",
       "      <td>[0.00273314630612731, -0.0024913938250392675, ...</td>\n",
       "    </tr>\n",
       "    <tr>\n",
       "      <th>2</th>\n",
       "      <td>minotaur</td>\n",
       "      <td>The task of this project is to solve the Minot...</td>\n",
       "      <td>[-0.008220619522035122, -0.0007007355452515185...</td>\n",
       "    </tr>\n",
       "    <tr>\n",
       "      <th>3</th>\n",
       "      <td>creek</td>\n",
       "      <td>The task of this project is to solve a Creek p...</td>\n",
       "      <td>[0.011148616671562195, 0.006013285368680954, 0...</td>\n",
       "    </tr>\n",
       "  </tbody>\n",
       "</table>\n",
       "</div>"
      ],
      "text/plain": [
       "       stories                                           problems  \\\n",
       "0       sudoku  The task of this project is to solve a Sudoku ...   \n",
       "1  seeknumbers  Given a square grid as shown on the left side,...   \n",
       "2     minotaur  The task of this project is to solve the Minot...   \n",
       "3        creek  The task of this project is to solve a Creek p...   \n",
       "\n",
       "                                          embeddings  \n",
       "0  [0.0061800191178917885, -0.0026702347677201033...  \n",
       "1  [0.00273314630612731, -0.0024913938250392675, ...  \n",
       "2  [-0.008220619522035122, -0.0007007355452515185...  \n",
       "3  [0.011148616671562195, 0.006013285368680954, 0...  "
      ]
     },
     "execution_count": 131,
     "metadata": {},
     "output_type": "execute_result"
    }
   ],
   "source": [
    "df.head()"
   ]
  },
  {
   "cell_type": "code",
   "execution_count": 132,
   "id": "f49ffaa6-d7bc-492f-9e97-c0eb8af3b9ef",
   "metadata": {},
   "outputs": [],
   "source": [
    "for project in projects:\n",
    "    query = project[\"problem\"]\n",
    "    query_embedding = get_embedding(query)\n",
    "    np_query = np.array(query_embedding)\n",
    "    cosine_name = 'cosine_' + project['story']\n",
    "    df[cosine_name] = df.embeddings.apply(lambda x : np.dot(np_query,np.array(x))/(norm(np_query)*norm(np.array(x))))"
   ]
  },
  {
   "cell_type": "code",
   "execution_count": 133,
   "id": "0345a0e1-512d-422d-aeb8-30155099d3e8",
   "metadata": {},
   "outputs": [
    {
     "data": {
      "text/html": [
       "<div>\n",
       "<style scoped>\n",
       "    .dataframe tbody tr th:only-of-type {\n",
       "        vertical-align: middle;\n",
       "    }\n",
       "\n",
       "    .dataframe tbody tr th {\n",
       "        vertical-align: top;\n",
       "    }\n",
       "\n",
       "    .dataframe thead th {\n",
       "        text-align: right;\n",
       "    }\n",
       "</style>\n",
       "<table border=\"1\" class=\"dataframe\">\n",
       "  <thead>\n",
       "    <tr style=\"text-align: right;\">\n",
       "      <th></th>\n",
       "      <th>stories</th>\n",
       "      <th>problems</th>\n",
       "      <th>embeddings</th>\n",
       "      <th>cosine_sudoku</th>\n",
       "      <th>cosine_seeknumbers</th>\n",
       "      <th>cosine_minotaur</th>\n",
       "      <th>cosine_creek</th>\n",
       "    </tr>\n",
       "  </thead>\n",
       "  <tbody>\n",
       "    <tr>\n",
       "      <th>0</th>\n",
       "      <td>sudoku</td>\n",
       "      <td>The task of this project is to solve a Sudoku ...</td>\n",
       "      <td>[0.0061800191178917885, -0.0026702347677201033...</td>\n",
       "      <td>1.000000</td>\n",
       "      <td>0.837012</td>\n",
       "      <td>0.810473</td>\n",
       "      <td>0.896495</td>\n",
       "    </tr>\n",
       "    <tr>\n",
       "      <th>1</th>\n",
       "      <td>seeknumbers</td>\n",
       "      <td>Given a square grid as shown on the left side,...</td>\n",
       "      <td>[0.00273314630612731, -0.0024913938250392675, ...</td>\n",
       "      <td>0.837127</td>\n",
       "      <td>0.999999</td>\n",
       "      <td>0.810117</td>\n",
       "      <td>0.893415</td>\n",
       "    </tr>\n",
       "    <tr>\n",
       "      <th>2</th>\n",
       "      <td>minotaur</td>\n",
       "      <td>The task of this project is to solve the Minot...</td>\n",
       "      <td>[-0.008220619522035122, -0.0007007355452515185...</td>\n",
       "      <td>0.810554</td>\n",
       "      <td>0.810117</td>\n",
       "      <td>0.999999</td>\n",
       "      <td>0.832703</td>\n",
       "    </tr>\n",
       "    <tr>\n",
       "      <th>3</th>\n",
       "      <td>creek</td>\n",
       "      <td>The task of this project is to solve a Creek p...</td>\n",
       "      <td>[0.011148616671562195, 0.006013285368680954, 0...</td>\n",
       "      <td>0.896495</td>\n",
       "      <td>0.893354</td>\n",
       "      <td>0.832629</td>\n",
       "      <td>1.000000</td>\n",
       "    </tr>\n",
       "  </tbody>\n",
       "</table>\n",
       "</div>"
      ],
      "text/plain": [
       "       stories                                           problems  \\\n",
       "0       sudoku  The task of this project is to solve a Sudoku ...   \n",
       "1  seeknumbers  Given a square grid as shown on the left side,...   \n",
       "2     minotaur  The task of this project is to solve the Minot...   \n",
       "3        creek  The task of this project is to solve a Creek p...   \n",
       "\n",
       "                                          embeddings  cosine_sudoku  \\\n",
       "0  [0.0061800191178917885, -0.0026702347677201033...       1.000000   \n",
       "1  [0.00273314630612731, -0.0024913938250392675, ...       0.837127   \n",
       "2  [-0.008220619522035122, -0.0007007355452515185...       0.810554   \n",
       "3  [0.011148616671562195, 0.006013285368680954, 0...       0.896495   \n",
       "\n",
       "   cosine_seeknumbers  cosine_minotaur  cosine_creek  \n",
       "0            0.837012         0.810473      0.896495  \n",
       "1            0.999999         0.810117      0.893415  \n",
       "2            0.810117         0.999999      0.832703  \n",
       "3            0.893354         0.832629      1.000000  "
      ]
     },
     "execution_count": 133,
     "metadata": {},
     "output_type": "execute_result"
    }
   ],
   "source": [
    "df.head()"
   ]
  },
  {
   "cell_type": "code",
   "execution_count": 134,
   "id": "6a76bc20-60a2-47f3-89ee-bb73a6e4d731",
   "metadata": {},
   "outputs": [],
   "source": [
    "def get_best_context(df, projects, story, N = 2):\n",
    "    column_cosine = 'cosine_' + story\n",
    "    df_sorted = df.sort_values(by=column_cosine, ascending=False)\n",
    "    second_best = df_sorted.iloc[1]  \n",
    "    third_best = df_sorted.iloc[2] \n",
    "    best_stories = [second_best[\"stories\"],third_best[\"stories\"]]\n",
    "    result = []\n",
    "    for project in projects:\n",
    "        if project[\"story\"] in best_stories:\n",
    "            result.append(project)\n",
    "    return result"
   ]
  },
  {
   "cell_type": "code",
   "execution_count": 136,
   "id": "ed19670c-e850-4c9f-947c-1419aa3bee3e",
   "metadata": {},
   "outputs": [],
   "source": [
    "for project in projects:\n",
    "    query = dict(project)\n",
    "    example1, example_2 = get_best_context(df,projects,project[\"story\"])\n",
    "    story = query[\"story\"]\n",
    "    story_1 = example_1[\"story\"]\n",
    "    story_2 = example_2[\"story\"]\n",
    "    answer = pipeline(example_1,example_2,query)\n",
    "    name_of_file = os.path.join(\"generated_solutions\",story+\"_from_\"+story_1+\"_and_\"+story_2+\"_v\"+str(version)+\".lp\")\n",
    "    with open(name_of_file,\"w\") as file:\n",
    "        file.write(answer)"
   ]
  },
  {
   "cell_type": "code",
   "execution_count": 137,
   "id": "cbd76f42-a9ba-4f55-a400-936615b3d48d",
   "metadata": {},
   "outputs": [
    {
     "name": "stdout",
     "output_type": "stream",
     "text": [
      "========================================generated_solutions\\sudoku_from_seeknumbers_and_creek_v1.lp========================================\n",
      "Length of File:26\n",
      "Parsing or Safety Issues\n",
      "Success: 0\n",
      "========================================generated_solutions\\seeknumbers_from_seeknumbers_and_creek_v1.lp========================================\n",
      "Length of File:74\n",
      "Parsing or Safety Issues\n",
      "Success: 0\n",
      "========================================generated_solutions\\minotaur_from_seeknumbers_and_creek_v1.lp========================================\n",
      "Length of File:41\n",
      "Parsing or Safety Issues\n",
      "Success: 0\n",
      "========================================generated_solutions\\creek_from_seeknumbers_and_seeknumbers_v1.lp========================================\n",
      "Length of File:40\n",
      "Parsing or Safety Issues\n",
      "Success: 0\n"
     ]
    }
   ],
   "source": [
    "for project in projects:\n",
    "    example1, example_2 = get_best_context(df,projects,project[\"story\"])\n",
    "    story = project[\"story\"]\n",
    "    story_1 = example_1[\"story\"]\n",
    "    story_2 = example_2[\"story\"]\n",
    "    name_of_file = os.path.join(\"generated_solutions\",story+\"_from_\"+story_1+\"_and_\"+story_2+\"_v\"+str(version)+\".lp\")\n",
    "    print(\"=\"*40 + name_of_file + \"=\"*40)\n",
    "    with open(name_of_file,\"r\") as f:\n",
    "        print(\"Length of File:\" + str(len(f.readlines())))\n",
    "    instance = instances_dict[story]\n",
    "    success, models = asp_try(name_of_file,instance)\n",
    "    print(\"Success: \" + str(success))\n",
    "    if models:\n",
    "        for m in models:\n",
    "            print(m.symbols(True,True,True))"
   ]
  },
  {
   "cell_type": "markdown",
   "id": "dea91588-8a3d-47d4-b194-6369bf215736",
   "metadata": {},
   "source": [
    "## The new project: hop"
   ]
  },
  {
   "cell_type": "code",
   "execution_count": 138,
   "id": "0e5e44f5-6765-4ae1-9dbd-32b10c69c156",
   "metadata": {},
   "outputs": [
    {
     "ename": "NameError",
     "evalue": "name 'hop' is not defined",
     "output_type": "error",
     "traceback": [
      "\u001b[1;31m---------------------------------------------------------------------------\u001b[0m",
      "\u001b[1;31mNameError\u001b[0m                                 Traceback (most recent call last)",
      "Cell \u001b[1;32mIn[138], line 1\u001b[0m\n\u001b[1;32m----> 1\u001b[0m project \u001b[38;5;241m=\u001b[39m \u001b[43mhop\u001b[49m\n\u001b[0;32m      2\u001b[0m example1, example_2 \u001b[38;5;241m=\u001b[39m get_best_context(df,projects,project[\u001b[38;5;124m\"\u001b[39m\u001b[38;5;124mstory\u001b[39m\u001b[38;5;124m\"\u001b[39m])\n\u001b[0;32m      3\u001b[0m story \u001b[38;5;241m=\u001b[39m project[\u001b[38;5;124m\"\u001b[39m\u001b[38;5;124mstory\u001b[39m\u001b[38;5;124m\"\u001b[39m]\n",
      "\u001b[1;31mNameError\u001b[0m: name 'hop' is not defined"
     ]
    }
   ],
   "source": [
    "project = hop\n",
    "example1, example_2 = get_best_context(df,projects,project[\"story\"])\n",
    "story = project[\"story\"]\n",
    "story_1 = example_1[\"story\"]\n",
    "story_2 = example_2[\"story\"]\n",
    "name_of_file = os.path.join(\"generated_solutions\",story+\"_from_\"+story_1+\"_and_\"+story_2+\"_v\"+str(version)+\".lp\")\n",
    "print(\"=\"*40 + name_of_file + \"=\"*40)\n",
    "with open(name_of_file,\"r\") as f:\n",
    "    print(\"Length of File:\" + str(len(f.readlines())))\n",
    "instance = instances_dict[story]\n",
    "success, models = asp_try(name_of_file,instance)\n",
    "print(\"Success: \" + str(success))\n",
    "if models:\n",
    "    for m in models:\n",
    "        print(m.symbols(True,True,True))"
   ]
  },
  {
   "cell_type": "markdown",
   "id": "6f654d91-8bf6-4a1f-8b4f-0ffb138d358c",
   "metadata": {},
   "source": [
    "### Another asp_try"
   ]
  },
  {
   "cell_type": "code",
   "execution_count": 72,
   "id": "7b389a9a-7644-4d4a-a0d0-0def85141904",
   "metadata": {},
   "outputs": [],
   "source": [
    "asp_file = os.path.join(\"projects\",\"sudoku\",\"canonical_sudoku.lp\")\n",
    "generated = os.path.join(\"generated_solutions\",\"minotaur_from_seeknumbers_and_sudoku_v2.lp\")\n",
    "instance = os.path.join(\"projects\",\"sudoku\",\"instances\",\"ex00.lp\")"
   ]
  },
  {
   "cell_type": "code",
   "execution_count": 73,
   "id": "39df0de2-9686-40b4-97ce-101bf6ad2dc0",
   "metadata": {},
   "outputs": [],
   "source": [
    "def asp_try_v2(asp_file, instance):\n",
    "    control = clingo.Control()\n",
    "    input_files = [asp_file, instance]\n",
    "    asp_program = []\n",
    "    \n",
    "    def on_model(model):\n",
    "        print(\"Model:\", model)\n",
    "        \n",
    "    for file_name in input_files:\n",
    "        with open(file_name, \"r\") as file:\n",
    "            asp_program.extend(file.readlines())\n",
    "    control.add(\"base\", [], \"\".join(asp_program))\n",
    "    \n",
    "    try:\n",
    "        control.ground([(\"base\", [])])\n",
    "    except:\n",
    "        print(\"Grounding Error\")\n",
    "        return None\n",
    "        \n",
    "    control.configuration.solve.models = 0  # Limit the number of models to 1\n",
    "    try:\n",
    "        control.solve(on_model=on_model)\n",
    "        print(\"No errors occurred during solving.\")\n",
    "    except:\n",
    "        #if control.statistics['solving']['solvers']['conflicts'] > 0:\n",
    "        print(\"Errors occurred during solving.\")\n",
    "        # Analyze the conflicts to get more information\n",
    "        conflicts_analyzed = control.statistics['solving'] #['conflicts_analyzed']\n",
    "        print(\"Conflicts analyzed: {}\".format(conflicts_analyzed))\n",
    "        #else:            "
   ]
  },
  {
   "cell_type": "code",
   "execution_count": 74,
   "id": "941b0c7c-4b7d-4308-9f5b-d19be9b96946",
   "metadata": {},
   "outputs": [
    {
     "name": "stdout",
     "output_type": "stream",
     "text": [
      "Grounding Error\n"
     ]
    }
   ],
   "source": [
    "asp_try_v2(generated, instance)"
   ]
  },
  {
   "cell_type": "code",
   "execution_count": 33,
   "id": "6c11c0fa-8ff4-4824-ab42-e260f57f0207",
   "metadata": {},
   "outputs": [
    {
     "data": {
      "text/plain": [
       "{'choices': 0.0,\n",
       " 'conflicts': 0.0,\n",
       " 'conflicts_analyzed': 0.0,\n",
       " 'restarts': 0.0,\n",
       " 'restarts_last': 0.0}"
      ]
     },
     "execution_count": 33,
     "metadata": {},
     "output_type": "execute_result"
    }
   ],
   "source": [
    "ctl.statistics['solving']['solvers']"
   ]
  },
  {
   "cell_type": "code",
   "execution_count": null,
   "id": "346cd825-3032-42a0-8051-fb722949ac17",
   "metadata": {},
   "outputs": [],
   "source": []
  }
 ],
 "metadata": {
  "kernelspec": {
   "display_name": "Python 3 (ipykernel)",
   "language": "python",
   "name": "python3"
  },
  "language_info": {
   "codemirror_mode": {
    "name": "ipython",
    "version": 3
   },
   "file_extension": ".py",
   "mimetype": "text/x-python",
   "name": "python",
   "nbconvert_exporter": "python",
   "pygments_lexer": "ipython3",
   "version": "3.9.13"
  }
 },
 "nbformat": 4,
 "nbformat_minor": 5
}
