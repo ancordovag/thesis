{
 "cells": [
  {
   "cell_type": "code",
   "execution_count": 1,
   "id": "e84e4af9-f4f6-4383-8dd0-8d8419b56fb5",
   "metadata": {},
   "outputs": [],
   "source": [
    "### Import libraries\n",
    "import openai\n",
    "import os\n",
    "import time\n",
    "from datetime import datetime\n",
    "import pandas as pd\n",
    "#import numpy as np\n",
    "from numpy.linalg import norm\n",
    "import psycopg2\n",
    "import clingo\n",
    "from clingo.control import Control\n",
    "import json\n",
    "from yaml import load, Loader\n",
    "from helper import *\n",
    "from stories import *\n",
    "#import multiprocessing"
   ]
  },
  {
   "cell_type": "code",
   "execution_count": 2,
   "id": "04d4299a-6471-4d18-bc92-b67f2147c055",
   "metadata": {},
   "outputs": [],
   "source": [
    "canonical_dict = {\"sudoku\":os.path.join(\"projects\",\"sudoku\",\"canonical_sudoku.lp\"),\n",
    "                 \"seeknumbers\":os.path.join(\"projects\",\"seeknumbers\",\"canonical_seeknumbers2.lp\"),\n",
    "                 \"minotaur\":os.path.join(\"projects\",\"minotaur\",\"canonical_minotaur1.lp\"),\n",
    "                 \"creek\":os.path.join(\"projects\",\"creek\",\"canonical_creek.lp\"),                 \n",
    "                 \"yosenabe\":os.path.join(\"projects\",\"yosenabe\",\"canonical_yosenabe.lp\"),\n",
    "                 \"hop\":os.path.join(\"projects\",\"hop\",\"canonical_hop.lp\"),\n",
    "                 \"lights\":os.path.join(\"projects\",\"lights\",\"canonical_lights.lp\")}"
   ]
  },
  {
   "cell_type": "code",
   "execution_count": 3,
   "id": "20d83ee0-a447-4800-aca2-bcd03bd33e65",
   "metadata": {},
   "outputs": [],
   "source": [
    "instances_dict ={\"sudoku\":os.path.join(\"projects\",\"sudoku\",\"instances\",\"ex01.lp\"),\n",
    "                 \"seeknumbers\":os.path.join(\"projects\",\"seeknumbers\",\"instances\",\"ex01.lp\"),\n",
    "                 \"minotaur\":os.path.join(\"projects\",\"minotaur\",\"instances\",\"level01.lp\"),\n",
    "                 \"creek\":os.path.join(\"projects\",\"creek\",\"instances\",\"ex01.lp\"),\n",
    "                 \"yosenabe\":os.path.join(\"projects\",\"yosenabe\",\"instances\",\"instance01.lp\"),\n",
    "                 \"hop\":os.path.join(\"projects\",\"hop\",\"instances\",\"level1.lp\"),\n",
    "                 \"lights\":os.path.join(\"projects\",\"lights\",\"instances\",\"test01.lp\")}"
   ]
  },
  {
   "cell_type": "code",
   "execution_count": 4,
   "id": "b4e74543-8274-4fc6-be02-d42b68f6cb2f",
   "metadata": {},
   "outputs": [],
   "source": [
    "solution_dict ={\"sudoku\":os.path.join(\"projects\",\"sudoku\",\"solutions\",\"ex01.json\"),\n",
    "                 \"seeknumbers\":os.path.join(\"projects\",\"seeknumbers\",\"solutions\",\"ex01.json\"),\n",
    "                 \"minotaur\":os.path.join(\"projects\",\"minotaur\",\"solutions\",\"level01.json\"),\n",
    "                 \"creek\":os.path.join(\"projects\",\"creek\",\"solutions\",\"ex01.json\"),\n",
    "                 \"yosenabe\":os.path.join(\"projects\",\"yosenabe\",\"solutions\",\"solution01.txt\"),\n",
    "                 \"hop\":os.path.join(\"projects\",\"hop\",\"solutions\",\"solution01.txt\"),\n",
    "                 \"lights\":os.path.join(\"projects\",\"lights\",\"solutions\",\"solution01.txt\")}"
   ]
  },
  {
   "cell_type": "code",
   "execution_count": 5,
   "id": "28df7a0f-828a-4cfc-adf8-c5a32bf5c94c",
   "metadata": {},
   "outputs": [],
   "source": [
    "def asp_try_5(asp_file,instance):\n",
    "    models = []  \n",
    "    errors = []\n",
    "    symbols = []\n",
    "    messages = []\n",
    "\n",
    "    def custom_logger(code, message):\n",
    "        messages.append(message)\n",
    "        \n",
    "    def on_model(model):\n",
    "        #print(\"Model:\", model)\n",
    "        models.append(model)\n",
    "        with open('output.txt','w') as file:\n",
    "            print(model, file=file)\n",
    "        with open('output.txt','r') as file:\n",
    "            lines = file.readlines()\n",
    "            symbols_list = lines[0].split()\n",
    "            #for s in symbols_list:\n",
    "            symbols.append(symbols_list)\n",
    "        os.remove(\"output.txt\")\n",
    "\n",
    "    time_init = time.time() \n",
    "    asp_program = []\n",
    "    # TODO: timeout of Unix systems. Wrapper around. Kill the process. \n",
    "    control = clingo.Control(['--warn=none','-t','5','-n','10'], logger=custom_logger) #, '--warn=none', '--opt-mode=optN' --time-limit=5, -t 5\n",
    "    input_files = [asp_file, instance]\n",
    "    for file_name in input_files:\n",
    "        with open(file_name, \"r\") as file:\n",
    "            asp_program.extend(file.readlines())\n",
    "            \n",
    "    try:\n",
    "        control.add(\"base\", [], \"\".join(asp_program))\n",
    "    except Exception as err:         \n",
    "        #print(f\"Unexpected {err=}, {type(err)=}.\")\n",
    "        errors.append(str(err))\n",
    "        return models, errors, symbols, messages\n",
    "    \n",
    "    try:\n",
    "        control.ground([(\"base\", [])])\n",
    "    except Exception as err:         \n",
    "        #print(f\"Unexpected {err=}, {type(err)=}.\")\n",
    "        errors.append(str(err))\n",
    "        return models, errors, symbols, messages\n",
    "    \n",
    "    #control.configuration.solve.models = 0  # Limit the number of models to 1\n",
    "    try:\n",
    "        control.solve(on_model=on_model)\n",
    "    except Exception as err:         \n",
    "        #print(f\"Unexpected {err=}, {type(err)=}.\")\n",
    "        errors.append(str(err))\n",
    "        return models, errors, symbols, messages\n",
    "    \n",
    "    time_final = time.time() \n",
    "    delta_time = time_final-time_init\n",
    "    \n",
    "    if delta_time > 5 and len(symbols) == 0:\n",
    "        errors.append(\"Timeout\")\n",
    "\n",
    "    #print(f\"Results: {models}, {errors}, {symbols}. Timedelta {delta_time}\")\n",
    "    return models, errors, symbols, messages"
   ]
  },
  {
   "cell_type": "code",
   "execution_count": 6,
   "id": "00c629ec-aaa3-4bed-9399-8f6503384604",
   "metadata": {},
   "outputs": [],
   "source": [
    "def get_symbols_from_solution(solution_path):        \n",
    "    with open(solution_path,'r') as file:\n",
    "        if \".json\" in solution_path:\n",
    "            data = json.load(file)\n",
    "            results = data[\"Call\"][0][\"Witnesses\"] #[0][\"Value\"]\n",
    "            #print(result)\n",
    "        else:\n",
    "            lines = file.readlines()\n",
    "            splitted = lines[0].split()\n",
    "            results = [{\"Value\":splitted}]\n",
    "    return results"
   ]
  },
  {
   "cell_type": "code",
   "execution_count": 7,
   "id": "83584437-5e87-4f8e-83ac-172f45a4be5e",
   "metadata": {},
   "outputs": [],
   "source": [
    "def jaccard_similarity(lista1, lista2):\n",
    "    set1 = set(lista1)\n",
    "    set2 = set(lista2)\n",
    "    intersection = len(set1.intersection(set2))\n",
    "    union = len(set1.union(set2))\n",
    "    return instersection/union"
   ]
  },
  {
   "cell_type": "code",
   "execution_count": 8,
   "id": "15678f5a-f423-4276-9e4a-515ccd90e038",
   "metadata": {},
   "outputs": [],
   "source": [
    "def get_metrics(symbols, solutions):\n",
    "    symbols_set = set(symbols)\n",
    "    matchs = 0\n",
    "    final_tp = set()\n",
    "    final_fp = ()\n",
    "    final_fn = ()\n",
    "    for solution in solutions:\n",
    "        solution_set = set(solution[\"Value\"])\n",
    "        union = len(symbols_set.union(solution_set))\n",
    "        tp = solution_set.intersection(symbols_set)\n",
    "        matchs_temp = len(tp)\n",
    "        solution_len = len(solution_set)\n",
    "        if matchs_temp >= matchs:            \n",
    "            matchs = matchs_temp\n",
    "            final_tp = tp\n",
    "            final_fp = symbols_set.difference(solution_set)\n",
    "            final_fn = solution_set.difference(symbols_set)\n",
    "            solution_len = len(solution_set)\n",
    "    accuracy = matchs / solution_len if solution_len != 0 else 0 \n",
    "    precision = matchs / (len(final_tp) + len(final_fp)) if (len(final_tp) + len(final_fp)) != 0 else 0  \n",
    "    recall = matchs / (len(final_tp) + len(final_fn)) if (len(final_tp) + len(final_fn)) != 0 else 0 \n",
    "    f1_score = 2 * ((precision * recall) / (precision + recall)) if (precision + recall) != 0 else 0\n",
    "    jaccard = matchs / union if union != 0 else 0\n",
    "    #print(f\"Accuracy: {accuracy:.4f}. Precision: {precision:.4f}. Recall: {recall:.4f}. F1: {f1_score:.4f}\")\n",
    "    return matchs, round(accuracy,2), round(precision,2), round(recall,2), round(f1_score,2), round(jaccard,2)"
   ]
  },
  {
   "cell_type": "code",
   "execution_count": 9,
   "id": "5091f7f0-a01d-405d-abf5-3a9b2993889f",
   "metadata": {},
   "outputs": [],
   "source": [
    "def get_best_metrics(all_symbols,solutions):\n",
    "    matchs = acc = prec = rec = f1 = jac = 0\n",
    "    for symbols in all_symbols:\n",
    "        matchs_t, acc_t, prec_t, rec_t, f1_t, jac_t = get_metrics(symbols, solutions)\n",
    "        if matchs_t > matchs:\n",
    "            matchs = matchs_t\n",
    "            acc = acc_t\n",
    "            prec = prec_t\n",
    "            rec = rec_t\n",
    "            f1 = f1_t\n",
    "            jac = jac_t\n",
    "    return matchs, acc, prec, rec, f1, jac"
   ]
  },
  {
   "cell_type": "code",
   "execution_count": 10,
   "id": "acedf4b1-8665-4f17-91e6-2e9a8349c201",
   "metadata": {},
   "outputs": [],
   "source": [
    "def repetition_counter(file):\n",
    "    with open(file,'r') as f:\n",
    "        lines = f.readlines()\n",
    "        lines = [x for x in lines if x!='\\n']\n",
    "        #print(f\"Lines {lines}\")\n",
    "        list_unique_lines = list(set(lines))\n",
    "        unique_lines = len(list_unique_lines)\n",
    "        #print(f\"List Unique Lines: {list_unique_lines}\")\n",
    "        return len(lines) - unique_lines"
   ]
  },
  {
   "cell_type": "code",
   "execution_count": 11,
   "id": "1b5afa93-9733-44b8-9d02-dc541475c93f",
   "metadata": {},
   "outputs": [],
   "source": [
    "def evaluate(file, instance, solution_path, canonical_file):\n",
    "    models, errors, symbols, messages = asp_try_5(file,instance)\n",
    "    n_errors = len(errors)\n",
    "    errors = \"\".join(errors)\n",
    "    n_models = len(models)    \n",
    "    canonical_lines = lines_counter(canonical_file)\n",
    "    encoding_lines = lines_counter(file)\n",
    "    repeated_lines = repetition_counter(file)\n",
    "    #print(\"Length of Canonical:\" + str(canonical_lines) + \". Length Encoding: \"+ str(encoding_lines))    \n",
    "    diff_lines = abs(canonical_lines - encoding_lines)\n",
    "    solutions = get_symbols_from_solution(solution_path)\n",
    "    #print(\"Symbols: \" + str(symbols))\n",
    "    #print(\"Solution: \" + str(solution))\n",
    "    matchs, accuracy, precision, recall, f1_score, jaccard = get_best_metrics(symbols, solutions) \n",
    "    at_least_a_model = 1 if n_models > 0 else 0\n",
    "    kpi = 25 + at_least_a_model*25 + 10*(accuracy + precision + recall + f1_score + jaccard) - 2*(diff_lines + repeated_lines + n_errors)\n",
    "    result_dict = {\"kpi\":kpi, \"diff_lines\":diff_lines, \"repeated\":repeated_lines, \"n_errors\":n_errors, \"n_models\":n_models, \"errors\":errors, \"symbols\":symbols, \"messages\":messages, \"matchs\":matchs,\n",
    "                    \"accuracy\":accuracy, \"precision\":precision, \"recall\":recall, \"f1_score\":f1_score, \"jaccard\":jaccard}\n",
    "    #print(f\"Precision: {precision}\")\n",
    "    print_out_dict = {x: result_dict[x] for x in result_dict if x not in [\"symbols\"]}\n",
    "    print(print_out_dict)\n",
    "    return result_dict"
   ]
  },
  {
   "cell_type": "code",
   "execution_count": 12,
   "id": "01397528-0bb1-4453-9811-5cacabfd15e7",
   "metadata": {},
   "outputs": [
    {
     "name": "stdout",
     "output_type": "stream",
     "text": [
      "clingo version 5.6.2\n",
      "Reading from creek2.lp ...\n",
      "Solving...\n",
      "UNSATISFIABLE\n",
      "\n",
      "Models       : 0\n",
      "Calls        : 1\n",
      "Time         : 0.006s (Solving: 0.00s 1st Model: 0.00s Unsat: 0.00s)\n",
      "CPU Time     : 0.016s\n"
     ]
    }
   ],
   "source": [
    "!clingo creek2.lp projects/creek/instances/ex01.lp"
   ]
  },
  {
   "cell_type": "code",
   "execution_count": 13,
   "id": "539bcd8c-cc86-4444-8c4e-19d003162e67",
   "metadata": {},
   "outputs": [
    {
     "name": "stdout",
     "output_type": "stream",
     "text": [
      "{'kpi': 9, 'diff_lines': 7, 'repeated': 0, 'n_errors': 1, 'n_models': 0, 'errors': 'parsing failed', 'messages': ['<block>:33:108-109: error: syntax error, unexpected =, expecting )\\n'], 'matchs': 0, 'accuracy': 0, 'precision': 0, 'recall': 0, 'f1_score': 0, 'jaccard': 0}\n"
     ]
    }
   ],
   "source": [
    "results = evaluate('creek1.lp',instances_dict['creek'],solution_dict['creek'],canonical_dict['creek'])"
   ]
  },
  {
   "cell_type": "code",
   "execution_count": 14,
   "id": "33c5f6d3-f402-43f9-b57c-bcf5e6c70d6a",
   "metadata": {},
   "outputs": [
    {
     "name": "stdout",
     "output_type": "stream",
     "text": [
      "Connection established\n"
     ]
    }
   ],
   "source": [
    "conn_string = \"dbname=thesis user=postgres password=postgres\"\n",
    "conn = psycopg2.connect(conn_string)\n",
    "print(\"Connection established\")"
   ]
  },
  {
   "cell_type": "code",
   "execution_count": null,
   "id": "a83ff0bd-8924-476d-857a-0c81769c3ea3",
   "metadata": {},
   "outputs": [],
   "source": [
    "sql = \"CREATE TABLE IF NOT EXISTS newtry AS (SELECT * FROM panel)\"\n",
    "cursor = conn.cursor()\n",
    "cursor.execute(sql)\n",
    "conn.commit()\n",
    "cursor.close()"
   ]
  },
  {
   "cell_type": "code",
   "execution_count": 15,
   "id": "8ebc33c2-f5e3-4c74-88ab-02c386e0d6a2",
   "metadata": {},
   "outputs": [],
   "source": [
    "def update_database(conn, file, kpi, diff_lines, repeated, n_errors, n_models, errors, symbols, messages, matchs, accuracy, precision, recall, f1_score, jaccard):\n",
    "    cursor = conn.cursor()\n",
    "    symbols = str(symbols).replace(\"'\",\"\")\n",
    "    command = '''INSERT INTO newtry (file, kpi, diff_lines, repeated, n_errors, n_models, errors, symbols, messages, matchs, accuracy, precision, recall, f1_score, jaccard) \n",
    "                VALUES ('%(file)s', '%(kpi)s', '%(diff_lines)s', '%(repeated)s', '%(n_errors)s', '%(n_models)s', '%(errors)s', '%(symbols)s', '%(messages)s', '%(matchs)s', '%(accuracy)s', '%(precision)s', '%(recall)s', '%(f1_score)s',\n",
    "                 '%(jaccard)s');''' % {\"file\":file, \"kpi\": kpi, \"diff_lines\": diff_lines, \"repeated\":repeated, \"n_errors\": n_errors, \"n_models\": n_models, \"errors\":errors, \"symbols\": symbols, \"messages\": messages, \"matchs\":matchs, \"accuracy\":accuracy, \"precision\":precision, \"recall\":recall, \"f1_score\":f1_score, \"jaccard\":jaccard}\n",
    "    try:\n",
    "        cursor.execute(command)\n",
    "        conn.commit()\n",
    "        cursor.close()\n",
    "        print(f\"Insertion of results of file {file} successful\")\n",
    "    except Exception as err:\n",
    "        print(command)\n",
    "        print(f\"Unexpected {err=}, {type(err)=} Result not inserted.\")\n",
    "        conn.commit()\n",
    "        cursor.close()\n",
    "        pass"
   ]
  },
  {
   "cell_type": "code",
   "execution_count": 16,
   "id": "62917f84-43de-4c79-a154-dbd0dba95292",
   "metadata": {},
   "outputs": [],
   "source": [
    "def look_file(conn, file):\n",
    "    cursor = conn.cursor()\n",
    "    command = \"SELECT * FROM results WHERE file = '\"+ file + \"'\"\n",
    "    results = []\n",
    "    try:\n",
    "        cursor.execute(command)\n",
    "        results = cursor.fetchall()\n",
    "        conn.commit()\n",
    "        cursor.close()\n",
    "    except Exception as err:\n",
    "        print(command)\n",
    "        print(f\"Unexpected {err=}, {type(err)=} Bad search.\")\n",
    "        conn.commit()\n",
    "        cursor.close()\n",
    "        pass\n",
    "    return results"
   ]
  },
  {
   "cell_type": "markdown",
   "id": "0748e584-3873-4498-a69e-565e021fe39c",
   "metadata": {},
   "source": [
    "## Completion of Failed Files"
   ]
  },
  {
   "cell_type": "code",
   "execution_count": 18,
   "id": "6c9b8530-692c-443d-bb6a-87affb159015",
   "metadata": {},
   "outputs": [],
   "source": [
    "def failed_files_results(conn):\n",
    "    cursor = conn.cursor()\n",
    "    command = \"SELECT file, story, encoding, messages FROM panel WHERE version IN (9,10) AND messages <> '[]'\"\n",
    "    results = []\n",
    "    try:\n",
    "        cursor.execute(command)\n",
    "        results = cursor.fetchall()\n",
    "        conn.commit()\n",
    "        cursor.close()\n",
    "    except Exception as err:\n",
    "        print(command)\n",
    "        print(f\"Unexpected {err=}, {type(err)=} Bad search.\")\n",
    "        conn.commit()\n",
    "        cursor.close()\n",
    "        pass\n",
    "    return results"
   ]
  },
  {
   "cell_type": "code",
   "execution_count": 19,
   "id": "3733ab58-758a-45dd-9458-9821866f9efa",
   "metadata": {},
   "outputs": [],
   "source": [
    "failed_results = failed_files_results(conn)"
   ]
  },
  {
   "cell_type": "code",
   "execution_count": 20,
   "id": "4acbf9f4-40b9-45e5-bf32-4e36d0dccb95",
   "metadata": {},
   "outputs": [],
   "source": [
    "projects = get_useful_projects()"
   ]
  },
  {
   "cell_type": "code",
   "execution_count": 21,
   "id": "b5bbf61b-dd9e-4c0b-beb6-79a3b4ad3f20",
   "metadata": {},
   "outputs": [],
   "source": [
    "problem_dict = {}\n",
    "lines_dict = {}\n",
    "for project in projects:\n",
    "    problem_dict[project['story']] = project['problem'] \n",
    "    lines_dict[project['story']] = project['lines'] "
   ]
  },
  {
   "cell_type": "code",
   "execution_count": 23,
   "id": "868f0f97-4db7-475a-9143-54f1b8d9ab41",
   "metadata": {},
   "outputs": [],
   "source": [
    "selected_files = [x[0] for x in failed_results]\n",
    "selected_stories = [x[1] for x in failed_results]\n",
    "#selected_encoding = [x[2] for x in failed_results]\n",
    "selected_encoding = []\n",
    "for key in lines_dict:\n",
    "    selected_encoding.append(lines_dict[key])\n",
    "selected_messages = [x[3] for x in failed_results]"
   ]
  },
  {
   "cell_type": "code",
   "execution_count": 24,
   "id": "03ed1b6e-a64c-4a61-b897-012914e15cfe",
   "metadata": {},
   "outputs": [
    {
     "data": {
      "text/plain": [
       "521"
      ]
     },
     "execution_count": 24,
     "metadata": {},
     "output_type": "execute_result"
    }
   ],
   "source": [
    "len(selected_files)"
   ]
  },
  {
   "cell_type": "code",
   "execution_count": 25,
   "id": "d9cd8fb5-527d-4952-af97-9b37e54b9629",
   "metadata": {},
   "outputs": [],
   "source": [
    "with open(\"config.yml\",\"r\") as config:\n",
    "    data = load(config, Loader=Loader)\n",
    "    api_key = data[\"apikey\"]\n",
    "    openai.api_key  = api_key"
   ]
  },
  {
   "cell_type": "code",
   "execution_count": null,
   "id": "f1c7e8c8-2f3d-4b8d-ba3e-ae49626839cf",
   "metadata": {},
   "outputs": [],
   "source": [
    "def try_again(story,encoding,message,printable=False):\n",
    "    prompt=f'''Given the description of a problem, an logic program in Answer Set Programming and the error messages \n",
    "                of the errors of that program, fix the logic program. Do not explain the new solution, but just generate the code.\n",
    "    \n",
    "    Problem:\n",
    "    {story}\n",
    "    \n",
    "    Logic Program:\n",
    "    {encoding}\n",
    "\n",
    "    Messages:\n",
    "    {message}\n",
    "    \n",
    "    Fixed program:'''\n",
    "    results = get_completion(prompt)\n",
    "    if printable: \n",
    "        print(f\"Prompt: {prompt}\")\n",
    "        print(f\"Results: {results}\")\n",
    "        print(\"==\"*50)\n",
    "    return results"
   ]
  },
  {
   "cell_type": "code",
   "execution_count": null,
   "id": "60ee670d-ae91-44f1-b20b-dc382ed4f6b0",
   "metadata": {},
   "outputs": [],
   "source": [
    "for file, story, encoding, message in zip(selected_files,selected_stories,selected_encoding,selected_messages):\n",
    "    result = try_again(problem_dict[story],encoding,message)\n",
    "    update_in_database(file, result)\n",
    "        "
   ]
  }
 ],
 "metadata": {
  "kernelspec": {
   "display_name": "Python 3 (ipykernel)",
   "language": "python",
   "name": "python3"
  },
  "language_info": {
   "codemirror_mode": {
    "name": "ipython",
    "version": 3
   },
   "file_extension": ".py",
   "mimetype": "text/x-python",
   "name": "python",
   "nbconvert_exporter": "python",
   "pygments_lexer": "ipython3",
   "version": "3.9.13"
  }
 },
 "nbformat": 4,
 "nbformat_minor": 5
}
