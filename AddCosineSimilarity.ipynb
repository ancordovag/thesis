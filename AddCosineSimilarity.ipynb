{
 "cells": [
  {
   "cell_type": "code",
   "execution_count": 3,
   "id": "6e05ae26-2139-408f-91e1-454b59275413",
   "metadata": {},
   "outputs": [],
   "source": [
    "### Import libraries\n",
    "import openai\n",
    "import os\n",
    "import time\n",
    "from datetime import datetime\n",
    "import pandas as pd\n",
    "import numpy as np7\n",
    "from numpy.linalg import norm\n",
    "import psycopg2\n",
    "import clingo\n",
    "from clingo.control import Control\n",
    "import json\n",
    "from yaml import load, Loader\n",
    "from helper import *\n",
    "from stories import *\n",
    "\n",
    "with open(\"config.yml\",\"r\") as config:\n",
    "    data = load(config, Loader=Loader)\n",
    "    api_key = data[\"apikey\"]\n",
    "    openai.api_key  = api_key\n",
    "\n",
    "now = datetime.now()\n",
    "date_time = now.strftime(\"%Y%m%d\")"
   ]
  },
  {
   "cell_type": "code",
   "execution_count": 4,
   "id": "7f610f02-1ec4-477e-85d4-d806e7b90f80",
   "metadata": {},
   "outputs": [
    {
     "name": "stdout",
     "output_type": "stream",
     "text": [
      "creek\n",
      "minotaur\n",
      "seeknumbers\n",
      "sudoku\n",
      "yosenabe\n",
      "hop\n",
      "lights\n"
     ]
    }
   ],
   "source": [
    "projects = get_useful_projects()\n",
    "for p in projects:\n",
    "    print(p['story'])"
   ]
  },
  {
   "cell_type": "code",
   "execution_count": 5,
   "id": "6e93d196-8f4c-47f0-a3f2-fa5267690c91",
   "metadata": {},
   "outputs": [
    {
     "name": "stdout",
     "output_type": "stream",
     "text": [
      "Loaded Similarity Dataframe\n"
     ]
    }
   ],
   "source": [
    "file = \"SimilarityDataframe.csv\"\n",
    "if os.path.exists(file):\n",
    "    df = pd.read_csv(file)\n",
    "    print(\"Loaded Similarity Dataframe\")\n",
    "    if len(projects) != df.shape[0]:\n",
    "        print(\"Calculating Similarity Dataframe\")\n",
    "        df = get_similarity_dataframe(projects)\n",
    "        df.to_csv(\"SimilarityDataframe.csv\", index=False)\n",
    "        print(\"Loaded Similarity Dataframe\")\n",
    "else:\n",
    "    print(\"Calculating Similarity Dataframe\")\n",
    "    df = get_similarity_dataframe(projects)\n",
    "    df.to_csv(\"SimilarityDataframe.csv\", index=False)"
   ]
  },
  {
   "cell_type": "code",
   "execution_count": 6,
   "id": "5c3f8d79-fd79-4172-99a4-2772aa57abf5",
   "metadata": {},
   "outputs": [
    {
     "data": {
      "text/html": [
       "<div>\n",
       "<style scoped>\n",
       "    .dataframe tbody tr th:only-of-type {\n",
       "        vertical-align: middle;\n",
       "    }\n",
       "\n",
       "    .dataframe tbody tr th {\n",
       "        vertical-align: top;\n",
       "    }\n",
       "\n",
       "    .dataframe thead th {\n",
       "        text-align: right;\n",
       "    }\n",
       "</style>\n",
       "<table border=\"1\" class=\"dataframe\">\n",
       "  <thead>\n",
       "    <tr style=\"text-align: right;\">\n",
       "      <th></th>\n",
       "      <th>stories</th>\n",
       "      <th>problems</th>\n",
       "      <th>embeddings</th>\n",
       "      <th>cos_creek</th>\n",
       "      <th>cos_minotaur</th>\n",
       "      <th>cos_seeknumbers</th>\n",
       "      <th>cos_sudoku</th>\n",
       "      <th>cos_yosenabe</th>\n",
       "      <th>cos_hop</th>\n",
       "      <th>cos_lights</th>\n",
       "    </tr>\n",
       "  </thead>\n",
       "  <tbody>\n",
       "    <tr>\n",
       "      <th>0</th>\n",
       "      <td>creek</td>\n",
       "      <td>The goal of the game is to blacken some cells ...</td>\n",
       "      <td>[-0.004310643766075373, -0.01542616169899702, ...</td>\n",
       "      <td>1.000</td>\n",
       "      <td>0.805</td>\n",
       "      <td>0.916</td>\n",
       "      <td>0.828</td>\n",
       "      <td>0.855</td>\n",
       "      <td>0.872</td>\n",
       "      <td>0.892</td>\n",
       "    </tr>\n",
       "    <tr>\n",
       "      <th>1</th>\n",
       "      <td>minotaur</td>\n",
       "      <td>There is a player in a labyrinth. The goal is ...</td>\n",
       "      <td>[-0.01143644005060196, -0.010898801498115063, ...</td>\n",
       "      <td>0.805</td>\n",
       "      <td>1.000</td>\n",
       "      <td>0.813</td>\n",
       "      <td>0.752</td>\n",
       "      <td>0.795</td>\n",
       "      <td>0.837</td>\n",
       "      <td>0.807</td>\n",
       "    </tr>\n",
       "    <tr>\n",
       "      <th>2</th>\n",
       "      <td>seeknumbers</td>\n",
       "      <td>Given a square grid, the goal is to construct ...</td>\n",
       "      <td>[0.000838210282381624, -0.0007265608292073011,...</td>\n",
       "      <td>0.916</td>\n",
       "      <td>0.813</td>\n",
       "      <td>1.000</td>\n",
       "      <td>0.838</td>\n",
       "      <td>0.875</td>\n",
       "      <td>0.913</td>\n",
       "      <td>0.901</td>\n",
       "    </tr>\n",
       "    <tr>\n",
       "      <th>3</th>\n",
       "      <td>sudoku</td>\n",
       "      <td>The task of this project is to solve a Sudoku ...</td>\n",
       "      <td>[0.006194239482283592, -0.002773913089185953, ...</td>\n",
       "      <td>0.828</td>\n",
       "      <td>0.752</td>\n",
       "      <td>0.838</td>\n",
       "      <td>1.000</td>\n",
       "      <td>0.902</td>\n",
       "      <td>0.843</td>\n",
       "      <td>0.855</td>\n",
       "    </tr>\n",
       "    <tr>\n",
       "      <th>4</th>\n",
       "      <td>yosenabe</td>\n",
       "      <td>The task of this project is to solve the Japan...</td>\n",
       "      <td>[0.0007079929346218705, -0.010772258043289185,...</td>\n",
       "      <td>0.855</td>\n",
       "      <td>0.795</td>\n",
       "      <td>0.875</td>\n",
       "      <td>0.902</td>\n",
       "      <td>1.000</td>\n",
       "      <td>0.872</td>\n",
       "      <td>0.870</td>\n",
       "    </tr>\n",
       "    <tr>\n",
       "      <th>5</th>\n",
       "      <td>hop</td>\n",
       "      <td>The goal of the puzzle is to find a path betwe...</td>\n",
       "      <td>[0.005379000212997198, -0.005975912790745497, ...</td>\n",
       "      <td>0.872</td>\n",
       "      <td>0.837</td>\n",
       "      <td>0.913</td>\n",
       "      <td>0.843</td>\n",
       "      <td>0.872</td>\n",
       "      <td>1.000</td>\n",
       "      <td>0.894</td>\n",
       "    </tr>\n",
       "    <tr>\n",
       "      <th>6</th>\n",
       "      <td>lights</td>\n",
       "      <td>The puzzle involves illuminating a two-dimensi...</td>\n",
       "      <td>[0.01010151393711567, -0.0018668060656636953, ...</td>\n",
       "      <td>0.892</td>\n",
       "      <td>0.807</td>\n",
       "      <td>0.901</td>\n",
       "      <td>0.855</td>\n",
       "      <td>0.870</td>\n",
       "      <td>0.894</td>\n",
       "      <td>1.000</td>\n",
       "    </tr>\n",
       "  </tbody>\n",
       "</table>\n",
       "</div>"
      ],
      "text/plain": [
       "       stories                                           problems  \\\n",
       "0        creek  The goal of the game is to blacken some cells ...   \n",
       "1     minotaur  There is a player in a labyrinth. The goal is ...   \n",
       "2  seeknumbers  Given a square grid, the goal is to construct ...   \n",
       "3       sudoku  The task of this project is to solve a Sudoku ...   \n",
       "4     yosenabe  The task of this project is to solve the Japan...   \n",
       "5          hop  The goal of the puzzle is to find a path betwe...   \n",
       "6       lights  The puzzle involves illuminating a two-dimensi...   \n",
       "\n",
       "                                          embeddings  cos_creek  cos_minotaur  \\\n",
       "0  [-0.004310643766075373, -0.01542616169899702, ...      1.000         0.805   \n",
       "1  [-0.01143644005060196, -0.010898801498115063, ...      0.805         1.000   \n",
       "2  [0.000838210282381624, -0.0007265608292073011,...      0.916         0.813   \n",
       "3  [0.006194239482283592, -0.002773913089185953, ...      0.828         0.752   \n",
       "4  [0.0007079929346218705, -0.010772258043289185,...      0.855         0.795   \n",
       "5  [0.005379000212997198, -0.005975912790745497, ...      0.872         0.837   \n",
       "6  [0.01010151393711567, -0.0018668060656636953, ...      0.892         0.807   \n",
       "\n",
       "   cos_seeknumbers  cos_sudoku  cos_yosenabe  cos_hop  cos_lights  \n",
       "0            0.916       0.828         0.855    0.872       0.892  \n",
       "1            0.813       0.752         0.795    0.837       0.807  \n",
       "2            1.000       0.838         0.875    0.913       0.901  \n",
       "3            0.838       1.000         0.902    0.843       0.855  \n",
       "4            0.875       0.902         1.000    0.872       0.870  \n",
       "5            0.913       0.843         0.872    1.000       0.894  \n",
       "6            0.901       0.855         0.870    0.894       1.000  "
      ]
     },
     "execution_count": 6,
     "metadata": {},
     "output_type": "execute_result"
    }
   ],
   "source": [
    "df"
   ]
  },
  {
   "cell_type": "code",
   "execution_count": 20,
   "id": "a9b564e1-fecb-4d45-85b2-c5c800e09e9a",
   "metadata": {},
   "outputs": [],
   "source": [
    "def get_avg_score(df, story, story1, story2):\n",
    "    str_cos_s1 = \"cos_\" + story1\n",
    "    str_cos_s2 = \"cos_\" + story2\n",
    "    cos_1 = df[df[\"stories\"]==story][str_cos_s1].item()\n",
    "    cos_2 = df[df[\"stories\"]==story][str_cos_s2].item()\n",
    "    result = round((cos_1 + cos_2 )/2,2)\n",
    "    return result"
   ]
  },
  {
   "cell_type": "code",
   "execution_count": 21,
   "id": "589062c4-cfda-476f-af7d-0a983b4bb44e",
   "metadata": {},
   "outputs": [
    {
     "data": {
      "text/plain": [
       "float"
      ]
     },
     "execution_count": 21,
     "metadata": {},
     "output_type": "execute_result"
    }
   ],
   "source": [
    "res = get_avg_score(df, \"sudoku\", \"creek\", \"lights\")\n",
    "res"
   ]
  },
  {
   "cell_type": "code",
   "execution_count": 23,
   "id": "5ac6366c-58ad-44b9-a16f-d31f3f3d9f65",
   "metadata": {},
   "outputs": [
    {
     "name": "stdout",
     "output_type": "stream",
     "text": [
      "Connection established\n"
     ]
    }
   ],
   "source": [
    "conn_string = \"dbname=thesis user=postgres password=postgres\"\n",
    "conn = psycopg2.connect(conn_string)\n",
    "print(\"Connection established\")"
   ]
  },
  {
   "cell_type": "code",
   "execution_count": 28,
   "id": "98034f6a-643d-47e1-92a7-d5fc59ea072e",
   "metadata": {},
   "outputs": [],
   "source": [
    "cursor = conn.cursor()\n",
    "sql = \"SELECT file, story, story_1, story_2 FROM panel\"\n",
    "cursor.execute(sql)\n",
    "panel = cursor.fetchall()\n",
    "conn.commit()\n",
    "cursor.close()\n",
    "df_panel = pd.DataFrame(panel,columns=[\"file\",\"story\",\"story1\",\"story2\"])"
   ]
  },
  {
   "cell_type": "code",
   "execution_count": 43,
   "id": "9dc1c167-5972-4b19-851d-d54d2b92abe8",
   "metadata": {},
   "outputs": [],
   "source": [
    "def update_cos_sin(conn, file, cos):\n",
    "    cursor = conn.cursor()\n",
    "    sql = \"UPDATE panel SET cos_sim = \" + str(cos) + \" WHERE file = '\" + file + \"'\"\n",
    "    cursor.execute(sql)\n",
    "    conn.commit()\n",
    "    cursor.close()"
   ]
  },
  {
   "cell_type": "code",
   "execution_count": 44,
   "id": "33f1fc97-fc0b-498c-bac2-af57914d7bab",
   "metadata": {},
   "outputs": [],
   "source": [
    "for index, row in df_panel.iterrows():\n",
    "    cos = get_avg_score(df,row[\"story\"],row[\"story1\"],row[\"story2\"])\n",
    "    update_cos_sin(conn,row[\"file\"],cos)"
   ]
  },
  {
   "cell_type": "code",
   "execution_count": 40,
   "id": "89269767-37ea-4163-9321-87f4f1a5185f",
   "metadata": {},
   "outputs": [],
   "source": [
    "conn.commit()\n",
    "cursor.close()"
   ]
  },
  {
   "cell_type": "code",
   "execution_count": null,
   "id": "1af1366e-6e9b-4040-a837-c3ffe3da6a2d",
   "metadata": {},
   "outputs": [],
   "source": []
  }
 ],
 "metadata": {
  "kernelspec": {
   "display_name": "Python 3 (ipykernel)",
   "language": "python",
   "name": "python3"
  },
  "language_info": {
   "codemirror_mode": {
    "name": "ipython",
    "version": 3
   },
   "file_extension": ".py",
   "mimetype": "text/x-python",
   "name": "python",
   "nbconvert_exporter": "python",
   "pygments_lexer": "ipython3",
   "version": "3.9.13"
  }
 },
 "nbformat": 4,
 "nbformat_minor": 5
}
