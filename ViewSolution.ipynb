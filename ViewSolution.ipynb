{
 "cells": [
  {
   "cell_type": "code",
   "execution_count": 48,
   "id": "88f2d99e-b5e2-4e30-b1f3-09dc680a9144",
   "metadata": {},
   "outputs": [],
   "source": [
    "import os\n",
    "from helper import *\n",
    "import random"
   ]
  },
  {
   "cell_type": "code",
   "execution_count": 49,
   "id": "1c70773e-4802-4c65-8d72-e3549b9c8ffc",
   "metadata": {},
   "outputs": [],
   "source": [
    "files = [x for x in os.listdir(\"generated_solutions\") if not os.path.isdir(x) and (\"v9\" in x or \"v10\" in x) and \"complemented\" in x]"
   ]
  },
  {
   "cell_type": "code",
   "execution_count": 50,
   "id": "0e173397-732e-44b5-b500-ee13ea3db726",
   "metadata": {},
   "outputs": [],
   "source": [
    "#for file in files:\n",
    "#    os.remove(os.path.join(\"generated_solutions\",file))"
   ]
  },
  {
   "cell_type": "code",
   "execution_count": 51,
   "id": "035fd336-ff8f-4c1c-9b35-04c1767c637e",
   "metadata": {},
   "outputs": [],
   "source": [
    "#files = [x for x in os.listdir(\"generated_solutions\") if not os.path.isdir(x) and (\"v9\" in x or \"v10\" in x)]"
   ]
  },
  {
   "cell_type": "code",
   "execution_count": 52,
   "id": "4bcb6484-fc8d-47da-b3dc-2f887652a332",
   "metadata": {},
   "outputs": [],
   "source": [
    "len_list = [lines_counter(os.path.join(\"generated_solutions\",x)) for x in files]"
   ]
  },
  {
   "cell_type": "code",
   "execution_count": 54,
   "id": "65a220d5-2da0-4356-8294-39f4506db83f",
   "metadata": {},
   "outputs": [
    {
     "name": "stdout",
     "output_type": "stream",
     "text": [
      "420\n"
     ]
    }
   ],
   "source": [
    "print(len(files))"
   ]
  },
  {
   "cell_type": "code",
   "execution_count": 40,
   "id": "c102a116-cc4a-4f8d-92c8-dd09fd53ffbc",
   "metadata": {},
   "outputs": [
    {
     "name": "stdout",
     "output_type": "stream",
     "text": [
      "============================== lights_from_hop_and_minotaur_v9_20231203.lp ==============================\n",
      "                    % Generate cells\n",
      "cell(X,Y) :- X=1..C, cols(C), Y=1..R, rows(R).\n",
      "% A light can be placed in any cell that is not initially given\n",
      "{ light(X,Y) } :- cell(X,Y), not digit(X,Y,_), not empty(X,Y).\n",
      "% Show the output predicate\n",
      "#show light/2.\n",
      "============================== seeknumbers_from_creek_and_sudoku_v10_20231203.lp ==============================\n",
      "                    % Define the possible directions for a path to move: up, down, left, right\n",
      "direction(0,1). direction(0,-1). direction(1,0). direction(-1,0).\n",
      "% The path starts at the first cell\n",
      "path(X,Y,XX,YY) :- first(X,Y), direction(DX,DY), cell(XX,YY), XX = X + DX, YY = Y + DY.\n",
      "% The path continues from a cell to an adjacent cell\n",
      "path(X,Y,XX,YY) :- path(_,_,X,Y), direction(DX,DY), cell(XX,YY), XX = X + DX, YY = Y + DY.\n",
      "% The path ends at the final cell\n",
      "path(X,Y,XX,YY) :- final(XX,YY), direction(DX,DY), cell(X,Y), X = XX - DX, Y = YY - DY.\n",
      "% Show output predicate\n",
      "#show path/4.\n",
      "============================== seeknumbers_from_lights_and_yosenabe_v9_20231203.lp ==============================\n",
      "                    % For each cell, there is a path to an adjacent cell\n",
      "1 { path(X,Y,XX,YY) : cell(XX,YY), adjacent(X,Y,XX,YY) } 1 :- cell(X,Y).\n",
      "% The first cell has a path to an adjacent cell\n",
      "1 { path(X,Y,XX,YY) : cell(XX,YY), adjacent(X,Y,XX,YY) } 1 :- first(X,Y).\n",
      "% The final cell has a path from an adjacent cell\n",
      "1 { path(XX,YY,X,Y) : cell(XX,YY), adjacent(XX,YY,X,Y) } 1 :- final(X,Y).\n",
      "% Show output predicate\n",
      "#show path/4.\n",
      "\n",
      "% Helper rule to determine if two cells are adjacent\n",
      "adjacent(X,Y,XX,YY) :- cell(X,Y), cell(XX,YY), (X=XX, Y=YY+1 ; X=XX, Y=YY-1 ; X=XX+1, Y=YY ; X=XX-1, Y=YY).\n",
      "============================== seeknumbers_from_sudoku_and_hop_v9_20231203.lp ==============================\n",
      "                    % Generate path from first cell\n",
      "            path(X,Y,XX,YY) :- first(X,Y), cell(XX,YY), (X=XX, Y=YY+1 ; X=XX, Y=YY-1 ; X=XX+1, Y=YY ; X=XX-1, Y=YY).\n",
      "            % Generate path from hint cell\n",
      "            path(X,Y,XX,YY) :- hint(X,Y,_), cell(XX,YY), (X=XX, Y=YY+1 ; X=XX, Y=YY-1 ; X=XX+1, Y=YY ; X=XX-1, Y=YY).\n",
      "            % Generate path from any cell to adjacent cell\n",
      "            path(X,Y,XX,YY) :- cell(X,Y), cell(XX,YY), (X=XX, Y=YY+1 ; X=XX, Y=YY-1 ; X=XX+1, Y=YY ; X=XX-1, Y=YY).\n",
      "            % Show output predicate\n",
      "            #show path/4.\n",
      "============================== sudoku_from_lights_and_seeknumbers_v10_20231203.lp ==============================\n",
      "% Generate cells\n",
      "cell(X,Y) :- X=1..9, Y=1..9.\n",
      "% Generate values\n",
      "value(V) :- V=1..9.\n",
      "% Assign a value to each cell\n",
      "1 { sudoku(X,Y,V) : value(V) } 1 :- cell(X,Y).\n",
      "% Show output predicate\n",
      "#show sudoku/3.\n"
     ]
    }
   ],
   "source": [
    "for filex in files:\n",
    "    if random.random() < 0.99:\n",
    "        continue\n",
    "    with open(os.path.join(\"generated_solutions\",filex),\"r\") as file:\n",
    "        print(\"==\"*15 + \" \" + filex + \" \" + \"==\"*15)\n",
    "        lines = file.readlines()\n",
    "        text = \"\".join(lines)\n",
    "        print(text)"
   ]
  },
  {
   "cell_type": "code",
   "execution_count": 41,
   "id": "33298e90-2afd-4e92-8730-4213b6b53646",
   "metadata": {},
   "outputs": [
    {
     "name": "stdout",
     "output_type": "stream",
     "text": [
      "                    % Generate cells\n",
      "cell(X,Y) :- X=1..C, cols(C), Y=1..R, rows(R).\n",
      "% A light can be placed in any cell that is not initially given\n",
      "{ light(X,Y) } :- cell(X,Y), not digit(X,Y,_), not empty(X,Y).\n",
      "% Show the output predicate\n",
      "#show light/2.\n"
     ]
    }
   ],
   "source": [
    "with open(os.path.join(\"generated_solutions\",\"lights_from_hop_and_minotaur_v9_20231203.lp\")) as file:\n",
    "    lines = file.readlines()\n",
    "    text = \"\".join(lines)\n",
    "    print(text)"
   ]
  },
  {
   "cell_type": "code",
   "execution_count": null,
   "id": "f2f8590e-b7fa-4ffb-bdbd-0e83d87f51f1",
   "metadata": {},
   "outputs": [],
   "source": []
  }
 ],
 "metadata": {
  "kernelspec": {
   "display_name": "Python 3 (ipykernel)",
   "language": "python",
   "name": "python3"
  },
  "language_info": {
   "codemirror_mode": {
    "name": "ipython",
    "version": 3
   },
   "file_extension": ".py",
   "mimetype": "text/x-python",
   "name": "python",
   "nbconvert_exporter": "python",
   "pygments_lexer": "ipython3",
   "version": "3.9.13"
  }
 },
 "nbformat": 4,
 "nbformat_minor": 5
}
