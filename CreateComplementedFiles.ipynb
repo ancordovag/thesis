{
 "cells": [
  {
   "cell_type": "code",
   "execution_count": 11,
   "id": "553aa136-66ca-4fd0-991e-fbecd70e3fbc",
   "metadata": {},
   "outputs": [],
   "source": [
    "import psycopg2\n",
    "import os"
   ]
  },
  {
   "cell_type": "code",
   "execution_count": 3,
   "id": "aa44d028-fbf7-4434-a0a9-c483cbaaa836",
   "metadata": {},
   "outputs": [
    {
     "name": "stdout",
     "output_type": "stream",
     "text": [
      "Connection established\n"
     ]
    }
   ],
   "source": [
    "conn_string = \"dbname=thesis user=postgres password=postgres\"\n",
    "conn = psycopg2.connect(conn_string)\n",
    "print(\"Connection established\")"
   ]
  },
  {
   "cell_type": "code",
   "execution_count": 13,
   "id": "928ec241-f25a-438f-9cca-4d5ee5d87ad8",
   "metadata": {},
   "outputs": [],
   "source": [
    "cursor = conn.cursor()\n",
    "sql = \"SELECT file, encoding FROM b20240104_panel WHERE version IN (9,10)\"\n",
    "cursor.execute(sql)\n",
    "results = cursor.fetchall()\n",
    "conn.commit()\n",
    "cursor.close()"
   ]
  },
  {
   "cell_type": "code",
   "execution_count": 14,
   "id": "5dd5b3dd-65e9-494b-aedb-96cfa3119e04",
   "metadata": {},
   "outputs": [],
   "source": [
    "for res in results:\n",
    "    with open(os.path.join(\"generated_solutions\",name_file),\"w\") as file:\n",
    "        file.writelines(res[1])"
   ]
  },
  {
   "cell_type": "code",
   "execution_count": 15,
   "id": "c33078c0-6672-4da1-aee8-c0cccb1c40f4",
   "metadata": {},
   "outputs": [],
   "source": [
    "cursor = conn.cursor()\n",
    "sql = \"SELECT file, encoding FROM panel WHERE version IN (9,10)\"\n",
    "cursor.execute(sql)\n",
    "results = cursor.fetchall()\n",
    "conn.commit()\n",
    "cursor.close()"
   ]
  },
  {
   "cell_type": "code",
   "execution_count": 16,
   "id": "de5f161a-b2bf-47f1-be91-1246cc7de2e0",
   "metadata": {},
   "outputs": [],
   "source": [
    "for res in results:\n",
    "    name_file = res[0].replace(\".lp\",\"_complemented.lp\")\n",
    "    with open(os.path.join(\"generated_solutions\",name_file),\"w\") as file:\n",
    "        file.writelines(res[1])"
   ]
  },
  {
   "cell_type": "code",
   "execution_count": null,
   "id": "d8a2eb4f-ee75-4902-bb5d-f83e1466c2cb",
   "metadata": {},
   "outputs": [],
   "source": []
  }
 ],
 "metadata": {
  "kernelspec": {
   "display_name": "Python 3 (ipykernel)",
   "language": "python",
   "name": "python3"
  },
  "language_info": {
   "codemirror_mode": {
    "name": "ipython",
    "version": 3
   },
   "file_extension": ".py",
   "mimetype": "text/x-python",
   "name": "python",
   "nbconvert_exporter": "python",
   "pygments_lexer": "ipython3",
   "version": "3.9.13"
  }
 },
 "nbformat": 4,
 "nbformat_minor": 5
}
