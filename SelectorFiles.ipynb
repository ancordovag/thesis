{
 "cells": [
  {
   "cell_type": "code",
   "execution_count": 9,
   "id": "5254008f-321c-43fd-8348-ac2128df3b66",
   "metadata": {},
   "outputs": [],
   "source": [
    "### Import libraries\n",
    "import openai\n",
    "import os\n",
    "import time\n",
    "from datetime import datetime\n",
    "import pandas as pd\n",
    "#import numpy as np\n",
    "from numpy.linalg import norm\n",
    "import psycopg2\n",
    "import clingo\n",
    "from clingo.control import Control\n",
    "import json\n",
    "from yaml import load, Loader\n",
    "from helper import *\n",
    "from stories import *\n",
    "#import multiprocessing\n",
    "import random"
   ]
  },
  {
   "cell_type": "code",
   "execution_count": 10,
   "id": "4fb28e74-3f2e-4526-b3ab-05c05f6f53b7",
   "metadata": {},
   "outputs": [
    {
     "name": "stdout",
     "output_type": "stream",
     "text": [
      "Connection established\n"
     ]
    }
   ],
   "source": [
    "conn_string = \"dbname=thesis user=postgres password=postgres\"\n",
    "conn = psycopg2.connect(conn_string)\n",
    "print(\"Connection established\")"
   ]
  },
  {
   "cell_type": "markdown",
   "id": "1e9e9e1e-0364-4d9f-8c77-b8ac8e4c854b",
   "metadata": {},
   "source": [
    "### There are 2 tables of results: panel and ne_panel"
   ]
  },
  {
   "cell_type": "code",
   "execution_count": 11,
   "id": "72c11a8a-9a4a-4c0f-bfd9-af51ad6945a0",
   "metadata": {},
   "outputs": [],
   "source": [
    "sql = '''WITH ranked_files AS (\n",
    "    SELECT \n",
    "        file,\n",
    "        story,\n",
    "        encoding,\n",
    "        version,\n",
    "        kpi,\n",
    "        jaccard,\n",
    "        ROW_NUMBER() OVER (PARTITION BY story ORDER BY kpi DESC) AS rn\n",
    "    FROM \n",
    "        panel\n",
    "    WHERE \n",
    "        jaccard < 1\n",
    "    AND\n",
    "        version = 10\n",
    ")\n",
    "SELECT \n",
    "    file,\n",
    "    story,\n",
    "    encoding,\n",
    "    version,\n",
    "    kpi,\n",
    "    jaccard\n",
    "FROM \n",
    "    ranked_files\n",
    "WHERE \n",
    "    rn = 1\n",
    "AND\n",
    "    version = 10\n",
    ";''' \n",
    "cursor = conn.cursor()\n",
    "cursor.execute(sql)\n",
    "result = cursor.fetchall()\n",
    "conn.commit()\n",
    "cursor.close()"
   ]
  },
  {
   "cell_type": "code",
   "execution_count": 12,
   "id": "5d999965-cebb-42bb-8f1f-a4b330333be0",
   "metadata": {},
   "outputs": [],
   "source": [
    "conn.commit()\n",
    "cursor.close()"
   ]
  },
  {
   "cell_type": "code",
   "execution_count": 13,
   "id": "192c57d3-b1d2-4d34-9ce9-16f3b668d5d2",
   "metadata": {},
   "outputs": [],
   "source": [
    "df = pd.DataFrame(result,columns=[\"file\",\"story\",\"encoding\",\"version\",\"kpi\",\"jaccard\"])"
   ]
  },
  {
   "cell_type": "code",
   "execution_count": 14,
   "id": "11029188-980b-44ed-8f02-6af126e58e66",
   "metadata": {},
   "outputs": [
    {
     "data": {
      "text/html": [
       "<div>\n",
       "<style scoped>\n",
       "    .dataframe tbody tr th:only-of-type {\n",
       "        vertical-align: middle;\n",
       "    }\n",
       "\n",
       "    .dataframe tbody tr th {\n",
       "        vertical-align: top;\n",
       "    }\n",
       "\n",
       "    .dataframe thead th {\n",
       "        text-align: right;\n",
       "    }\n",
       "</style>\n",
       "<table border=\"1\" class=\"dataframe\">\n",
       "  <thead>\n",
       "    <tr style=\"text-align: right;\">\n",
       "      <th></th>\n",
       "      <th>file</th>\n",
       "      <th>story</th>\n",
       "      <th>encoding</th>\n",
       "      <th>version</th>\n",
       "      <th>kpi</th>\n",
       "      <th>jaccard</th>\n",
       "    </tr>\n",
       "  </thead>\n",
       "  <tbody>\n",
       "    <tr>\n",
       "      <th>0</th>\n",
       "      <td>creek_from_minotaur_and_sudoku_v10_20231203.lp</td>\n",
       "      <td>creek</td>\n",
       "      <td>% The possible cells are d...</td>\n",
       "      <td>10</td>\n",
       "      <td>53.4</td>\n",
       "      <td>0.60</td>\n",
       "    </tr>\n",
       "    <tr>\n",
       "      <th>1</th>\n",
       "      <td>hop_from_minotaur_and_lights_v10_20231204.lp</td>\n",
       "      <td>hop</td>\n",
       "      <td>% Define fields at the com...</td>\n",
       "      <td>10</td>\n",
       "      <td>15.2</td>\n",
       "      <td>0.20</td>\n",
       "    </tr>\n",
       "    <tr>\n",
       "      <th>2</th>\n",
       "      <td>lights_from_creek_and_sudoku_v10_20231204.lp</td>\n",
       "      <td>lights</td>\n",
       "      <td>% Define the possible posi...</td>\n",
       "      <td>10</td>\n",
       "      <td>57.7</td>\n",
       "      <td>0.27</td>\n",
       "    </tr>\n",
       "    <tr>\n",
       "      <th>3</th>\n",
       "      <td>minotaur_from_hop_and_yosenabe_v10_20231203.lp</td>\n",
       "      <td>minotaur</td>\n",
       "      <td>% The player starts at the...</td>\n",
       "      <td>10</td>\n",
       "      <td>-6.9</td>\n",
       "      <td>0.08</td>\n",
       "    </tr>\n",
       "    <tr>\n",
       "      <th>4</th>\n",
       "      <td>seeknumbers_from_hop_and_sudoku_v10_20231203.lp</td>\n",
       "      <td>seeknumbers</td>\n",
       "      <td>% Initial parameters\\ndire...</td>\n",
       "      <td>10</td>\n",
       "      <td>21.6</td>\n",
       "      <td>0.33</td>\n",
       "    </tr>\n",
       "    <tr>\n",
       "      <th>5</th>\n",
       "      <td>sudoku_from_seeknumbers_and_hop_v10_20231203.lp</td>\n",
       "      <td>sudoku</td>\n",
       "      <td>% Generate cells\\ncell(X,Y...</td>\n",
       "      <td>10</td>\n",
       "      <td>41.8</td>\n",
       "      <td>0.77</td>\n",
       "    </tr>\n",
       "    <tr>\n",
       "      <th>6</th>\n",
       "      <td>yosenabe_from_hop_and_seeknumbers_v10_20231204.lp</td>\n",
       "      <td>yosenabe</td>\n",
       "      <td>% Define the neighbours of...</td>\n",
       "      <td>10</td>\n",
       "      <td>27.7</td>\n",
       "      <td>0.40</td>\n",
       "    </tr>\n",
       "  </tbody>\n",
       "</table>\n",
       "</div>"
      ],
      "text/plain": [
       "                                                file        story  \\\n",
       "0     creek_from_minotaur_and_sudoku_v10_20231203.lp        creek   \n",
       "1       hop_from_minotaur_and_lights_v10_20231204.lp          hop   \n",
       "2       lights_from_creek_and_sudoku_v10_20231204.lp       lights   \n",
       "3     minotaur_from_hop_and_yosenabe_v10_20231203.lp     minotaur   \n",
       "4    seeknumbers_from_hop_and_sudoku_v10_20231203.lp  seeknumbers   \n",
       "5    sudoku_from_seeknumbers_and_hop_v10_20231203.lp       sudoku   \n",
       "6  yosenabe_from_hop_and_seeknumbers_v10_20231204.lp     yosenabe   \n",
       "\n",
       "                                            encoding  version   kpi  jaccard  \n",
       "0                      % The possible cells are d...       10  53.4     0.60  \n",
       "1                      % Define fields at the com...       10  15.2     0.20  \n",
       "2                      % Define the possible posi...       10  57.7     0.27  \n",
       "3                      % The player starts at the...       10  -6.9     0.08  \n",
       "4                      % Initial parameters\\ndire...       10  21.6     0.33  \n",
       "5                      % Generate cells\\ncell(X,Y...       10  41.8     0.77  \n",
       "6                      % Define the neighbours of...       10  27.7     0.40  "
      ]
     },
     "execution_count": 14,
     "metadata": {},
     "output_type": "execute_result"
    }
   ],
   "source": [
    "df"
   ]
  },
  {
   "cell_type": "code",
   "execution_count": 15,
   "id": "4cc111d6-b4a1-493b-b4e2-2434d7d383ca",
   "metadata": {},
   "outputs": [],
   "source": [
    "for idx, row in df.iterrows():\n",
    "    with open(os.path.join(\"selected\",row[\"file\"]),\"w\") as file:\n",
    "        file.writelines(row[\"encoding\"])    "
   ]
  },
  {
   "cell_type": "code",
   "execution_count": null,
   "id": "2270c4f9-321c-45a2-a71e-d3182a713cd1",
   "metadata": {},
   "outputs": [],
   "source": []
  }
 ],
 "metadata": {
  "kernelspec": {
   "display_name": "Python 3 (ipykernel)",
   "language": "python",
   "name": "python3"
  },
  "language_info": {
   "codemirror_mode": {
    "name": "ipython",
    "version": 3
   },
   "file_extension": ".py",
   "mimetype": "text/x-python",
   "name": "python",
   "nbconvert_exporter": "python",
   "pygments_lexer": "ipython3",
   "version": "3.9.13"
  }
 },
 "nbformat": 4,
 "nbformat_minor": 5
}
