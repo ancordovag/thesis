{
 "cells": [
  {
   "cell_type": "code",
   "execution_count": 1,
   "id": "231ed771-9eeb-4193-bf81-bec7c3e1292c",
   "metadata": {},
   "outputs": [],
   "source": [
    "### Import libraries\n",
    "import openai\n",
    "import os\n",
    "import time\n",
    "from datetime import datetime\n",
    "import pandas as pd\n",
    "import clingo\n",
    "from clingo.control import Control\n",
    "import json\n",
    "from helper import *\n",
    "from stories import *\n",
    "from pipelines import *\n",
    "import psycopg2"
   ]
  },
  {
   "cell_type": "code",
   "execution_count": 2,
   "id": "b70b3373-4e0f-4749-a76f-8071543374c1",
   "metadata": {},
   "outputs": [],
   "source": [
    "now = datetime.now()\n",
    "date_time = now.strftime(\"%Y%m%d\")"
   ]
  },
  {
   "cell_type": "markdown",
   "id": "3ce70df2-3967-4366-a57c-b1f09af7fcd9",
   "metadata": {},
   "source": [
    "## OpenAI"
   ]
  },
  {
   "cell_type": "code",
   "execution_count": 3,
   "id": "1acad185-fecc-4ee7-9e88-ee7a70d9e774",
   "metadata": {},
   "outputs": [],
   "source": [
    "set_api_key()"
   ]
  },
  {
   "cell_type": "markdown",
   "id": "fb9ebeb0-b43b-4fac-af7a-b3661c10124d",
   "metadata": {},
   "source": [
    "## Connect to Database"
   ]
  },
  {
   "cell_type": "code",
   "execution_count": 4,
   "id": "1fc18c20-73d6-4715-844f-5304d8026287",
   "metadata": {},
   "outputs": [],
   "source": [
    "conn = get_connection()"
   ]
  },
  {
   "cell_type": "markdown",
   "id": "6186a42c-727e-4160-8c5f-37e04c9a0034",
   "metadata": {},
   "source": [
    "## Load Projects"
   ]
  },
  {
   "cell_type": "code",
   "execution_count": 5,
   "id": "46634a9b-aec1-41ec-8525-b5690c53bca4",
   "metadata": {},
   "outputs": [],
   "source": [
    "projects = get_useful_projects()"
   ]
  },
  {
   "cell_type": "markdown",
   "id": "db4bf793-fe5e-4941-ae4b-d7716ce4df2a",
   "metadata": {},
   "source": [
    "## Functions"
   ]
  },
  {
   "cell_type": "code",
   "execution_count": 6,
   "id": "cb603840-c987-405a-b9a6-ad75da9b38c1",
   "metadata": {},
   "outputs": [],
   "source": [
    "def save_in_database(conn, prompt1, prompt2, encoding, story, story_1, story_2, version, file):\n",
    "    cursor = conn.cursor()\n",
    "    command = \"INSERT INTO ne_linebyline (prompt1, prompt2, encoding, story, story_1, story_2, version, file) VALUES ('%(prompt1)s', '%(prompt2)s', '%(encoding)s', '%(story)s', '%(story_1)s', '%(story_2)s', '%(version)s', '%(file)s');\" % {\"prompt1\": prompt1, \"prompt2\": prompt2, \"encoding\": encoding, \"story\": story, \"story_1\": story_1, \"story_2\":story_2, \"version\":version, \"file\":file}\n",
    "    try:\n",
    "        cursor.execute(command)\n",
    "        conn.commit()\n",
    "        cursor.close()\n",
    "    except Exception as err:\n",
    "        print(command)\n",
    "        print(f\"Unexpected {err=}, {type(err)=}\")\n",
    "        conn.commit()\n",
    "        cursor.close()\n",
    "        pass"
   ]
  },
  {
   "cell_type": "code",
   "execution_count": 7,
   "id": "ae040f2f-7d33-4e65-adaa-ad236c7156d1",
   "metadata": {},
   "outputs": [],
   "source": [
    "def quality_check(name_file, lines_file, previous_messages, instance, deep):\n",
    "    if deep==0:\n",
    "        return lines_file[-1]\n",
    "    with open(name_file,\"w\") as tmp_file:\n",
    "        for new_line in lines_file:\n",
    "            tmp_file.write(new_line)\n",
    "    models, errors, symbols, mistakes = asp_try_5(name_file,instance)\n",
    "    print(f\"Errors {errors}. Messages {mistakes}.\")\n",
    "    new_answer = lines_file[-1]\n",
    "    if len(mistakes) > 0:\n",
    "        print(\"Mistake! Last Message : \" + str(previous_messages[-1]))\n",
    "        answer = get_completion_line(\"The last rule that you wrote is wrong. The error message is: ###\" + str(mistakes) + \"###. Can you try again?\"\n",
    "                                    , previous_messages = previous_messages)\n",
    "        lines_file[-1] = answer\n",
    "        print(\"Deep: \"+ str(deep) + \". New answer: \" +answer)\n",
    "        new_answer = quality_check(name_file,lines_file,previous_messages, instance, deep-1)\n",
    "    return lines_file[-1]"
   ]
  },
  {
   "cell_type": "markdown",
   "id": "8e28438f-8fcd-498d-a6ec-540181eb3f5f",
   "metadata": {},
   "source": [
    "## Main : From Script, Line4Line"
   ]
  },
  {
   "cell_type": "code",
   "execution_count": 10,
   "id": "75897c91-482b-486e-b1c8-632c7595012f",
   "metadata": {},
   "outputs": [
    {
     "name": "stdout",
     "output_type": "stream",
     "text": [
      "---------------------------------------------------\n",
      "% Define the next position (X+1,Y) if there is no wall between the current position (X,Y) and the next position (X+1,Y), and both (X,Y) and (X+1,Y) are within the labyrinth.       \n",
      "next_position(X,Y,X1,Y) :- \n",
      "    not wall(X,Y,X1,Y), \n",
      "    within_labyrinth(X,Y), \n",
      "    within_labyrinth(X1,Y), \n",
      "    X1 is X+1.\n",
      "---------------------------------------------------\n",
      "            % Define the next position (X,Y+1) if there is no wall between the current position (X,Y) and the next position (X,Y+1), and both (X,Y) and (X,Y+1) are within the labyrinth.\n",
      "next_position(X,Y,X,Y1) :- \n",
      "    not wall(X,Y,X,Y1), \n",
      "    within_labyrinth(X,Y), \n",
      "    within_labyrinth(X,Y1), \n",
      "    Y1 is Y+1.\n",
      "---------------------------------------------------\n",
      "            % Define the next position (X,Y) to be the current position if (X,Y) is within the labyrinth.\n",
      "next_position(X,Y,X,Y) :- \n",
      "    within_labyrinth(X,Y).\n",
      "---------------------------------------------------\n",
      "           % Define the next position (XX,YY) to be the current position (X,Y) if (X,Y) is the next position.\n",
      "next_position(XX,YY,X,Y) :- \n",
      "    next_position(X,Y,XX,YY).\n",
      "---------------------------------------------------\n",
      "            % Define the position (X,Y) at time 0 to be the start position (X,Y).\n",
      "position(X,Y,0) :- start(X,Y).\n",
      "---------------------------------------------------\n",
      "            % Ensure that at each time step (T+1), the player can move to exactly one adjacent cell (XX,YY) from the current position (X,Y) if the maximum number of steps (S) has not been reached and the current position is not the goal.\n",
      "1 { position(XX,YY,T+1) : next_position(X,Y,XX,YY) } 1 :- position(X,Y,T), T < S, not goal(X,Y).\n",
      "---------------------------------------------------\n",
      "            % Define the movement of the Minotaur from cell (X,Y) to cell (XX,YY) with the corresponding direction vector (1,0) if (X,Y) is to the left of (XX,YY) and there is no wall in between.     \n",
      "minotaur_move(X,Y,XX,YY,(1,0)) :- \n",
      "    X < XX, \n",
      "    not wall(X,Y,XX,YY).\n",
      "---------------------------------------------------\n",
      "            % Define the movement of the Minotaur from cell (X,Y) to cell (XX,YY) with the corresponding direction vector (-1,0) if (X,Y) is to the right of (XX,YY) and there is no wall in between.\n",
      "minotaur_move(X,Y,XX,YY,(-1,0)) :- \n",
      "    X > XX, \n",
      "    not wall(X,Y,XX,YY).\n",
      "---------------------------------------------------\n",
      "            % Define the movement of the Minotaur from cell (X,Y) to cell (XX,YY) with the corresponding direction vector (0,1) if (X,Y) is above (XX,YY), there is no wall in between, and the Minotaur cannot move left or right.\n",
      "minotaur_move(X,Y,XX,YY,(0,1)) :- \n",
      "    Y < YY, \n",
      "    not wall(X,Y,XX,YY), \n",
      "    not minotaur_move(X,Y,_,_,(1,0)), \n",
      "    not minotaur_move(X,Y,_,_,(-1,0)).\n",
      "---------------------------------------------------\n",
      "            % Define the movement of the Minotaur from cell (X,Y) to cell (XX,YY) with the corresponding direction vector (0,-1) if (X,Y) is below (XX,YY), there is no wall in between, and the Minotaur cannot move left or right.\n",
      "minotaur_move(X,Y,XX,YY,(0,-1)) :- \n",
      "    Y > YY, \n",
      "    not wall(X,Y,XX,YY), \n",
      "    not minotaur_move(X,Y,_,_,(1,0)), \n",
      "    not minotaur_move(X,Y,_,_,(-1,0)).\n",
      "---------------------------------------------------\n",
      "            % Define the movement of the Minotaur from cell (X,Y) to cell (XX,YY) with the corresponding direction vector (0,0) if the Minotaur cannot move left, right, up, or down.\n",
      "minotaur_move(X,Y,X,Y,(0,0)) :- \n",
      "    not minotaur_move(X,Y,_,_,(1,0)), \n",
      "    not minotaur_move(X,Y,_,_,(-1,0)), \n",
      "    not minotaur_move(X,Y,_,_,(0,1)), \n",
      "    not minotaur_move(X,Y,_,_,(0,-1)).\n",
      "---------------------------------------------------\n",
      "            % Define the next position (XX,YY) of the Minotaur from the current position (X,Y) if the Minotaur can take two steps in consecutive directions (DX1,DY1) and (DX2,DY2) respectively.\n",
      "minotaur_next_position(X,Y,XX,YY) :- \n",
      "    minotaur_move(X,Y,X1,Y1,(DX1,DY1)), \n",
      "    minotaur_move(X1,Y1,XX,YY,(DX2,DY2)).\n",
      "---------------------------------------------------\n",
      "            % Define the position (X,Y) of the Minotaur at time 0 to be the starting position (X,Y).\n",
      "minotaur_position(X,Y,0) :- minotaur_start(X,Y).\n",
      "---------------------------------------------------\n",
      "            % Define the position (XXX,YYY) of the Minotaur at time (T+1) if the maximum number of steps (S) has not been reached, the current position of the Minotaur is (X,Y) at time T, and the next position of the Minotaur is (XXX,YYY) based on the player's position at time (T+1).\n",
      "minotaur_position(XXX,YYY,T+1) :- \n",
      "    T < S, \n",
      "    minotaur_position(X,Y,T), \n",
      "    position(PX,PY,T+1), \n",
      "    minotaur_next_position(X,Y,XXX,YYY).\n",
      "---------------------------------------------------\n",
      "            % Ensure that the player and the Minotaur do not occupy the same cell at the same time.\n",
      ":- position(X,Y,T), minotaur_position(X,Y,T).\n",
      "---------------------------------------------------\n",
      "            % Define the goal state as being achieved if the player reaches the goal position (X,Y) at time T.\n",
      "goal_reached(T) :- position(X,Y,T), goal(X,Y).\n",
      "---------------------------------------------------\n",
      "            % Ensure that the goal is reached. If the goal is not reached, it violates the constraint.\n",
      ":- not goal_reached(_).\n",
      "---------------------------------------------------\n",
      "            % Minimize the time T taken for the player to reach the goal position (X,Y).          \n",
      "#minimize { T : goal_reached(T) }.\n",
      "---------------------------------------------------\n",
      "            % Show output predicate\n",
      "#show position/3.\n",
      "#show minotaur_position/3.\n"
     ]
    }
   ],
   "source": [
    "for project in projects:\n",
    "    story = project[\"story\"]\n",
    "    encoding = project[\"lines\"]\n",
    "    instance = instances_dict[story]\n",
    "    problem = project[\"problem\"]\n",
    "    lines = encoding.splitlines()\n",
    "    new_file = []\n",
    "    messages = [{\"role\":\"user\",\"content\":f\"Problem: {problem}\"}]\n",
    "    for line in lines:\n",
    "        if line == '\\n':\n",
    "            continue\n",
    "        if len(line.strip()) > 0 and line.strip()[0] == '%':\n",
    "            print(\"---------------------------------------------------\")\n",
    "            new_file.append(\"\\n\" + line)\n",
    "            messages.append({\"role\":\"user\",\"content\":line})\n",
    "            print(line)\n",
    "            answer = get_completion_line(line,previous_messages=messages)\n",
    "            print(answer)\n",
    "            new_file.append(\"\\n\" + answer)\n",
    "            messages.append({\"role\":\"assistant\",\"content\":answer})\n",
    "            #new_answer = quality_check(x\",new_file,messages,instance,deep=3)\n",
    "            #new_file[-1] = new_answer\n",
    "    new_file_name = story + \"_v11_SL_\" + date_time + \".lp\"\n",
    "    prompt = '''Given the description of a problem, and a commented line, \n",
    "                        your task is to translate this commented line in Answer Set Programming. \n",
    "                        Just write one or a few predicates or rules. Do not try to solve the whole problem at once.'''\n",
    "    encoding=' '.join(new_file)\n",
    "    save_in_database(conn,prompt,'',encoding.replace(\"'\",\"\"),story,'', '', 11, new_file_name)  "
   ]
  },
  {
   "cell_type": "code",
   "execution_count": 9,
   "id": "8b231938-54d3-4be3-9c53-1b6376d54a76",
   "metadata": {},
   "outputs": [
    {
     "data": {
      "text/plain": [
       "['\\n% Define the non-empty cells (X,Y) in the grid, where X ranges from 1 to the number of rows (R) and Y ranges from 1 to the number of columns (C).',\n",
       " '\\ncell(X,Y) :- X=1..R, Y=1..C.',\n",
       " '\\n% Define the cells (X,Y) that contain a digit.',\n",
       " '\\ndigitCell(X,Y,N) :- cell(X,Y), N=0..4.',\n",
       " '\\n% Define the four possible directions for illumination: up (1,0), down (-1,0), right (0,1), and left (0,-1).',\n",
       " '\\ndirection(1,0).\\ndirection(-1,0).\\ndirection(0,1).\\ndirection(0,-1).',\n",
       " '\\n% Define \"neighbor\" of 6 variables for 2 fields if there is a \"delta\" distance between them TODO',\n",
       " '\\nneighbor(X1,Y1,X2,Y2,DX,DY) :- cell(X1,Y1), cell(X2,Y2), direction(DX,DY), X2=X1+DX, Y2=Y1+DY.',\n",
       " '\\n% Neighbors that are not \"digit\" are defined as \"reach\" TODO',\n",
       " '\\nreach(X1,Y1,X2,Y2) :- neighbor(X1,Y1,X2,Y2,_,_), not digitCell(X2,Y2,_).',\n",
       " '\\n% Transitive property of relation \"reach\": all fields that are neighbours in the same direction, have a relation reach',\n",
       " '\\nreach(X1,Y1,X3,Y3) :- reach(X1,Y1,X2,Y2), reach(X2,Y2,X3,Y3), not digitCell(X2,Y2,_).',\n",
       " '\\n% Generate between 0 and 1 atoms of predicate \"light\" for field(X,Y) if this is not a digit. TODO',\n",
       " '\\n{ light(X,Y) : cell(X,Y) } 1 :- not digitCell(X,Y,_).',\n",
       " '\\n% Mark a field as \"lighted\" for a position if there is a relation of \"reach\" between a position of \"light\" and that position',\n",
       " '\\nlighted(X2,Y2) :- light(X1,Y1), reach(X1,Y1,X2,Y2).',\n",
       " '\\n% Cannnot be the case that a field with a light is not lighted',\n",
       " '\\n:- light(X,Y), not lighted(X,Y).',\n",
       " '\\n% Cannot be the case that a field is not digit and is not lighted',\n",
       " '\\n:- cell(X,Y), not digitCell(X,Y,_), not lighted(X,Y).',\n",
       " '\\n% A field with a digit N must have exactly N neighbors that are light',\n",
       " '\\n:- digitCell(X,Y,N), #count{X1,Y1 : neighbor(X,Y,X1,Y1,_,_), light(X1,Y1)} != N.',\n",
       " '\\n% Show output predicate \"light\"',\n",
       " '\\n#show light/2.']"
      ]
     },
     "execution_count": 9,
     "metadata": {},
     "output_type": "execute_result"
    }
   ],
   "source": [
    "new_file"
   ]
  },
  {
   "cell_type": "code",
   "execution_count": null,
   "id": "9b7dc485-f742-4129-8a34-54cf9a13858a",
   "metadata": {},
   "outputs": [],
   "source": []
  }
 ],
 "metadata": {
  "kernelspec": {
   "display_name": "Python 3 (ipykernel)",
   "language": "python",
   "name": "python3"
  },
  "language_info": {
   "codemirror_mode": {
    "name": "ipython",
    "version": 3
   },
   "file_extension": ".py",
   "mimetype": "text/x-python",
   "name": "python",
   "nbconvert_exporter": "python",
   "pygments_lexer": "ipython3",
   "version": "3.9.13"
  }
 },
 "nbformat": 4,
 "nbformat_minor": 5
}
