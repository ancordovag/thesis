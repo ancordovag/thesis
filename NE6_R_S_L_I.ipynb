{
 "cells": [
  {
   "cell_type": "code",
   "execution_count": 1,
   "id": "231ed771-9eeb-4193-bf81-bec7c3e1292c",
   "metadata": {},
   "outputs": [],
   "source": [
    "### Import libraries\n",
    "import openai\n",
    "import random\n",
    "import os\n",
    "import time\n",
    "from datetime import datetime\n",
    "import pandas as pd\n",
    "import clingo\n",
    "from clingo.control import Control\n",
    "import json\n",
    "from helper import *\n",
    "from stories import *\n",
    "from pipelines import *\n",
    "import psycopg2"
   ]
  },
  {
   "cell_type": "code",
   "execution_count": 2,
   "id": "b70b3373-4e0f-4749-a76f-8071543374c1",
   "metadata": {},
   "outputs": [],
   "source": [
    "now = datetime.now()\n",
    "date_time = now.strftime(\"%Y%m%d\")"
   ]
  },
  {
   "cell_type": "markdown",
   "id": "3ce70df2-3967-4366-a57c-b1f09af7fcd9",
   "metadata": {},
   "source": [
    "## OpenAI"
   ]
  },
  {
   "cell_type": "code",
   "execution_count": 3,
   "id": "1acad185-fecc-4ee7-9e88-ee7a70d9e774",
   "metadata": {},
   "outputs": [],
   "source": [
    "set_api_key()"
   ]
  },
  {
   "cell_type": "markdown",
   "id": "fb9ebeb0-b43b-4fac-af7a-b3661c10124d",
   "metadata": {},
   "source": [
    "## Connect to Database"
   ]
  },
  {
   "cell_type": "code",
   "execution_count": 4,
   "id": "1fc18c20-73d6-4715-844f-5304d8026287",
   "metadata": {},
   "outputs": [],
   "source": [
    "conn = get_connection()"
   ]
  },
  {
   "cell_type": "markdown",
   "id": "6186a42c-727e-4160-8c5f-37e04c9a0034",
   "metadata": {},
   "source": [
    "## Load Projects"
   ]
  },
  {
   "cell_type": "code",
   "execution_count": 5,
   "id": "46634a9b-aec1-41ec-8525-b5690c53bca4",
   "metadata": {},
   "outputs": [],
   "source": [
    "projects = get_useful_projects()"
   ]
  },
  {
   "cell_type": "markdown",
   "id": "db4bf793-fe5e-4941-ae4b-d7716ce4df2a",
   "metadata": {},
   "source": [
    "## Functions"
   ]
  },
  {
   "cell_type": "code",
   "execution_count": 6,
   "id": "cb603840-c987-405a-b9a6-ad75da9b38c1",
   "metadata": {},
   "outputs": [],
   "source": [
    "def save_in_database(conn, prompt1, prompt2, encoding, story, story_1, story_2, version, file):\n",
    "    cursor = conn.cursor()\n",
    "    command = \"INSERT INTO ne_linebyline (prompt1, prompt2, encoding, story, story_1, story_2, version, file) VALUES ('%(prompt1)s', '%(prompt2)s', '%(encoding)s', '%(story)s', '%(story_1)s', '%(story_2)s', '%(version)s', '%(file)s');\" % {\"prompt1\": prompt1, \"prompt2\": prompt2, \"encoding\": encoding, \"story\": story, \"story_1\": story_1, \"story_2\":story_2, \"version\":version, \"file\":file}\n",
    "    try:\n",
    "        cursor.execute(command)\n",
    "        conn.commit()\n",
    "        cursor.close()\n",
    "    except Exception as err:\n",
    "        print(command)\n",
    "        print(f\"Unexpected {err=}, {type(err)=}\")\n",
    "        conn.commit()\n",
    "        cursor.close()\n",
    "        pass"
   ]
  },
  {
   "cell_type": "code",
   "execution_count": 7,
   "id": "b1e09924-e766-45ad-8f5a-59a62e81a456",
   "metadata": {},
   "outputs": [],
   "source": [
    "def get_2_random_projects(projects,project):\n",
    "    filtered_projects = [element for element in projects if element != project]\n",
    "    project_1, project_2 = random.sample(filtered_projects,2)\n",
    "    return project_1, project_2"
   ]
  },
  {
   "cell_type": "markdown",
   "id": "8e28438f-8fcd-498d-a6ec-540181eb3f5f",
   "metadata": {},
   "source": [
    "## Main : From Script, Line4Line, ICL"
   ]
  },
  {
   "cell_type": "code",
   "execution_count": 10,
   "id": "75897c91-482b-486e-b1c8-632c7595012f",
   "metadata": {},
   "outputs": [
    {
     "name": "stdout",
     "output_type": "stream",
     "text": [
      "---------------------------------------------------\n",
      "% Four atoms with predicate \"plus\" of 2 variables with possible values 0 and 1.\n",
      "plus(0,1).\n",
      "plus(1,0).\n",
      "---------------------------------------------------\n",
      "% The four possible directions, predicate \"dir\" with 2 variables, of value 0, 1 or -1. dir(0,0) is not an option.\n",
      "dir(0,1).\n",
      "dir(0,-1).\n",
      "dir(1,0).\n",
      "dir(-1,0).\n",
      "---------------------------------------------------\n",
      "% Predicate \"black\" of 2 variables is generated as the sum of the sum of the position (X,Y) and (A,B), for plus (A,B), if the cell(X+A,Y+B) exists, given hint(X,Y,N). There should be exactly \"N\" \"black\" predicates generated.\n",
      "N { black(X+A,Y+B) : plus(A,B), cell(X+A,Y+B) } N :- hint(X,Y,N).\n",
      "---------------------------------------------------\n",
      "% Predicate \"path\" has 4 variables, indicating a path between two cells of predicate \"white\" of positions (X,Y) and (P,Q) if the sum of the absolute values of the differences of P and X, and Q and Y, is 1. Absolute value is expresed with bars: \"||\"\n",
      "path(X,Y,P,Q) :- white(X,Y), white(P,Q), |P-X| + |Q-Y| = 1.\n",
      "---------------------------------------------------\n",
      "% If a cell is not black, it should be white\n",
      "white(X,Y) :- cell(X,Y), not black(X,Y).\n",
      "---------------------------------------------------\n",
      "% If a cell is not white, it should be black\n",
      "black(X,Y) :- cell(X,Y), not white(X,Y).\n",
      "---------------------------------------------------\n",
      "% Find the minimum column of predicate \"mini_x\" containing a white cell \n",
      "mini_x(MX) :- MX = #min{ X : white(X,Y) }.\n",
      "---------------------------------------------------\n",
      "% Find the minimum row, predicate \"mini_y\", containing a white cell in the minimum column containing a white cell, using the last predicate \"mini_x\"\n",
      "mini_y(MY) :- MY = #min{ Y : white(X,Y), mini_x(X) }.\n",
      "---------------------------------------------------\n",
      "% The predicate \"first_visit\" has 2 variables: the minimum column and the minimum row defined before\n",
      "first_visit(X,Y) :- mini_x(X), mini_y(Y).\n",
      "---------------------------------------------------\n",
      "% Declare a cell as visited if there is an incoming path from the first visited cell\n",
      "visited(X,Y) :- first_visit(X,Y).\n",
      "visited(P,Q) :- path(X,Y,P,Q), visited(X,Y).\n",
      "---------------------------------------------------\n",
      "% Declare a cell as visited if there is an incoming path from a already visited cell\n",
      "visited(P,Q) :- path(X,Y,P,Q), visited(X,Y).\n",
      "---------------------------------------------------\n",
      "% It cannot be that a white cell is not visited\n",
      ":- white(X,Y), not visited(X,Y).\n",
      "---------------------------------------------------\n",
      "% Show output predicate \"black\"\n",
      "#show black/2.\n",
      "---------------------------------------------------\n",
      "% Generates a predicate called neighbour that specify if it is vertical (v) or horizontal (h). 4 rules, one for each direction.\n",
      "neighbour(X,Y,XX,Y,h) :- cell(X,Y), cell(XX,Y), X = XX+1.\n",
      "neighbour(X,Y,XX,Y,h) :- cell(X,Y), cell(XX,Y), X = XX-1.\n",
      "neighbour(X,Y,X,YY,v) :- cell(X,Y), cell(X,YY), Y = YY+1.\n",
      "neighbour(X,Y,X,YY,v) :- cell(X,Y), cell(X,YY), Y = YY-1.\n",
      "---------------------------------------------------\n",
      "% Generates one edge between cell (X,Y) and one of its neighbours (XX,YY), if (X,Y) is not final. \n",
      "1 { path(X,Y,XX,YY) : neighbour(X,Y,XX,YY,D) } 1 :- cell(X,Y), not final(X,Y).\n",
      "---------------------------------------------------\n",
      "% Path is the same as edge, without specifying vertical or horizontal, expressed by variable D.\n",
      "edge(X,Y,XX,YY,D) :- path(X,Y,XX,YY), neighbour(X,Y,XX,YY,D).\n",
      "---------------------------------------------------\n",
      "% It cannotbe the case that there is not incoming edge to a cell if that cell is not the first one\n",
      ":- cell(X,Y), not first(X,Y), not edge(XX,YY,X,Y,D).\n",
      "---------------------------------------------------\n",
      "% The first cell is visited\n",
      "visited(X,Y) :- first(X,Y).\n",
      "visited(XX,YY) :- path(X,Y,XX,YY).\n",
      "---------------------------------------------------\n",
      "% If a cell (X,Y) is visited, and there is an edge between (X,Y) and (XX,YY), then cell (X,Y) is also visited\n",
      "visited(XX,YY) :- visited(X,Y), edge(X,Y,XX,YY,D).\n",
      "---------------------------------------------------\n",
      "% it cannot be the case that a cell is not visited\n",
      ":- cell(X,Y), not visited(X,Y).\n",
      "---------------------------------------------------\n",
      "% xhint is a counter that starts with N in the cell (XX,YY) when there is an edge between hint cell (X,Y) and saves direction D\n",
      "xhint(XX,YY,N,D) :- hint(X,Y,N), edge(X,Y,XX,YY,D).\n",
      "---------------------------------------------------\n",
      "% xhint in cell (XX,YY), and it is 0 in the cell (XX,YY)\n",
      "xhint(XX,YY,0,D) :- xhint(X,Y,1,D), edge(X,Y,XX,YY,D).\n",
      "---------------------------------------------------\n",
      "% If there is no hint in cell (X,Y), then the next connected cell has the same counter if the direction if the same\n",
      "xhint(XX,YY,N,D) :- xhint(X,Y,N,D), edge(X,Y,XX,YY,D), not hint(X,Y,_).\n",
      "---------------------------------------------------\n",
      "% If there is no hint in cell (X,Y), but the direction of the cell (X,Y) and the next one is not the same, then the counter xhint decreases by one\n",
      "xhint(XX,YY,N-1,DD) :- xhint(X,Y,N,D), edge(X,Y,XX,YY,DD), not hint(X,Y,_), D != DD, N > 0.\n",
      "---------------------------------------------------\n",
      "% It cannot be the case that the counter xhint is not 0 in the cell of a hint\n",
      ":- hint(X,Y,_), xhint(X,Y,N,_), N != 0.\n",
      "---------------------------------------------------\n",
      "% It cannot be the case that the counter xhint is not 0 in the final cell\n",
      ":- final(X,Y), xhint(X,Y,N,_), N != 0.\n",
      "---------------------------------------------------\n",
      "% Show output predicate\n",
      "#show path/4.\n",
      "---------------------------------------------------\n",
      "% The four possible directions, predicate \"dir\" with 2 variables, of value 0, 1 or -1. dir(0,0) is not an option.\n",
      "dir(1,0). dir(-1,0). dir(0,1). dir(0,-1).\n",
      "---------------------------------------------------\n",
      "% For each number, there is a target related to only one area\n",
      "1 { target(X,Y,P,Q) : area(P,Q,A) } 1 :- number(X,Y,N).\n",
      "---------------------------------------------------\n",
      "% Predicate \"target\" of 4 variables No different targets for the same number\n",
      ":- target(X,Y,P1,Q1), target(X,Y,P2,Q2), P1 != P2 ; Q1 != Q2.\n",
      "---------------------------------------------------\n",
      "% No different targets for the same number\n",
      ":- target(X1,Y1,P,Q), target(X2,Y2,P,Q), X1 != X2 ; Y1 != Y2.\n",
      "---------------------------------------------------\n",
      "% Only horizontal or vertical movements\n",
      ":- target(X,Y,P,Q), X != P, Y != Q.\n",
      "---------------------------------------------------\n",
      "% Only one target point to one cell\n",
      ":- target(X1,Y1,P,Q), target(X2,Y2,P,Q), X1 != X2 ; Y1 != Y2.\n",
      "---------------------------------------------------\n",
      "% The paths are not crossed\n",
      ":- target(X1,Y1,P1,Q1), target(X2,Y2,P2,Q2), X1 != X2 ; Y1 != Y2, P1 = P2, Q1 = Q2.\n",
      "---------------------------------------------------\n",
      "% Each gray area must be populated with at least one moved number.\n",
      ":- area(P,Q,A), not target(_,_,P,Q).\n",
      "---------------------------------------------------\n",
      "% The areas have values\n",
      "% The sum of the numbers moved to an area must be equal to the goal of that area\n",
      ":- goal(A,G), G != #sum { N : number(X,Y,N), target(X,Y,P,Q), area(P,Q,A) }.\n",
      "---------------------------------------------------\n",
      "% Show output predicate\n",
      "#show target/4.\n"
     ]
    }
   ],
   "source": [
    "for project in projects:\n",
    "    story = project[\"story\"]\n",
    "    encoding = project[\"lines\"]\n",
    "    instance = instances_dict[story]\n",
    "    problem = project[\"problem\"]\n",
    "    representation = project[\"Representation in ASP\"]\n",
    "    content = f'''Problem 3: \n",
    "                    {problem}.\n",
    "                  Representation 3:\n",
    "                    {representation}'''\n",
    "    lines = encoding.splitlines()\n",
    "    new_file = []\n",
    "    project_1, project_2 = get_2_random_projects(projects,project)\n",
    "    story_1 = project_1[\"story\"]\n",
    "    story_2 = project_2[\"story\"]\n",
    "    content1 = f'''Problem 1: {project_1[\"problem\"]}\n",
    "                    Representation 1: {project_1[\"Representation in ASP\"]}\n",
    "                    Encoding 1: {project_1[\"lines\"]}  '''\n",
    "    content2 = f'''Problem 2: {project_2[\"problem\"]}\n",
    "                    Representation 2: {project_2[\"Representation in ASP\"]}\n",
    "                    Encoding 2: {project_2[\"lines\"]}  '''\n",
    "    messages = [{\"role\":\"user\",\"content\":content1}]\n",
    "    messages.append({\"role\":\"user\",\"content\":content2})\n",
    "    messages.append({\"role\":\"user\",\"content\":content})\n",
    "    for line in lines:\n",
    "        if line == '\\n':\n",
    "            continue\n",
    "        if len(line.strip()) > 0 and line.strip()[0] == '%':\n",
    "            print(\"---------------------------------------------------\")\n",
    "            new_file.append(\"\\n\" + line)\n",
    "            messages.append({\"role\":\"user\",\"content\":line})\n",
    "            print(line)\n",
    "            answer = get_completion_representation(line,previous_messages=messages)\n",
    "            print(answer)\n",
    "            new_file.append(\"\\n\" + answer)\n",
    "            messages.append({\"role\":\"assistant\",\"content\":answer})\n",
    "    new_file_name = story + \"_from_\" + story_1 + \"_\" + story_2 + \"_v16_RSLI_\" + date_time + \".lp\"\n",
    "    prompt = '''Given the description of a problem, predicates in Answer Set Programming, and a commented line, \n",
    "                your task is to translate this last commented line to a rule in Answer Set Programming, using the given predicates or past rules. \n",
    "                Just write one or a few predicates or rules. Do not try to solve the whole problem at once.'''\n",
    "    encoding = ' '.join(new_file)\n",
    "    save_in_database(conn,prompt,'',encoding.replace(\"'\",\"\"),story,story_1, story_2, 16, new_file_name)  "
   ]
  },
  {
   "cell_type": "code",
   "execution_count": 9,
   "id": "8b231938-54d3-4be3-9c53-1b6376d54a76",
   "metadata": {},
   "outputs": [
    {
     "data": {
      "text/plain": [
       "['\\n% Given a number R of rows \"rows(R)\", and C columns \"cols(C)\", define \"fields\" as the combination of a row X and a column Y if this combination X,Y is not \"empty\" ',\n",
       " '\\nfield(X,Y) :- rows(R), cols(C), X=1..R, Y=1..C, not empty(X,Y).',\n",
       " '\\n% Define predicate digit/2 from digit/3 that only shows the position (first 2 varialbes) of the digit',\n",
       " '\\ndigit(X,Y) :- digit(X,Y,_).',\n",
       " '\\n% Define the four possible distances from a field, as \"delta\" with 2 variables, showing a difference of 1 field with respect to (0,0)',\n",
       " '\\ndelta(0,1).\\ndelta(0,-1).\\ndelta(1,0).\\ndelta(-1,0).',\n",
       " '\\n% Define \"neighbor\" of 6 variables for 2 fields if there is a \"delta\" distance between them',\n",
       " '\\nneighbor(X,Y,DX,DY,XX,YY) :- field(X,Y), delta(DX,DY), XX=X+DX, YY=Y+DY, field(XX,YY).',\n",
       " '\\n% Neighbors that are not \"digit\" are defined as \"reach\"',\n",
       " '\\nreach(X,Y,DX,DY,XX,YY) :- neighbor(X,Y,DX,DY,XX,YY), not digit(XX,YY).',\n",
       " '\\n% Transitive property of relation \"reach\": all fields that are neighbours in the same direction, have a relation reach',\n",
       " '\\nreach(X,Y,DX,DY,XX,YY) :- reach(X,Y,DX,DY,XXX,YYY), neighbor(XXX,YYY,DX,DY,XX,YY), not digit(XX,YY).',\n",
       " '\\n% Generate minimum 0 predicate light for field(X,Y) if this is not a digit.  ',\n",
       " '\\n0 { light(X,Y) } 1 :- field(X,Y), not digit(X,Y).',\n",
       " '\\n% Mark a field as \"lighted\" for a position if there is a relation of \"reach\" between a position of \"light\" and that position',\n",
       " '\\nlighted(XX,YY) :- light(X,Y), reach(X,Y,_,_,XX,YY).',\n",
       " '\\n% Cannnot be the case that a field with a light is not lighted',\n",
       " '\\n:- light(X,Y), not lighted(X,Y).',\n",
       " '\\n% Cannot be the case that a field is not digit and is not lighted',\n",
       " '\\n:- field(X,Y), not digit(X,Y), not lighted(X,Y).',\n",
       " '\\n% A field with a digit N must have exactly N neighbors that are light',\n",
       " '\\nN { light(XX,YY) : neighbor(X,Y,_,_,XX,YY) } N :- digit(X,Y,N).',\n",
       " '\\n% Show output predicate \"light\"',\n",
       " '\\n#show light/2.']"
      ]
     },
     "execution_count": 9,
     "metadata": {},
     "output_type": "execute_result"
    }
   ],
   "source": [
    "new_file"
   ]
  },
  {
   "cell_type": "code",
   "execution_count": null,
   "id": "9b7dc485-f742-4129-8a34-54cf9a13858a",
   "metadata": {},
   "outputs": [],
   "source": []
  }
 ],
 "metadata": {
  "kernelspec": {
   "display_name": "Python 3 (ipykernel)",
   "language": "python",
   "name": "python3"
  },
  "language_info": {
   "codemirror_mode": {
    "name": "ipython",
    "version": 3
   },
   "file_extension": ".py",
   "mimetype": "text/x-python",
   "name": "python",
   "nbconvert_exporter": "python",
   "pygments_lexer": "ipython3",
   "version": "3.9.13"
  }
 },
 "nbformat": 4,
 "nbformat_minor": 5
}
