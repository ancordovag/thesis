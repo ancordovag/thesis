{
 "cells": [
  {
   "cell_type": "code",
   "execution_count": 1,
   "id": "cd915efe-2a9e-4bbb-a434-c6b08492ed63",
   "metadata": {},
   "outputs": [],
   "source": [
    "### Import libraries\n",
    "import openai\n",
    "import os\n",
    "import time\n",
    "from datetime import datetime\n",
    "import pandas as pd\n",
    "import clingo\n",
    "from clingo.control import Control\n",
    "import json\n",
    "from yaml import load, Loader\n",
    "from helper import *\n",
    "from stories import *\n",
    "from pipelines import *\n",
    "import psycopg2"
   ]
  },
  {
   "cell_type": "code",
   "execution_count": 2,
   "id": "26392ca8-3189-491e-8fe6-261e2bb6f807",
   "metadata": {},
   "outputs": [],
   "source": [
    "with open(\"config.yml\",\"r\") as config:\n",
    "    data = load(config, Loader=Loader)\n",
    "    api_key = data[\"apikey\"]\n",
    "    openai.api_key  = api_key"
   ]
  },
  {
   "cell_type": "code",
   "execution_count": 3,
   "id": "8fa37003-98e2-437a-bb39-288851bc9839",
   "metadata": {},
   "outputs": [],
   "source": [
    "now = datetime.now()\n",
    "date_time = now.strftime(\"%Y%m%d\")"
   ]
  },
  {
   "cell_type": "markdown",
   "id": "19dd5e96-ced3-465b-97ce-4b1e6cbf400b",
   "metadata": {},
   "source": [
    "## Load Projects and Calculate Semantic Similarity"
   ]
  },
  {
   "cell_type": "code",
   "execution_count": 4,
   "id": "3305f92f-da03-4f07-89d2-dca265d5d474",
   "metadata": {},
   "outputs": [
    {
     "name": "stdout",
     "output_type": "stream",
     "text": [
      "creek\n",
      "minotaur\n",
      "seeknumbers\n",
      "sudoku\n",
      "yosenabe\n",
      "hop\n",
      "lights\n"
     ]
    }
   ],
   "source": [
    "projects = get_useful_projects()\n",
    "for p in projects:\n",
    "    print(p['story'])"
   ]
  },
  {
   "cell_type": "code",
   "execution_count": 5,
   "id": "7ed27d43-4e43-4d4b-b5b4-d768346e1a8d",
   "metadata": {},
   "outputs": [
    {
     "name": "stdout",
     "output_type": "stream",
     "text": [
      "Loaded Similarity Dataframe\n"
     ]
    }
   ],
   "source": [
    "file = \"SimilarityDataframe.csv\"\n",
    "if os.path.exists(file):\n",
    "    df = pd.read_csv(file)\n",
    "    print(\"Loaded Similarity Dataframe\")\n",
    "    if len(projects) != df.shape[0]:\n",
    "        print(\"Calculating Similarity Dataframe\")\n",
    "        df = get_similarity_dataframe(projects)\n",
    "        df.to_csv(\"SimilarityDataframe.csv\", index=False)\n",
    "        print(\"Loaded Similarity Dataframe\")\n",
    "else:\n",
    "    print(\"Calculating Similarity Dataframe\")\n",
    "    df = get_similarity_dataframe(projects)\n",
    "    df.to_csv(\"SimilarityDataframe.csv\", index=False)"
   ]
  },
  {
   "cell_type": "code",
   "execution_count": 6,
   "id": "347af63e-3de1-471d-b2a9-b98f93647c2f",
   "metadata": {},
   "outputs": [
    {
     "data": {
      "text/html": [
       "<div>\n",
       "<style scoped>\n",
       "    .dataframe tbody tr th:only-of-type {\n",
       "        vertical-align: middle;\n",
       "    }\n",
       "\n",
       "    .dataframe tbody tr th {\n",
       "        vertical-align: top;\n",
       "    }\n",
       "\n",
       "    .dataframe thead th {\n",
       "        text-align: right;\n",
       "    }\n",
       "</style>\n",
       "<table border=\"1\" class=\"dataframe\">\n",
       "  <thead>\n",
       "    <tr style=\"text-align: right;\">\n",
       "      <th></th>\n",
       "      <th>stories</th>\n",
       "      <th>problems</th>\n",
       "      <th>cos_creek</th>\n",
       "      <th>cos_minotaur</th>\n",
       "      <th>cos_seeknumbers</th>\n",
       "      <th>cos_sudoku</th>\n",
       "      <th>cos_yosenabe</th>\n",
       "      <th>cos_hop</th>\n",
       "      <th>cos_lights</th>\n",
       "    </tr>\n",
       "  </thead>\n",
       "  <tbody>\n",
       "    <tr>\n",
       "      <th>0</th>\n",
       "      <td>creek</td>\n",
       "      <td>The goal of the game is to blacken some cells ...</td>\n",
       "      <td>1.000</td>\n",
       "      <td>0.805</td>\n",
       "      <td>0.916</td>\n",
       "      <td>0.828</td>\n",
       "      <td>0.855</td>\n",
       "      <td>0.872</td>\n",
       "      <td>0.892</td>\n",
       "    </tr>\n",
       "    <tr>\n",
       "      <th>1</th>\n",
       "      <td>minotaur</td>\n",
       "      <td>There is a player in a labyrinth. The goal is ...</td>\n",
       "      <td>0.805</td>\n",
       "      <td>1.000</td>\n",
       "      <td>0.813</td>\n",
       "      <td>0.752</td>\n",
       "      <td>0.795</td>\n",
       "      <td>0.837</td>\n",
       "      <td>0.807</td>\n",
       "    </tr>\n",
       "    <tr>\n",
       "      <th>2</th>\n",
       "      <td>seeknumbers</td>\n",
       "      <td>Given a square grid, the goal is to construct ...</td>\n",
       "      <td>0.916</td>\n",
       "      <td>0.813</td>\n",
       "      <td>1.000</td>\n",
       "      <td>0.838</td>\n",
       "      <td>0.875</td>\n",
       "      <td>0.913</td>\n",
       "      <td>0.901</td>\n",
       "    </tr>\n",
       "    <tr>\n",
       "      <th>3</th>\n",
       "      <td>sudoku</td>\n",
       "      <td>The task of this project is to solve a Sudoku ...</td>\n",
       "      <td>0.828</td>\n",
       "      <td>0.752</td>\n",
       "      <td>0.838</td>\n",
       "      <td>1.000</td>\n",
       "      <td>0.902</td>\n",
       "      <td>0.843</td>\n",
       "      <td>0.855</td>\n",
       "    </tr>\n",
       "    <tr>\n",
       "      <th>4</th>\n",
       "      <td>yosenabe</td>\n",
       "      <td>The task of this project is to solve the Japan...</td>\n",
       "      <td>0.855</td>\n",
       "      <td>0.795</td>\n",
       "      <td>0.875</td>\n",
       "      <td>0.902</td>\n",
       "      <td>1.000</td>\n",
       "      <td>0.872</td>\n",
       "      <td>0.870</td>\n",
       "    </tr>\n",
       "    <tr>\n",
       "      <th>5</th>\n",
       "      <td>hop</td>\n",
       "      <td>The goal of the puzzle is to find a path betwe...</td>\n",
       "      <td>0.872</td>\n",
       "      <td>0.837</td>\n",
       "      <td>0.913</td>\n",
       "      <td>0.843</td>\n",
       "      <td>0.872</td>\n",
       "      <td>1.000</td>\n",
       "      <td>0.894</td>\n",
       "    </tr>\n",
       "    <tr>\n",
       "      <th>6</th>\n",
       "      <td>lights</td>\n",
       "      <td>The puzzle involves illuminating a two-dimensi...</td>\n",
       "      <td>0.892</td>\n",
       "      <td>0.807</td>\n",
       "      <td>0.901</td>\n",
       "      <td>0.855</td>\n",
       "      <td>0.870</td>\n",
       "      <td>0.894</td>\n",
       "      <td>1.000</td>\n",
       "    </tr>\n",
       "  </tbody>\n",
       "</table>\n",
       "</div>"
      ],
      "text/plain": [
       "       stories                                           problems  cos_creek  \\\n",
       "0        creek  The goal of the game is to blacken some cells ...      1.000   \n",
       "1     minotaur  There is a player in a labyrinth. The goal is ...      0.805   \n",
       "2  seeknumbers  Given a square grid, the goal is to construct ...      0.916   \n",
       "3       sudoku  The task of this project is to solve a Sudoku ...      0.828   \n",
       "4     yosenabe  The task of this project is to solve the Japan...      0.855   \n",
       "5          hop  The goal of the puzzle is to find a path betwe...      0.872   \n",
       "6       lights  The puzzle involves illuminating a two-dimensi...      0.892   \n",
       "\n",
       "   cos_minotaur  cos_seeknumbers  cos_sudoku  cos_yosenabe  cos_hop  \\\n",
       "0         0.805            0.916       0.828         0.855    0.872   \n",
       "1         1.000            0.813       0.752         0.795    0.837   \n",
       "2         0.813            1.000       0.838         0.875    0.913   \n",
       "3         0.752            0.838       1.000         0.902    0.843   \n",
       "4         0.795            0.875       0.902         1.000    0.872   \n",
       "5         0.837            0.913       0.843         0.872    1.000   \n",
       "6         0.807            0.901       0.855         0.870    0.894   \n",
       "\n",
       "   cos_lights  \n",
       "0       0.892  \n",
       "1       0.807  \n",
       "2       0.901  \n",
       "3       0.855  \n",
       "4       0.870  \n",
       "5       0.894  \n",
       "6       1.000  "
      ]
     },
     "execution_count": 6,
     "metadata": {},
     "output_type": "execute_result"
    }
   ],
   "source": [
    "df.loc[:, df.columns != 'embeddings']"
   ]
  },
  {
   "cell_type": "markdown",
   "id": "4c51e555-cebc-4db0-8868-92e9410be85f",
   "metadata": {},
   "source": [
    "## Connect to the Database"
   ]
  },
  {
   "cell_type": "code",
   "execution_count": 7,
   "id": "16722305-79dc-41a7-92f0-e05ac30b590c",
   "metadata": {},
   "outputs": [
    {
     "name": "stdout",
     "output_type": "stream",
     "text": [
      "Connection established\n"
     ]
    }
   ],
   "source": [
    "conn_string = \"dbname=thesis user=postgres password=postgres\"\n",
    "conn = psycopg2.connect(conn_string)\n",
    "print(\"Connection established\")"
   ]
  },
  {
   "cell_type": "code",
   "execution_count": 8,
   "id": "416a8a3b-f471-4ed4-a90e-d785e8c6a8e6",
   "metadata": {},
   "outputs": [],
   "source": [
    "def save_in_database(conn, prompt1, prompt2, encoding, story, story_1, story_2, version, file):\n",
    "    cursor = conn.cursor()\n",
    "    command = \"INSERT INTO experiments (prompt1, prompt2, encoding, story, story_1, story_2, version, file) VALUES ('%(prompt1)s', '%(prompt2)s', '%(encoding)s', '%(story)s', '%(story_1)s', '%(story_2)s', '%(version)s', '%(file)s');\" % {\"prompt1\": prompt1, \"prompt2\": prompt2, \"encoding\": encoding, \"story\": story, \"story_1\": story_1, \"story_2\":story_2, \"version\":version, \"file\":file}\n",
    "    try:\n",
    "        cursor.execute(command)\n",
    "        conn.commit()\n",
    "        cursor.close()\n",
    "    except Exception as err:\n",
    "        print(command)\n",
    "        print(f\"Unexpected {err=}, {type(err)=}\")\n",
    "        conn.commit()\n",
    "        cursor.close()\n",
    "        pass"
   ]
  },
  {
   "cell_type": "markdown",
   "id": "b48a6121-af9c-4aae-ba04-85b4ccb87779",
   "metadata": {},
   "source": [
    "## Run experiments by Version"
   ]
  },
  {
   "cell_type": "code",
   "execution_count": 9,
   "id": "0b2c9397-2e15-4648-b67d-70ca51fed043",
   "metadata": {},
   "outputs": [],
   "source": [
    "def run_main_pipeline(projects,df,conn,version=1):\n",
    "    for project in projects:\n",
    "        query = dict(project)\n",
    "        example_1, example_2 = get_best_context(df,projects,project[\"story\"])\n",
    "        story = query[\"story\"]\n",
    "        story_1 = example_1[\"story\"]\n",
    "        story_2 = example_2[\"story\"]\n",
    "        print(\"Working Pipeline for story \" + story + \". Context: \" + story_1 + \" and \" + story_2)\n",
    "        answer, prompts = pipeline(example_1,example_2,query,version=version)\n",
    "        name_of_file = story+\"_from_\"+story_1+\"_and_\"+story_2+\"_v\"+str(version) + \"_\" + date_time + \".lp\"\n",
    "        path_of_file = os.path.join(\"generated_solutions\", name_of_file)\n",
    "        save_in_database(conn,prompts[0].replace(\"'\",\"\"), prompts[1].replace(\"'\",\"\"), answer.replace(\"'\",\"\"), story, story_1, story_2, version, name_of_file)\n",
    "        with open(path_of_file,\"w\") as file:\n",
    "            file.write(answer)"
   ]
  },
  {
   "cell_type": "code",
   "execution_count": 12,
   "id": "7243aef3-d1c8-4733-b0ec-e99deae0a8dd",
   "metadata": {},
   "outputs": [
    {
     "name": "stdout",
     "output_type": "stream",
     "text": [
      "Working Pipeline for story creek. Context: seeknumbers and lights\n",
      "Working Pipeline for story minotaur. Context: seeknumbers and hop\n",
      "Working Pipeline for story seeknumbers. Context: creek and hop\n",
      "Working Pipeline for story sudoku. Context: yosenabe and lights\n",
      "Working Pipeline for story yosenabe. Context: seeknumbers and sudoku\n",
      "Working Pipeline for story hop. Context: seeknumbers and lights\n",
      "Working Pipeline for story lights. Context: seeknumbers and hop\n"
     ]
    }
   ],
   "source": [
    "version = 1\n",
    "run_main_pipeline(projects,df,conn,version)"
   ]
  },
  {
   "cell_type": "code",
   "execution_count": 10,
   "id": "8d7d1a64-764f-4c9d-a4a0-d3466c41d5d6",
   "metadata": {},
   "outputs": [
    {
     "name": "stdout",
     "output_type": "stream",
     "text": [
      "Working Pipeline for story creek. Context: seeknumbers and lights\n",
      "Working Pipeline for story minotaur. Context: seeknumbers and hop\n",
      "Working Pipeline for story seeknumbers. Context: creek and hop\n",
      "Working Pipeline for story sudoku. Context: yosenabe and lights\n",
      "Working Pipeline for story yosenabe. Context: seeknumbers and sudoku\n",
      "Working Pipeline for story hop. Context: seeknumbers and lights\n",
      "Working Pipeline for story lights. Context: seeknumbers and hop\n"
     ]
    }
   ],
   "source": [
    "version = 2\n",
    "run_main_pipeline(projects,df,conn,version)"
   ]
  },
  {
   "cell_type": "code",
   "execution_count": 13,
   "id": "727322b1-205a-424e-b1e2-6cbea39155c7",
   "metadata": {},
   "outputs": [
    {
     "name": "stdout",
     "output_type": "stream",
     "text": [
      "Working Pipeline for story creek. Context: seeknumbers and lights\n",
      "Working Pipeline for story minotaur. Context: seeknumbers and hop\n",
      "Working Pipeline for story seeknumbers. Context: creek and hop\n",
      "Working Pipeline for story sudoku. Context: yosenabe and lights\n",
      "Working Pipeline for story yosenabe. Context: seeknumbers and sudoku\n",
      "Working Pipeline for story hop. Context: seeknumbers and lights\n",
      "Working Pipeline for story lights. Context: seeknumbers and hop\n"
     ]
    }
   ],
   "source": [
    "version = 3\n",
    "run_main_pipeline(projects,df,conn,version)"
   ]
  },
  {
   "cell_type": "code",
   "execution_count": 10,
   "id": "08215bca-5065-413d-8852-74af7f13145b",
   "metadata": {},
   "outputs": [
    {
     "name": "stdout",
     "output_type": "stream",
     "text": [
      "Working Pipeline for story creek. Context: seeknumbers and lights\n",
      "Working Pipeline for story minotaur. Context: seeknumbers and hop\n",
      "Working Pipeline for story seeknumbers. Context: creek and hop\n",
      "Working Pipeline for story sudoku. Context: yosenabe and lights\n",
      "Working Pipeline for story yosenabe. Context: seeknumbers and sudoku\n",
      "Working Pipeline for story hop. Context: seeknumbers and lights\n",
      "Working Pipeline for story lights. Context: seeknumbers and hop\n"
     ]
    }
   ],
   "source": [
    "version = 4\n",
    "run_main_pipeline(projects,df,conn,version)"
   ]
  },
  {
   "cell_type": "code",
   "execution_count": 10,
   "id": "15a22873-795b-4355-afff-0f54e09e74b9",
   "metadata": {},
   "outputs": [
    {
     "name": "stdout",
     "output_type": "stream",
     "text": [
      "Working Pipeline for story creek. Context: seeknumbers and lights\n",
      "Working Pipeline for story minotaur. Context: seeknumbers and hop\n",
      "Working Pipeline for story seeknumbers. Context: creek and hop\n",
      "Working Pipeline for story sudoku. Context: yosenabe and lights\n",
      "Working Pipeline for story yosenabe. Context: seeknumbers and sudoku\n",
      "Working Pipeline for story hop. Context: seeknumbers and lights\n",
      "Working Pipeline for story lights. Context: seeknumbers and hop\n"
     ]
    }
   ],
   "source": [
    "version = 5\n",
    "run_main_pipeline(projects,df,conn,version)"
   ]
  },
  {
   "cell_type": "code",
   "execution_count": 11,
   "id": "5bbdc8f6-1d3c-416d-be2b-d2da0885dbf0",
   "metadata": {},
   "outputs": [
    {
     "name": "stdout",
     "output_type": "stream",
     "text": [
      "Working Pipeline for story creek. Context: seeknumbers and lights\n",
      "Working Pipeline for story minotaur. Context: seeknumbers and hop\n",
      "Working Pipeline for story seeknumbers. Context: creek and hop\n",
      "Working Pipeline for story sudoku. Context: yosenabe and lights\n",
      "Working Pipeline for story yosenabe. Context: seeknumbers and sudoku\n",
      "Working Pipeline for story hop. Context: seeknumbers and lights\n",
      "Working Pipeline for story lights. Context: seeknumbers and hop\n"
     ]
    }
   ],
   "source": [
    "version = 6\n",
    "run_main_pipeline(projects,df,conn,version)"
   ]
  },
  {
   "cell_type": "code",
   "execution_count": null,
   "id": "43aa1e10-570a-4843-8712-056b452a48a6",
   "metadata": {},
   "outputs": [],
   "source": [
    "version = 7\n",
    "run_main_pipeline(projects,df,conn,version)"
   ]
  },
  {
   "cell_type": "code",
   "execution_count": 9,
   "id": "d8f1d4cb-bd5e-44e3-801e-0c99a410cdad",
   "metadata": {},
   "outputs": [
    {
     "name": "stdout",
     "output_type": "stream",
     "text": [
      "====================================================================================================\n",
      "Working Pipeline for story creek. Context: sudoku and yosenabe\n",
      "====================================================================================================\n",
      "Working Pipeline for story minotaur. Context: yosenabe and hop\n",
      "====================================================================================================\n",
      "Working Pipeline for story seeknumbers. Context: creek and lights\n",
      "====================================================================================================\n",
      "Working Pipeline for story sudoku. Context: creek and yosenabe\n",
      "====================================================================================================\n",
      "Working Pipeline for story yosenabe. Context: creek and sudoku\n",
      "====================================================================================================\n",
      "Working Pipeline for story hop. Context: creek and yosenabe\n",
      "====================================================================================================\n",
      "Working Pipeline for story lights. Context: creek and seeknumbers\n"
     ]
    }
   ],
   "source": [
    "version = 8\n",
    "run_main_pipeline(projects,df,conn,version)"
   ]
  },
  {
   "cell_type": "code",
   "execution_count": 13,
   "id": "26491786-fee1-4c6b-b0d3-5210e187ddc3",
   "metadata": {},
   "outputs": [
    {
     "name": "stdout",
     "output_type": "stream",
     "text": [
      "Working Pipeline for story yosenabe. Context: seeknumbers and sudoku\n"
     ]
    }
   ],
   "source": [
    "version = 9\n",
    "run_main_pipeline(projects,df,conn,version)"
   ]
  },
  {
   "cell_type": "code",
   "execution_count": null,
   "id": "edb31ead-d336-470c-9e3b-ab06796e6bee",
   "metadata": {},
   "outputs": [],
   "source": []
  }
 ],
 "metadata": {
  "kernelspec": {
   "display_name": "Python 3 (ipykernel)",
   "language": "python",
   "name": "python3"
  },
  "language_info": {
   "codemirror_mode": {
    "name": "ipython",
    "version": 3
   },
   "file_extension": ".py",
   "mimetype": "text/x-python",
   "name": "python",
   "nbconvert_exporter": "python",
   "pygments_lexer": "ipython3",
   "version": "3.9.13"
  }
 },
 "nbformat": 4,
 "nbformat_minor": 5
}
