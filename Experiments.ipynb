{
 "cells": [
  {
   "cell_type": "code",
   "execution_count": 1,
   "id": "cd915efe-2a9e-4bbb-a434-c6b08492ed63",
   "metadata": {},
   "outputs": [],
   "source": [
    "### Import libraries\n",
    "import openai\n",
    "import os\n",
    "import time\n",
    "from datetime import datetime\n",
    "import pandas as pd\n",
    "import clingo\n",
    "from clingo.control import Control\n",
    "import json\n",
    "from yaml import load, Loader\n",
    "from helper import *\n",
    "from stories import *\n",
    "from pipelines import *\n",
    "import psycopg2"
   ]
  },
  {
   "cell_type": "code",
   "execution_count": 2,
   "id": "26392ca8-3189-491e-8fe6-261e2bb6f807",
   "metadata": {},
   "outputs": [],
   "source": [
    "with open(\"config.yml\",\"r\") as config:\n",
    "    data = load(config, Loader=Loader)\n",
    "    api_key = data[\"apikey\"]\n",
    "    openai.api_key  = api_key"
   ]
  },
  {
   "cell_type": "code",
   "execution_count": 3,
   "id": "8fa37003-98e2-437a-bb39-288851bc9839",
   "metadata": {},
   "outputs": [],
   "source": [
    "now = datetime.now()\n",
    "date_time = now.strftime(\"%Y%m%d\")"
   ]
  },
  {
   "cell_type": "markdown",
   "id": "19dd5e96-ced3-465b-97ce-4b1e6cbf400b",
   "metadata": {},
   "source": [
    "## Load Projects and Calculate Semantic Similarity"
   ]
  },
  {
   "cell_type": "code",
   "execution_count": 4,
   "id": "3305f92f-da03-4f07-89d2-dca265d5d474",
   "metadata": {},
   "outputs": [
    {
     "name": "stdout",
     "output_type": "stream",
     "text": [
      "creek\n",
      "minotaur\n",
      "seeknumbers\n",
      "sudoku\n",
      "yosenabe\n",
      "hop\n",
      "lights\n"
     ]
    }
   ],
   "source": [
    "projects = get_useful_projects()\n",
    "for p in projects:\n",
    "    print(p['story'])"
   ]
  },
  {
   "cell_type": "code",
   "execution_count": 5,
   "id": "7ed27d43-4e43-4d4b-b5b4-d768346e1a8d",
   "metadata": {},
   "outputs": [
    {
     "name": "stdout",
     "output_type": "stream",
     "text": [
      "Loaded Similarity Dataframe\n"
     ]
    }
   ],
   "source": [
    "file = \"SimilarityDataframe.csv\"\n",
    "if os.path.exists(file):\n",
    "    df = pd.read_csv(file)\n",
    "    print(\"Loaded Similarity Dataframe\")\n",
    "    if len(projects) != df.shape[0]:\n",
    "        print(\"Calculating Similarity Dataframe\")\n",
    "        df = get_similarity_dataframe(projects)\n",
    "        df.to_csv(\"SimilarityDataframe.csv\", index=False)\n",
    "        print(\"Loaded Similarity Dataframe\")\n",
    "else:\n",
    "    print(\"Calculating Similarity Dataframe\")\n",
    "    df = get_similarity_dataframe(projects)\n",
    "    df.to_csv(\"SimilarityDataframe.csv\", index=False)"
   ]
  },
  {
   "cell_type": "code",
   "execution_count": 6,
   "id": "347af63e-3de1-471d-b2a9-b98f93647c2f",
   "metadata": {},
   "outputs": [
    {
     "data": {
      "text/html": [
       "<div>\n",
       "<style scoped>\n",
       "    .dataframe tbody tr th:only-of-type {\n",
       "        vertical-align: middle;\n",
       "    }\n",
       "\n",
       "    .dataframe tbody tr th {\n",
       "        vertical-align: top;\n",
       "    }\n",
       "\n",
       "    .dataframe thead th {\n",
       "        text-align: right;\n",
       "    }\n",
       "</style>\n",
       "<table border=\"1\" class=\"dataframe\">\n",
       "  <thead>\n",
       "    <tr style=\"text-align: right;\">\n",
       "      <th></th>\n",
       "      <th>stories</th>\n",
       "      <th>problems</th>\n",
       "      <th>cos_creek</th>\n",
       "      <th>cos_minotaur</th>\n",
       "      <th>cos_seeknumbers</th>\n",
       "      <th>cos_sudoku</th>\n",
       "      <th>cos_yosenabe</th>\n",
       "      <th>cos_hop</th>\n",
       "      <th>cos_lights</th>\n",
       "    </tr>\n",
       "  </thead>\n",
       "  <tbody>\n",
       "    <tr>\n",
       "      <th>0</th>\n",
       "      <td>creek</td>\n",
       "      <td>The goal of the game is to blacken some cells ...</td>\n",
       "      <td>1.000</td>\n",
       "      <td>0.805</td>\n",
       "      <td>0.916</td>\n",
       "      <td>0.828</td>\n",
       "      <td>0.855</td>\n",
       "      <td>0.872</td>\n",
       "      <td>0.892</td>\n",
       "    </tr>\n",
       "    <tr>\n",
       "      <th>1</th>\n",
       "      <td>minotaur</td>\n",
       "      <td>There is a player in a labyrinth. The goal is ...</td>\n",
       "      <td>0.805</td>\n",
       "      <td>1.000</td>\n",
       "      <td>0.813</td>\n",
       "      <td>0.752</td>\n",
       "      <td>0.795</td>\n",
       "      <td>0.837</td>\n",
       "      <td>0.807</td>\n",
       "    </tr>\n",
       "    <tr>\n",
       "      <th>2</th>\n",
       "      <td>seeknumbers</td>\n",
       "      <td>Given a square grid, the goal is to construct ...</td>\n",
       "      <td>0.916</td>\n",
       "      <td>0.813</td>\n",
       "      <td>1.000</td>\n",
       "      <td>0.838</td>\n",
       "      <td>0.875</td>\n",
       "      <td>0.913</td>\n",
       "      <td>0.901</td>\n",
       "    </tr>\n",
       "    <tr>\n",
       "      <th>3</th>\n",
       "      <td>sudoku</td>\n",
       "      <td>The task of this project is to solve a Sudoku ...</td>\n",
       "      <td>0.828</td>\n",
       "      <td>0.752</td>\n",
       "      <td>0.838</td>\n",
       "      <td>1.000</td>\n",
       "      <td>0.902</td>\n",
       "      <td>0.843</td>\n",
       "      <td>0.855</td>\n",
       "    </tr>\n",
       "    <tr>\n",
       "      <th>4</th>\n",
       "      <td>yosenabe</td>\n",
       "      <td>The task of this project is to solve the Japan...</td>\n",
       "      <td>0.855</td>\n",
       "      <td>0.795</td>\n",
       "      <td>0.875</td>\n",
       "      <td>0.902</td>\n",
       "      <td>1.000</td>\n",
       "      <td>0.872</td>\n",
       "      <td>0.870</td>\n",
       "    </tr>\n",
       "    <tr>\n",
       "      <th>5</th>\n",
       "      <td>hop</td>\n",
       "      <td>The goal of the puzzle is to find a path betwe...</td>\n",
       "      <td>0.872</td>\n",
       "      <td>0.837</td>\n",
       "      <td>0.913</td>\n",
       "      <td>0.843</td>\n",
       "      <td>0.872</td>\n",
       "      <td>1.000</td>\n",
       "      <td>0.894</td>\n",
       "    </tr>\n",
       "    <tr>\n",
       "      <th>6</th>\n",
       "      <td>lights</td>\n",
       "      <td>The puzzle involves illuminating a two-dimensi...</td>\n",
       "      <td>0.892</td>\n",
       "      <td>0.807</td>\n",
       "      <td>0.901</td>\n",
       "      <td>0.855</td>\n",
       "      <td>0.870</td>\n",
       "      <td>0.894</td>\n",
       "      <td>1.000</td>\n",
       "    </tr>\n",
       "  </tbody>\n",
       "</table>\n",
       "</div>"
      ],
      "text/plain": [
       "       stories                                           problems  cos_creek  \\\n",
       "0        creek  The goal of the game is to blacken some cells ...      1.000   \n",
       "1     minotaur  There is a player in a labyrinth. The goal is ...      0.805   \n",
       "2  seeknumbers  Given a square grid, the goal is to construct ...      0.916   \n",
       "3       sudoku  The task of this project is to solve a Sudoku ...      0.828   \n",
       "4     yosenabe  The task of this project is to solve the Japan...      0.855   \n",
       "5          hop  The goal of the puzzle is to find a path betwe...      0.872   \n",
       "6       lights  The puzzle involves illuminating a two-dimensi...      0.892   \n",
       "\n",
       "   cos_minotaur  cos_seeknumbers  cos_sudoku  cos_yosenabe  cos_hop  \\\n",
       "0         0.805            0.916       0.828         0.855    0.872   \n",
       "1         1.000            0.813       0.752         0.795    0.837   \n",
       "2         0.813            1.000       0.838         0.875    0.913   \n",
       "3         0.752            0.838       1.000         0.902    0.843   \n",
       "4         0.795            0.875       0.902         1.000    0.872   \n",
       "5         0.837            0.913       0.843         0.872    1.000   \n",
       "6         0.807            0.901       0.855         0.870    0.894   \n",
       "\n",
       "   cos_lights  \n",
       "0       0.892  \n",
       "1       0.807  \n",
       "2       0.901  \n",
       "3       0.855  \n",
       "4       0.870  \n",
       "5       0.894  \n",
       "6       1.000  "
      ]
     },
     "execution_count": 6,
     "metadata": {},
     "output_type": "execute_result"
    }
   ],
   "source": [
    "df.loc[:, df.columns != 'embeddings']"
   ]
  },
  {
   "cell_type": "markdown",
   "id": "4c51e555-cebc-4db0-8868-92e9410be85f",
   "metadata": {},
   "source": [
    "## Connect to the Database"
   ]
  },
  {
   "cell_type": "code",
   "execution_count": 7,
   "id": "16722305-79dc-41a7-92f0-e05ac30b590c",
   "metadata": {},
   "outputs": [
    {
     "name": "stdout",
     "output_type": "stream",
     "text": [
      "Connection established\n"
     ]
    }
   ],
   "source": [
    "conn_string = \"dbname=thesis user=postgres password=postgres\"\n",
    "conn = psycopg2.connect(conn_string)\n",
    "print(\"Connection established\")"
   ]
  },
  {
   "cell_type": "code",
   "execution_count": 8,
   "id": "416a8a3b-f471-4ed4-a90e-d785e8c6a8e6",
   "metadata": {},
   "outputs": [],
   "source": [
    "def save_in_database(conn, prompt1, prompt2, encoding, story, story_1, story_2, version, file):\n",
    "    cursor = conn.cursor()\n",
    "    command = \"INSERT INTO experiments (prompt1, prompt2, encoding, story, story_1, story_2, version, file) VALUES ('%(prompt1)s', '%(prompt2)s', '%(encoding)s', '%(story)s', '%(story_1)s', '%(story_2)s', '%(version)s', '%(file)s');\" % {\"prompt1\": prompt1, \"prompt2\": prompt2, \"encoding\": encoding, \"story\": story, \"story_1\": story_1, \"story_2\":story_2, \"version\":version, \"file\":file}\n",
    "    try:\n",
    "        cursor.execute(command)\n",
    "        conn.commit()\n",
    "        cursor.close()\n",
    "    except Exception as err:\n",
    "        print(command)\n",
    "        print(f\"Unexpected {err=}, {type(err)=}\")\n",
    "        conn.commit()\n",
    "        cursor.close()\n",
    "        pass"
   ]
  },
  {
   "cell_type": "markdown",
   "id": "b48a6121-af9c-4aae-ba04-85b4ccb87779",
   "metadata": {},
   "source": [
    "## Run experiments by Version"
   ]
  },
  {
   "cell_type": "code",
   "execution_count": 9,
   "id": "0b2c9397-2e15-4648-b67d-70ca51fed043",
   "metadata": {},
   "outputs": [],
   "source": [
    "def run_main_pipeline(projects,df,conn,version=1):\n",
    "    for project in projects:\n",
    "        query = dict(project)\n",
    "        example_1, example_2 = get_best_context(df,projects,project[\"story\"])\n",
    "        story = query[\"story\"]\n",
    "        story_1 = example_1[\"story\"]\n",
    "        story_2 = example_2[\"story\"]\n",
    "        print(\"Working Pipeline for story \" + story + \". Context: \" + story_1 + \" and \" + story_2)\n",
    "        answer, prompts = pipeline(example_1,example_2,query,version=version)\n",
    "        name_of_file = story+\"_from_\"+story_1+\"_and_\"+story_2+\"_v\"+str(version) + \"_\" + date_time + \".lp\"\n",
    "        path_of_file = os.path.join(\"generated_solutions\", name_of_file)\n",
    "        save_in_database(conn,prompts[0].replace(\"'\",\"\"), prompts[1].replace(\"'\",\"\"), answer.replace(\"'\",\"\"), story, story_1, story_2, version, name_of_file)\n",
    "        with open(path_of_file,\"w\") as file:\n",
    "            file.write(answer)"
   ]
  },
  {
   "cell_type": "code",
   "execution_count": 12,
   "id": "7243aef3-d1c8-4733-b0ec-e99deae0a8dd",
   "metadata": {},
   "outputs": [
    {
     "name": "stdout",
     "output_type": "stream",
     "text": [
      "Working Pipeline for story creek. Context: seeknumbers and lights\n",
      "Working Pipeline for story minotaur. Context: seeknumbers and hop\n",
      "Working Pipeline for story seeknumbers. Context: creek and hop\n",
      "Working Pipeline for story sudoku. Context: yosenabe and lights\n",
      "Working Pipeline for story yosenabe. Context: seeknumbers and sudoku\n",
      "Working Pipeline for story hop. Context: seeknumbers and lights\n",
      "Working Pipeline for story lights. Context: seeknumbers and hop\n"
     ]
    }
   ],
   "source": [
    "version = 1\n",
    "run_main_pipeline(projects,df,conn,version)"
   ]
  },
  {
   "cell_type": "code",
   "execution_count": 10,
   "id": "8d7d1a64-764f-4c9d-a4a0-d3466c41d5d6",
   "metadata": {},
   "outputs": [
    {
     "name": "stdout",
     "output_type": "stream",
     "text": [
      "Working Pipeline for story creek. Context: seeknumbers and lights\n",
      "Working Pipeline for story minotaur. Context: seeknumbers and hop\n",
      "Working Pipeline for story seeknumbers. Context: creek and hop\n",
      "Working Pipeline for story sudoku. Context: yosenabe and lights\n",
      "Working Pipeline for story yosenabe. Context: seeknumbers and sudoku\n",
      "Working Pipeline for story hop. Context: seeknumbers and lights\n",
      "Working Pipeline for story lights. Context: seeknumbers and hop\n"
     ]
    }
   ],
   "source": [
    "version = 2\n",
    "run_main_pipeline(projects,df,conn,version)"
   ]
  },
  {
   "cell_type": "code",
   "execution_count": 13,
   "id": "727322b1-205a-424e-b1e2-6cbea39155c7",
   "metadata": {},
   "outputs": [
    {
     "name": "stdout",
     "output_type": "stream",
     "text": [
      "Working Pipeline for story creek. Context: seeknumbers and lights\n",
      "Working Pipeline for story minotaur. Context: seeknumbers and hop\n",
      "Working Pipeline for story seeknumbers. Context: creek and hop\n",
      "Working Pipeline for story sudoku. Context: yosenabe and lights\n",
      "Working Pipeline for story yosenabe. Context: seeknumbers and sudoku\n",
      "Working Pipeline for story hop. Context: seeknumbers and lights\n",
      "Working Pipeline for story lights. Context: seeknumbers and hop\n"
     ]
    }
   ],
   "source": [
    "version = 3\n",
    "run_main_pipeline(projects,df,conn,version)"
   ]
  },
  {
   "cell_type": "code",
   "execution_count": 10,
   "id": "08215bca-5065-413d-8852-74af7f13145b",
   "metadata": {},
   "outputs": [
    {
     "name": "stdout",
     "output_type": "stream",
     "text": [
      "Working Pipeline for story creek. Context: seeknumbers and lights\n",
      "Working Pipeline for story minotaur. Context: seeknumbers and hop\n",
      "Working Pipeline for story seeknumbers. Context: creek and hop\n",
      "Working Pipeline for story sudoku. Context: yosenabe and lights\n",
      "Working Pipeline for story yosenabe. Context: seeknumbers and sudoku\n",
      "Working Pipeline for story hop. Context: seeknumbers and lights\n",
      "Working Pipeline for story lights. Context: seeknumbers and hop\n"
     ]
    }
   ],
   "source": [
    "version = 4\n",
    "run_main_pipeline(projects,df,conn,version)"
   ]
  },
  {
   "cell_type": "code",
   "execution_count": 10,
   "id": "15a22873-795b-4355-afff-0f54e09e74b9",
   "metadata": {},
   "outputs": [
    {
     "name": "stdout",
     "output_type": "stream",
     "text": [
      "Working Pipeline for story creek. Context: seeknumbers and lights\n",
      "Working Pipeline for story minotaur. Context: seeknumbers and hop\n",
      "Working Pipeline for story seeknumbers. Context: creek and hop\n",
      "Working Pipeline for story sudoku. Context: yosenabe and lights\n",
      "Working Pipeline for story yosenabe. Context: seeknumbers and sudoku\n",
      "Working Pipeline for story hop. Context: seeknumbers and lights\n",
      "Working Pipeline for story lights. Context: seeknumbers and hop\n"
     ]
    }
   ],
   "source": [
    "version = 5\n",
    "run_main_pipeline(projects,df,conn,version)"
   ]
  },
  {
   "cell_type": "code",
   "execution_count": 11,
   "id": "5bbdc8f6-1d3c-416d-be2b-d2da0885dbf0",
   "metadata": {},
   "outputs": [
    {
     "name": "stdout",
     "output_type": "stream",
     "text": [
      "Working Pipeline for story creek. Context: seeknumbers and lights\n",
      "Working Pipeline for story minotaur. Context: seeknumbers and hop\n",
      "Working Pipeline for story seeknumbers. Context: creek and hop\n",
      "Working Pipeline for story sudoku. Context: yosenabe and lights\n",
      "Working Pipeline for story yosenabe. Context: seeknumbers and sudoku\n",
      "Working Pipeline for story hop. Context: seeknumbers and lights\n",
      "Working Pipeline for story lights. Context: seeknumbers and hop\n"
     ]
    }
   ],
   "source": [
    "version = 6\n",
    "run_main_pipeline(projects,df,conn,version)"
   ]
  },
  {
   "cell_type": "code",
   "execution_count": 12,
   "id": "43aa1e10-570a-4843-8712-056b452a48a6",
   "metadata": {},
   "outputs": [
    {
     "name": "stdout",
     "output_type": "stream",
     "text": [
      "Working Pipeline for story creek. Context: seeknumbers and lights\n"
     ]
    },
    {
     "ename": "AuthenticationError",
     "evalue": "Incorrect API key provided: sk-oYf8G***************************************JadI. You can find your API key at https://platform.openai.com/account/api-keys.",
     "output_type": "error",
     "traceback": [
      "\u001b[1;31m---------------------------------------------------------------------------\u001b[0m",
      "\u001b[1;31mAuthenticationError\u001b[0m                       Traceback (most recent call last)",
      "Cell \u001b[1;32mIn[12], line 2\u001b[0m\n\u001b[0;32m      1\u001b[0m version \u001b[38;5;241m=\u001b[39m \u001b[38;5;241m7\u001b[39m\n\u001b[1;32m----> 2\u001b[0m \u001b[43mrun_main_pipeline\u001b[49m\u001b[43m(\u001b[49m\u001b[43mprojects\u001b[49m\u001b[43m,\u001b[49m\u001b[43mdf\u001b[49m\u001b[43m,\u001b[49m\u001b[43mconn\u001b[49m\u001b[43m,\u001b[49m\u001b[43mversion\u001b[49m\u001b[43m)\u001b[49m\n",
      "Cell \u001b[1;32mIn[9], line 9\u001b[0m, in \u001b[0;36mrun_main_pipeline\u001b[1;34m(projects, df, conn, version)\u001b[0m\n\u001b[0;32m      7\u001b[0m story_2 \u001b[38;5;241m=\u001b[39m example_2[\u001b[38;5;124m\"\u001b[39m\u001b[38;5;124mstory\u001b[39m\u001b[38;5;124m\"\u001b[39m]\n\u001b[0;32m      8\u001b[0m \u001b[38;5;28mprint\u001b[39m(\u001b[38;5;124m\"\u001b[39m\u001b[38;5;124mWorking Pipeline for story \u001b[39m\u001b[38;5;124m\"\u001b[39m \u001b[38;5;241m+\u001b[39m story \u001b[38;5;241m+\u001b[39m \u001b[38;5;124m\"\u001b[39m\u001b[38;5;124m. Context: \u001b[39m\u001b[38;5;124m\"\u001b[39m \u001b[38;5;241m+\u001b[39m story_1 \u001b[38;5;241m+\u001b[39m \u001b[38;5;124m\"\u001b[39m\u001b[38;5;124m and \u001b[39m\u001b[38;5;124m\"\u001b[39m \u001b[38;5;241m+\u001b[39m story_2)\n\u001b[1;32m----> 9\u001b[0m answer, prompts \u001b[38;5;241m=\u001b[39m \u001b[43mpipeline\u001b[49m\u001b[43m(\u001b[49m\u001b[43mexample_1\u001b[49m\u001b[43m,\u001b[49m\u001b[43mexample_2\u001b[49m\u001b[43m,\u001b[49m\u001b[43mquery\u001b[49m\u001b[43m,\u001b[49m\u001b[43mversion\u001b[49m\u001b[38;5;241;43m=\u001b[39;49m\u001b[43mversion\u001b[49m\u001b[43m)\u001b[49m\n\u001b[0;32m     10\u001b[0m name_of_file \u001b[38;5;241m=\u001b[39m story\u001b[38;5;241m+\u001b[39m\u001b[38;5;124m\"\u001b[39m\u001b[38;5;124m_from_\u001b[39m\u001b[38;5;124m\"\u001b[39m\u001b[38;5;241m+\u001b[39mstory_1\u001b[38;5;241m+\u001b[39m\u001b[38;5;124m\"\u001b[39m\u001b[38;5;124m_and_\u001b[39m\u001b[38;5;124m\"\u001b[39m\u001b[38;5;241m+\u001b[39mstory_2\u001b[38;5;241m+\u001b[39m\u001b[38;5;124m\"\u001b[39m\u001b[38;5;124m_v\u001b[39m\u001b[38;5;124m\"\u001b[39m\u001b[38;5;241m+\u001b[39m\u001b[38;5;28mstr\u001b[39m(version) \u001b[38;5;241m+\u001b[39m \u001b[38;5;124m\"\u001b[39m\u001b[38;5;124m_\u001b[39m\u001b[38;5;124m\"\u001b[39m \u001b[38;5;241m+\u001b[39m date_time \u001b[38;5;241m+\u001b[39m \u001b[38;5;124m\"\u001b[39m\u001b[38;5;124m.lp\u001b[39m\u001b[38;5;124m\"\u001b[39m\n\u001b[0;32m     11\u001b[0m path_of_file \u001b[38;5;241m=\u001b[39m os\u001b[38;5;241m.\u001b[39mpath\u001b[38;5;241m.\u001b[39mjoin(\u001b[38;5;124m\"\u001b[39m\u001b[38;5;124mgenerated_solutions\u001b[39m\u001b[38;5;124m\"\u001b[39m, name_of_file)\n",
      "File \u001b[1;32m~\\thesis\\pipelines.py:241\u001b[0m, in \u001b[0;36mpipeline\u001b[1;34m(example_1, example_2, query, version)\u001b[0m\n\u001b[0;32m    239\u001b[0m     answer, prompts \u001b[38;5;241m=\u001b[39m pipeline6(example_1,example_2,query)\n\u001b[0;32m    240\u001b[0m \u001b[38;5;28;01melif\u001b[39;00m version \u001b[38;5;241m==\u001b[39m \u001b[38;5;241m7\u001b[39m:\n\u001b[1;32m--> 241\u001b[0m     answer, prompts \u001b[38;5;241m=\u001b[39m \u001b[43mpipeline7\u001b[49m\u001b[43m(\u001b[49m\u001b[43mexample_1\u001b[49m\u001b[43m,\u001b[49m\u001b[43mexample_2\u001b[49m\u001b[43m,\u001b[49m\u001b[43mquery\u001b[49m\u001b[43m)\u001b[49m\n\u001b[0;32m    242\u001b[0m \u001b[38;5;28;01melif\u001b[39;00m version \u001b[38;5;241m==\u001b[39m \u001b[38;5;241m8\u001b[39m:\n\u001b[0;32m    243\u001b[0m     answer, prompts \u001b[38;5;241m=\u001b[39m pipeline8(example_1,example_2,query)\n",
      "File \u001b[1;32m~\\thesis\\pipelines.py:187\u001b[0m, in \u001b[0;36mpipeline7\u001b[1;34m(example_1, example_2, query)\u001b[0m\n\u001b[0;32m    186\u001b[0m \u001b[38;5;28;01mdef\u001b[39;00m \u001b[38;5;21mpipeline7\u001b[39m(example_1,example_2,query):\n\u001b[1;32m--> 187\u001b[0m     possible_rules, prompt \u001b[38;5;241m=\u001b[39m \u001b[43mproduce_possible_rules2\u001b[49m\u001b[43m(\u001b[49m\u001b[43mexample_1\u001b[49m\u001b[43m,\u001b[49m\u001b[43m \u001b[49m\u001b[43mexample_2\u001b[49m\u001b[43m,\u001b[49m\u001b[43m \u001b[49m\u001b[43mquery\u001b[49m\u001b[43m)\u001b[49m\n\u001b[0;32m    188\u001b[0m     answer \u001b[38;5;241m=\u001b[39m \u001b[38;5;124m\"\u001b[39m\u001b[38;5;124m\"\u001b[39m\u001b[38;5;241m.\u001b[39mjoin([possible_rules])\n\u001b[0;32m    189\u001b[0m     prompts \u001b[38;5;241m=\u001b[39m [prompt,\u001b[38;5;124m\"\u001b[39m\u001b[38;5;124m\"\u001b[39m]\n",
      "File \u001b[1;32m~\\thesis\\pipelines.py:183\u001b[0m, in \u001b[0;36mproduce_possible_rules2\u001b[1;34m(example_1, example_2, query)\u001b[0m\n\u001b[0;32m    181\u001b[0m instruction \u001b[38;5;241m=\u001b[39m \u001b[38;5;124m'''\u001b[39m\u001b[38;5;124mGiven a problem and a representation in ASP with an expected output predicate X, write rules of the form \u001b[39m\u001b[38;5;124m\"\u001b[39m\u001b[38;5;124mpossible_X :- <L1>, <L2>, ..., <Ln>.\u001b[39m\u001b[38;5;124m\"\u001b[39m\u001b[38;5;124m which says that if the conjunction \u001b[39m\u001b[38;5;124m\"\u001b[39m\u001b[38;5;124m<L1> and <L2> and ... and <Ln>\u001b[39m\u001b[38;5;124m\"\u001b[39m\u001b[38;5;124m is true, then \u001b[39m\u001b[38;5;124m\"\u001b[39m\u001b[38;5;124mpossible_X\u001b[39m\u001b[38;5;124m\"\u001b[39m\u001b[38;5;124m must be true. The output predicate must contain the prefix \u001b[39m\u001b[38;5;124m\"\u001b[39m\u001b[38;5;124mpossible\u001b[39m\u001b[38;5;124m\"\u001b[39m\u001b[38;5;124m. For example, if the output predicate is \u001b[39m\u001b[38;5;124m\"\u001b[39m\u001b[38;5;124mmatch\u001b[39m\u001b[38;5;124m\"\u001b[39m\u001b[38;5;124m, then the code generates the predicate \u001b[39m\u001b[38;5;124m\"\u001b[39m\u001b[38;5;124mpossible_match\u001b[39m\u001b[38;5;124m\"\u001b[39m\u001b[38;5;124m.\u001b[39m\u001b[38;5;124m'''\u001b[39m\n\u001b[0;32m    182\u001b[0m prompt \u001b[38;5;241m=\u001b[39m get_prompt(instruction,example_1,example_2,query,[\u001b[38;5;124m\"\u001b[39m\u001b[38;5;124mproblem\u001b[39m\u001b[38;5;124m\"\u001b[39m,\u001b[38;5;124m\"\u001b[39m\u001b[38;5;124mRepresentation in ASP\u001b[39m\u001b[38;5;124m\"\u001b[39m,\u001b[38;5;124m\"\u001b[39m\u001b[38;5;124mpossible_rules\u001b[39m\u001b[38;5;124m\"\u001b[39m])\n\u001b[1;32m--> 183\u001b[0m rules \u001b[38;5;241m=\u001b[39m \u001b[43mget_completion\u001b[49m\u001b[43m(\u001b[49m\u001b[43mprompt\u001b[49m\u001b[43m)\u001b[49m\n\u001b[0;32m    184\u001b[0m \u001b[38;5;28;01mreturn\u001b[39;00m rules, prompt\n",
      "File \u001b[1;32m~\\thesis\\helper.py:33\u001b[0m, in \u001b[0;36mget_completion\u001b[1;34m(prompt, model)\u001b[0m\n\u001b[0;32m     31\u001b[0m \u001b[38;5;28;01mdef\u001b[39;00m \u001b[38;5;21mget_completion\u001b[39m(prompt, model\u001b[38;5;241m=\u001b[39m\u001b[38;5;124m\"\u001b[39m\u001b[38;5;124mgpt-4\u001b[39m\u001b[38;5;124m\"\u001b[39m): \u001b[38;5;66;03m#\"gpt-3.5-turbo\"\u001b[39;00m\n\u001b[0;32m     32\u001b[0m     messages \u001b[38;5;241m=\u001b[39m [{\u001b[38;5;124m\"\u001b[39m\u001b[38;5;124mrole\u001b[39m\u001b[38;5;124m\"\u001b[39m: \u001b[38;5;124m\"\u001b[39m\u001b[38;5;124muser\u001b[39m\u001b[38;5;124m\"\u001b[39m, \u001b[38;5;124m\"\u001b[39m\u001b[38;5;124mcontent\u001b[39m\u001b[38;5;124m\"\u001b[39m: prompt}]\n\u001b[1;32m---> 33\u001b[0m     response \u001b[38;5;241m=\u001b[39m \u001b[43mopenai\u001b[49m\u001b[38;5;241;43m.\u001b[39;49m\u001b[43mChatCompletion\u001b[49m\u001b[38;5;241;43m.\u001b[39;49m\u001b[43mcreate\u001b[49m\u001b[43m(\u001b[49m\n\u001b[0;32m     34\u001b[0m \u001b[43m        \u001b[49m\u001b[43mmodel\u001b[49m\u001b[38;5;241;43m=\u001b[39;49m\u001b[43mmodel\u001b[49m\u001b[43m,\u001b[49m\n\u001b[0;32m     35\u001b[0m \u001b[43m        \u001b[49m\u001b[43mmessages\u001b[49m\u001b[38;5;241;43m=\u001b[39;49m\u001b[43mmessages\u001b[49m\u001b[43m,\u001b[49m\n\u001b[0;32m     36\u001b[0m \u001b[43m        \u001b[49m\u001b[43mtemperature\u001b[49m\u001b[38;5;241;43m=\u001b[39;49m\u001b[38;5;241;43m0\u001b[39;49m\u001b[43m,\u001b[49m\u001b[43m \u001b[49m\u001b[38;5;66;43;03m# this is the degree of randomness of the model's output\u001b[39;49;00m\n\u001b[0;32m     37\u001b[0m \u001b[43m    \u001b[49m\u001b[43m)\u001b[49m\n\u001b[0;32m     38\u001b[0m     time\u001b[38;5;241m.\u001b[39msleep(\u001b[38;5;241m0.3\u001b[39m)\n\u001b[0;32m     39\u001b[0m     \u001b[38;5;28;01mreturn\u001b[39;00m response\u001b[38;5;241m.\u001b[39mchoices[\u001b[38;5;241m0\u001b[39m]\u001b[38;5;241m.\u001b[39mmessage[\u001b[38;5;124m\"\u001b[39m\u001b[38;5;124mcontent\u001b[39m\u001b[38;5;124m\"\u001b[39m]\n",
      "File \u001b[1;32m~\\thesis\\venv\\lib\\site-packages\\openai\\api_resources\\chat_completion.py:25\u001b[0m, in \u001b[0;36mChatCompletion.create\u001b[1;34m(cls, *args, **kwargs)\u001b[0m\n\u001b[0;32m     23\u001b[0m \u001b[38;5;28;01mwhile\u001b[39;00m \u001b[38;5;28;01mTrue\u001b[39;00m:\n\u001b[0;32m     24\u001b[0m     \u001b[38;5;28;01mtry\u001b[39;00m:\n\u001b[1;32m---> 25\u001b[0m         \u001b[38;5;28;01mreturn\u001b[39;00m \u001b[38;5;28msuper\u001b[39m()\u001b[38;5;241m.\u001b[39mcreate(\u001b[38;5;241m*\u001b[39margs, \u001b[38;5;241m*\u001b[39m\u001b[38;5;241m*\u001b[39mkwargs)\n\u001b[0;32m     26\u001b[0m     \u001b[38;5;28;01mexcept\u001b[39;00m TryAgain \u001b[38;5;28;01mas\u001b[39;00m e:\n\u001b[0;32m     27\u001b[0m         \u001b[38;5;28;01mif\u001b[39;00m timeout \u001b[38;5;129;01mis\u001b[39;00m \u001b[38;5;129;01mnot\u001b[39;00m \u001b[38;5;28;01mNone\u001b[39;00m \u001b[38;5;129;01mand\u001b[39;00m time\u001b[38;5;241m.\u001b[39mtime() \u001b[38;5;241m>\u001b[39m start \u001b[38;5;241m+\u001b[39m timeout:\n",
      "File \u001b[1;32m~\\thesis\\venv\\lib\\site-packages\\openai\\api_resources\\abstract\\engine_api_resource.py:153\u001b[0m, in \u001b[0;36mEngineAPIResource.create\u001b[1;34m(cls, api_key, api_base, api_type, request_id, api_version, organization, **params)\u001b[0m\n\u001b[0;32m    127\u001b[0m \u001b[38;5;129m@classmethod\u001b[39m\n\u001b[0;32m    128\u001b[0m \u001b[38;5;28;01mdef\u001b[39;00m \u001b[38;5;21mcreate\u001b[39m(\n\u001b[0;32m    129\u001b[0m     \u001b[38;5;28mcls\u001b[39m,\n\u001b[1;32m   (...)\u001b[0m\n\u001b[0;32m    136\u001b[0m     \u001b[38;5;241m*\u001b[39m\u001b[38;5;241m*\u001b[39mparams,\n\u001b[0;32m    137\u001b[0m ):\n\u001b[0;32m    138\u001b[0m     (\n\u001b[0;32m    139\u001b[0m         deployment_id,\n\u001b[0;32m    140\u001b[0m         engine,\n\u001b[1;32m   (...)\u001b[0m\n\u001b[0;32m    150\u001b[0m         api_key, api_base, api_type, api_version, organization, \u001b[38;5;241m*\u001b[39m\u001b[38;5;241m*\u001b[39mparams\n\u001b[0;32m    151\u001b[0m     )\n\u001b[1;32m--> 153\u001b[0m     response, _, api_key \u001b[38;5;241m=\u001b[39m \u001b[43mrequestor\u001b[49m\u001b[38;5;241;43m.\u001b[39;49m\u001b[43mrequest\u001b[49m\u001b[43m(\u001b[49m\n\u001b[0;32m    154\u001b[0m \u001b[43m        \u001b[49m\u001b[38;5;124;43m\"\u001b[39;49m\u001b[38;5;124;43mpost\u001b[39;49m\u001b[38;5;124;43m\"\u001b[39;49m\u001b[43m,\u001b[49m\n\u001b[0;32m    155\u001b[0m \u001b[43m        \u001b[49m\u001b[43murl\u001b[49m\u001b[43m,\u001b[49m\n\u001b[0;32m    156\u001b[0m \u001b[43m        \u001b[49m\u001b[43mparams\u001b[49m\u001b[38;5;241;43m=\u001b[39;49m\u001b[43mparams\u001b[49m\u001b[43m,\u001b[49m\n\u001b[0;32m    157\u001b[0m \u001b[43m        \u001b[49m\u001b[43mheaders\u001b[49m\u001b[38;5;241;43m=\u001b[39;49m\u001b[43mheaders\u001b[49m\u001b[43m,\u001b[49m\n\u001b[0;32m    158\u001b[0m \u001b[43m        \u001b[49m\u001b[43mstream\u001b[49m\u001b[38;5;241;43m=\u001b[39;49m\u001b[43mstream\u001b[49m\u001b[43m,\u001b[49m\n\u001b[0;32m    159\u001b[0m \u001b[43m        \u001b[49m\u001b[43mrequest_id\u001b[49m\u001b[38;5;241;43m=\u001b[39;49m\u001b[43mrequest_id\u001b[49m\u001b[43m,\u001b[49m\n\u001b[0;32m    160\u001b[0m \u001b[43m        \u001b[49m\u001b[43mrequest_timeout\u001b[49m\u001b[38;5;241;43m=\u001b[39;49m\u001b[43mrequest_timeout\u001b[49m\u001b[43m,\u001b[49m\n\u001b[0;32m    161\u001b[0m \u001b[43m    \u001b[49m\u001b[43m)\u001b[49m\n\u001b[0;32m    163\u001b[0m     \u001b[38;5;28;01mif\u001b[39;00m stream:\n\u001b[0;32m    164\u001b[0m         \u001b[38;5;66;03m# must be an iterator\u001b[39;00m\n\u001b[0;32m    165\u001b[0m         \u001b[38;5;28;01massert\u001b[39;00m \u001b[38;5;129;01mnot\u001b[39;00m \u001b[38;5;28misinstance\u001b[39m(response, OpenAIResponse)\n",
      "File \u001b[1;32m~\\thesis\\venv\\lib\\site-packages\\openai\\api_requestor.py:298\u001b[0m, in \u001b[0;36mAPIRequestor.request\u001b[1;34m(self, method, url, params, headers, files, stream, request_id, request_timeout)\u001b[0m\n\u001b[0;32m    277\u001b[0m \u001b[38;5;28;01mdef\u001b[39;00m \u001b[38;5;21mrequest\u001b[39m(\n\u001b[0;32m    278\u001b[0m     \u001b[38;5;28mself\u001b[39m,\n\u001b[0;32m    279\u001b[0m     method,\n\u001b[1;32m   (...)\u001b[0m\n\u001b[0;32m    286\u001b[0m     request_timeout: Optional[Union[\u001b[38;5;28mfloat\u001b[39m, Tuple[\u001b[38;5;28mfloat\u001b[39m, \u001b[38;5;28mfloat\u001b[39m]]] \u001b[38;5;241m=\u001b[39m \u001b[38;5;28;01mNone\u001b[39;00m,\n\u001b[0;32m    287\u001b[0m ) \u001b[38;5;241m-\u001b[39m\u001b[38;5;241m>\u001b[39m Tuple[Union[OpenAIResponse, Iterator[OpenAIResponse]], \u001b[38;5;28mbool\u001b[39m, \u001b[38;5;28mstr\u001b[39m]:\n\u001b[0;32m    288\u001b[0m     result \u001b[38;5;241m=\u001b[39m \u001b[38;5;28mself\u001b[39m\u001b[38;5;241m.\u001b[39mrequest_raw(\n\u001b[0;32m    289\u001b[0m         method\u001b[38;5;241m.\u001b[39mlower(),\n\u001b[0;32m    290\u001b[0m         url,\n\u001b[1;32m   (...)\u001b[0m\n\u001b[0;32m    296\u001b[0m         request_timeout\u001b[38;5;241m=\u001b[39mrequest_timeout,\n\u001b[0;32m    297\u001b[0m     )\n\u001b[1;32m--> 298\u001b[0m     resp, got_stream \u001b[38;5;241m=\u001b[39m \u001b[38;5;28;43mself\u001b[39;49m\u001b[38;5;241;43m.\u001b[39;49m\u001b[43m_interpret_response\u001b[49m\u001b[43m(\u001b[49m\u001b[43mresult\u001b[49m\u001b[43m,\u001b[49m\u001b[43m \u001b[49m\u001b[43mstream\u001b[49m\u001b[43m)\u001b[49m\n\u001b[0;32m    299\u001b[0m     \u001b[38;5;28;01mreturn\u001b[39;00m resp, got_stream, \u001b[38;5;28mself\u001b[39m\u001b[38;5;241m.\u001b[39mapi_key\n",
      "File \u001b[1;32m~\\thesis\\venv\\lib\\site-packages\\openai\\api_requestor.py:700\u001b[0m, in \u001b[0;36mAPIRequestor._interpret_response\u001b[1;34m(self, result, stream)\u001b[0m\n\u001b[0;32m    692\u001b[0m     \u001b[38;5;28;01mreturn\u001b[39;00m (\n\u001b[0;32m    693\u001b[0m         \u001b[38;5;28mself\u001b[39m\u001b[38;5;241m.\u001b[39m_interpret_response_line(\n\u001b[0;32m    694\u001b[0m             line, result\u001b[38;5;241m.\u001b[39mstatus_code, result\u001b[38;5;241m.\u001b[39mheaders, stream\u001b[38;5;241m=\u001b[39m\u001b[38;5;28;01mTrue\u001b[39;00m\n\u001b[0;32m    695\u001b[0m         )\n\u001b[0;32m    696\u001b[0m         \u001b[38;5;28;01mfor\u001b[39;00m line \u001b[38;5;129;01min\u001b[39;00m parse_stream(result\u001b[38;5;241m.\u001b[39miter_lines())\n\u001b[0;32m    697\u001b[0m     ), \u001b[38;5;28;01mTrue\u001b[39;00m\n\u001b[0;32m    698\u001b[0m \u001b[38;5;28;01melse\u001b[39;00m:\n\u001b[0;32m    699\u001b[0m     \u001b[38;5;28;01mreturn\u001b[39;00m (\n\u001b[1;32m--> 700\u001b[0m         \u001b[38;5;28;43mself\u001b[39;49m\u001b[38;5;241;43m.\u001b[39;49m\u001b[43m_interpret_response_line\u001b[49m\u001b[43m(\u001b[49m\n\u001b[0;32m    701\u001b[0m \u001b[43m            \u001b[49m\u001b[43mresult\u001b[49m\u001b[38;5;241;43m.\u001b[39;49m\u001b[43mcontent\u001b[49m\u001b[38;5;241;43m.\u001b[39;49m\u001b[43mdecode\u001b[49m\u001b[43m(\u001b[49m\u001b[38;5;124;43m\"\u001b[39;49m\u001b[38;5;124;43mutf-8\u001b[39;49m\u001b[38;5;124;43m\"\u001b[39;49m\u001b[43m)\u001b[49m\u001b[43m,\u001b[49m\n\u001b[0;32m    702\u001b[0m \u001b[43m            \u001b[49m\u001b[43mresult\u001b[49m\u001b[38;5;241;43m.\u001b[39;49m\u001b[43mstatus_code\u001b[49m\u001b[43m,\u001b[49m\n\u001b[0;32m    703\u001b[0m \u001b[43m            \u001b[49m\u001b[43mresult\u001b[49m\u001b[38;5;241;43m.\u001b[39;49m\u001b[43mheaders\u001b[49m\u001b[43m,\u001b[49m\n\u001b[0;32m    704\u001b[0m \u001b[43m            \u001b[49m\u001b[43mstream\u001b[49m\u001b[38;5;241;43m=\u001b[39;49m\u001b[38;5;28;43;01mFalse\u001b[39;49;00m\u001b[43m,\u001b[49m\n\u001b[0;32m    705\u001b[0m \u001b[43m        \u001b[49m\u001b[43m)\u001b[49m,\n\u001b[0;32m    706\u001b[0m         \u001b[38;5;28;01mFalse\u001b[39;00m,\n\u001b[0;32m    707\u001b[0m     )\n",
      "File \u001b[1;32m~\\thesis\\venv\\lib\\site-packages\\openai\\api_requestor.py:763\u001b[0m, in \u001b[0;36mAPIRequestor._interpret_response_line\u001b[1;34m(self, rbody, rcode, rheaders, stream)\u001b[0m\n\u001b[0;32m    761\u001b[0m stream_error \u001b[38;5;241m=\u001b[39m stream \u001b[38;5;129;01mand\u001b[39;00m \u001b[38;5;124m\"\u001b[39m\u001b[38;5;124merror\u001b[39m\u001b[38;5;124m\"\u001b[39m \u001b[38;5;129;01min\u001b[39;00m resp\u001b[38;5;241m.\u001b[39mdata\n\u001b[0;32m    762\u001b[0m \u001b[38;5;28;01mif\u001b[39;00m stream_error \u001b[38;5;129;01mor\u001b[39;00m \u001b[38;5;129;01mnot\u001b[39;00m \u001b[38;5;241m200\u001b[39m \u001b[38;5;241m<\u001b[39m\u001b[38;5;241m=\u001b[39m rcode \u001b[38;5;241m<\u001b[39m \u001b[38;5;241m300\u001b[39m:\n\u001b[1;32m--> 763\u001b[0m     \u001b[38;5;28;01mraise\u001b[39;00m \u001b[38;5;28mself\u001b[39m\u001b[38;5;241m.\u001b[39mhandle_error_response(\n\u001b[0;32m    764\u001b[0m         rbody, rcode, resp\u001b[38;5;241m.\u001b[39mdata, rheaders, stream_error\u001b[38;5;241m=\u001b[39mstream_error\n\u001b[0;32m    765\u001b[0m     )\n\u001b[0;32m    766\u001b[0m \u001b[38;5;28;01mreturn\u001b[39;00m resp\n",
      "\u001b[1;31mAuthenticationError\u001b[0m: Incorrect API key provided: sk-oYf8G***************************************JadI. You can find your API key at https://platform.openai.com/account/api-keys."
     ]
    }
   ],
   "source": [
    "version = 7\n",
    "run_main_pipeline(projects,df,conn,version)"
   ]
  },
  {
   "cell_type": "code",
   "execution_count": 9,
   "id": "d8f1d4cb-bd5e-44e3-801e-0c99a410cdad",
   "metadata": {},
   "outputs": [
    {
     "name": "stdout",
     "output_type": "stream",
     "text": [
      "====================================================================================================\n",
      "Working Pipeline for story creek. Context: sudoku and yosenabe\n",
      "====================================================================================================\n",
      "Working Pipeline for story minotaur. Context: yosenabe and hop\n",
      "====================================================================================================\n",
      "Working Pipeline for story seeknumbers. Context: creek and lights\n",
      "====================================================================================================\n",
      "Working Pipeline for story sudoku. Context: creek and yosenabe\n",
      "====================================================================================================\n",
      "Working Pipeline for story yosenabe. Context: creek and sudoku\n",
      "====================================================================================================\n",
      "Working Pipeline for story hop. Context: creek and yosenabe\n",
      "====================================================================================================\n",
      "Working Pipeline for story lights. Context: creek and seeknumbers\n"
     ]
    }
   ],
   "source": [
    "version = 8\n",
    "run_main_pipeline(projects,df,conn,version)"
   ]
  },
  {
   "cell_type": "code",
   "execution_count": 13,
   "id": "26491786-fee1-4c6b-b0d3-5210e187ddc3",
   "metadata": {},
   "outputs": [
    {
     "name": "stdout",
     "output_type": "stream",
     "text": [
      "Working Pipeline for story yosenabe. Context: seeknumbers and sudoku\n"
     ]
    }
   ],
   "source": [
    "version = 9\n",
    "run_main_pipeline(projects,df,conn,version)"
   ]
  },
  {
   "cell_type": "code",
   "execution_count": null,
   "id": "edb31ead-d336-470c-9e3b-ab06796e6bee",
   "metadata": {},
   "outputs": [],
   "source": []
  }
 ],
 "metadata": {
  "kernelspec": {
   "display_name": "Python 3 (ipykernel)",
   "language": "python",
   "name": "python3"
  },
  "language_info": {
   "codemirror_mode": {
    "name": "ipython",
    "version": 3
   },
   "file_extension": ".py",
   "mimetype": "text/x-python",
   "name": "python",
   "nbconvert_exporter": "python",
   "pygments_lexer": "ipython3",
   "version": "3.9.13"
  }
 },
 "nbformat": 4,
 "nbformat_minor": 5
}
