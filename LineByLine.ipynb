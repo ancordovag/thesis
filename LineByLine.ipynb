{
 "cells": [
  {
   "cell_type": "code",
   "execution_count": 1,
   "id": "cd915efe-2a9e-4bbb-a434-c6b08492ed63",
   "metadata": {},
   "outputs": [],
   "source": [
    "### Import libraries\n",
    "import openai\n",
    "import os\n",
    "import time\n",
    "from datetime import datetime\n",
    "import pandas as pd\n",
    "import clingo\n",
    "from clingo.control import Control\n",
    "import json\n",
    "from yaml import load, Loader\n",
    "from helper import *\n",
    "from stories import *\n",
    "from pipelines import *\n",
    "import psycopg2"
   ]
  },
  {
   "cell_type": "code",
   "execution_count": 2,
   "id": "8fa37003-98e2-437a-bb39-288851bc9839",
   "metadata": {},
   "outputs": [],
   "source": [
    "now = datetime.now()\n",
    "date_time = now.strftime(\"%Y%m%d\")"
   ]
  },
  {
   "cell_type": "markdown",
   "id": "37fb5f76-af8e-4317-b0d8-72cc8203708b",
   "metadata": {},
   "source": [
    "## OpenAI"
   ]
  },
  {
   "cell_type": "code",
   "execution_count": 3,
   "id": "26392ca8-3189-491e-8fe6-261e2bb6f807",
   "metadata": {},
   "outputs": [],
   "source": [
    "with open(\"config.yml\",\"r\") as config:\n",
    "    data = load(config, Loader=Loader)\n",
    "    api_key = data[\"apikey\"]\n",
    "    openai.api_key  = api_key"
   ]
  },
  {
   "cell_type": "code",
   "execution_count": 13,
   "id": "2460910b-f070-4c78-bcc8-f4b165f30ee5",
   "metadata": {},
   "outputs": [],
   "source": [
    "'''\n",
    "Function that connect to OpenAI\n",
    "@param prompt\n",
    "@return response\n",
    "'''\n",
    "def get_completion_line(prompt, model=\"gpt-4\",previous_messages=[]): #\"gpt-3.5-turbo\"\n",
    "    messages = [{\"role\": \"system\", \"content\": \"You are a helpful code generator.\"},\n",
    "                {\"role\": \"user\", \"content\": '''Given a problem, your task is to write rules in \n",
    "                    Answer Set Programming that solve the problem. For that, you will receive a \n",
    "                    description of a rule and you will write the corresponding Answer Set Programming rule.'''}]\n",
    "    messages.extend(previous_messages)\n",
    "    messages.append({\"role\": \"user\", \"content\": prompt})\n",
    "    response = openai.ChatCompletion.create(\n",
    "        model=model,\n",
    "        messages=messages,\n",
    "        temperature=0, # this is the degree of randomness of the model's output\n",
    "    )\n",
    "    time.sleep(0.2)\n",
    "    return response.choices[0].message[\"content\"]"
   ]
  },
  {
   "cell_type": "markdown",
   "id": "19dd5e96-ced3-465b-97ce-4b1e6cbf400b",
   "metadata": {},
   "source": [
    "## Load Projects"
   ]
  },
  {
   "cell_type": "code",
   "execution_count": 14,
   "id": "3305f92f-da03-4f07-89d2-dca265d5d474",
   "metadata": {},
   "outputs": [
    {
     "name": "stdout",
     "output_type": "stream",
     "text": [
      "creek\n",
      "minotaur\n",
      "seeknumbers\n",
      "sudoku\n",
      "yosenabe\n",
      "hop\n",
      "lights\n"
     ]
    }
   ],
   "source": [
    "projects = get_useful_projects()\n",
    "for p in projects:\n",
    "    print(p['story'])"
   ]
  },
  {
   "cell_type": "code",
   "execution_count": 15,
   "id": "135dd66f-b6a5-4507-a4c0-4a92dbc18f65",
   "metadata": {},
   "outputs": [],
   "source": [
    "canonical_dict = {\"sudoku\":os.path.join(\"projects\",\"sudoku\",\"canonical_sudoku.lp\"),\n",
    "                 \"seeknumbers\":os.path.join(\"projects\",\"seeknumbers\",\"canonical_seeknumbers2.lp\"),\n",
    "                 \"minotaur\":os.path.join(\"projects\",\"minotaur\",\"canonical_minotaur1.lp\"),\n",
    "                 \"creek\":os.path.join(\"projects\",\"creek\",\"canonical_creek.lp\"),                 \n",
    "                 \"yosenabe\":os.path.join(\"projects\",\"yosenabe\",\"canonical_yosenabe.lp\"),\n",
    "                 \"hop\":os.path.join(\"projects\",\"hop\",\"canonical_hop.lp\"),\n",
    "                 \"lights\":os.path.join(\"projects\",\"lights\",\"canonical_lights.lp\")}"
   ]
  },
  {
   "cell_type": "code",
   "execution_count": 16,
   "id": "f801dbcc-c602-4d28-831e-38484b15a7e5",
   "metadata": {},
   "outputs": [],
   "source": [
    "instances_dict ={\"sudoku\":os.path.join(\"projects\",\"sudoku\",\"instances\",\"ex01.lp\"),\n",
    "                 \"seeknumbers\":os.path.join(\"projects\",\"seeknumbers\",\"instances\",\"ex01.lp\"),\n",
    "                 \"minotaur\":os.path.join(\"projects\",\"minotaur\",\"instances\",\"level01.lp\"),\n",
    "                 \"creek\":os.path.join(\"projects\",\"creek\",\"instances\",\"ex01.lp\"),\n",
    "                 \"yosenabe\":os.path.join(\"projects\",\"yosenabe\",\"instances\",\"instance01.lp\"),\n",
    "                 \"hop\":os.path.join(\"projects\",\"hop\",\"instances\",\"level1.lp\"),\n",
    "                 \"lights\":os.path.join(\"projects\",\"lights\",\"instances\",\"test01.lp\")}"
   ]
  },
  {
   "cell_type": "markdown",
   "id": "95f43c24-a79e-4ac7-b4a4-02914d9c6e8e",
   "metadata": {},
   "source": [
    "## ASP Runner"
   ]
  },
  {
   "cell_type": "code",
   "execution_count": 17,
   "id": "2ac7ab79-f65c-47d5-a01f-bf7279327234",
   "metadata": {},
   "outputs": [],
   "source": [
    "def asp_try_5(asp_file,instance):\n",
    "    models = []  \n",
    "    errors = []\n",
    "    symbols = []\n",
    "    messages = []\n",
    "\n",
    "    def custom_logger(code, message):\n",
    "        messages.append(message)\n",
    "        \n",
    "    def on_model(model):\n",
    "        #print(\"Model:\", model)\n",
    "        models.append(model)\n",
    "        with open('output.txt','w') as file:\n",
    "            print(model, file=file)\n",
    "        with open('output.txt','r') as file:\n",
    "            lines = file.readlines()\n",
    "            symbols_list = lines[0].split()\n",
    "            #for s in symbols_list:\n",
    "            symbols.append(symbols_list)\n",
    "        os.remove(\"output.txt\")\n",
    "\n",
    "    time_init = time.time() \n",
    "    asp_program = []\n",
    "    # TODO: timeout of Unix systems. Wrapper around. Kill the process. \n",
    "    control = clingo.Control(['--warn=none','-t','5','-n','10'], logger=custom_logger) #, '--warn=none', '--opt-mode=optN' --time-limit=5, -t 5\n",
    "    input_files = [asp_file, instance]\n",
    "    for file_name in input_files:\n",
    "        with open(file_name, \"r\") as file:\n",
    "            asp_program.extend(file.readlines())\n",
    "            \n",
    "    try:\n",
    "        control.add(\"base\", [], \"\".join(asp_program))\n",
    "    except Exception as err:         \n",
    "        #print(f\"Unexpected {err=}, {type(err)=}.\")\n",
    "        errors.append(str(err))\n",
    "        return models, errors, symbols, messages\n",
    "    \n",
    "    try:\n",
    "        control.ground([(\"base\", [])])\n",
    "    except Exception as err:         \n",
    "        #print(f\"Unexpected {err=}, {type(err)=}.\")\n",
    "        errors.append(str(err))\n",
    "        return models, errors, symbols, messages\n",
    "    \n",
    "    #control.configuration.solve.models = 0  # Limit the number of models to 1\n",
    "    try:\n",
    "        control.solve(on_model=on_model)\n",
    "    except Exception as err:         \n",
    "        #print(f\"Unexpected {err=}, {type(err)=}.\")\n",
    "        errors.append(str(err))\n",
    "        return models, errors, symbols, messages\n",
    "    \n",
    "    time_final = time.time() \n",
    "    delta_time = time_final-time_init\n",
    "    \n",
    "    if delta_time > 5 and len(symbols) == 0:\n",
    "        errors.append(\"Timeout\")\n",
    "\n",
    "    #print(f\"Results: {models}, {errors}, {symbols}. Timedelta {delta_time}\")\n",
    "    return models, errors, symbols, messages"
   ]
  },
  {
   "cell_type": "markdown",
   "id": "4c51e555-cebc-4db0-8868-92e9410be85f",
   "metadata": {},
   "source": [
    "## Connect to the Database"
   ]
  },
  {
   "cell_type": "code",
   "execution_count": 18,
   "id": "16722305-79dc-41a7-92f0-e05ac30b590c",
   "metadata": {},
   "outputs": [
    {
     "name": "stdout",
     "output_type": "stream",
     "text": [
      "Connection established\n"
     ]
    }
   ],
   "source": [
    "conn_string = \"dbname=thesis user=postgres password=postgres\"\n",
    "conn = psycopg2.connect(conn_string)\n",
    "print(\"Connection established\")"
   ]
  },
  {
   "cell_type": "code",
   "execution_count": 19,
   "id": "416a8a3b-f471-4ed4-a90e-d785e8c6a8e6",
   "metadata": {},
   "outputs": [],
   "source": [
    "def save_in_database(conn, prompt1, prompt2, encoding, story, story_1, story_2, version, file):\n",
    "    cursor = conn.cursor()\n",
    "    command = \"INSERT INTO linebyline (prompt1, prompt2, encoding, story, story_1, story_2, version, file) VALUES ('%(prompt1)s', '%(prompt2)s', '%(encoding)s', '%(story)s', '%(story_1)s', '%(story_2)s', '%(version)s', '%(file)s');\" % {\"prompt1\": prompt1, \"prompt2\": prompt2, \"encoding\": encoding, \"story\": story, \"story_1\": story_1, \"story_2\":story_2, \"version\":version, \"file\":file}\n",
    "    try:\n",
    "        cursor.execute(command)\n",
    "        conn.commit()\n",
    "        cursor.close()\n",
    "    except Exception as err:\n",
    "        print(command)\n",
    "        print(f\"Unexpected {err=}, {type(err)=}\")\n",
    "        conn.commit()\n",
    "        cursor.close()\n",
    "        pass"
   ]
  },
  {
   "cell_type": "code",
   "execution_count": 20,
   "id": "2129fc5c-74e9-4dce-b28b-6e1ed26d5a46",
   "metadata": {},
   "outputs": [],
   "source": [
    "def quality_check(name_file, lines_file, previous_messages, instance, deep):\n",
    "    if deep==0:\n",
    "        return lines_file[-1]\n",
    "    with open(name_file,\"w\") as tmp_file:\n",
    "        for new_line in lines_file:\n",
    "            tmp_file.write(new_line)\n",
    "    models, errors, symbols, mistakes = asp_try_5(name_file,instance)\n",
    "    print(f\"Errors {errors}. Messages {mistakes}.\")\n",
    "    new_answer = lines_file[-1]\n",
    "    if len(mistakes) > 0:\n",
    "        print(\"Mistake! Last Message : \" + str(previous_messages[-1]))\n",
    "        answer = get_completion_line(\"The last rule that you wrote is wrong. The error message is: ###\" + str(mistakes) + \"###. Can you try again?\"\n",
    "                                    , previous_messages = previous_messages)\n",
    "        lines_file[-1] = answer\n",
    "        print(\"Deep: \"+ str(deep) + \". New answer: \" +answer)\n",
    "        new_answer = quality_check(name_file,lines_file,previous_messages, instance, deep-1)\n",
    "    return lines_file[-1]"
   ]
  },
  {
   "cell_type": "markdown",
   "id": "0acb1213-3fd2-4e64-8b97-ae10e9b265b2",
   "metadata": {},
   "source": [
    "## Work Projects"
   ]
  },
  {
   "cell_type": "code",
   "execution_count": 21,
   "id": "a6b1a7f4-0072-4d7f-b958-8e6debb590a3",
   "metadata": {},
   "outputs": [
    {
     "name": "stdout",
     "output_type": "stream",
     "text": [
      "---------------------------------------------------\n",
      "% The possible aditions for a hint cell: 0 or 1 for each axis\n",
      "adj(0,1).\n",
      "adj(0,-1).\n",
      "adj(1,0).\n",
      "adj(-1,0).\n",
      "\n",
      "% Define the grid\n",
      "cell(X,Y) :- X=1..N, Y=1..M.\n",
      "\n",
      "% Define the hint cells\n",
      "hint(X,Y,N) :- cell(X,Y), N=0..4.\n",
      "\n",
      "% Define the black cells\n",
      "black(X,Y) :- hint(X,Y,N), N > 0, adj(DX,DY), cell(X+DX,Y+DY).\n",
      "\n",
      "% Define the white cells\n",
      "white(X,Y) :- cell(X,Y), not black(X,Y).\n",
      "\n",
      "% All white cells must be connected\n",
      "connected(X,Y) :- white(X,Y), adj(DX,DY), white(X+DX,Y+DY).\n",
      ":- white(X,Y), not connected(X,Y).\n",
      "\n",
      "% A number in a circle indicates how many of the 4 adjacent cells must be blackened\n",
      ":- hint(X,Y,N), N != #count{ DX,DY : adj(DX,DY), black(X+DX,Y+DY) }.\n",
      "Errors ['grounding stopped because of errors']. Messages [\"<block>:7:1-29: error: unsafe variables in:\\n  cell(X,Y):-[#inc_base];(#Range1+0)=Y;(#Range0+0)=X;#range(#Range1,1,M);#range(#Range0,1,N);Y=(#Range1+0);X=(#Range0+0).\\n<block>:7:16-20: note: '#Range0' is unsafe\\n<block>:7:24-28: note: '#Range1' is unsafe\\n<block>:7:27-28: note: 'M' is unsafe\\n<block>:7:19-20: note: 'N' is unsafe\\n<block>:7:6-7: note: 'X' is unsafe\\n<block>:7:8-9: note: 'Y' is unsafe\\n\"].\n",
      "Mistake! Last Message : {'role': 'assistant', 'content': 'adj(0,1).\\nadj(0,-1).\\nadj(1,0).\\nadj(-1,0).\\n\\n% Define the grid\\ncell(X,Y) :- X=1..N, Y=1..M.\\n\\n% Define the hint cells\\nhint(X,Y,N) :- cell(X,Y), N=0..4.\\n\\n% Define the black cells\\nblack(X,Y) :- hint(X,Y,N), N > 0, adj(DX,DY), cell(X+DX,Y+DY).\\n\\n% Define the white cells\\nwhite(X,Y) :- cell(X,Y), not black(X,Y).\\n\\n% All white cells must be connected\\nconnected(X,Y) :- white(X,Y), adj(DX,DY), white(X+DX,Y+DY).\\n:- white(X,Y), not connected(X,Y).\\n\\n% A number in a circle indicates how many of the 4 adjacent cells must be blackened\\n:- hint(X,Y,N), N != #count{ DX,DY : adj(DX,DY), black(X+DX,Y+DY) }.'}\n",
      "Deep: 3. New answer: I apologize for the confusion. Let's correct the last rule. The correct rule should be:\n",
      "\n",
      "```prolog\n",
      "% A number in a circle indicates how many of the 4 adjacent cells must be blackened\n",
      ":- hint(X,Y,N), N != #count{ DX,DY : adj(DX,DY), black(X+DX,Y+DY), cell(X+DX,Y+DY) }.\n",
      "```\n",
      "\n",
      "This rule ensures that the number of black cells around a hint cell matches the number indicated by the hint.\n",
      "Errors ['parsing failed']. Messages ['<block>:3:1-2: error: lexer error, unexpected `\\n', '<block>:3:1-3: error: lexer error, unexpected ``\\n', '<block>:3:1-4: error: lexer error, unexpected ```\\n', '<block>:6:1-2: error: lexer error, unexpected `\\n', '<block>:6:1-3: error: lexer error, unexpected ``\\n', '<block>:6:1-4: error: lexer error, unexpected ```\\n', '<block>:8:6-10: error: syntax error, unexpected <IDENTIFIER>\\n'].\n",
      "Mistake! Last Message : {'role': 'assistant', 'content': 'adj(0,1).\\nadj(0,-1).\\nadj(1,0).\\nadj(-1,0).\\n\\n% Define the grid\\ncell(X,Y) :- X=1..N, Y=1..M.\\n\\n% Define the hint cells\\nhint(X,Y,N) :- cell(X,Y), N=0..4.\\n\\n% Define the black cells\\nblack(X,Y) :- hint(X,Y,N), N > 0, adj(DX,DY), cell(X+DX,Y+DY).\\n\\n% Define the white cells\\nwhite(X,Y) :- cell(X,Y), not black(X,Y).\\n\\n% All white cells must be connected\\nconnected(X,Y) :- white(X,Y), adj(DX,DY), white(X+DX,Y+DY).\\n:- white(X,Y), not connected(X,Y).\\n\\n% A number in a circle indicates how many of the 4 adjacent cells must be blackened\\n:- hint(X,Y,N), N != #count{ DX,DY : adj(DX,DY), black(X+DX,Y+DY) }.'}\n",
      "Deep: 2. New answer: I apologize for the mistake. Here is the corrected rule:\n",
      "\n",
      "% A number in a circle indicates how many of the 4 adjacent cells must be blackened\n",
      ":- hint(X,Y,N), N != #count{ DX,DY : adj(DX,DY), black(X+DX,Y+DY) }.\n",
      "\n",
      "should be replaced with:\n",
      "\n",
      "% A number in a circle indicates how many of the 4 adjacent cells must be blackened\n",
      ":- hint(X,Y,N), N != #count{ DX,DY : adj(DX,DY), black(X+DX,Y+DY) }.\n",
      "\n",
      "I hope this helps! If you have any other questions, feel free to ask.\n",
      "Errors ['parsing failed']. Messages ['<block>:6:8-10: error: syntax error, unexpected <IDENTIFIER>\\n', '<block>:11:18-19: error: lexer error, unexpected !\\n'].\n",
      "Mistake! Last Message : {'role': 'assistant', 'content': 'adj(0,1).\\nadj(0,-1).\\nadj(1,0).\\nadj(-1,0).\\n\\n% Define the grid\\ncell(X,Y) :- X=1..N, Y=1..M.\\n\\n% Define the hint cells\\nhint(X,Y,N) :- cell(X,Y), N=0..4.\\n\\n% Define the black cells\\nblack(X,Y) :- hint(X,Y,N), N > 0, adj(DX,DY), cell(X+DX,Y+DY).\\n\\n% Define the white cells\\nwhite(X,Y) :- cell(X,Y), not black(X,Y).\\n\\n% All white cells must be connected\\nconnected(X,Y) :- white(X,Y), adj(DX,DY), white(X+DX,Y+DY).\\n:- white(X,Y), not connected(X,Y).\\n\\n% A number in a circle indicates how many of the 4 adjacent cells must be blackened\\n:- hint(X,Y,N), N != #count{ DX,DY : adj(DX,DY), black(X+DX,Y+DY) }.'}\n",
      "Deep: 1. New answer: I apologize for the mistake. The correct rule should be:\n",
      "\n",
      "% A number in a circle indicates how many of the 4 adjacent cells must be blackened\n",
      ":- hint(X,Y,N), N != #count{ 1,DX,DY : adj(DX,DY), black(X+DX,Y+DY) }.\n",
      "---------------------------------------------------\n",
      "% Define all possible directions (up, down, left, right) in terms of the two axis\n",
      "direction(up,0,-1).\n",
      "direction(down,0,1).\n",
      "direction(left,-1,0).\n",
      "direction(right,1,0).\n",
      "Errors []. Messages [].\n",
      "---------------------------------------------------\n",
      "% Define minimum N and maximum N cells to be blackened among the subset of possible cells, when there is a hint in cell X,Y, \n",
      "% Define the black cells\n",
      "black(X,Y,N) :- hint(X,Y,N), N > 0, direction(_,DX,DY), cell(X+DX,Y+DY).\n",
      "\n",
      "% Define the minimum and maximum number of black cells for a hint\n",
      "min_black(X,Y,N) :- hint(X,Y,N), N = #min{ DX,DY : direction(_,DX,DY), black(X+DX,Y+DY) }.\n",
      "max_black(X,Y,N) :- hint(X,Y,N), N = #max{ DX,DY : direction(_,DX,DY), black(X+DX,Y+DY) }.\n",
      "\n",
      "% Ensure that the number of black cells for a hint is between the minimum and maximum\n",
      ":- hint(X,Y,N), N < min_black(X,Y,N).\n",
      ":- hint(X,Y,N), N > max_black(X,Y,N).\n",
      "Errors []. Messages [].\n"
     ]
    },
    {
     "ename": "IndexError",
     "evalue": "string index out of range",
     "output_type": "error",
     "traceback": [
      "\u001b[1;31m---------------------------------------------------------------------------\u001b[0m",
      "\u001b[1;31mIndexError\u001b[0m                                Traceback (most recent call last)",
      "Cell \u001b[1;32mIn[21], line 12\u001b[0m\n\u001b[0;32m     10\u001b[0m \u001b[38;5;28;01mif\u001b[39;00m line \u001b[38;5;241m==\u001b[39m \u001b[38;5;124m'\u001b[39m\u001b[38;5;130;01m\\n\u001b[39;00m\u001b[38;5;124m'\u001b[39m:\n\u001b[0;32m     11\u001b[0m     \u001b[38;5;28;01mcontinue\u001b[39;00m\n\u001b[1;32m---> 12\u001b[0m \u001b[38;5;28;01mif\u001b[39;00m \u001b[43mline\u001b[49m\u001b[38;5;241;43m.\u001b[39;49m\u001b[43mstrip\u001b[49m\u001b[43m(\u001b[49m\u001b[43m)\u001b[49m\u001b[43m[\u001b[49m\u001b[38;5;241;43m0\u001b[39;49m\u001b[43m]\u001b[49m \u001b[38;5;241m==\u001b[39m \u001b[38;5;124m'\u001b[39m\u001b[38;5;124m%\u001b[39m\u001b[38;5;124m'\u001b[39m:\n\u001b[0;32m     13\u001b[0m     \u001b[38;5;28mprint\u001b[39m(\u001b[38;5;124m\"\u001b[39m\u001b[38;5;124m---------------------------------------------------\u001b[39m\u001b[38;5;124m\"\u001b[39m)\n\u001b[0;32m     14\u001b[0m     new_file\u001b[38;5;241m.\u001b[39mappend(line)\n",
      "\u001b[1;31mIndexError\u001b[0m: string index out of range"
     ]
    }
   ],
   "source": [
    "for project in projects:\n",
    "    story = project[\"story\"]\n",
    "    encoding = project[\"lines\"]\n",
    "    instance = instances_dict[story]\n",
    "    problem = project[\"problem\"]\n",
    "    lines = encoding.splitlines()\n",
    "    new_file = []\n",
    "    messages = [{\"role\":\"user\",\"content\":f\"Problem: {problem}\"}]\n",
    "    for line in lines:\n",
    "        if line == '\\n':\n",
    "            continue\n",
    "        if line.strip()[0] == '%':\n",
    "            print(\"---------------------------------------------------\")\n",
    "            new_file.append(line)\n",
    "            messages.append({\"role\":\"user\",\"content\":line})\n",
    "            print(line)\n",
    "            answer = get_completion_line(line,previous_messages=messages)\n",
    "            print(answer)\n",
    "            new_file.append(answer)\n",
    "            messages.append({\"role\":\"assistant\",\"content\":answer})\n",
    "            new_answer = quality_check(story + \"_tmp_file.lp\",new_file,messages,instance,deep=3)\n",
    "            new_file[-1] = new_answer\n",
    "    break"
   ]
  },
  {
   "cell_type": "code",
   "execution_count": null,
   "id": "2200df70-6d5d-40ae-bf4f-d92a81e0447f",
   "metadata": {},
   "outputs": [],
   "source": [
    "new_file"
   ]
  },
  {
   "cell_type": "markdown",
   "id": "b48a6121-af9c-4aae-ba04-85b4ccb87779",
   "metadata": {},
   "source": [
    "## Run experiments by Version"
   ]
  },
  {
   "cell_type": "code",
   "execution_count": 6,
   "id": "0b2c9397-2e15-4648-b67d-70ca51fed043",
   "metadata": {},
   "outputs": [],
   "source": [
    "def run_main_pipeline(projects,df,conn,version=1):\n",
    "    for project in projects:\n",
    "        query = dict(project)\n",
    "        example_1, example_2 = get_best_context(df,projects,project[\"story\"])\n",
    "        story = query[\"story\"]\n",
    "        story_1 = example_1[\"story\"]\n",
    "        story_2 = example_2[\"story\"]\n",
    "        print(\"Working Pipeline for story \" + story + \". Context: \" + story_1 + \" and \" + story_2)\n",
    "        answer, prompts = pipeline(example_1,example_2,query,version=version)\n",
    "        name_of_file = story+\"_from_\"+story_1+\"_and_\"+story_2+\"_v\"+str(version) + \"_\" + date_time + \".lp\"\n",
    "        path_of_file = os.path.join(\"generated_solutions\", name_of_file)\n",
    "        save_in_database(conn,prompts[0].replace(\"'\",\"\"), prompts[1].replace(\"'\",\"\"), answer.replace(\"'\",\"\"), story, story_1, story_2, version, name_of_file)\n",
    "        with open(path_of_file,\"w\") as file:\n",
    "            file.write(answer)"
   ]
  },
  {
   "cell_type": "code",
   "execution_count": 10,
   "id": "8d7d1a64-764f-4c9d-a4a0-d3466c41d5d6",
   "metadata": {},
   "outputs": [
    {
     "name": "stdout",
     "output_type": "stream",
     "text": [
      "Working Pipeline for story creek. Context: seeknumbers and lights\n",
      "Working Pipeline for story minotaur. Context: seeknumbers and hop\n",
      "Working Pipeline for story seeknumbers. Context: creek and hop\n",
      "Working Pipeline for story sudoku. Context: yosenabe and lights\n",
      "Working Pipeline for story yosenabe. Context: seeknumbers and sudoku\n",
      "Working Pipeline for story hop. Context: seeknumbers and lights\n",
      "Working Pipeline for story lights. Context: seeknumbers and hop\n"
     ]
    }
   ],
   "source": [
    "version = 2\n",
    "run_main_pipeline(projects,df,conn,version)"
   ]
  },
  {
   "cell_type": "code",
   "execution_count": 13,
   "id": "727322b1-205a-424e-b1e2-6cbea39155c7",
   "metadata": {},
   "outputs": [
    {
     "name": "stdout",
     "output_type": "stream",
     "text": [
      "Working Pipeline for story creek. Context: seeknumbers and lights\n",
      "Working Pipeline for story minotaur. Context: seeknumbers and hop\n",
      "Working Pipeline for story seeknumbers. Context: creek and hop\n",
      "Working Pipeline for story sudoku. Context: yosenabe and lights\n",
      "Working Pipeline for story yosenabe. Context: seeknumbers and sudoku\n",
      "Working Pipeline for story hop. Context: seeknumbers and lights\n",
      "Working Pipeline for story lights. Context: seeknumbers and hop\n"
     ]
    }
   ],
   "source": [
    "version = 3\n",
    "run_main_pipeline(projects,df,conn,version)"
   ]
  },
  {
   "cell_type": "code",
   "execution_count": 10,
   "id": "08215bca-5065-413d-8852-74af7f13145b",
   "metadata": {},
   "outputs": [
    {
     "name": "stdout",
     "output_type": "stream",
     "text": [
      "Working Pipeline for story creek. Context: seeknumbers and lights\n",
      "Working Pipeline for story minotaur. Context: seeknumbers and hop\n",
      "Working Pipeline for story seeknumbers. Context: creek and hop\n",
      "Working Pipeline for story sudoku. Context: yosenabe and lights\n",
      "Working Pipeline for story yosenabe. Context: seeknumbers and sudoku\n",
      "Working Pipeline for story hop. Context: seeknumbers and lights\n",
      "Working Pipeline for story lights. Context: seeknumbers and hop\n"
     ]
    }
   ],
   "source": [
    "version = 4\n",
    "run_main_pipeline(projects,df,conn,version)"
   ]
  },
  {
   "cell_type": "code",
   "execution_count": 16,
   "id": "26491786-fee1-4c6b-b0d3-5210e187ddc3",
   "metadata": {},
   "outputs": [
    {
     "name": "stdout",
     "output_type": "stream",
     "text": [
      "Working Pipeline for story creek. Context: seeknumbers and lights\n",
      "Working Pipeline for story minotaur. Context: seeknumbers and hop\n",
      "Working Pipeline for story seeknumbers. Context: creek and hop\n",
      "Working Pipeline for story sudoku. Context: yosenabe and lights\n",
      "Working Pipeline for story yosenabe. Context: seeknumbers and sudoku\n",
      "Working Pipeline for story hop. Context: seeknumbers and lights\n",
      "Working Pipeline for story lights. Context: seeknumbers and hop\n"
     ]
    }
   ],
   "source": [
    "version = 9\n",
    "run_main_pipeline(projects,df,conn,version)"
   ]
  },
  {
   "cell_type": "code",
   "execution_count": 12,
   "id": "edb31ead-d336-470c-9e3b-ab06796e6bee",
   "metadata": {},
   "outputs": [
    {
     "name": "stdout",
     "output_type": "stream",
     "text": [
      "Working Pipeline for story creek. Context: seeknumbers and lights\n",
      "Working Pipeline for story minotaur. Context: seeknumbers and hop\n",
      "Working Pipeline for story seeknumbers. Context: creek and hop\n",
      "Working Pipeline for story sudoku. Context: yosenabe and lights\n",
      "Working Pipeline for story yosenabe. Context: seeknumbers and sudoku\n",
      "Working Pipeline for story hop. Context: seeknumbers and lights\n",
      "Working Pipeline for story lights. Context: seeknumbers and hop\n"
     ]
    }
   ],
   "source": [
    "version = 10\n",
    "run_main_pipeline(projects,df,conn,version)"
   ]
  },
  {
   "cell_type": "markdown",
   "id": "4b20ea29-cfee-4500-bac2-f66a393e3219",
   "metadata": {},
   "source": [
    "## All against all"
   ]
  },
  {
   "cell_type": "code",
   "execution_count": 11,
   "id": "9dd4d384-f25e-4345-bb39-aa55d4734e30",
   "metadata": {},
   "outputs": [],
   "source": [
    "def try_pipeline(example_1,example_2,query,version, iteration=0):\n",
    "    story = query[\"story\"]\n",
    "    story_1 = example_1[\"story\"]\n",
    "    story_2 = example_2[\"story\"]\n",
    "    if iteration == 4:\n",
    "        raise Exception(f\"It was not possible to have an encoding for story {story} from {story_1} and {story_2}. Too many tries to connect to the internet. Check your connection and try it again.\") \n",
    "    else:\n",
    "        iteration += 1\n",
    "        try:\n",
    "            answer, prompts = pipeline(example_1,example_2,query,version)\n",
    "            return answer, prompts\n",
    "        except:\n",
    "            print(f\"|-- Failed in Iteration {iteration}\")\n",
    "            time.sleep(40 + 10*iteration)\n",
    "            answer, prompts = try_pipeline(example_1,example_2,query,version,iteration)\n",
    "            return answer, prompts"
   ]
  },
  {
   "cell_type": "code",
   "execution_count": 13,
   "id": "16c460e1-52b1-4ec2-9b85-b45fa8ed99b1",
   "metadata": {},
   "outputs": [
    {
     "name": "stdout",
     "output_type": "stream",
     "text": [
      "Version: 3. Story yosenabe. Context: hop and minotaur. \t Timestamp: 2023-12-04 18:33:58.508095\n",
      "Version: 3. Story yosenabe. Context: hop and seeknumbers. \t Timestamp: 2023-12-04 18:34:56.353044\n",
      "Version: 3. Story yosenabe. Context: hop and sudoku. \t Timestamp: 2023-12-04 18:36:21.085547\n",
      "Version: 3. Story yosenabe. Context: hop and lights. \t Timestamp: 2023-12-04 18:37:21.399797\n",
      "Version: 3. Story yosenabe. Context: lights and creek. \t Timestamp: 2023-12-04 18:38:14.380921\n",
      "Version: 3. Story yosenabe. Context: lights and minotaur. \t Timestamp: 2023-12-04 18:47:01.173759\n",
      "Version: 3. Story yosenabe. Context: lights and seeknumbers. \t Timestamp: 2023-12-04 18:47:49.355794\n",
      "Version: 3. Story yosenabe. Context: lights and sudoku. \t Timestamp: 2023-12-04 18:49:30.364612\n",
      "Version: 3. Story yosenabe. Context: lights and hop. \t Timestamp: 2023-12-04 18:50:32.561207\n",
      "Version: 3. Story hop. Context: creek and minotaur. \t Timestamp: 2023-12-04 18:51:48.341806\n",
      "Version: 3. Story hop. Context: creek and seeknumbers. \t Timestamp: 2023-12-04 18:52:17.476471\n",
      "Version: 3. Story hop. Context: creek and sudoku. \t Timestamp: 2023-12-04 18:53:00.279667\n",
      "Version: 3. Story hop. Context: creek and yosenabe. \t Timestamp: 2023-12-04 18:53:27.888194\n",
      "Version: 3. Story hop. Context: creek and lights. \t Timestamp: 2023-12-04 18:54:00.900660\n",
      "Version: 3. Story hop. Context: minotaur and creek. \t Timestamp: 2023-12-04 18:54:33.209912\n",
      "Version: 3. Story hop. Context: minotaur and seeknumbers. \t Timestamp: 2023-12-04 18:54:57.830746\n",
      "Version: 3. Story hop. Context: minotaur and sudoku. \t Timestamp: 2023-12-04 18:55:24.931625\n",
      "Version: 3. Story hop. Context: minotaur and yosenabe. \t Timestamp: 2023-12-04 18:56:00.440566\n",
      "Version: 3. Story hop. Context: minotaur and lights. \t Timestamp: 2023-12-04 18:56:35.899163\n",
      "Version: 3. Story hop. Context: seeknumbers and creek. \t Timestamp: 2023-12-04 18:58:10.645564\n",
      "Version: 3. Story hop. Context: seeknumbers and minotaur. \t Timestamp: 2023-12-04 19:07:51.384934\n",
      "Version: 3. Story hop. Context: seeknumbers and sudoku. \t Timestamp: 2023-12-04 19:08:25.358175\n",
      "Version: 3. Story hop. Context: seeknumbers and yosenabe. \t Timestamp: 2023-12-04 19:17:57.184346\n",
      "Version: 3. Story hop. Context: seeknumbers and lights. \t Timestamp: 2023-12-04 19:18:30.810365\n",
      "Version: 3. Story hop. Context: sudoku and creek. \t Timestamp: 2023-12-04 19:19:17.183644\n",
      "Version: 3. Story hop. Context: sudoku and minotaur. \t Timestamp: 2023-12-04 19:19:53.157293\n",
      "Version: 3. Story hop. Context: sudoku and seeknumbers. \t Timestamp: 2023-12-04 19:20:49.748391\n",
      "Version: 3. Story hop. Context: sudoku and yosenabe. \t Timestamp: 2023-12-04 19:21:33.183549\n",
      "Version: 3. Story hop. Context: sudoku and lights. \t Timestamp: 2023-12-04 19:22:35.134831\n",
      "Version: 3. Story hop. Context: yosenabe and creek. \t Timestamp: 2023-12-04 19:32:02.129839\n",
      "Version: 3. Story hop. Context: yosenabe and minotaur. \t Timestamp: 2023-12-04 19:32:41.480767\n",
      "Version: 3. Story hop. Context: yosenabe and seeknumbers. \t Timestamp: 2023-12-04 19:40:08.239346\n",
      "Version: 3. Story hop. Context: yosenabe and sudoku. \t Timestamp: 2023-12-04 19:40:43.632666\n",
      "Version: 3. Story hop. Context: yosenabe and lights. \t Timestamp: 2023-12-04 19:41:39.007804\n",
      "Version: 3. Story hop. Context: lights and creek. \t Timestamp: 2023-12-04 19:42:18.846901\n",
      "Version: 3. Story hop. Context: lights and minotaur. \t Timestamp: 2023-12-04 19:42:56.756187\n",
      "Version: 3. Story hop. Context: lights and seeknumbers. \t Timestamp: 2023-12-04 19:50:41.963926\n",
      "Version: 3. Story hop. Context: lights and sudoku. \t Timestamp: 2023-12-04 19:59:26.425248\n",
      "Version: 3. Story hop. Context: lights and yosenabe. \t Timestamp: 2023-12-04 20:00:37.530927\n",
      "Version: 3. Story lights. Context: creek and minotaur. \t Timestamp: 2023-12-04 20:01:22.910020\n",
      "Version: 3. Story lights. Context: creek and seeknumbers. \t Timestamp: 2023-12-04 20:02:19.719077\n",
      "Version: 3. Story lights. Context: creek and sudoku. \t Timestamp: 2023-12-04 20:03:02.298031\n",
      "Version: 3. Story lights. Context: creek and yosenabe. \t Timestamp: 2023-12-04 20:03:39.141217\n",
      "Version: 3. Story lights. Context: creek and hop. \t Timestamp: 2023-12-04 20:04:27.975662\n",
      "Version: 3. Story lights. Context: minotaur and creek. \t Timestamp: 2023-12-04 20:05:11.362416\n",
      "Version: 3. Story lights. Context: minotaur and seeknumbers. \t Timestamp: 2023-12-04 20:06:17.953625\n",
      "Version: 3. Story lights. Context: minotaur and sudoku. \t Timestamp: 2023-12-04 20:06:51.845670\n",
      "Version: 3. Story lights. Context: minotaur and yosenabe. \t Timestamp: 2023-12-04 20:07:34.461812\n",
      "Version: 3. Story lights. Context: minotaur and hop. \t Timestamp: 2023-12-04 20:08:31.756114\n",
      "Version: 3. Story lights. Context: seeknumbers and creek. \t Timestamp: 2023-12-04 20:09:10.013336\n",
      "Version: 3. Story lights. Context: seeknumbers and minotaur. \t Timestamp: 2023-12-04 20:09:48.094447\n",
      "Version: 3. Story lights. Context: seeknumbers and sudoku. \t Timestamp: 2023-12-04 20:10:29.064796\n",
      "Version: 3. Story lights. Context: seeknumbers and yosenabe. \t Timestamp: 2023-12-04 20:11:24.957217\n",
      "Version: 3. Story lights. Context: seeknumbers and hop. \t Timestamp: 2023-12-04 20:12:18.355434\n",
      "Version: 3. Story lights. Context: sudoku and creek. \t Timestamp: 2023-12-04 20:12:49.422704\n",
      "Version: 3. Story lights. Context: sudoku and minotaur. \t Timestamp: 2023-12-04 20:13:31.188226\n",
      "Version: 3. Story lights. Context: sudoku and seeknumbers. \t Timestamp: 2023-12-04 20:14:19.472394\n",
      "Version: 3. Story lights. Context: sudoku and yosenabe. \t Timestamp: 2023-12-04 20:14:56.404958\n",
      "Version: 3. Story lights. Context: sudoku and hop. \t Timestamp: 2023-12-04 20:16:19.530064\n",
      "Version: 3. Story lights. Context: yosenabe and creek. \t Timestamp: 2023-12-04 20:16:57.286609\n",
      "Version: 3. Story lights. Context: yosenabe and minotaur. \t Timestamp: 2023-12-04 20:17:34.968495\n",
      "Version: 3. Story lights. Context: yosenabe and seeknumbers. \t Timestamp: 2023-12-04 20:18:17.126162\n",
      "Version: 3. Story lights. Context: yosenabe and sudoku. \t Timestamp: 2023-12-04 20:19:10.963685\n",
      "Version: 3. Story lights. Context: yosenabe and hop. \t Timestamp: 2023-12-04 20:19:44.734499\n",
      "Version: 3. Story lights. Context: hop and creek. \t Timestamp: 2023-12-04 20:20:11.443244\n",
      "Version: 3. Story lights. Context: hop and minotaur. \t Timestamp: 2023-12-04 20:20:43.292304\n",
      "Version: 3. Story lights. Context: hop and seeknumbers. \t Timestamp: 2023-12-04 20:21:33.217469\n",
      "Version: 3. Story lights. Context: hop and sudoku. \t Timestamp: 2023-12-04 20:22:24.255863\n",
      "Version: 3. Story lights. Context: hop and yosenabe. \t Timestamp: 2023-12-04 20:23:08.860840\n"
     ]
    }
   ],
   "source": [
    "versions = [3] ##schon: 2,3,4,9,10\n",
    "for version in versions:\n",
    "    for project in projects:\n",
    "        if project in [creek, sudoku, minotaur, seeknumbers]: #, sudoku, yosenabe]:\n",
    "            continue\n",
    "        for example_1 in projects:\n",
    "            if example_1 == project:\n",
    "                continue\n",
    "            if project == yosenabe and example_1 in [creek, minotaur, seeknumbers, sudoku]: #sudoku, yosenabe]:\n",
    "                continue\n",
    "            #if example_1 != sudoku:\n",
    "            #    continue\n",
    "            for example_2 in projects:\n",
    "                if example_2 == project or example_2 == example_1:\n",
    "                    continue\n",
    "                if project == yosenabe and example_1 == hop and example_2 in [creek]:\n",
    "                    continue\n",
    "                #if example_1 == sudoku and example_2 in [creek]:#, seeknumbers, yosenabe]:\n",
    "                #    continue\n",
    "                query = dict(project)\n",
    "                story = query[\"story\"]\n",
    "                story_1 = example_1[\"story\"]\n",
    "                story_2 = example_2[\"story\"]\n",
    "                ct = datetime.now()\n",
    "                print(f\"Version: {version}. Story {story}. Context: {story_1} and {story_2}. \\t Timestamp: {ct}\")\n",
    "                answer, prompts = try_pipeline(example_1,example_2,query,version=version)\n",
    "                name_of_file = story+\"_from_\"+story_1+\"_and_\"+story_2+\"_v\"+str(version) + \"_\" + date_time + \".lp\"\n",
    "                path_of_file = os.path.join(\"generated_solutions\", name_of_file)\n",
    "                save_in_database(conn,prompts[0].replace(\"'\",\"\"), prompts[1].replace(\"'\",\"\"), answer.replace(\"'\",\"\"), story, story_1, story_2, version, name_of_file)\n",
    "                with open(path_of_file,\"w\") as file:\n",
    "                    file.write(answer)\n",
    "                time.sleep(1)"
   ]
  },
  {
   "cell_type": "code",
   "execution_count": null,
   "id": "83600961-3324-4a08-989d-a13c5bb59ce2",
   "metadata": {},
   "outputs": [],
   "source": []
  }
 ],
 "metadata": {
  "kernelspec": {
   "display_name": "Python 3 (ipykernel)",
   "language": "python",
   "name": "python3"
  },
  "language_info": {
   "codemirror_mode": {
    "name": "ipython",
    "version": 3
   },
   "file_extension": ".py",
   "mimetype": "text/x-python",
   "name": "python",
   "nbconvert_exporter": "python",
   "pygments_lexer": "ipython3",
   "version": "3.9.13"
  }
 },
 "nbformat": 4,
 "nbformat_minor": 5
}
