{
 "cells": [
  {
   "cell_type": "code",
   "execution_count": 2,
   "id": "cd915efe-2a9e-4bbb-a434-c6b08492ed63",
   "metadata": {},
   "outputs": [],
   "source": [
    "### Import libraries\n",
    "import openai\n",
    "import os\n",
    "import time\n",
    "from datetime import datetime\n",
    "import pandas as pd\n",
    "import clingo\n",
    "from clingo.control import Control\n",
    "import json\n",
    "from yaml import load, Loader\n",
    "from helper import *\n",
    "from stories import *"
   ]
  },
  {
   "cell_type": "code",
   "execution_count": 13,
   "id": "26392ca8-3189-491e-8fe6-261e2bb6f807",
   "metadata": {},
   "outputs": [],
   "source": [
    "with open(\"config.yml\",\"r\") as config:\n",
    "    data = load(config, Loader=Loader)\n",
    "    api_key = data[\"apikey\"]\n",
    "    openai.api_key  = api_key"
   ]
  },
  {
   "cell_type": "code",
   "execution_count": 14,
   "id": "3527de00-092e-4c0b-bcc5-09d4a856c08b",
   "metadata": {},
   "outputs": [],
   "source": [
    "version = 0"
   ]
  },
  {
   "cell_type": "code",
   "execution_count": 15,
   "id": "3305f92f-da03-4f07-89d2-dca265d5d474",
   "metadata": {},
   "outputs": [],
   "source": [
    "goal_problems = [sudoku,seeknumbers,minotaur,creek]"
   ]
  },
  {
   "cell_type": "code",
   "execution_count": 5,
   "id": "0b2c9397-2e15-4648-b67d-70ca51fed043",
   "metadata": {},
   "outputs": [],
   "source": [
    "for gp in goal_problems:\n",
    "    query = dict(gp)\n",
    "    example_1 = nqueens\n",
    "    example_2 = furniture\n",
    "    story = query[\"story\"]\n",
    "    story_1 = example_1[\"story\"]\n",
    "    story_2 = example_2[\"story\"]\n",
    "    answer = pipeline(example_1,example_2,query)\n",
    "    name_of_file = os.path.join(\"generated_solutions\",story+\"_from_\"+story_1+\"_and_\"+story_2+\"_v\"+str(version)+\".lp\")\n",
    "    with open(name_of_file,\"w\") as file:\n",
    "        file.write(answer)"
   ]
  },
  {
   "cell_type": "code",
   "execution_count": 4,
   "id": "7bac1d0a-7dff-432d-bc04-0b88fb5c80b9",
   "metadata": {},
   "outputs": [],
   "source": [
    "def asp_try(asp_file, instance):\n",
    "    solution = \"\"\n",
    "    models = None\n",
    "    success = 0\n",
    "    try:\n",
    "        ctl = Control(arguments=[\"--opt-mode=opt\"])\n",
    "        ctl.load(asp_file)\n",
    "        ctl.load(instance)\n",
    "        ctl.add(\"base\", [], solution)\n",
    "        parts = [(\"base\", [])]\n",
    "        ctl.ground(parts)      \n",
    "        try:       \n",
    "            with ctl.solve(yield_=True, async_=True) as handle: \n",
    "                handle.wait(10)\n",
    "                handle.cancel()\n",
    "                models = list(iter(handle))\n",
    "                if len(models) > 0:\n",
    "                    success = 1\n",
    "                    #for m in models:\n",
    "                    #    print(m.symbols(True,True,True))\n",
    "        except:\n",
    "            print(\"Unsatisfiable\")\n",
    "    except:\n",
    "        print(\"Parsing or Safety Issues\")\n",
    "    return success, models"
   ]
  },
  {
   "cell_type": "code",
   "execution_count": 7,
   "id": "a6cdabcd-0213-4468-a538-ccc62816a768",
   "metadata": {},
   "outputs": [],
   "source": [
    "instances_dict ={\"sudoku\":os.path.join(\"projects\",\"sudoku\",\"instances\",\"ex01.lp\"),\n",
    "                 \"seeknumbers\":os.path.join(\"projects\",\"seeknumbers\",\"instances\",\"ex01.lp\"),\n",
    "                 \"minotaur\":os.path.join(\"projects\",\"minotaur\",\"instances\",\"level01.lp\"),\n",
    "                 \"creek\":os.path.join(\"projects\",\"creek\",\"instances\",\"ex01.lp\")\n",
    "                }"
   ]
  },
  {
   "cell_type": "code",
   "execution_count": 8,
   "id": "20c25039-cc33-4b24-bcc5-a9f0ed36ece7",
   "metadata": {},
   "outputs": [
    {
     "name": "stdout",
     "output_type": "stream",
     "text": [
      "========================================generated_solutions\\sudoku_from_NQueens_and_furniture_v0.lp========================================\n",
      "Length of File:12\n",
      "Success: 0\n",
      "========================================generated_solutions\\seeknumbers_from_NQueens_and_furniture_v0.lp========================================\n",
      "Length of File:56\n",
      "Parsing or Safety Issues\n",
      "Success: 0\n",
      "========================================generated_solutions\\minotaur_from_NQueens_and_furniture_v0.lp========================================\n",
      "Length of File:25\n",
      "Success: 0\n",
      "========================================generated_solutions\\creek_from_NQueens_and_furniture_v0.lp========================================\n",
      "Length of File:20\n",
      "Parsing or Safety Issues\n",
      "Success: 0\n"
     ]
    }
   ],
   "source": [
    "for gp in goal_problems:\n",
    "    query = dict(gp)\n",
    "    example_1 = nqueens\n",
    "    example_2 = furniture\n",
    "    story = query[\"story\"]\n",
    "    story_1 = example_1[\"story\"]\n",
    "    story_2 = example_2[\"story\"]\n",
    "    name_of_file = os.path.join(\"generated_solutions\",story+\"_from_\"+story_1+\"_and_\"+story_2+\"_v\"+str(version)+\".lp\")\n",
    "    print(\"=\"*40 + name_of_file + \"=\"*40)\n",
    "    with open(name_of_file,\"r\") as f:\n",
    "        print(\"Length of File:\" + str(len(f.readlines())))\n",
    "    instance = instances_dict[story]\n",
    "    success, models = asp_try(name_of_file,instance)\n",
    "    print(\"Success: \" + str(success))\n",
    "    if models:\n",
    "        for m in models:\n",
    "            print(m.symbols(True,True,True))"
   ]
  },
  {
   "cell_type": "markdown",
   "id": "01e48569-9942-4cc8-b7ab-6d9131a88a72",
   "metadata": {},
   "source": [
    "## End of Pipeline"
   ]
  },
  {
   "cell_type": "code",
   "execution_count": 5,
   "id": "45b94de0-ba84-48c6-8655-e950c1d8b108",
   "metadata": {},
   "outputs": [],
   "source": [
    "name_of_file = os.path.join(\"projects\",\"sudoku\",\"canonical_sudoku.lp\")\n",
    "instance = os.path.join(\"projects\",\"sudoku\",\"instances\",\"ex01.lp\")\n",
    "success, models = asp_try(name_of_file,instance)"
   ]
  },
  {
   "cell_type": "code",
   "execution_count": 6,
   "id": "56c674ac-b244-425d-8b79-3904d47c7dbf",
   "metadata": {},
   "outputs": [],
   "source": [
    "solution = \"\"\n",
    "ctl = Control(arguments=[\"--opt-mode=opt\"])\n",
    "ctl.load(name_of_file)\n",
    "ctl.load(instance)\n",
    "ctl.add(\"base\", [], solution)\n",
    "parts = [(\"base\", [])]\n",
    "ctl.ground(parts)"
   ]
  },
  {
   "cell_type": "code",
   "execution_count": 8,
   "id": "e330ffde-1bf6-4497-b75c-26ea06f6dfbd",
   "metadata": {},
   "outputs": [],
   "source": [
    "with ctl.solve(yield_=True, async_=True) as handle: \n",
    "    handle.wait(10)\n",
    "    handle.cancel()\n",
    "    models = list(iter(handle))\n",
    "    if len(models) > 0:\n",
    "        success = 1"
   ]
  },
  {
   "cell_type": "code",
   "execution_count": 7,
   "id": "9482fbca-afe8-45b1-9db2-559d93166b5e",
   "metadata": {},
   "outputs": [
    {
     "name": "stdout",
     "output_type": "stream",
     "text": [
      "Length: 241\n"
     ]
    }
   ],
   "source": [
    "hello = ctl.symbolic_atoms.by_signature('sudoku',3)\n",
    "count = 0\n",
    "for h in hello:\n",
    "    count += 1\n",
    "    #print(h.symbol)\n",
    "print(\"Length: \" + str(count))"
   ]
  },
  {
   "cell_type": "code",
   "execution_count": 4,
   "id": "a7b6bdd3-4ea3-4766-b074-c402e9835969",
   "metadata": {},
   "outputs": [
    {
     "name": "stdout",
     "output_type": "stream",
     "text": [
      "0\n"
     ]
    }
   ],
   "source": [
    "print(success)"
   ]
  },
  {
   "cell_type": "code",
   "execution_count": 1,
   "id": "bea8bec0-098c-4c79-aa7c-423273eb5a03",
   "metadata": {},
   "outputs": [
    {
     "ename": "NameError",
     "evalue": "name 'models' is not defined",
     "output_type": "error",
     "traceback": [
      "\u001b[1;31m---------------------------------------------------------------------------\u001b[0m",
      "\u001b[1;31mNameError\u001b[0m                                 Traceback (most recent call last)",
      "Cell \u001b[1;32mIn[1], line 1\u001b[0m\n\u001b[1;32m----> 1\u001b[0m \u001b[38;5;28;01mfor\u001b[39;00m m \u001b[38;5;129;01min\u001b[39;00m \u001b[43mmodels\u001b[49m:\n\u001b[0;32m      2\u001b[0m     \u001b[38;5;28mprint\u001b[39m(m\u001b[38;5;241m.\u001b[39msymbols(\u001b[38;5;28;01mTrue\u001b[39;00m,\u001b[38;5;28;01mTrue\u001b[39;00m,\u001b[38;5;28;01mTrue\u001b[39;00m))\n",
      "\u001b[1;31mNameError\u001b[0m: name 'models' is not defined"
     ]
    }
   ],
   "source": [
    "for m in models:\n",
    "    print(m.symbols(True,True,True))"
   ]
  },
  {
   "cell_type": "code",
   "execution_count": 12,
   "id": "2e86fb0d-7ce7-40d2-afc3-b3c81d16c6ad",
   "metadata": {},
   "outputs": [],
   "source": [
    "constraints_seeknumbers = get_definition_rules(olympics,furniture,copy_seeknumbers)"
   ]
  },
  {
   "cell_type": "code",
   "execution_count": 13,
   "id": "ec599e97-3c1c-4905-8b17-5627bff7de4b",
   "metadata": {},
   "outputs": [
    {
     "name": "stdout",
     "output_type": "stream",
     "text": [
      "% No option in any category will ever be used more than once.\n",
      "{C1=C2; C1=C3; C1=C4; C2=C3; C2=C4; C3=C4}=0 :- cell(C1), cell(C2), cell(C3), cell(C4), (C1,C2,C3,C4)!=(C2,C3,C4,C1).\n",
      "{F1=F2; F1=F3; F1=F4; F2=F3; F2=F4; F3=F4}=0 :- first(F1), first(F2), first(F3), first(F4), (F1,F2,F3,F4)!=(F2,F3,F4,F1).\n",
      "{Fi1=Fi2; Fi1=Fi3; Fi1=Fi4; Fi2=Fi3; Fi2=Fi4; Fi3=Fi4}=0 :- final(Fi1), final(Fi2), final(Fi3), final(Fi4), (Fi1,Fi2,Fi3,Fi4)!=(Fi2,Fi3,Fi4,Fi1).\n",
      "{H1=H2; H1=H3; H1=H4; H2=H3; H2=H4; H3=H4}=0 :- hint(H1), hint(H2), hint(H3), hint(H4), (H1,H2,H3,H4)!=(H2,H3,H4,H1).\n",
      "\n",
      "% The first cell of the path is (1,1).\n",
      "first(1,1).\n",
      "\n",
      "% The final cell of the path is (5,5).\n",
      "final(5,5).\n",
      "\n",
      "% The cell (X,Y) contains the hint number N.\n",
      "hint(1,2,3).\n",
      "hint(2,3,2).\n",
      "hint(3,4,1).\n",
      "hint(4,5,4).\n",
      "\n",
      "% The path must start at the first cell.\n",
      "path(X,Y) :- first(X,Y).\n",
      "\n",
      "% The path must end at the final cell.\n",
      "path(X,Y) :- final(X,Y).\n",
      "\n",
      "% The path must go through the cells containing the hint numbers.\n",
      "path(X,Y) :- hint(X,Y,_).\n",
      "\n",
      "% The path can only move to adjacent cells.\n",
      "path(X2,Y2) :- path(X1,Y1), (X2,Y2) is (X1+1,Y1), cell(X2,Y2).\n",
      "path(X2,Y2) :- path(X1,Y1), (X2,Y2) is (X1-1,Y1), cell(X2,Y2).\n",
      "path(X2,Y2) :- path(X1,Y1), (X2,Y2) is (X1,Y1+1), cell(X2,Y2).\n",
      "path(X2,Y2) :- path(X1,Y1), (X2,Y2) is (X1,Y1-1), cell(X2,Y2).\n"
     ]
    }
   ],
   "source": [
    "print(constraints_seeknumbers)"
   ]
  },
  {
   "cell_type": "code",
   "execution_count": null,
   "id": "67b7dbe2-b948-4a0a-a81b-42229ac0dfeb",
   "metadata": {},
   "outputs": [],
   "source": []
  }
 ],
 "metadata": {
  "kernelspec": {
   "display_name": "Python 3 (ipykernel)",
   "language": "python",
   "name": "python3"
  },
  "language_info": {
   "codemirror_mode": {
    "name": "ipython",
    "version": 3
   },
   "file_extension": ".py",
   "mimetype": "text/x-python",
   "name": "python",
   "nbconvert_exporter": "python",
   "pygments_lexer": "ipython3",
   "version": "3.9.13"
  }
 },
 "nbformat": 4,
 "nbformat_minor": 5
}
