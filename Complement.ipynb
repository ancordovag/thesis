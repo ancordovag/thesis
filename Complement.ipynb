{
 "cells": [
  {
   "cell_type": "code",
   "execution_count": 13,
   "id": "f887951f-198d-4a0d-a243-98bfdb203eea",
   "metadata": {},
   "outputs": [],
   "source": [
    "import pipelines\n",
    "from stories import get_useful_projects\n",
    "import os\n",
    "import sys\n",
    "import psycopg2\n",
    "import pandas as pd\n",
    "from yaml import load, Loader\n",
    "import openai\n",
    "from datetime import datetime\n",
    "from pipelines import *"
   ]
  },
  {
   "cell_type": "code",
   "execution_count": 14,
   "id": "9d981b23-a77d-42f8-a341-1c50f746bf0d",
   "metadata": {},
   "outputs": [],
   "source": [
    "with open(\"config.yml\",\"r\") as config:\n",
    "    data = load(config, Loader=Loader)\n",
    "    api_key = data[\"apikey\"]\n",
    "    openai.api_key  = api_key"
   ]
  },
  {
   "cell_type": "code",
   "execution_count": 15,
   "id": "544de20f-d706-49a5-b9c9-3cdd0a86f6d0",
   "metadata": {},
   "outputs": [
    {
     "name": "stdout",
     "output_type": "stream",
     "text": [
      "creek\n",
      "minotaur\n",
      "seeknumbers\n",
      "sudoku\n",
      "yosenabe\n",
      "hop\n",
      "lights\n"
     ]
    }
   ],
   "source": [
    "projects = get_useful_projects()\n",
    "for p in projects:\n",
    "    print(p['story'])"
   ]
  },
  {
   "cell_type": "code",
   "execution_count": 16,
   "id": "594e84aa-a607-42aa-be81-c629272692d0",
   "metadata": {},
   "outputs": [
    {
     "name": "stdout",
     "output_type": "stream",
     "text": [
      "Connection established\n"
     ]
    }
   ],
   "source": [
    "conn_string = \"dbname=thesis user=postgres password=postgres\"\n",
    "conn = psycopg2.connect(conn_string)\n",
    "print(\"Connection established\")"
   ]
  },
  {
   "cell_type": "code",
   "execution_count": 17,
   "id": "2b392e73-baef-463f-b61d-314cf5bcc4b4",
   "metadata": {},
   "outputs": [],
   "source": [
    "def search_encoding(conn,story,story_1,story_2,version):\n",
    "    sql = \"SELECT id, encoding FROM experiments WHERE story = '\"+story +\"' AND story_1 = '\" +story_1 + \"' AND story_2 = '\"+ story_2 +\"' AND version = \"+str(version) \n",
    "    #print(sql)\n",
    "    cursor = conn.cursor()\n",
    "    try:\n",
    "        cursor.execute(sql)\n",
    "        result = cursor.fetchall()\n",
    "        conn.commit()\n",
    "        cursor.close()\n",
    "    except:\n",
    "        print(\"Search failed\")\n",
    "        result = [(-1,\"\")]\n",
    "        conn.commit()\n",
    "        cursor.close()    \n",
    "    return result[0][0], result[0][1]"
   ]
  },
  {
   "cell_type": "code",
   "execution_count": 18,
   "id": "bc80c709-95e4-4a22-8af1-687ed6cea78e",
   "metadata": {},
   "outputs": [],
   "source": [
    "def update_encoding(conn,id,prompt2,answer):\n",
    "    sql = \"UPDATE experiments SET encoding = '\"+answer +\"', prompt2 = '\"+ prompt2 +\"' WHERE id = \" + str(id)\n",
    "    #print(sql)\n",
    "    cursor = conn.cursor()\n",
    "    try:\n",
    "        cursor.execute(sql)\n",
    "        conn.commit()\n",
    "        cursor.close()\n",
    "    except:\n",
    "        print(\"Update failed. SQL: \")\n",
    "        print(sql)\n",
    "        conn.commit()\n",
    "        cursor.close()"
   ]
  },
  {
   "cell_type": "code",
   "execution_count": 27,
   "id": "d7950073-ba1d-41fd-afd7-7c0bd2f330e7",
   "metadata": {},
   "outputs": [
    {
     "name": "stdout",
     "output_type": "stream",
     "text": [
      "Version: 10. Story lights. Context: creek and sudoku. \t Timestamp: 2024-01-01 17:12:44.588738\n",
      "Version: 10. Story lights. Context: creek and yosenabe. \t Timestamp: 2024-01-01 17:12:57.860113\n",
      "Version: 10. Story lights. Context: creek and hop. \t Timestamp: 2024-01-01 17:13:17.346901\n",
      "Version: 10. Story lights. Context: minotaur and creek. \t Timestamp: 2024-01-01 17:13:40.431067\n",
      "Version: 10. Story lights. Context: minotaur and seeknumbers. \t Timestamp: 2024-01-01 17:14:17.763006\n",
      "Version: 10. Story lights. Context: minotaur and sudoku. \t Timestamp: 2024-01-01 17:14:37.478182\n",
      "Version: 10. Story lights. Context: minotaur and yosenabe. \t Timestamp: 2024-01-01 17:14:54.776726\n",
      "Version: 10. Story lights. Context: minotaur and hop. \t Timestamp: 2024-01-01 17:15:14.869576\n",
      "Version: 10. Story lights. Context: seeknumbers and creek. \t Timestamp: 2024-01-01 17:15:47.435999\n",
      "Version: 10. Story lights. Context: seeknumbers and minotaur. \t Timestamp: 2024-01-01 17:22:55.363268\n",
      "Version: 10. Story lights. Context: seeknumbers and sudoku. \t Timestamp: 2024-01-01 17:23:18.058132\n",
      "Version: 10. Story lights. Context: seeknumbers and yosenabe. \t Timestamp: 2024-01-01 17:23:42.318496\n",
      "Version: 10. Story lights. Context: seeknumbers and hop. \t Timestamp: 2024-01-01 17:24:00.023091\n",
      "Version: 10. Story lights. Context: sudoku and creek. \t Timestamp: 2024-01-01 17:24:38.015039\n",
      "Version: 10. Story lights. Context: sudoku and minotaur. \t Timestamp: 2024-01-01 17:25:07.293163\n",
      "Version: 10. Story lights. Context: sudoku and seeknumbers. \t Timestamp: 2024-01-01 17:25:22.459059\n",
      "Version: 10. Story lights. Context: sudoku and yosenabe. \t Timestamp: 2024-01-01 17:25:36.378648\n",
      "Version: 10. Story lights. Context: sudoku and hop. \t Timestamp: 2024-01-01 17:25:50.202323\n",
      "Version: 10. Story lights. Context: yosenabe and creek. \t Timestamp: 2024-01-01 17:26:27.732755\n",
      "Version: 10. Story lights. Context: yosenabe and minotaur. \t Timestamp: 2024-01-01 17:26:52.052250\n",
      "Version: 10. Story lights. Context: yosenabe and seeknumbers. \t Timestamp: 2024-01-01 17:27:12.648206\n",
      "Version: 10. Story lights. Context: yosenabe and sudoku. \t Timestamp: 2024-01-01 17:27:33.484771\n",
      "Version: 10. Story lights. Context: yosenabe and hop. \t Timestamp: 2024-01-01 17:27:53.735971\n",
      "Version: 10. Story lights. Context: hop and creek. \t Timestamp: 2024-01-01 17:28:36.649867\n",
      "Version: 10. Story lights. Context: hop and minotaur. \t Timestamp: 2024-01-01 17:28:51.064418\n",
      "Version: 10. Story lights. Context: hop and seeknumbers. \t Timestamp: 2024-01-01 17:29:23.926693\n",
      "Version: 10. Story lights. Context: hop and sudoku. \t Timestamp: 2024-01-01 17:30:03.630575\n",
      "Version: 10. Story lights. Context: hop and yosenabe. \t Timestamp: 2024-01-01 17:30:24.998617\n"
     ]
    }
   ],
   "source": [
    "versions = [10] # done: 9 \n",
    "for version in versions:\n",
    "    for project in projects:\n",
    "        query = dict(project)\n",
    "        story = query[\"story\"]\n",
    "        if story in ['creek', 'minotaur','seeknumbers', 'sudoku', 'yosenabe','hop']:\n",
    "            continue\n",
    "        for example_1 in projects:\n",
    "            story_1 = example_1[\"story\"]\n",
    "            if example_1 == project:\n",
    "                continue\n",
    "            for example_2 in projects:\n",
    "                if example_2 == project or example_2 == example_1:\n",
    "                    continue                \n",
    "                story_2 = example_2[\"story\"]\n",
    "                if story == 'lights' and story_1 == 'creek' and story_2 in ['minotaur', 'seeknumbers']:\n",
    "                    continue\n",
    "                id, query['Generation rules'] = search_encoding(conn,story,story_1,story_2,str(version))\n",
    "                ct = datetime.now()\n",
    "                print(f\"Version: {version}. Story {story}. Context: {story_1} and {story_2}. \\t Timestamp: {ct}\")\n",
    "                answer, prompt2 = pipeline_complement(example_1,example_2,query)\n",
    "                answer = answer.replace(\"'\",\"\")\n",
    "                prompt2 = prompt2.replace(\"'\",\"\")\n",
    "                update_encoding(conn,id,prompt2,answer)\n",
    "                #sys.exit(0)"
   ]
  },
  {
   "cell_type": "code",
   "execution_count": null,
   "id": "3d763463-99ee-4230-9678-d8e037c6bf85",
   "metadata": {},
   "outputs": [],
   "source": []
  }
 ],
 "metadata": {
  "kernelspec": {
   "display_name": "Python 3 (ipykernel)",
   "language": "python",
   "name": "python3"
  },
  "language_info": {
   "codemirror_mode": {
    "name": "ipython",
    "version": 3
   },
   "file_extension": ".py",
   "mimetype": "text/x-python",
   "name": "python",
   "nbconvert_exporter": "python",
   "pygments_lexer": "ipython3",
   "version": "3.9.13"
  }
 },
 "nbformat": 4,
 "nbformat_minor": 5
}
