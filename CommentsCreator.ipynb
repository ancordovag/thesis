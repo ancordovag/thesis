{
 "cells": [
  {
   "cell_type": "markdown",
   "id": "56ce1272-3d00-4396-9005-e2dad5bd7036",
   "metadata": {},
   "source": [
    "# Comments Creator"
   ]
  },
  {
   "cell_type": "code",
   "execution_count": 1,
   "id": "5faacc33-40cf-406c-9d85-16d831112a23",
   "metadata": {},
   "outputs": [],
   "source": [
    "### Import libraries\n",
    "import openai\n",
    "import os\n",
    "import time\n",
    "from datetime import datetime\n",
    "import pandas as pd\n",
    "import clingo\n",
    "from clingo.control import Control\n",
    "import json\n",
    "from helper import *\n",
    "from stories import *\n",
    "from pipelines import *\n",
    "import psycopg2\n",
    "import random"
   ]
  },
  {
   "cell_type": "code",
   "execution_count": 2,
   "id": "4212943a-3b87-4aa7-b52f-78cd18372729",
   "metadata": {},
   "outputs": [],
   "source": [
    "now = datetime.now()\n",
    "date_time = now.strftime(\"%Y%m%d\")"
   ]
  },
  {
   "cell_type": "code",
   "execution_count": 3,
   "id": "31d583b2-37ec-4e4f-b821-885ed213a55d",
   "metadata": {},
   "outputs": [],
   "source": [
    "set_api_key()"
   ]
  },
  {
   "cell_type": "code",
   "execution_count": 4,
   "id": "741ac588-16b0-4fd7-88e5-58f8ecd5d445",
   "metadata": {},
   "outputs": [],
   "source": [
    "conn = get_connection()"
   ]
  },
  {
   "cell_type": "code",
   "execution_count": 5,
   "id": "aa4d4a69-d2af-4ee1-8330-1bcf90e9d3d3",
   "metadata": {},
   "outputs": [],
   "source": [
    "projects = get_useful_projects()"
   ]
  },
  {
   "cell_type": "code",
   "execution_count": 6,
   "id": "74936bfc-ce7f-4a6e-aef5-a0e9cc866b38",
   "metadata": {},
   "outputs": [],
   "source": [
    "def get_2_random_projects(projects,project):\n",
    "    filtered_projects = [element for element in projects if element != project]\n",
    "    project_1, project_2 = random.sample(filtered_projects,2)\n",
    "    return project_1, project_2"
   ]
  },
  {
   "cell_type": "code",
   "execution_count": 7,
   "id": "38971840-fef5-4997-b6c1-d4ed6b8a803d",
   "metadata": {},
   "outputs": [],
   "source": [
    "def only_comments(lines):\n",
    "    comments = []\n",
    "    for line in lines:\n",
    "        #print(line)\n",
    "        if line == '\\n':\n",
    "            continue\n",
    "        if len(line.strip()) > 0 and line.strip()[0] == '%':\n",
    "            comments.append(line)\n",
    "    return \"\\n\".join(comments)   "
   ]
  },
  {
   "cell_type": "code",
   "execution_count": 8,
   "id": "db7ed4c9-a085-4643-b4b9-9b1fa9f424c5",
   "metadata": {},
   "outputs": [
    {
     "name": "stdout",
     "output_type": "stream",
     "text": [
      "-------------------- creek --------------------\n",
      "-------------------- minotaur --------------------\n",
      "-------------------- seeknumbers --------------------\n",
      "-------------------- sudoku --------------------\n",
      "-------------------- yosenabe --------------------\n",
      "-------------------- hop --------------------\n",
      "-------------------- lights --------------------\n"
     ]
    }
   ],
   "source": [
    "for project in projects:\n",
    "    story = project[\"story\"]\n",
    "    print(\"-\"*20 + \" \" + story + \" \" +\"-\"*20)\n",
    "    encoding = project[\"lines\"]\n",
    "    instance = instances_dict[story]\n",
    "    problem = project[\"problem\"]\n",
    "    content = f'''Problem 3: \n",
    "                    {problem}.\n",
    "                    Rules 3: '''\n",
    "    lines = encoding.splitlines()\n",
    "    new_file = []\n",
    "    project_1, project_2 = get_2_random_projects(projects,project)\n",
    "    story_1 = project_1[\"story\"]\n",
    "    story_2 = project_2[\"story\"]\n",
    "    content1 = f'''Problem 1: {project_1[\"problem\"]}\n",
    "                    Rules 1: {only_comments(project_1[\"lines\"].splitlines())}  '''\n",
    "    content2 = f'''Problem 2: {project_2[\"problem\"]}\n",
    "                    Rules 2: {only_comments(project_2[\"lines\"].splitlines())}  '''\n",
    "    prompt = content1 + \"\\n\" + content2 + \"\\n\" + content\n",
    "    name_of_file = story + \"_generated_comments.txt\"\n",
    "    comments = get_comments(prompt)\n",
    "    with open(os.path.join(\"commented\",name_of_file),\"w\") as file:\n",
    "        file.write(comments)"
   ]
  },
  {
   "cell_type": "code",
   "execution_count": null,
   "id": "83afd5c6-b7ff-4a81-ad6c-dd0ab2cc0d90",
   "metadata": {},
   "outputs": [],
   "source": []
  },
  {
   "cell_type": "code",
   "execution_count": 11,
   "id": "ac081e41-3738-4ff0-9539-2b6f17ffdab5",
   "metadata": {},
   "outputs": [
    {
     "name": "stdout",
     "output_type": "stream",
     "text": [
      "plus(0,0). plus(0,1). plus(1,0). plus(1,1).\n",
      "dir(0,1). dir(0,-1). dir(1,0). dir(-1,0).\n",
      "N {black(X+A,Y+B) : cell(X+A,Y+B), plus(A,B)} N :- hint(X,Y,N).\n",
      "path(X,Y,P,Q) :- white(X,Y), white(P,Q), |P-X| + |Q-Y| = 1.\n",
      "white(X,Y) :- not black(X,Y), cell(X,Y).\n",
      "black(X,Y) :- not white(X,Y), cell(X,Y).\n",
      "mini_x(M) :- M = #min{X,Y : white(X,Y)}.\n",
      "mini_y(N) :- N = #min{Y : white(M,Y), mini_x(M)}.\n",
      "first_visit(M,N) :- mini_x(M), mini_y(N).\n",
      "visit(X+DX,Y+DY) :- first_visit(X,Y), path(X,Y,X+DX,Y+DY), dir(DX,DY).\n",
      "visit(X+DX,Y+DY) :- visit(X,Y), path(X,Y,X+DX,Y+DY), dir(DX,DY). \n",
      ":- not visit(X,Y), white(X,Y).\n",
      "#show black/2.\n",
      "            next(X,Y,X+1,Y) :- field(X,Y), field(X+1,Y), not wall(X,Y,X+1,Y).\n",
      "            next(X,Y,X,Y+1) :- field(X,Y), field(X,Y+1), not wall(X,Y,X,Y+1).\n",
      "            next(X,Y,X,Y)   :- field(X,Y).\n",
      "            next(X,Y,XX,YY) :- next(XX,YY,X,Y).\n",
      "            at(X,Y,0) :- start(X,Y).\n",
      "            1 { at(XX,YY,T+1) : next(X,Y,XX,YY) } 1 :- at(X,Y,T), not goal(X,Y), maxsteps(S), T < S.            \n",
      "            mino_step(X,Y,XX,YY,( 1, 0)) :- field(X,Y), field(XX,YY), X < XX, next(X,Y,X+1,Y).\n",
      "            mino_step(X,Y,XX,YY,(-1, 0)) :- field(X,Y), field(XX,YY), X > XX, next(X,Y,X-1,Y).\n",
      "            mino_step(X,Y,XX,YY,( 0, 1)) :- field(X,Y), field(XX,YY), Y < YY, next(X,Y,X,Y+1), not mino_step(X,Y,XX,YY,( 1, 0)), not mino_step(X,Y,XX,YY,(-1, 0)).\n",
      "            mino_step(X,Y,XX,YY,( 0,-1)) :- field(X,Y), field(XX,YY), Y > YY, next(X,Y,X,Y-1), not mino_step(X,Y,XX,YY,( 1, 0)), not mino_step(X,Y,XX,YY,(-1, 0)).\n",
      "            mino_step(X,Y,XX,YY,( 0, 0)) :- field(X,Y), field(XX,YY), not mino_step(X,Y,XX,YY,( 1, 0)), not mino_step(X,Y,XX,YY,(-1, 0)), not mino_step(X,Y,XX,YY,( 0, 1)), not mino_step(X,Y,XX,YY,( 0,-1)).\n",
      "            mino_next(X,Y,XX,YY,X+DX1+DX2,Y+DY1+DY2) :- mino_step(X,Y,XX,YY,(DX1,DY1)), mino_step(X+DX1,Y+DY1,XX,YY,(DX2,DY2)).\n",
      "            mino(X,Y,0) :- mino(X,Y).\n",
      "            mino(XXX,YYY,T+1) :- mino(X,Y,T), maxsteps(S), T < S, at(XX,YY,T+1), mino_next(X,Y,XX,YY,XXX,YYY).\n",
      "            :- at(X,Y,T), mino(X,Y,T).\n",
      "            goal :- at(X,Y,T), goal(X,Y).\n",
      "            :- not goal.            \n",
      "            #minimize{ T : at(X,Y,T) }.\n",
      "            #show at/3. \n",
      "neighbour(X,Y,XX,YY,D) :- XX=X, YY=Y+1, D=v, cell(X,Y), cell(XX,YY).\n",
      "neighbour(X,Y,XX,YY,D) :- XX=X, YY=Y-1, D=v, cell(X,Y), cell(XX,YY).\n",
      "neighbour(X,Y,XX,YY,D) :- XX=X+1, YY=Y, D=h, cell(X,Y), cell(XX,YY).\n",
      "neighbour(X,Y,XX,YY,D) :- XX=X-1, YY=Y, D=h, cell(X,Y), cell(XX,YY).\n",
      "1 { edge(X,Y,XX,YY,D) : neighbour(X,Y,XX,YY,D) } 1 :- cell(X,Y), not final(X,Y).\n",
      "path(X,Y,XX,YY) : edge(X,Y,XX,YY,_).\n",
      ":- not 1 { edge(X,Y,XX,YY,D) : neighbour(X,Y,XX,YY,D) } 1, cell(XX,YY), not first(XX,YY).\n",
      "visited(X,Y) :- first(X,Y).\n",
      "visited(XX,YY) :- visited(X,Y), edge(X,Y,XX,YY,_).\n",
      ":- cell(X,Y), not visited(X,Y).\n",
      "xhint(XX,YY,N,D) :- hint(X,Y,N), edge(X,Y,XX,YY,D).\n",
      "xhint(XX,YY,0,D) :- first(X,Y),  edge(X,Y,XX,YY,D).\n",
      "xhint(XX,YY,N,DD) :- xhint(X,Y,N,D), not hint(X,Y,_), edge(X,Y,XX,YY,DD), D=DD.\n",
      "xhint(XX,YY,N-1,DD) :- xhint(X,Y,N,D), N>=1, not hint(X,Y,_), edge(X,Y,XX,YY,DD), D!=DD.\n",
      ":- hint(X,Y,_), not xhint(X,Y,0,_).\n",
      ":-  final(X,Y), not xhint(X,Y,0,_).\n",
      "#show path/4.\n",
      "subgrid_size(3).\n",
      "dim(1..S*S) :- subgrid_size(S).\n",
      "subgrid(D-1) :- dim(D).\n",
      "map(X,Y,((X-1)/S)*S + (Y-1)/S) :- dim(X), dim(Y), subgrid_size(S).\n",
      "init(X,Y) :- initial(X,Y,N).\n",
      "poss(X,Y,N) :- initial(X,Y,N).\n",
      "poss(X,Y,D) :- dim(X), dim(Y), dim(D), not init(X,Y).\n",
      "1 { sudoku(X,Y,N) : poss(X,Y,N) } 1 :- dim(X), dim(Y).\n",
      "1 { sudoku(X,Y,N) : poss(X,Y,N) } 1 :- dim(X), dim(N).\n",
      "1 { sudoku(X,Y,N) : poss(X,Y,N) } 1 :- dim(Y), dim(N).\n",
      "1 { sudoku(X,Y,N) : poss(X,Y,N), map(X,Y,S) } 1 :- dim(N), subgrid(S).\n",
      ":- initial(X,Y,N), not sudoku(X,Y,N).\n",
      "#show sudoku/3.\n",
      "            dir(0,1). dir(0,-1). dir(1,0). dir(-1,0).\n",
      "1 { target(X,Y,I,J) : area(I,J,A) } 1 :- number(X,Y,Z).\n",
      ":- target(X,Y,I,J), I != I', target(X,Y,I',J).         \n",
      ":- target(X,Y,I,J), J != J', target(X,Y,I,J').         \n",
      ":- target(X,Y,I,J), X != I, Y != J.                         \n",
      ":- target(X,Y,I,J), target(X',Y',I,J), cell(X,Y) != cell(X',Y').    \n",
      ":- target(X,Y,I,J), target(X',Y',I',J'), X = I, Y'=J', Y<=Y', Y'<=J, X'<=X, X<=I'.\n",
      ":- target(X,Y,I,J), target(X',Y',I',J'), X = I, Y'=J', Y>=Y', Y'>=J, X'<=X, X<=I'.\n",
      ":- target(X,Y,I,J), target(X',Y',I',J'), X = I, Y'=J', Y<=Y', Y'<=J, X'>=X, X>=I'.\n",
      ":- target(X,Y,I,J), target(X',Y',I',J'), X = I, Y'=J', Y>=Y', Y'>=J, X'>=X, X>=I'.\n",
      ":- target(X,Y,I,J), target(X',Y,I',J), I>I', X<X'.\n",
      ":- target(X,Y,I,J), target(X,Y',I,J'), J>J', Y<Y'.\n",
      "counttarget(T,A) :- T = #count{number(X,Y,Z): number(X,Y,Z), target(X,Y,I,J), area(I,J,A)}, area(_,_,A).\n",
      ":- T = 0, counttarget(T,A).\n",
      "total(A,S) :- S = #sum{ Z : number(X,Y,Z), target(X,Y,I,J), area(I,J,A)}, goal(A,V).\n",
      ":- total(A,S), S != V, goal(A,V).\n",
      "#show target/4. \n",
      "cell(X,Y) :- X=1..C, cols(C), Y=1..R, rows(R).\n",
      "step(X,Y,0) :- start(X,Y).\n",
      "hop(0,1). hop(0,2). hop(0,3). hop(0,-1). hop(0,-2). hop(0,-3).\n",
      "hop(1,0). hop(2,0). hop(3,0). hop(-1,0). hop(-2,0). hop(-3,0).\n",
      "1 {step(X+A,Y+B,S+1) : hop(A,B), cell(X+A,Y+B)} 1 :- step(X,Y,S), not numsteps(S).\n",
      "actual_hop(A,B,S) :- step(X,Y,S-1), step(P,Q,S), A=P-X, B=Q-Y.\n",
      ":- actual_hop(A,B,1), |A+B| > 1.\n",
      ":- actual_hop(A,B,S-1), actual_hop(C,D,S), |A+B|=1, |C+D| != 2.\n",
      ":- actual_hop(A,B,S-1), actual_hop(C,D,S), |A+B|=2, |C+D| != 3.\n",
      ":- actual_hop(A,B,S-1), actual_hop(C,D,S), |A+B|=3, |C+D| != 1.\n",
      "visited(X,Y) :- step(X,Y,S).\n",
      ":- not visited(X,Y), dot(X,Y).\n",
      ":- not visited(X,Y), goal(X,Y).\n",
      ":- step(X,Y,S1), step(X,Y,S2), S1 != S2.\n",
      ":- goal(X,Y), step(X,Y,S), step(P,Q,S+1).\n",
      "#show step/3. \n",
      "field(X,Y) :- rows(R), cols(C), X = 1..R, Y = 1..C, not empty(X,Y).\n",
      "digit(X,Y) :- digit(X,Y,N).\n",
      "delta(1,0). delta(-1,0). delta(0,1). delta(0,-1).\n",
      "neighbor(X1,Y1,X2,Y2,DX,DY) :- field(X1,Y1), field(X2,Y2), delta(DX,DY), X2 = X1+DX, Y2 = Y1+DY.\n",
      "reach(X1,Y1,X2,Y2,DX,DY) :- neighbor(X1,Y1,X2,Y2,DX,DY), not digit(X1,Y1), not digit(X2,Y2).\n",
      "reach(X1,Y1,X3,Y3,DX,DY) :- neighbor(X2,Y2,X3,Y3,DX,DY), reach(X1,Y1,X2,Y2,DX,DY), not digit(X3,Y3).\n",
      "{ light(X,Y) } :- field(X,Y), not digit(X,Y).\n",
      "lighted(X2,Y2) :- light(X1,Y1), reach(X1,Y1,X2,Y2,DX,DY).\n",
      ":- light(X,Y), lighted(X,Y).\n",
      ":- field(X,Y), not digit(X,Y), not light(X,Y), not lighted(X,Y).\n",
      ":- digit(X1,Y1,N), not N { light(X2,Y2) : neighbor(X1,Y1,X2,Y2,DX,DY) } N.\n",
      "#show light/2.\n"
     ]
    }
   ],
   "source": [
    "for project in projects:\n",
    "    story = project[\"story\"]\n",
    "    encoding = project[\"lines\"]\n",
    "    instance = instances_dict[story]\n",
    "    problem = project[\"problem\"]\n",
    "    lines = encoding.splitlines()\n",
    "    new_file = []\n",
    "    messages = [{\"role\":\"user\",\"content\":f\"Problem: {problem}\"}]\n",
    "    for line in lines:\n",
    "        if line == '\\n':\n",
    "            continue\n",
    "        if len(line.strip()) > 0 and line.strip()[0] != '%':\n",
    "            print(line)"
   ]
  },
  {
   "cell_type": "code",
   "execution_count": null,
   "id": "2bdf36bf-b6ca-4a88-91aa-ac8b28595e6c",
   "metadata": {},
   "outputs": [],
   "source": []
  }
 ],
 "metadata": {
  "kernelspec": {
   "display_name": "Python 3 (ipykernel)",
   "language": "python",
   "name": "python3"
  },
  "language_info": {
   "codemirror_mode": {
    "name": "ipython",
    "version": 3
   },
   "file_extension": ".py",
   "mimetype": "text/x-python",
   "name": "python",
   "nbconvert_exporter": "python",
   "pygments_lexer": "ipython3",
   "version": "3.9.13"
  }
 },
 "nbformat": 4,
 "nbformat_minor": 5
}
