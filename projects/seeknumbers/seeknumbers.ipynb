{
 "cells": [
  {
   "cell_type": "markdown",
   "metadata": {},
   "source": [
    "# Problem Description.\n",
    "\n",
    "The task of this project is to develop an ASP encoding for\n",
    "the Seek Numbers puzzle.\n",
    "\n",
    "Below you can see a Seek Numbers puzzle on the left, and its solution on the right.\n",
    "\n",
    "<img width=\"460\" height=\"300\" src=\"img/seeknumbers.png\">\n",
    "\n",
    "\n",
    "Given a square grid as shown on the left side,\n",
    "the goal is to construct a directed path by linking\n",
    "horizontally or vertically adjacent cells such that:\n",
    "* the path starts at the cell marked with a white circle and\n",
    "  ends at the cell marked with a black circle,\n",
    "* the path traverses each remaining cell of the square grid\n",
    "  without ever crossing or intersecting itself,\n",
    "* between a cell with a (positive) number and the next cell with\n",
    "  a number or the cell marked with a black circle, respectively,\n",
    "  the path bends exactly as often as the number in the first cell\n",
    "  indicates, and\n",
    "* the path does not bend between the cell marked with a white circle\n",
    "  and the first cell with a number.\n",
    "\n",
    "The only path satisfying these conditions for the Seek Numbers puzzle\n",
    "on the left is shown on the right.\n",
    "\n",
    "To familiarize yourself with the Seek Numbers puzzle,\n",
    "you can try the [puzzle online](https://www.janko.at/Raetsel/Seek-Numbers/).\n",
    "\n",
    "\n",
    "\n"
   ]
  },
  {
   "cell_type": "markdown",
   "metadata": {},
   "source": [
    "# Representation in ASP.\n",
    "\n",
    "The square grid is represented by facts of the following predicates:    \n",
    "```\n",
    "cell(X,Y).   % the cell (X,Y) belongs to the grid\n",
    "first(X,Y).  % the first cell of the path (marked with a white circle) is (X,Y)\n",
    "final(X,Y).  % the final cell of the path (marked with a black circle) is (X,Y)\n",
    "hint(X,Y,N). % the cell (X,Y) contains the hint number N\n",
    "```\n",
    "Every problem instance contains exactly one fact over ``first/2`` and one fact over ``final/2``.\n",
    "\n",
    "The example shown before is represented by the following facts:\n",
    "```\n",
    "cell(1..3,1..3).\n",
    "first(1,1).\n",
    "final(3,3).\n",
    "hint(2,1,2).\n",
    "hint(2,2,2).\n",
    "```\n",
    "\n",
    "The solution is represented by atoms of predicate ``path/4``:  \n",
    "```\n",
    "path(X1,Y1,X2,Y2). % the path has an edge between the cells (X1,Y1) and (X2,Y2)\n",
    "```   \n",
    "\n",
    "For instance, the solution of the example consists of the following atoms:\n",
    "```\n",
    "path(1,1,2,1) path(2,1,3,1) path(3,1,3,2) path(3,2,2,2)\n",
    "path(2,2,1,2) path(1,2,1,3) path(1,3,2,3) path(2,3,3,3)\n",
    "```"
   ]
  },
  {
   "cell_type": "markdown",
   "metadata": {},
   "source": [
    "# Framework.\n",
    "\n",
    "The directory ``asp`` contains the files that you need for the project. In the directory ``asp/instances`` you can find the instances (our example is ``ex01.lp``), and in the directory ``asp/solutions`` you can find their solutions in ``json`` format. \n",
    "\n",
    "You have to submit a file named ``seeknumbers.lp``, included as a template in the directory ``asp``, that contains the following line (and no more ``#show`` statements) so that in the output only the atoms of predicate ``path/4`` appear:\n",
    "\n",
    "``#show path/4.``\n",
    "\n",
    "You can check if your encoding solves correctly all instances by running the ``Python`` script ``test.py`` as follows:\n",
    "* ``python asp/test.py -e asp/seeknumbers.lp -i asp/instances -s asp/solutions -t 180``\n",
    "\n",
    "In this case, the timeout for each instance is set to `180` seconds, but you can use any other value instead.\n",
    "\n",
    "For help, type `python asp/test.py --help`.\n",
    "\n",
    "We recommend you to work locally in your computer, using your own installation of ``clingo``.\n",
    "\n",
    "For this, you can run the next cell to generate a zip file of this directory. The zip file will be stored in the parent directory with the name `seeknumbers.zip`. You can click on the folder symbol at the left of the screen to look for it and download it."
   ]
  },
  {
   "cell_type": "code",
   "execution_count": null,
   "metadata": {},
   "outputs": [],
   "source": [
    "import os\n",
    "from shutil import make_archive\n",
    "make_archive('../seeknumbers', 'zip', os.getcwd())"
   ]
  },
  {
   "cell_type": "markdown",
   "metadata": {},
   "source": [
    "You can also run your encoding in the next cell. It is not recommended to work in this notebook at ``Binder``, but if you do it, remember to download the files that you modify to your computer, otherwise you will lose your changes."
   ]
  },
  {
   "cell_type": "code",
   "execution_count": null,
   "metadata": {},
   "outputs": [],
   "source": [
    "%%clingo 0 asp/instances/ex01.lp -\n",
    "\n",
    "% Tips:\n",
    "% - You may include the facts below to represent the differences\n",
    "%   between the coordinates of neighboring cells\n",
    "%\n",
    "% diff(0,1). diff(0,-1). diff(1,0). diff(-1,0).\n",
    "\n",
    "% Your encoding please...\n",
    "\n",
    "#show path/4."
   ]
  },
  {
   "cell_type": "markdown",
   "metadata": {},
   "source": [
    "# Formalities.\n",
    "You can work on the solution alone or in groups of two people. \n",
    "Different groups have to submit different solutions, in case\n",
    "of plagiarism all groups involved will fail the project. \n",
    "\n",
    "Your solution has to correctly encode all solutions for every instance. \n",
    "This is tested automatically by the script ``test.py``. \n",
    "\n",
    "We will send you further instructions about the submission process from Moodle."
   ]
  },
  {
   "cell_type": "markdown",
   "metadata": {},
   "source": [
    "# Tips:\n",
    "\n",
    "* The directions between adjacent cells (up, down, left, and right) are \n",
    "entirely symmetric and vary only by coordinate differences between the cells. \n",
    "Please avoid code duplication due to referring to directions more specifically than needed. \n",
    "It is not a good idea to distinguish directions by using atoms such as \n",
    "``goUp(X,Y,X,Y+1)``, ``goDown(X,Y,X,Y-1)``,\n",
    "``goRight(X,Y,X+1,Y)``, and ``goLeft(X,Y,X-1,Y)``.\n",
    "On the other hand, it is a good idea to use atoms like \n",
    "``go(X,Y,X,Y+1,0,1)``, ``go(X,Y,X,Y-1,0,-1)``, ``go(X,Y,X+1,Y,1,0)``, and\n",
    "``go(X,Y,X-1,Y,-1,0)`` because they can be treated uniformly within rules.\n",
    "\n",
    "* Try to solve some Seek Numbers puzzles \n",
    "[online](https://www.janko.at/Raetsel/Seek-Numbers/) to get an intuition for the problem constraints, \n",
    "especially regarding the bending of the path between marked cells. \n",
    "This may help you to identify a general strategy for testing such constraints, and \n",
    "then formalize it by means of appropriate\n",
    "auxiliary predicates and integrity constraints within an ASP encoding.\n",
    "\n",
    "* If you are stuck you can contact us. We will do out best to answer all your questions. You can send us questions and remarks either via Moodle or by email.\n",
    "\n",
    "* Start as soon as possible to avoid running out of time. However, if you still realize that you have problems making it before the deadline, please contact us instead of copying another solution."
   ]
  }
 ],
 "metadata": {
  "kernelspec": {
   "display_name": "Python 3 (ipykernel)",
   "language": "python",
   "name": "python3"
  },
  "language_info": {
   "codemirror_mode": {
    "name": "ipython",
    "version": 3
   },
   "file_extension": ".py",
   "mimetype": "text/x-python",
   "name": "python",
   "nbconvert_exporter": "python",
   "pygments_lexer": "ipython3",
   "version": "3.9.13"
  }
 },
 "nbformat": 4,
 "nbformat_minor": 4
}
