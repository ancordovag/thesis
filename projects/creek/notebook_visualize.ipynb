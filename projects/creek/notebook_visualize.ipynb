{
 "cells": [
  {
   "cell_type": "code",
   "execution_count": 166,
   "id": "4bdbeb4f-8d53-4d8d-bd8f-3404f8e1925b",
   "metadata": {},
   "outputs": [],
   "source": [
    "from matplotlib import pyplot as plt\n",
    "from matplotlib import colors\n",
    "from matplotlib.ticker import MaxNLocator\n",
    "import os"
   ]
  },
  {
   "cell_type": "code",
   "execution_count": 167,
   "id": "365fcd3c-61bb-4ef8-9b1d-07119ea9713d",
   "metadata": {},
   "outputs": [],
   "source": [
    "number = 7\n",
    "if number < 10:\n",
    "    number = '0' + str(number)\n",
    "else:\n",
    "    number = str(number)\n",
    "instance = 'instances/ex'+str(number)+'.lp'\n",
    "command = 'clingo creek.lp ' + instance + ' > output.lp'\n",
    "stream = os.popen(command)\n",
    "output = stream.read()"
   ]
  },
  {
   "cell_type": "code",
   "execution_count": 168,
   "id": "60c2343b-53ba-416d-8410-08d13fea6d5b",
   "metadata": {},
   "outputs": [
    {
     "name": "stdout",
     "output_type": "stream",
     "text": [
      "Columns: 4, Rows: 3\n"
     ]
    }
   ],
   "source": [
    "with open(instance,'r') as file:\n",
    "    lines = file.readlines()\n",
    "\n",
    "for line in lines:\n",
    "    if 'cell(' in line:\n",
    "        li = line.replace('..',' ').replace(',',' ').replace(')',' ')\n",
    "        n_columns = int(li.split()[1])\n",
    "        n_rows = int(li.split()[3])\n",
    "        print(\"Columns: {}, Rows: {}\".format(columns,rows))"
   ]
  },
  {
   "cell_type": "code",
   "execution_count": 169,
   "id": "cc7f3fcb-e287-4907-9500-10449ebb52ce",
   "metadata": {},
   "outputs": [
    {
     "name": "stdout",
     "output_type": "stream",
     "text": [
      "CELLS ['hint(0,2,1)', 'hint(0,3,0)', 'hint(1,1,2)', 'hint(1,4,3)', 'hint(2,0,1)', 'hint(2,5,1)', 'hint(3,1,3)', 'hint(3,2,3)', 'hint(3,4,2)', 'hint(5,1,2)', 'hint(5,3,2)', 'hint(5,5,2)', 'black(1,2)', 'white(1,3)', 'white(1,4)', 'black(1,1)', 'black(1,5)', 'white(1,6)', 'white(2,1)', 'white(2,2)', 'white(2,3)', 'black(2,4)', 'black(2,5)', 'white(2,6)', 'black(3,1)', 'black(3,2)', 'white(3,3)', 'white(3,4)', 'white(3,5)', 'white(3,6)', 'white(4,1)', 'black(4,2)', 'black(4,3)', 'black(4,4)', 'black(4,5)', 'white(4,6)', 'white(5,1)', 'white(5,2)', 'white(5,3)', 'white(5,4)', 'white(5,5)', 'white(5,6)', 'black(6,1)', 'black(6,2)', 'black(6,3)', 'black(6,4)', 'black(6,5)', 'black(6,6)']\n",
      "Data [[0, 1, 0, 1, 1, 0], [0, 1, 0, 0, 1, 0], [1, 1, 1, 0, 1, 0], [1, 0, 1, 0, 1, 0], [0, 0, 1, 0, 1, 0], [1, 1, 1, 1, 1, 0]]\n"
     ]
    }
   ],
   "source": [
    "def get_color(cells,x,y):    \n",
    "    to_look = '('+str(x)+','+str(y)+')'\n",
    "    for cell in cells:\n",
    "        if to_look in cell:\n",
    "            if 'white' in cell:\n",
    "                return 1\n",
    "            elif 'black' in cell:\n",
    "                return 0\n",
    "            else:\n",
    "                print('WTH?')\n",
    "                return -2\n",
    "\n",
    "with open('output.lp','r') as file:\n",
    "    lines = file.readlines()\n",
    "\n",
    "for line in lines:\n",
    "    if 'black(' in line:\n",
    "        cells = line.split()\n",
    "        break\n",
    "\n",
    "print(\"CELLS {}\".format(cells))\n",
    "\n",
    "data = []\n",
    "for y in range(1,n_rows+1):\n",
    "    row = []\n",
    "    for x in range(1,n_columns+1):\n",
    "        color = get_color(cells,x,y)\n",
    "        row.append(color)\n",
    "    data.append(row)\n",
    "    \n",
    "print(\"Data {}\".format(data))"
   ]
  },
  {
   "cell_type": "code",
   "execution_count": 170,
   "id": "731d52ac-3f5d-4096-9881-e281672d4241",
   "metadata": {},
   "outputs": [
    {
     "data": {
      "image/png": "[encoded data removed]",
      "text/plain": [
       "<Figure size 640x480 with 1 Axes>"
      ]
     },
     "metadata": {},
     "output_type": "display_data"
    }
   ],
   "source": [
    "colormap = colors.ListedColormap([\"blue\",\"yellow\"])\n",
    "#pyplot.figure(figsize=(5,5))\n",
    "\n",
    "fig, ax = plt.subplots()\n",
    "ax.xaxis.set_major_locator(MaxNLocator(integer=True))\n",
    "ax.yaxis.set_major_locator(MaxNLocator(integer=True))\n",
    "ax.set_xticks([0.5 + i for i in range(n_columns)], minor=True)\n",
    "ax.xaxis.grid(True, which='minor')\n",
    "\n",
    "ax.set_yticks([0.5 + i for i in range(n_rows)], minor=True)\n",
    "ax.yaxis.grid(True, which='minor')\n",
    "\n",
    "#plt.ylim(1,n_rows)\n",
    "#plt.xlim(1,n_columns)\n",
    "for c in cells:\n",
    "    if 'hint' in c:\n",
    "        v = c.replace('(',' ').replace(',',' ').replace(')',' ')\n",
    "        v_list = v.split()\n",
    "        y = int(v_list[1])\n",
    "        x = int(v_list[2])\n",
    "        n = v_list[3]\n",
    "        circle = plt.Circle((y-0.5, x-0.5), 0.2, color='r')        \n",
    "        ax.add_patch(circle)\n",
    "        ax.text(y-0.55,x-0.45,n)\n",
    "plt.imshow(data, cmap=colormap)\n",
    "plt.show()"
   ]
  },
  {
   "cell_type": "code",
   "execution_count": null,
   "id": "a6efc515-b6f0-44cd-8c5e-a7d79dfd5b9d",
   "metadata": {},
   "outputs": [],
   "source": []
  },
  {
   "cell_type": "code",
   "execution_count": null,
   "id": "8737f3ec-10e4-4a4d-a235-5e4824676423",
   "metadata": {},
   "outputs": [],
   "source": []
  }
 ],
 "metadata": {
  "kernelspec": {
   "display_name": "Python 3 (ipykernel)",
   "language": "python",
   "name": "python3"
  },
  "language_info": {
   "codemirror_mode": {
    "name": "ipython",
    "version": 3
   },
   "file_extension": ".py",
   "mimetype": "text/x-python",
   "name": "python",
   "nbconvert_exporter": "python",
   "pygments_lexer": "ipython3",
   "version": "3.10.8"
  }
 },
 "nbformat": 4,
 "nbformat_minor": 5
}
