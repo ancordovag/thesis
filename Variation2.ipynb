{
 "cells": [
  {
   "cell_type": "code",
   "execution_count": 1,
   "id": "cd915efe-2a9e-4bbb-a434-c6b08492ed63",
   "metadata": {},
   "outputs": [],
   "source": [
    "### Import libraries\n",
    "import openai\n",
    "import os\n",
    "import time\n",
    "from datetime import datetime\n",
    "import pandas as pd\n",
    "import clingo\n",
    "from clingo.control import Control\n",
    "import json\n",
    "from yaml import load, Loader\n",
    "from helper import *\n",
    "from stories2 import *\n",
    "from projects.creek import test"
   ]
  },
  {
   "cell_type": "code",
   "execution_count": 2,
   "id": "26392ca8-3189-491e-8fe6-261e2bb6f807",
   "metadata": {},
   "outputs": [],
   "source": [
    "with open(\"config.yml\",\"r\") as config:\n",
    "    data = load(config, Loader=Loader)\n",
    "    api_key = data[\"apikey\"]\n",
    "    openai.api_key  = api_key"
   ]
  },
  {
   "cell_type": "code",
   "execution_count": 3,
   "id": "2f817131-fcea-4337-969a-f80cf9d1b285",
   "metadata": {},
   "outputs": [],
   "source": [
    "version = 2"
   ]
  },
  {
   "cell_type": "code",
   "execution_count": 4,
   "id": "62b6bcbd-0ae5-4ab8-80bd-10207abe7bfd",
   "metadata": {},
   "outputs": [],
   "source": [
    "projects = [sudoku,seeknumbers,minotaur,creek]"
   ]
  },
  {
   "cell_type": "code",
   "execution_count": 5,
   "id": "0b2c9397-2e15-4648-b67d-70ca51fed043",
   "metadata": {},
   "outputs": [
    {
     "name": "stdout",
     "output_type": "stream",
     "text": [
      "story='sudoku', story_1='creek', story_2='minotaur'.\n",
      "======================================================================\n",
      "story='seeknumbers', story_1='sudoku', story_2='creek'.\n",
      "======================================================================\n",
      "story='minotaur', story_1='seeknumbers', story_2='sudoku'.\n",
      "======================================================================\n",
      "story='creek', story_1='minotaur', story_2='seeknumbers'.\n",
      "======================================================================\n"
     ]
    }
   ],
   "source": [
    "for i in range(len(projects)):\n",
    "    copy_problem = dict(projects[i])\n",
    "    example_1 = projects[i-1]\n",
    "    example_2 = projects[i-2]\n",
    "    story = copy_problem[\"story\"]\n",
    "    story_1 = example_1[\"story\"]\n",
    "    story_2 = example_2[\"story\"]\n",
    "    print(f'{story=}, {story_1=}, {story_2=}.')\n",
    "    generation_rules = produce_generation_rules(example_1,example_2,copy_problem)\n",
    "    definition_rules = produce_definition_rules(example_1,example_2,copy_problem)\n",
    "    asp_code = [generation_rules,definition_rules]\n",
    "    answer = '\\n'.join(asp_code)\n",
    "    name_of_file = os.path.join(\"generated_solutions\",story+\"_from_\"+story_1+\"_and_\"+story_2+\"_v\"+str(version)+\".lp\")\n",
    "    with open(name_of_file,\"w\") as file:\n",
    "        file.write(answer)\n",
    "    print(\"=\"*70)    "
   ]
  },
  {
   "cell_type": "code",
   "execution_count": 6,
   "id": "7bac1d0a-7dff-432d-bc04-0b88fb5c80b9",
   "metadata": {},
   "outputs": [],
   "source": [
    "def asp_try(asp_file, instance):\n",
    "    solution_lines = []\n",
    "    task = \"\"\n",
    "    solution = \"\"\n",
    "    models = None\n",
    "    success = 0\n",
    "    try:\n",
    "        ctl = Control(arguments=[\"--opt-mode=opt\"])\n",
    "        ctl.load(asp_file)\n",
    "        ctl.load(instance)\n",
    "        ctl.add(\"base\", [], solution)\n",
    "        parts = [(\"base\", [])]\n",
    "        ctl.ground(parts)      \n",
    "        try:       \n",
    "            with ctl.solve(yield_=True, async_=True) as handle: \n",
    "                handle.wait(10)\n",
    "                handle.cancel()\n",
    "                models = list(iter(handle))\n",
    "                if len(models) > 0:\n",
    "                    success = 1\n",
    "                    #for m in models:\n",
    "                    #    print(m.symbols(True,True,True))\n",
    "        except:\n",
    "            print(\"Unsatisfiable\")\n",
    "    except:\n",
    "        print(\"Parsing or Safety Issues\")\n",
    "    return success, models"
   ]
  },
  {
   "cell_type": "code",
   "execution_count": 7,
   "id": "165817f0-1fb5-430a-b6e1-02d2e3a5b979",
   "metadata": {},
   "outputs": [],
   "source": [
    "instances_dict ={\"sudoku\":os.path.join(\"projects\",\"sudoku\",\"instances\",\"ex01.lp\"),\n",
    "                 \"seeknumbers\":os.path.join(\"projects\",\"seeknumbers\",\"instances\",\"ex01.lp\"),\n",
    "                 \"minotaur\":os.path.join(\"projects\",\"minotaur\",\"instances\",\"level01.lp\"),\n",
    "                 \"creek\":os.path.join(\"projects\",\"creek\",\"instances\",\"ex01.lp\")\n",
    "                }"
   ]
  },
  {
   "cell_type": "code",
   "execution_count": 8,
   "id": "7c20e0a8-a3ad-49a9-900f-7efc1518dd14",
   "metadata": {},
   "outputs": [
    {
     "name": "stdout",
     "output_type": "stream",
     "text": [
      "========================================generated_solutions\\sudoku_from_creek_and_minotaur_v2.lp========================================\n",
      "Length of File:28\n",
      "Parsing or Safety Issues\n",
      "Success: 0\n",
      "========================================generated_solutions\\seeknumbers_from_sudoku_and_creek_v2.lp========================================\n",
      "Length of File:55\n",
      "Parsing or Safety Issues\n",
      "Success: 0\n",
      "========================================generated_solutions\\minotaur_from_seeknumbers_and_sudoku_v2.lp========================================\n",
      "Length of File:47\n",
      "Parsing or Safety Issues\n",
      "Success: 0\n",
      "========================================generated_solutions\\creek_from_minotaur_and_seeknumbers_v2.lp========================================\n",
      "Length of File:53\n",
      "Parsing or Safety Issues\n",
      "Success: 0\n"
     ]
    }
   ],
   "source": [
    "for i in range(len(projects)):\n",
    "    query = dict(projects[i])\n",
    "    story = query[\"story\"]\n",
    "    story_1 = projects[i-1][\"story\"]\n",
    "    story_2 = projects[i-2][\"story\"]\n",
    "    name_of_file = os.path.join(\"generated_solutions\",story+\"_from_\"+story_1+\"_and_\"+story_2+\"_v\"+str(version)+\".lp\")\n",
    "    print(\"=\"*40 + name_of_file + \"=\"*40)\n",
    "    with open(name_of_file,\"r\") as f:\n",
    "        print(\"Length of File:\" + str(len(f.readlines())))\n",
    "    instance = instances_dict[story]\n",
    "    success, models = asp_try(name_of_file,instance)\n",
    "    print(\"Success: \" + str(success))\n",
    "    if models:\n",
    "        for m in models:\n",
    "            print(m.symbols(True,True,True))"
   ]
  },
  {
   "cell_type": "code",
   "execution_count": null,
   "id": "dbd052b5-a358-4b1a-b115-852811bb7b68",
   "metadata": {},
   "outputs": [],
   "source": []
  }
 ],
 "metadata": {
  "kernelspec": {
   "display_name": "Python 3 (ipykernel)",
   "language": "python",
   "name": "python3"
  },
  "language_info": {
   "codemirror_mode": {
    "name": "ipython",
    "version": 3
   },
   "file_extension": ".py",
   "mimetype": "text/x-python",
   "name": "python",
   "nbconvert_exporter": "python",
   "pygments_lexer": "ipython3",
   "version": "3.9.13"
  }
 },
 "nbformat": 4,
 "nbformat_minor": 5
}
