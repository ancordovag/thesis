{
 "cells": [
  {
   "cell_type": "code",
   "execution_count": 3,
   "id": "1df0263b-6498-4907-b1ae-64e590d33da3",
   "metadata": {},
   "outputs": [
    {
     "name": "stdout",
     "output_type": "stream",
     "text": [
      "1) B2&C2&D2&E2&F2&G2&H2&I2&J2&K2&L2&M2&N2&O2\n",
      "2) P2&Q2&R2&S2&T2&U2&V2&W2&X2&Y2&Z2\n",
      "3) AA2&AB2&AC2&AD2&AE2&AF2&AG2&AH2&AI2&AJ2&AK2&AL2&AM2&AN2&AO2\n",
      "MP 4) MP2&MQ2&MR2&MS2&MT2&MU2&MV2&MW2&MX2&MY2&MZ2\n"
     ]
    }
   ],
   "source": [
    "def column_to_number(col):\n",
    "    \"\"\"Converts Excel-style column name to number\"\"\"\n",
    "    num = 0\n",
    "    for c in col:\n",
    "        num = num * 26 + (ord(c) - ord('A')) + 1\n",
    "    return num\n",
    "\n",
    "def number_to_column(num):\n",
    "    \"\"\"Converts column number to Excel-style column name\"\"\"\n",
    "    letters = []\n",
    "    while num:\n",
    "        mod = (num - 1) % 26\n",
    "        letters.append(chr(mod + ord('A')))\n",
    "        num = (num - 1) // 26\n",
    "    return ''.join(reversed(letters))\n",
    "\n",
    "def generate_concatenation(start_col, end_col, row):\n",
    "    return \"&\".join([f\"{number_to_column(col)}{row}\" for col in range(start_col, end_col + 1)])\n",
    "\n",
    "def main():\n",
    "    start_col = column_to_number('B')\n",
    "    end_col = column_to_number('O')\n",
    "    for i, col_range in enumerate([(start_col, end_col), (column_to_number('P'), column_to_number('Z')), (column_to_number('AA'), column_to_number('AO'))], start=1):\n",
    "        start, end = col_range\n",
    "        print(f\"{i}) {generate_concatenation(start, end, 2)}\")\n",
    "\n",
    "    # Additional parts\n",
    "    for i, col_range in enumerate([(column_to_number('MP'), column_to_number('MZ'))], start=i+1):\n",
    "        start, end = col_range\n",
    "        print(f\"{number_to_column(start)} {i}) {generate_concatenation(start, end, 2)}\")\n",
    "\n",
    "if __name__ == \"__main__\":\n",
    "    main()"
   ]
  },
  {
   "cell_type": "code",
   "execution_count": null,
   "id": "d3f8f0b2-722d-4956-84ea-1283a85e9f67",
   "metadata": {},
   "outputs": [],
   "source": []
  }
 ],
 "metadata": {
  "kernelspec": {
   "display_name": "Python 3 (ipykernel)",
   "language": "python",
   "name": "python3"
  },
  "language_info": {
   "codemirror_mode": {
    "name": "ipython",
    "version": 3
   },
   "file_extension": ".py",
   "mimetype": "text/x-python",
   "name": "python",
   "nbconvert_exporter": "python",
   "pygments_lexer": "ipython3",
   "version": "3.9.13"
  }
 },
 "nbformat": 4,
 "nbformat_minor": 5
}
