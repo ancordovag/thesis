{
 "cells": [
  {
   "cell_type": "code",
   "execution_count": 1,
   "id": "711147e6-51f8-4575-b8fa-128c91d29daf",
   "metadata": {},
   "outputs": [],
   "source": [
    "import openai\n",
    "import os\n",
    "import time\n",
    "from datetime import datetime\n",
    "import pandas as pd\n",
    "import clingo\n",
    "from clingo.control import Control\n",
    "import json\n",
    "from yaml import load, Loader\n",
    "from helper import *\n",
    "from stories1 import *"
   ]
  },
  {
   "cell_type": "code",
   "execution_count": 2,
   "id": "280ef8b2-2cd1-4f79-b9d9-7b80b5cdc733",
   "metadata": {},
   "outputs": [],
   "source": [
    "with open(\"config.yml\",\"r\") as config:\n",
    "    data = load(config, Loader=Loader)\n",
    "    api_key = data[\"apikey\"]\n",
    "    openai.api_key  = api_key"
   ]
  },
  {
   "cell_type": "code",
   "execution_count": 6,
   "id": "ffc3272f-7a07-4ae4-b143-8e09823d7028",
   "metadata": {},
   "outputs": [
    {
     "name": "stdout",
     "output_type": "stream",
     "text": [
      "cell_marked_with_white_circle: \"start_cell\".\n",
      "    cell_marked_with_black_circle: \"end_cell\".\n"
     ]
    }
   ],
   "source": [
    "constants = get_constants(olympics, furniture, seeknumbers)\n",
    "print(constants)"
   ]
  },
  {
   "cell_type": "code",
   "execution_count": 7,
   "id": "4cca86f2-11b8-4919-8014-6b1548cc174e",
   "metadata": {},
   "outputs": [],
   "source": [
    "seek = dict(seeknumbers)\n",
    "seek['constants'] = constants"
   ]
  },
  {
   "cell_type": "code",
   "execution_count": 8,
   "id": "db0c1084-75b7-4b43-87bc-081fb701d4fb",
   "metadata": {},
   "outputs": [
    {
     "name": "stdout",
     "output_type": "stream",
     "text": [
      "% Predicate representing the directed path: path/2. The cell at the coordinates (X,Y) is part of the path.\n",
      "path(X,Y)\n"
     ]
    }
   ],
   "source": [
    "print(get_predicates(sudoku, creek, seeknumbers))"
   ]
  },
  {
   "cell_type": "code",
   "execution_count": 10,
   "id": "8fc3e8e2-437b-4310-9a2e-b3616ad18558",
   "metadata": {},
   "outputs": [
    {
     "data": {
      "text/plain": [
       "'number: 1; 2; 3; 4; 5; 6; 7; 8; 9.\\n    area: gray area.'"
      ]
     },
     "execution_count": 10,
     "metadata": {},
     "output_type": "execute_result"
    }
   ],
   "source": [
    "get_constants(olympics, furniture, yosenabe)"
   ]
  },
  {
   "cell_type": "code",
   "execution_count": 3,
   "id": "8990f54f-0ce3-4ed8-adc2-704aacb229f3",
   "metadata": {},
   "outputs": [
    {
     "data": {
      "text/plain": [
       "'% number N is surrounded by a frame\\nsurrounded(N)\\n\\n% number N is moved into gray area A\\nmoved(N,A)\\n\\n% gray area A has a goal number G\\ngoal(A,G)\\n\\n% numbers N1 and N2 are moved in different ways\\ndifferent_ways(N1,N2)\\n\\n% number N is moved in direction D\\nmoved_in_direction(N,D)\\n\\n% number N is stopped at cell (X,Y)\\nstopped_at(N,X,Y)'"
      ]
     },
     "execution_count": 3,
     "metadata": {},
     "output_type": "execute_result"
    }
   ],
   "source": [
    "get_predicates(minotaur, seeknumbers, yosenabe)"
   ]
  },
  {
   "cell_type": "code",
   "execution_count": 4,
   "id": "0b3550eb-a4b8-4a04-9dbd-b7c43967f2b1",
   "metadata": {},
   "outputs": [
    {
     "data": {
      "text/plain": [
       "'% Predicate representing the position of a number in the grid\\nposition(X,Y,N)\\n\\n% Predicate representing the direction of an area\\ndirection(A,D)\\n\\n% Predicate representing the goal number of an area\\ngoal(A,G)\\n\\n% Predicate representing the sum of numbers in an area\\nsum(A,S)'"
      ]
     },
     "execution_count": 4,
     "metadata": {},
     "output_type": "execute_result"
    }
   ],
   "source": [
    "get_predicates(sudoku, creek, yosenabe)"
   ]
  },
  {
   "cell_type": "code",
   "execution_count": 5,
   "id": "9c866482-5660-4928-9a12-e5850cefa5f1",
   "metadata": {},
   "outputs": [
    {
     "data": {
      "text/plain": [
       "'% The number N is surrounded by a frame\\nsurrounded(N)\\n\\n% The number N is moved into the gray area\\nmoved(N)\\n\\n% The gray area A has a goal number G\\ngoal(A,G)\\n\\n% The numbers moved into the gray area A sum up to the goal number G\\nsum(A,G)'"
      ]
     },
     "execution_count": 5,
     "metadata": {},
     "output_type": "execute_result"
    }
   ],
   "source": [
    "get_predicates(minotaur, seeknumbers, yosenabe)"
   ]
  },
  {
   "cell_type": "code",
   "execution_count": null,
   "id": "e81cccd2-708c-4442-aec5-4a8dbb548cfd",
   "metadata": {},
   "outputs": [],
   "source": []
  }
 ],
 "metadata": {
  "kernelspec": {
   "display_name": "Python 3 (ipykernel)",
   "language": "python",
   "name": "python3"
  },
  "language_info": {
   "codemirror_mode": {
    "name": "ipython",
    "version": 3
   },
   "file_extension": ".py",
   "mimetype": "text/x-python",
   "name": "python",
   "nbconvert_exporter": "python",
   "pygments_lexer": "ipython3",
   "version": "3.9.13"
  }
 },
 "nbformat": 4,
 "nbformat_minor": 5
}
