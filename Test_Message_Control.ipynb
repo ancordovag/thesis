{
 "cells": [
  {
   "cell_type": "code",
   "execution_count": 103,
   "id": "6c8a9c04-3fbc-4528-be37-21b0f5b9ba3d",
   "metadata": {},
   "outputs": [],
   "source": [
    "### Import libraries\n",
    "import openai\n",
    "import os\n",
    "import time\n",
    "from datetime import datetime\n",
    "import pandas as pd\n",
    "import numpy as np\n",
    "from numpy.linalg import norm\n",
    "import clingo\n",
    "from clingo.control import Control\n",
    "import json\n",
    "from yaml import load, Loader\n",
    "from helper import *\n",
    "from stories1 import *"
   ]
  },
  {
   "cell_type": "code",
   "execution_count": 104,
   "id": "acd5cc38-dc8a-4349-929c-b6b2798c3d0d",
   "metadata": {},
   "outputs": [],
   "source": [
    "asp_file = os.path.join(\"projects\",\"minotaur\",\"canonical_minotaur1.lp\")\n",
    "generated = os.path.join(\"generated_solutions\",\"minotaur_from_seeknumbers_and_creek_v1.lp\")\n",
    "instance = os.path.join(\"projects\",\"minotaur\",\"instances\",\"level01.lp\")"
   ]
  },
  {
   "cell_type": "code",
   "execution_count": 107,
   "id": "67db12b8-221d-4e48-8d25-c18e1aab7e65",
   "metadata": {},
   "outputs": [],
   "source": [
    "def asp_try_3(asp_file,instance):\n",
    "    errors = []\n",
    "    messages = []\n",
    "    error_dict = {}\n",
    "    message_dict = {}\n",
    "    def custom_logger(code, message):\n",
    "        errors.append(code)\n",
    "        messages.append(message)\n",
    "    control = clingo.Control(logger=custom_logger,message_limit=100)\n",
    "    input_files = [asp_file, instance]\n",
    "    asp_program = []\n",
    "    models = []\n",
    "    symbols = []\n",
    "    \n",
    "    def on_model(model):\n",
    "        print(\"Model:\", model)\n",
    "        with open('output.txt','w') as file:\n",
    "            print(model, file=file)\n",
    "        with open('output.txt','r') as file:\n",
    "            lines = file.readlines()\n",
    "            symbols_list = lines[0].split()\n",
    "            for s in symbols_list:\n",
    "                symbols.append(s)\n",
    "        os.remove(\"output.txt\") \n",
    "        #print(type(model))\n",
    "        #symbols = model.symbols(atoms=False,terms=True, shown=True)\n",
    "        #for s in symbols:\n",
    "        #    print(s.arguments)\n",
    "        #    print(type(s))\n",
    "        #    symbols_list.append(s)\n",
    "        #print(\"Symbols:\", symbols)\n",
    "        \n",
    "         #def symbols(self, atoms: bool = False, terms: bool = False, \n",
    "         #            shown: bool = False, theory: bool = False, complement: bool = False) ‑> Sequence[Symbol] \n",
    "        models.append(model)\n",
    "    \n",
    "    for file_name in input_files:\n",
    "        with open(file_name, \"r\") as file:\n",
    "            asp_program.extend(file.readlines())\n",
    "    control.add(\"base\", [], \"\".join(asp_program))\n",
    "    try:\n",
    "        control.ground([(\"base\", [])])\n",
    "    except:\n",
    "        print(\"Grounding stopped because of errors\")\n",
    "        error_codes = [\"AtomUndefined\",\"FileIncluded\",\"GlobalVariable\",\"OperationUndefined\",\"Other\",\"RuntimeError\",\"VariableUnbounded\"]\n",
    "        sub_codes = [\"unsafe\"]\n",
    "        \n",
    "        for error_code in error_codes:\n",
    "            error_dict[error_code] = 0\n",
    "        \n",
    "        for sub_code in sub_codes:\n",
    "            sub_dict[sub_code] = 0\n",
    "        for e in errors:\n",
    "            for ec in error_codes:\n",
    "                if str(e).split(\".\")[1] == ec:\n",
    "                    error_dict[ec] += 1\n",
    "        for mss in messages:\n",
    "            for sc in sub_codes:\n",
    "                if sc in mss:\n",
    "                    sub_dict[sc] += 1\n",
    "        return models, error_dict, message_dict\n",
    "        \n",
    "    control.configuration.solve.models = 0  # Limit the number of models to 1\n",
    "    control.solve(on_model=on_model)\n",
    "    \n",
    "    return models, error_dict, message_dict, symbols"
   ]
  },
  {
   "cell_type": "code",
   "execution_count": 108,
   "id": "7517ca14-148a-4e99-9018-7214d13318b3",
   "metadata": {},
   "outputs": [
    {
     "name": "stdout",
     "output_type": "stream",
     "text": [
      "Model: at(2,1,0) at(1,1,1) at(2,1,2) at(3,1,3) at(3,2,4)\n"
     ]
    }
   ],
   "source": [
    "models, error_dict, message_dict, symbols = asp_try_3(asp_file, instance)"
   ]
  },
  {
   "cell_type": "code",
   "execution_count": 109,
   "id": "1d1fee58-4f54-408e-acb4-2b82412a2ca7",
   "metadata": {},
   "outputs": [
    {
     "data": {
      "text/plain": [
       "['at(2,1,0)', 'at(1,1,1)', 'at(2,1,2)', 'at(3,1,3)', 'at(3,2,4)']"
      ]
     },
     "execution_count": 109,
     "metadata": {},
     "output_type": "execute_result"
    }
   ],
   "source": [
    "symbols"
   ]
  },
  {
   "cell_type": "code",
   "execution_count": 25,
   "id": "772305be-6ba5-4600-ab81-b6b838cdba1c",
   "metadata": {},
   "outputs": [
    {
     "data": {
      "text/plain": [
       "{'AtomUndefined': 0,\n",
       " 'FileIncluded': 0,\n",
       " 'GlobalVariable': 0,\n",
       " 'OperationUndefined': 0,\n",
       " 'Other': 0,\n",
       " 'RuntimeError': 4,\n",
       " 'VariableUnbounded': 0}"
      ]
     },
     "execution_count": 25,
     "metadata": {},
     "output_type": "execute_result"
    }
   ],
   "source": [
    "error_dict"
   ]
  },
  {
   "cell_type": "code",
   "execution_count": 26,
   "id": "abf73780-2380-4b7b-b831-c9640cfb8943",
   "metadata": {},
   "outputs": [
    {
     "data": {
      "text/plain": [
       "{'unsafe': 4}"
      ]
     },
     "execution_count": 26,
     "metadata": {},
     "output_type": "execute_result"
    }
   ],
   "source": [
    "messages"
   ]
  },
  {
   "cell_type": "code",
   "execution_count": null,
   "id": "a0d6c970-a4cd-4475-8f64-6d0ff50029db",
   "metadata": {},
   "outputs": [],
   "source": [
    "try:    \n",
    "    print(\"No errors occurred during solving.\")\n",
    "except Exception as e:\n",
    "    print(e)\n",
    "    #if control.statistics['solving']['solvers']['conflicts'] > 0:\n",
    "    print(\"Errors occurred during solving.\")\n",
    "    # Analyze the conflicts to get more information\n",
    "    conflicts_analyzed = control.statistics['solving'] #['conflicts_analyzed']\n",
    "    print(\"Conflicts analyzed: {}\".format(conflicts_analyzed))"
   ]
  },
  {
   "cell_type": "code",
   "execution_count": 8,
   "id": "adfd11d9-f9e6-4712-a461-5f299ce26234",
   "metadata": {},
   "outputs": [],
   "source": [
    "aux = '''<block>:2:1-91: error: unsafe variables in:\n",
    "  move(X,Y,XX,YY):-[#inc_base];#Arith0=1;player(X,Y);#Arith0=(|(X-XX)|+|(Y-YY)|);not minotaur(XX,YY);not wall(XX,YY).\n",
    "<block>:2:10-12: note: 'XX' is unsafe\n",
    "<block>:2:13-15: note: 'YY' is unsafe'''"
   ]
  },
  {
   "cell_type": "code",
   "execution_count": 9,
   "id": "2461d836-e49b-4140-8258-41037564e8d7",
   "metadata": {},
   "outputs": [
    {
     "name": "stdout",
     "output_type": "stream",
     "text": [
      "Éxito\n"
     ]
    }
   ],
   "source": [
    "if \"unsafe variables\" in aux:\n",
    "    print(\"Éxito\")"
   ]
  },
  {
   "cell_type": "code",
   "execution_count": null,
   "id": "8a8d4d05-fc86-45ac-9eb5-40f446f47381",
   "metadata": {},
   "outputs": [],
   "source": []
  }
 ],
 "metadata": {
  "kernelspec": {
   "display_name": "Python 3 (ipykernel)",
   "language": "python",
   "name": "python3"
  },
  "language_info": {
   "codemirror_mode": {
    "name": "ipython",
    "version": 3
   },
   "file_extension": ".py",
   "mimetype": "text/x-python",
   "name": "python",
   "nbconvert_exporter": "python",
   "pygments_lexer": "ipython3",
   "version": "3.9.13"
  }
 },
 "nbformat": 4,
 "nbformat_minor": 5
}
