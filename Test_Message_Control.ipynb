{
 "cells": [
  {
   "cell_type": "code",
   "execution_count": 1,
   "id": "6c8a9c04-3fbc-4528-be37-21b0f5b9ba3d",
   "metadata": {},
   "outputs": [],
   "source": [
    "### Import libraries\n",
    "import openai\n",
    "import os\n",
    "import time\n",
    "from datetime import datetime\n",
    "import pandas as pd\n",
    "import numpy as np\n",
    "from numpy.linalg import norm\n",
    "import clingo\n",
    "import psycopg2\n",
    "from clingo.control import Control\n",
    "import json\n",
    "from yaml import load, Loader\n",
    "from helper import *\n",
    "from stories import *"
   ]
  },
  {
   "cell_type": "code",
   "execution_count": 2,
   "id": "acd5cc38-dc8a-4349-929c-b6b2798c3d0d",
   "metadata": {},
   "outputs": [],
   "source": [
    "canonical_dict = {\"sudoku\":os.path.join(\"projects\",\"sudoku\",\"canonical_sudoku.lp\"),\n",
    "                 \"seeknumbers\":os.path.join(\"projects\",\"seeknumbers\",\"canonical_seeknumbers2.lp\"),\n",
    "                 \"minotaur\":os.path.join(\"projects\",\"minotaur\",\"canonical_minotaur1.lp\"),\n",
    "                 \"creek\":os.path.join(\"projects\",\"creek\",\"canonical_creek.lp\"),                 \n",
    "                 \"yosenabe\":os.path.join(\"projects\",\"yosenabe\",\"canonical_yosenabe.lp\"),\n",
    "                 \"hop\":os.path.join(\"projects\",\"hop\",\"canonical_hop.lp\"),\n",
    "                 \"lights\":os.path.join(\"projects\",\"lights\",\"canonical_lights.lp\")}"
   ]
  },
  {
   "cell_type": "code",
   "execution_count": 3,
   "id": "3ad39e7f-b27d-4e95-b632-56316e0e7dea",
   "metadata": {},
   "outputs": [],
   "source": [
    "instances_dict ={\"sudoku\":os.path.join(\"projects\",\"sudoku\",\"instances\",\"ex01.lp\"),\n",
    "                 \"seeknumbers\":os.path.join(\"projects\",\"seeknumbers\",\"instances\",\"ex01.lp\"),\n",
    "                 \"minotaur\":os.path.join(\"projects\",\"minotaur\",\"instances\",\"level01.lp\"),\n",
    "                 \"creek\":os.path.join(\"projects\",\"creek\",\"instances\",\"ex01.lp\"),\n",
    "                 \"yosenabe\":os.path.join(\"projects\",\"yosenabe\",\"instances\",\"instance01.lp\"),\n",
    "                 \"hop\":os.path.join(\"projects\",\"hop\",\"instances\",\"level1.lp\"),\n",
    "                 \"lights\":os.path.join(\"projects\",\"lights\",\"instances\",\"test01.lp\")}"
   ]
  },
  {
   "cell_type": "code",
   "execution_count": 4,
   "id": "17ac116e-c5a4-48eb-92d1-45949a4d2c0d",
   "metadata": {},
   "outputs": [],
   "source": [
    "solution_dict ={\"sudoku\":os.path.join(\"projects\",\"sudoku\",\"solutions\",\"ex01.json\"),\n",
    "                 \"seeknumbers\":os.path.join(\"projects\",\"seeknumbers\",\"solutions\",\"ex01.json\"),\n",
    "                 \"minotaur\":os.path.join(\"projects\",\"minotaur\",\"solutions\",\"level01.json\"),\n",
    "                 \"creek\":os.path.join(\"projects\",\"creek\",\"solutions\",\"ex01.json\"),\n",
    "                 \"yosenabe\":os.path.join(\"projects\",\"yosenabe\",\"solutions\",\"solution01.txt\"),\n",
    "                 \"hop\":os.path.join(\"projects\",\"hop\",\"solutions\",\"solution01.txt\"),\n",
    "                 \"lights\":os.path.join(\"projects\",\"lights\",\"solutions\",\"solution01.txt\")}"
   ]
  },
  {
   "cell_type": "code",
   "execution_count": 39,
   "id": "5c47188b-f006-46cd-a2f0-0e4dbf1d6ec8",
   "metadata": {},
   "outputs": [],
   "source": [
    "def asp_try_5(asp_file,instance):\n",
    "    models = []  \n",
    "    errors = []\n",
    "    symbols = []\n",
    "    messages = []\n",
    "\n",
    "    def custom_logger(code, message):\n",
    "        print(code)\n",
    "        print(message)\n",
    "        messages.append(message)\n",
    "        \n",
    "    def on_model(model):\n",
    "        #print(\"Model:\", model)\n",
    "        models.append(model)\n",
    "        with open('output.txt','w') as file:\n",
    "            print(model, file=file)\n",
    "        with open('output.txt','r') as file:\n",
    "            lines = file.readlines()\n",
    "            symbols_list = lines[0].split()\n",
    "            #for s in symbols_list:\n",
    "            symbols.append(symbols_list)\n",
    "        os.remove(\"output.txt\")\n",
    "\n",
    "    time_init = time.time() \n",
    "    asp_program = []\n",
    "    # TODO: timeout of Unix systems. Wrapper around. Kill the process. \n",
    "    control = clingo.Control(['--warn=none','-t','5','-n','10'], logger=custom_logger) #, '--warn=none', '--opt-mode=optN' --time-limit=5, -t 5\n",
    "    input_files = [asp_file, instance]\n",
    "    for file_name in input_files:\n",
    "        with open(file_name, \"r\") as file:\n",
    "            asp_program.extend(file.readlines())\n",
    "            \n",
    "    try:\n",
    "        control.add(\"base\", [], \"\".join(asp_program))\n",
    "    except Exception as err:         \n",
    "        #print(f\"Unexpected {err=}, {type(err)=}.\")\n",
    "        errors.append(str(err))\n",
    "        return models, errors, symbols, messages\n",
    "    \n",
    "    try:\n",
    "        control.ground([(\"base\", [])])\n",
    "    except Exception as err:         \n",
    "        #print(f\"Unexpected {err=}, {type(err)=}.\")\n",
    "        errors.append(str(err))\n",
    "        return models, errors, symbols, messages\n",
    "    \n",
    "    #control.configuration.solve.models = 0  # Limit the number of models to 1\n",
    "    try:\n",
    "        control.solve(on_model=on_model)\n",
    "    except Exception as err:         \n",
    "        #print(f\"Unexpected {err=}, {type(err)=}.\")\n",
    "        errors.append(str(err))\n",
    "        return models, errors, symbols, messages\n",
    "    \n",
    "    time_final = time.time() \n",
    "    delta_time = time_final-time_init\n",
    "    \n",
    "    if delta_time > 5 and len(symbols) == 0:\n",
    "        errors.append(\"Timeout\")\n",
    "\n",
    "    #print(f\"Results: {models}, {errors}, {symbols}. Timedelta {delta_time}\")\n",
    "    return models, errors, symbols, messages"
   ]
  },
  {
   "cell_type": "code",
   "execution_count": 40,
   "id": "67db12b8-221d-4e48-8d25-c18e1aab7e65",
   "metadata": {},
   "outputs": [],
   "source": [
    "def asp_try_3(asp_file,instance):\n",
    "    errors = []\n",
    "    messages = []\n",
    "    error_dict = {}\n",
    "    message_dict = {}\n",
    "    def custom_logger(code, message):\n",
    "        print(code)\n",
    "        print(message)\n",
    "        errors.append(code)\n",
    "        messages.append(message)\n",
    "    control = clingo.Control(logger=custom_logger,message_limit=100)\n",
    "    input_files = [asp_file, instance]\n",
    "    asp_program = []\n",
    "    models = []\n",
    "    symbols = []\n",
    "    \n",
    "    def on_model(model):\n",
    "        print(\"Model:\", model)\n",
    "        with open('output.txt','w') as file:\n",
    "            print(model, file=file)\n",
    "        with open('output.txt','r') as file:\n",
    "            lines = file.readlines()\n",
    "            symbols_list = lines[0].split()\n",
    "            for s in symbols_list:\n",
    "                symbols.append(s)\n",
    "        os.remove(\"output.txt\") \n",
    "        #print(type(model))\n",
    "        #symbols = model.symbols(atoms=False,terms=True, shown=True)\n",
    "        #for s in symbols:\n",
    "        #    print(s.arguments)\n",
    "        #    print(type(s))\n",
    "        #    symbols_list.append(s)\n",
    "        #print(\"Symbols:\", symbols)\n",
    "        \n",
    "         #def symbols(self, atoms: bool = False, terms: bool = False, \n",
    "         #            shown: bool = False, theory: bool = False, complement: bool = False) ‑> Sequence[Symbol] \n",
    "        models.append(model)\n",
    "    \n",
    "    for file_name in input_files:\n",
    "        with open(file_name, \"r\") as file:\n",
    "            asp_program.extend(file.readlines())\n",
    "    try:\n",
    "        control.add(\"base\", [], \"\".join(asp_program))\n",
    "    except:\n",
    "        models, error_dict, message_dict, symbols\n",
    "    try:\n",
    "        control.ground([(\"base\", [])])\n",
    "    except:\n",
    "        print(\"Grounding stopped because of errors\")\n",
    "        error_codes = [\"AtomUndefined\",\"FileIncluded\",\"GlobalVariable\",\"OperationUndefined\",\"Other\",\"RuntimeError\",\"VariableUnbounded\"]\n",
    "        sub_codes = [\"unsafe\"]\n",
    "        \n",
    "        for error_code in error_codes:\n",
    "            error_dict[error_code] = 0\n",
    "        \n",
    "        for sub_code in sub_codes:\n",
    "            sub_dict[sub_code] = 0\n",
    "        for e in errors:\n",
    "            for ec in error_codes:\n",
    "                if str(e).split(\".\")[1] == ec:\n",
    "                    error_dict[ec] += 1\n",
    "        for mss in messages:\n",
    "            for sc in sub_codes:\n",
    "                if sc in mss:\n",
    "                    sub_dict[sc] += 1\n",
    "        return models, error_dict, message_dict\n",
    "        \n",
    "    control.configuration.solve.models = 0  # Limit the number of models to 1\n",
    "    control.solve(on_model=on_model)\n",
    "    \n",
    "    return models, error_dict, message_dict, symbols"
   ]
  },
  {
   "cell_type": "code",
   "execution_count": 41,
   "id": "e8db0098-f89c-463a-85e8-b59b110133bc",
   "metadata": {},
   "outputs": [
    {
     "name": "stdout",
     "output_type": "stream",
     "text": [
      "Connection established\n"
     ]
    }
   ],
   "source": [
    "conn_string = \"dbname=thesis user=postgres password=postgres\"\n",
    "conn = psycopg2.connect(conn_string)\n",
    "print(\"Connection established\")"
   ]
  },
  {
   "cell_type": "code",
   "execution_count": 42,
   "id": "0db57ebf-0529-4b9b-a496-723aad9b6ae7",
   "metadata": {},
   "outputs": [],
   "source": [
    "cursor = conn.cursor()\n",
    "cursor.execute(\"SELECT file, n_errors, errors FROM panel WHERE n_errors > 0 LIMIT 1\")\n",
    "results = cursor.fetchall()"
   ]
  },
  {
   "cell_type": "code",
   "execution_count": 43,
   "id": "a0f3b46a-9429-4153-941f-4602f493e8e2",
   "metadata": {},
   "outputs": [
    {
     "data": {
      "text/plain": [
       "[('creek_from_minotaur_and_sudoku_v2_20231129.lp', 1, 'parsing failed')]"
      ]
     },
     "execution_count": 43,
     "metadata": {},
     "output_type": "execute_result"
    }
   ],
   "source": [
    "results"
   ]
  },
  {
   "cell_type": "code",
   "execution_count": 44,
   "id": "915eaef8-c57a-4315-a72b-b190ad104a92",
   "metadata": {},
   "outputs": [],
   "source": [
    "bad_file = results[0][0]\n",
    "bad_path = os.path.join('generated_solutions',bad_file)\n",
    "instance = instances_dict[bad_file.split(\"_\")[0]]"
   ]
  },
  {
   "cell_type": "code",
   "execution_count": 45,
   "id": "7517ca14-148a-4e99-9018-7214d13318b3",
   "metadata": {},
   "outputs": [
    {
     "name": "stdout",
     "output_type": "stream",
     "text": [
      "MessageCode.RuntimeError\n",
      "<block>:33:108-109: error: syntax error, unexpected =, expecting )\n",
      "\n"
     ]
    }
   ],
   "source": [
    "models, errors, symbols, messages = asp_try_5(bad_path, instance)"
   ]
  },
  {
   "cell_type": "code",
   "execution_count": 46,
   "id": "cf4fbdaf-b59b-473a-99d7-542a80e1e377",
   "metadata": {},
   "outputs": [
    {
     "data": {
      "text/plain": [
       "['<block>:33:108-109: error: syntax error, unexpected =, expecting )\\n']"
      ]
     },
     "execution_count": 46,
     "metadata": {},
     "output_type": "execute_result"
    }
   ],
   "source": [
    "messages"
   ]
  },
  {
   "cell_type": "code",
   "execution_count": 47,
   "id": "1d1fee58-4f54-408e-acb4-2b82412a2ca7",
   "metadata": {},
   "outputs": [
    {
     "data": {
      "text/plain": [
       "[]"
      ]
     },
     "execution_count": 47,
     "metadata": {},
     "output_type": "execute_result"
    }
   ],
   "source": [
    "symbols"
   ]
  },
  {
   "cell_type": "code",
   "execution_count": 25,
   "id": "772305be-6ba5-4600-ab81-b6b838cdba1c",
   "metadata": {},
   "outputs": [
    {
     "data": {
      "text/plain": [
       "{'AtomUndefined': 0,\n",
       " 'FileIncluded': 0,\n",
       " 'GlobalVariable': 0,\n",
       " 'OperationUndefined': 0,\n",
       " 'Other': 0,\n",
       " 'RuntimeError': 4,\n",
       " 'VariableUnbounded': 0}"
      ]
     },
     "execution_count": 25,
     "metadata": {},
     "output_type": "execute_result"
    }
   ],
   "source": [
    "error_dict"
   ]
  },
  {
   "cell_type": "code",
   "execution_count": 26,
   "id": "abf73780-2380-4b7b-b831-c9640cfb8943",
   "metadata": {},
   "outputs": [
    {
     "data": {
      "text/plain": [
       "{'unsafe': 4}"
      ]
     },
     "execution_count": 26,
     "metadata": {},
     "output_type": "execute_result"
    }
   ],
   "source": [
    "messages"
   ]
  },
  {
   "cell_type": "code",
   "execution_count": null,
   "id": "a0d6c970-a4cd-4475-8f64-6d0ff50029db",
   "metadata": {},
   "outputs": [],
   "source": [
    "try:    \n",
    "    print(\"No errors occurred during solving.\")\n",
    "except Exception as e:\n",
    "    print(e)\n",
    "    #if control.statistics['solving']['solvers']['conflicts'] > 0:\n",
    "    print(\"Errors occurred during solving.\")\n",
    "    # Analyze the conflicts to get more information\n",
    "    conflicts_analyzed = control.statistics['solving'] #['conflicts_analyzed']\n",
    "    print(\"Conflicts analyzed: {}\".format(conflicts_analyzed))"
   ]
  },
  {
   "cell_type": "code",
   "execution_count": 8,
   "id": "adfd11d9-f9e6-4712-a461-5f299ce26234",
   "metadata": {},
   "outputs": [],
   "source": [
    "aux = '''<block>:2:1-91: error: unsafe variables in:\n",
    "  move(X,Y,XX,YY):-[#inc_base];#Arith0=1;player(X,Y);#Arith0=(|(X-XX)|+|(Y-YY)|);not minotaur(XX,YY);not wall(XX,YY).\n",
    "<block>:2:10-12: note: 'XX' is unsafe\n",
    "<block>:2:13-15: note: 'YY' is unsafe'''"
   ]
  },
  {
   "cell_type": "code",
   "execution_count": 9,
   "id": "2461d836-e49b-4140-8258-41037564e8d7",
   "metadata": {},
   "outputs": [
    {
     "name": "stdout",
     "output_type": "stream",
     "text": [
      "Éxito\n"
     ]
    }
   ],
   "source": [
    "if \"unsafe variables\" in aux:\n",
    "    print(\"Éxito\")"
   ]
  },
  {
   "cell_type": "markdown",
   "id": "b17c2578-a90e-46cf-9571-8c9128f69631",
   "metadata": {},
   "source": [
    "## Others"
   ]
  },
  {
   "cell_type": "code",
   "execution_count": 3,
   "id": "53dc9d72-138e-4f68-b344-702e8ca98c6a",
   "metadata": {},
   "outputs": [],
   "source": [
    "import pandas as pd\n",
    "import psycopg2"
   ]
  },
  {
   "cell_type": "code",
   "execution_count": 4,
   "id": "e6648be2-490d-4db5-91f5-b9a88bb51dcd",
   "metadata": {},
   "outputs": [
    {
     "name": "stdout",
     "output_type": "stream",
     "text": [
      "Connection established\n"
     ]
    }
   ],
   "source": [
    "conn_string = \"dbname=thesis user=postgres password=postgres\"\n",
    "conn = psycopg2.connect(conn_string)\n",
    "print(\"Connection established\")"
   ]
  },
  {
   "cell_type": "code",
   "execution_count": 5,
   "id": "8a8d4d05-fc86-45ac-9eb5-40f446f47381",
   "metadata": {},
   "outputs": [],
   "source": [
    "def load_from_database(conn, story, version):\n",
    "    cursor = conn.cursor()\n",
    "    command = \"SELECT * FROM experiments e JOIN results r ON e.file = r.file WHERE story = '{}' AND version = {}\".format(story, version)\n",
    "    print(command)\n",
    "    results = None\n",
    "    try:\n",
    "        cursor.execute(command)\n",
    "        results = cursor.fetchall()\n",
    "        conn.commit()\n",
    "        cursor.close()\n",
    "    except Exception as err:\n",
    "        print(command)\n",
    "        print(f\"Unexpected {err=}, {type(err)=} Bad Query.\")\n",
    "        conn.commit()\n",
    "        cursor.close()\n",
    "        pass\n",
    "    return results"
   ]
  },
  {
   "cell_type": "code",
   "execution_count": 8,
   "id": "616b06bc-9fbd-439c-bde9-08bd19b73e32",
   "metadata": {},
   "outputs": [
    {
     "name": "stdout",
     "output_type": "stream",
     "text": [
      "SELECT * FROM experiments e JOIN results r ON e.file = r.file WHERE story = 'sudoku' AND version = 2\n"
     ]
    }
   ],
   "source": [
    "results = load_from_database(conn, \"sudoku\", 2)"
   ]
  },
  {
   "cell_type": "code",
   "execution_count": 12,
   "id": "01b60a55-4d3d-432c-9de5-396c290ce9d7",
   "metadata": {},
   "outputs": [
    {
     "data": {
      "text/plain": [
       "tuple"
      ]
     },
     "execution_count": 12,
     "metadata": {},
     "output_type": "execute_result"
    }
   ],
   "source": [
    "type(results[0])"
   ]
  },
  {
   "cell_type": "code",
   "execution_count": 30,
   "id": "8ae24718-b37f-4da1-8504-b3bc3b576b47",
   "metadata": {},
   "outputs": [],
   "source": [
    "def load_one_from_db(conn, story, version):\n",
    "    cursor = conn.cursor()\n",
    "    command = \"SELECT * FROM experiments e JOIN results r ON e.file = r.file WHERE story = '{}' AND version = {}\".format(story, version)\n",
    "    #st.write(command)\n",
    "    print(command)\n",
    "    result_list = []\n",
    "    try:\n",
    "        cursor.execute(command)\n",
    "        results = cursor.fetchall()\n",
    "        conn.commit()\n",
    "        cursor.close()\n",
    "    except Exception as err:\n",
    "        print(command)\n",
    "        print(f\"Unexpected {err=}, {type(err)=} Bad Query.\")\n",
    "        conn.commit()\n",
    "        cursor.close()\n",
    "        pass\n",
    "    #print(results)\n",
    "    print(\"=================\")\n",
    "    for r in results:\n",
    "        print(r[0])\n",
    "        break\n",
    "        #dicc_result = {\"id\":r[0], \"prompt1\":r[1], \"prompt2\":r[2], \"encoding\":r[3], \"story\":r[4], \"story_1\":r[5], \"story_2\":r[6], \"version\":r[7], \"file\":r[8], \"created_at\":r[9], \"llm\":r[10], \"id_result\":r[11], \"file2\":r[12], \"kpi\":r[13], \"diff_lines\":r[14], \"errors\":r[15], \"n_models\":r[16], \"symbols\":r[17], \"matchs\":r[18], \"match_ratio\":r[19], \"created_at_result\":r[20]}\n",
    "        #results.append(dicc_result)\n",
    "    #st.write(result_list)\n",
    "    return result_list"
   ]
  },
  {
   "cell_type": "code",
   "execution_count": 31,
   "id": "562bc2b4-823d-4f99-b07e-1549e79719f7",
   "metadata": {},
   "outputs": [
    {
     "name": "stdout",
     "output_type": "stream",
     "text": [
      "SELECT * FROM experiments e JOIN results r ON e.file = r.file WHERE story = 'sudoku' AND version = 2\n",
      "=================\n",
      "64\n"
     ]
    }
   ],
   "source": [
    "results = load_one_from_db(conn, \"sudoku\", 2)"
   ]
  },
  {
   "cell_type": "code",
   "execution_count": 17,
   "id": "b4563f25-0d67-40f8-bf14-2762a5d80cec",
   "metadata": {},
   "outputs": [
    {
     "name": "stdout",
     "output_type": "stream",
     "text": [
      "[(64, 'Given a problem and some predicates, write ASP (Answer Set Programming) rules to generate the search space of possible relations. Do not repeat rules.\\n            \\n        Problem 1:\\n                    The task of this project is to solve the Japanese grid puzzle Yosenabe using ASP. Given a grid, the task is to move each number surrounded by a frame into one of the gray areas along a straight line, respecting the following conditions:\\n1. The ways of any two moved numbers must not cross or meet at any grid cell.\\n2. Each gray area must be populated with at least one moved number.\\n3. An area may be associated with a (positive) goal number, shown within it. If so, the numbers moved into the area must sum up exactly to the goal.\\nWhile a number can be moved through an area, you may assume that a move stops at the fi\\x0crst cell w.r.t. its direction of the area into which it leads.\\n\\n        Input_predicates 1:\\n                    % There is a cell with coordinates (X,Y)\\n            cell(X,Y)\\n            % In the cell (X,Y) there is a number N \\n            number(X,Y,N)\\n            % The cell (X,Y) belongs to the area A \\n            area(X,Y,A)\\n            % The area A has a goal G to fulfill\\n            goal(A,G)\\n\\n        Output_predicate 1:\\n                    % The target of the cell(X,Y) is cell(P,Q)\\n            target(X,Y,P,Q)\\n\\n        Rules 1:\\n                    % All the posible directions\\n            dir(0,1). dir(0,-1). dir(1,0). dir(-1,0).\\n% No different targets for the same number\\n:- target(X,Y,I,J), I != I, target(X,Y,I,J).         \\n% No different targets for the same number\\n:- target(X,Y,I,J), J != J, target(X,Y,I,J).         \\n% Only horizontal or vertical movements\\n:- target(X,Y,I,J), X != I, Y != J.                         \\n% Only one target point to one cell\\n:- target(X,Y,I,J), target(X,Y,I,J), cell(X,Y) != cell(X,Y).    \\n\\n% The paths are not crossed\\n:- target(X,Y,I,J), target(X,Y,I,J), X = I, Y=J, Y<=Y, Y<=J, X<=X, X<=I.\\n:- target(X,Y,I,J), target(X,Y,I,J), X = I, Y=J, Y>=Y, Y>=J, X<=X, X<=I.\\n:- target(X,Y,I,J), target(X,Y,I,J), X = I, Y=J, Y<=Y, Y<=J, X>=X, X>=I.\\n:- target(X,Y,I,J), target(X,Y,I,J), X = I, Y=J, Y>=Y, Y>=J, X>=X, X>=I.\\n:- target(X,Y,I,J), target(X,Y,I,J), I>I, X<X.\\n:- target(X,Y,I,J), target(X,Y,I,J), J>J, Y<Y.\\n\\n% Each gray area must be populated with at least one moved number.\\ncounttarget(T,A) :- T = #count{number(X,Y,Z): number(X,Y,Z), target(X,Y,I,J), area(I,J,A)}, area(_,_,A).\\n:- T = 0, counttarget(T,A).\\n\\n% The areas have values\\ntotal(A,S) :- S = #sum{ Z : number(X,Y,Z), target(X,Y,I,J), area(I,J,A)}, goal(A,V).\\n:- total(A,S), S != V, goal(A,V).\\n\\n% Show output predicate\\n#show target/4.\\n\\n        Problem 2:\\n                    The puzzle involves illuminating a two-dimensional grid with lights. The grid is square, and some cells are given as initial conditions. These given cells are either empty or contain a whole number between 0 and 4.\\n\\nThe objective of the puzzle is to place lights on the cells that are not initially given, ensuring that each non-given cell is horizontally or vertically illuminated by (at least) one light. Light rays must not pass through given cells (either empty or containing a number). Additional constraints include that no two lights should illuminate each other, and for each cell with a number n, there must be exactly n horizontally or vertically adjacent cells, each containing a light.\\n\\n        Input_predicates 2:\\n                     % Number of rows\\n          rows(R).\\n% Number of columns\\ncols(C). \\n% Digit D at position (X,Y), i.e., in row X and column Y\\ndigit(X,Y,D). \\n% Empty cell at position (X,Y), i.e., in row X and column Y \\nempty(X,Y). \\n\\n        Output_predicate 2:\\n                    % light placed in cell X,Y\\n          light(X,Y)  \\n\\n        Rules 2:\\n                    % Define fields at the combination of a row X and a column Y if this combination X,Y is not empty \\nfield(X,Y) :- rows(R), cols(C), X = 1..R, Y = 1..C, not empty(X,Y).\\n% Define predicate digit/2 from digit/3 that only shows the position of the digit N\\ndigit(X,Y) :- digit(X,Y,N).\\n% Define the possible distances from a field, as delta\\ndelta(1,0). delta(-1,0). delta(0,1). delta(0,-1).\\n% Define neighbors for each field given a delta\\nneighbor(X1,Y1,X2,Y2,DX,DY) :- field(X1,Y1), field(X2,Y2), delta(DX,DY), X2 = X1+DX, Y2 = Y1+DY.\\n% Neighbors that are not digits are defined as reach, to indicate that one field is reachable from the other one.\\nreach(X1,Y1,X2,Y2,DX,DY) :- neighbor(X1,Y1,X2,Y2,DX,DY), not digit(X1,Y1), not digit(X2,Y2).\\n% Transitive property of relation \"reach\": all fields that are neighbours in the same direction (DX,DY), have a relation reach\\nreach(X1,Y1,X3,Y3,DX,DY) :- neighbor(X2,Y2,X3,Y3,DX,DY), reach(X1,Y1,X2,Y2,DX,DY), not digit(X3,Y3).\\n\\n% Generate minimum 0 predicate light for field(X,Y) if this is not a digit.  \\n{ light(X,Y) } :- field(X,Y), not digit(X,Y).\\n\\n% Mark a field as lighted\\nlighted(X2,Y2) :- light(X1,Y1), reach(X1,Y1,X2,Y2,DX,DY). \\n\\n        Problem 3:\\n                    The task of this project is to solve a Sudoku puzzle using ASP. The goal of the game is to fill a 9x9 grid with digits so that each column, each row and each of the nine 3x3 sub-grids that compose the grid contains all numbers from 1 to 9. In other words, the grid has to be filled with numbers from 1 to 9 so that the same number does not appear twice in the same row, column or in any of the nine 3x3 sub-grids of the 9x9 playing board. Initially the grid is partially filled.\\n\\n        Input_predicates 3:\\n                    % Those are the predicates you count with:\\n                  % The initial value V of cell in column X and row Y\\n                  initial(X,Y,V).\\n\\n        Output_predicate 3:\\n                    % Sudoku is a unique match of column X, row Y and a digit N\\n                  sudoku(X,Y,N).\\n\\n        Rules 3: ', 'Consider the constraint in the following form\\n    <C1>; <C2>; ...; <Cm> :- <L1>, <L2>, ..., <Ln>. which says that if the conjunction \"<L1> and <L2> and ... and <Ln>\" is true, then the disjunction of comparisons \"<C1> or <C2> or ... or <Cm>\" must be true.\\n    One can also add a restriction that \"exactly k of <C1>, <C2>, ..., <Cm> is true\" by using the following form \\n    {<C1>; <C2>; ...; <Cm>}=k :- <L1>,<L2>, ..., <Ln>. \\n    Given a problem, extract all constraints from the clues in the problem using only the provided constants and predicates. Do not repeat rules.\\n            \\n        Problem 1:\\n                    The task of this project is to solve the Japanese grid puzzle Yosenabe using ASP. Given a grid, the task is to move each number surrounded by a frame into one of the gray areas along a straight line, respecting the following conditions:\\n1. The ways of any two moved numbers must not cross or meet at any grid cell.\\n2. Each gray area must be populated with at least one moved number.\\n3. An area may be associated with a (positive) goal number, shown within it. If so, the numbers moved into the area must sum up exactly to the goal.\\nWhile a number can be moved through an area, you may assume that a move stops at the fi\\x0crst cell w.r.t. its direction of the area into which it leads.\\n\\n        Input_predicates 1:\\n                    % There is a cell with coordinates (X,Y)\\n            cell(X,Y)\\n            % In the cell (X,Y) there is a number N \\n            number(X,Y,N)\\n            % The cell (X,Y) belongs to the area A \\n            area(X,Y,A)\\n            % The area A has a goal G to fulfill\\n            goal(A,G)\\n\\n        Output_predicate 1:\\n                    % The target of the cell(X,Y) is cell(P,Q)\\n            target(X,Y,P,Q)\\n\\n        Constraints 1:\\n                    % For each number, there is a target related to only one area\\n1 { target(X,Y,I,J) : area(I,J,A) } 1 :- number(X,Y,Z). \\n\\n        Problem 2:\\n                    The puzzle involves illuminating a two-dimensional grid with lights. The grid is square, and some cells are given as initial conditions. These given cells are either empty or contain a whole number between 0 and 4.\\n\\nThe objective of the puzzle is to place lights on the cells that are not initially given, ensuring that each non-given cell is horizontally or vertically illuminated by (at least) one light. Light rays must not pass through given cells (either empty or containing a number). Additional constraints include that no two lights should illuminate each other, and for each cell with a number n, there must be exactly n horizontally or vertically adjacent cells, each containing a light.\\n\\n        Input_predicates 2:\\n                     % Number of rows\\n          rows(R).\\n% Number of columns\\ncols(C). \\n% Digit D at position (X,Y), i.e., in row X and column Y\\ndigit(X,Y,D). \\n% Empty cell at position (X,Y), i.e., in row X and column Y \\nempty(X,Y). \\n\\n        Output_predicate 2:\\n                    % light placed in cell X,Y\\n          light(X,Y)  \\n\\n        Constraints 2:\\n                    \\n% Cannnot be the case that a field with a light is not lighted\\n:- light(X,Y), lighted(X,Y).\\n% Cannot be the case that a field is not digit and is not lighted\\n:- field(X,Y), not digit(X,Y), not light(X,Y), not lighted(X,Y).\\n% A field with a difit N must have exactly N neighbors that are light\\n:- digit(X1,Y1,N), not N { light(X2,Y2) : neighbor(X1,Y1,X2,Y2,DX,DY) } N.\\n\\n% Show output predicate\\n#show light/2. \\n\\n        Problem 3:\\n                    The task of this project is to solve a Sudoku puzzle using ASP. The goal of the game is to fill a 9x9 grid with digits so that each column, each row and each of the nine 3x3 sub-grids that compose the grid contains all numbers from 1 to 9. In other words, the grid has to be filled with numbers from 1 to 9 so that the same number does not appear twice in the same row, column or in any of the nine 3x3 sub-grids of the 9x9 playing board. Initially the grid is partially filled.\\n\\n        Input_predicates 3:\\n                    % Those are the predicates you count with:\\n                  % The initial value V of cell in column X and row Y\\n                  initial(X,Y,V).\\n\\n        Output_predicate 3:\\n                    % Sudoku is a unique match of column X, row Y and a digit N\\n                  sudoku(X,Y,N).\\n\\n        Constraints 3: ', '% Define the range of the sudoku grid\\nrange(1..9).\\n\\n% Each cell in the grid must have exactly one number\\n1 { sudoku(X,Y,N) : range(N) } 1 :- range(X), range(Y).\\n\\n% Each number can only appear once in each row\\n:- range(X), range(N), 1 < #count{ Y : sudoku(X,Y,N) }.\\n\\n% Each number can only appear once in each column\\n:- range(Y), range(N), 1 < #count{ X : sudoku(X,Y,N) }.\\n\\n% Each number can only appear once in each 3x3 sub-grid\\n:- range(I), range(J), range(N), 1 < #count{ X,Y : sudoku(X,Y,N), (X-1)/3 = I-1, (Y-1)/3 = J-1 }.\\n\\n% The initial values must be respected\\nsudoku(X,Y,V) :- initial(X,Y,V).\\n\\n% Show output predicate\\n#show sudoku/3.\\n% Each cell must have exactly one number\\n1 { sudoku(X,Y,N) : N=1..9 } 1 :- initial(X,Y,_).\\n\\n% Each row must have all numbers from 1 to 9\\n1 { sudoku(X,Y,N) : Y=1..9 } 1 :- N=1..9.\\n\\n% Each column must have all numbers from 1 to 9\\n1 { sudoku(X,Y,N) : X=1..9 } 1 :- N=1..9.\\n\\n% Each 3x3 sub-grid must have all numbers from 1 to 9\\n1 { sudoku(3*X1+X2,3*Y1+Y2,N) : X2=0..2, Y2=0..2 } 1 :- N=1..9, X1=0..2, Y1=0..2.\\n\\n% The initial values must be respected\\n:- initial(X,Y,V), sudoku(X,Y,N), V!=N.', 'sudoku', 'yosenabe', 'lights', 2, 'sudoku_from_yosenabe_and_lights_v2_20231111.lp', datetime.datetime(2023, 11, 11, 15, 35, 0, 589546), 'gpt-4', 25, 'sudoku_from_yosenabe_and_lights_v2_20231111.lp', 38.0, 2, 2, 0, '[]', 0, 0.0, datetime.datetime(2023, 11, 16, 0, 1, 12, 389478))]\n"
     ]
    }
   ],
   "source": [
    "print(results)"
   ]
  },
  {
   "cell_type": "code",
   "execution_count": null,
   "id": "f7238361-0229-4184-96fd-1af060b877a7",
   "metadata": {},
   "outputs": [],
   "source": []
  }
 ],
 "metadata": {
  "kernelspec": {
   "display_name": "Python 3 (ipykernel)",
   "language": "python",
   "name": "python3"
  },
  "language_info": {
   "codemirror_mode": {
    "name": "ipython",
    "version": 3
   },
   "file_extension": ".py",
   "mimetype": "text/x-python",
   "name": "python",
   "nbconvert_exporter": "python",
   "pygments_lexer": "ipython3",
   "version": "3.9.13"
  }
 },
 "nbformat": 4,
 "nbformat_minor": 5
}
