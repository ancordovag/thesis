{
 "cells": [
  {
   "cell_type": "code",
   "execution_count": 1,
   "id": "231ed771-9eeb-4193-bf81-bec7c3e1292c",
   "metadata": {},
   "outputs": [],
   "source": [
    "### Import libraries\n",
    "import openai\n",
    "import os\n",
    "import time\n",
    "from datetime import datetime\n",
    "import pandas as pd\n",
    "import clingo\n",
    "from clingo.control import Control\n",
    "import json\n",
    "from helper import *\n",
    "from stories import *\n",
    "from pipelines import *\n",
    "import psycopg2"
   ]
  },
  {
   "cell_type": "code",
   "execution_count": 2,
   "id": "b70b3373-4e0f-4749-a76f-8071543374c1",
   "metadata": {},
   "outputs": [],
   "source": [
    "now = datetime.now()\n",
    "date_time = now.strftime(\"%Y%m%d\")"
   ]
  },
  {
   "cell_type": "markdown",
   "id": "3ce70df2-3967-4366-a57c-b1f09af7fcd9",
   "metadata": {},
   "source": [
    "## OpenAI"
   ]
  },
  {
   "cell_type": "code",
   "execution_count": 3,
   "id": "1acad185-fecc-4ee7-9e88-ee7a70d9e774",
   "metadata": {},
   "outputs": [],
   "source": [
    "set_api_key()"
   ]
  },
  {
   "cell_type": "markdown",
   "id": "fb9ebeb0-b43b-4fac-af7a-b3661c10124d",
   "metadata": {},
   "source": [
    "## Connect to Database"
   ]
  },
  {
   "cell_type": "code",
   "execution_count": 4,
   "id": "1fc18c20-73d6-4715-844f-5304d8026287",
   "metadata": {},
   "outputs": [],
   "source": [
    "conn = get_connection()"
   ]
  },
  {
   "cell_type": "markdown",
   "id": "6186a42c-727e-4160-8c5f-37e04c9a0034",
   "metadata": {},
   "source": [
    "## Load Projects"
   ]
  },
  {
   "cell_type": "code",
   "execution_count": 5,
   "id": "46634a9b-aec1-41ec-8525-b5690c53bca4",
   "metadata": {},
   "outputs": [],
   "source": [
    "projects = get_useful_projects()"
   ]
  },
  {
   "cell_type": "markdown",
   "id": "db4bf793-fe5e-4941-ae4b-d7716ce4df2a",
   "metadata": {},
   "source": [
    "## Functions"
   ]
  },
  {
   "cell_type": "code",
   "execution_count": 6,
   "id": "cb603840-c987-405a-b9a6-ad75da9b38c1",
   "metadata": {},
   "outputs": [],
   "source": [
    "def save_in_database(conn, prompt1, prompt2, encoding, story, story_1, story_2, version, file):\n",
    "    cursor = conn.cursor()\n",
    "    command = \"INSERT INTO ne_linebyline (prompt1, prompt2, encoding, story, story_1, story_2, version, file) VALUES ('%(prompt1)s', '%(prompt2)s', '%(encoding)s', '%(story)s', '%(story_1)s', '%(story_2)s', '%(version)s', '%(file)s');\" % {\"prompt1\": prompt1, \"prompt2\": prompt2, \"encoding\": encoding, \"story\": story, \"story_1\": story_1, \"story_2\":story_2, \"version\":version, \"file\":file}\n",
    "    try:\n",
    "        cursor.execute(command)\n",
    "        conn.commit()\n",
    "        cursor.close()\n",
    "    except Exception as err:\n",
    "        print(command)\n",
    "        print(f\"Unexpected {err=}, {type(err)=}\")\n",
    "        conn.commit()\n",
    "        cursor.close()\n",
    "        pass"
   ]
  },
  {
   "cell_type": "code",
   "execution_count": 7,
   "id": "ae040f2f-7d33-4e65-adaa-ad236c7156d1",
   "metadata": {},
   "outputs": [],
   "source": [
    "def quality_check(name_file, lines_file, previous_messages, instance, deep):\n",
    "    if deep==0:\n",
    "        return lines_file[-1]\n",
    "    with open(name_file,\"w\") as tmp_file:\n",
    "        for new_line in lines_file:\n",
    "            tmp_file.write(new_line)\n",
    "    models, errors, symbols, mistakes = asp_try_5(name_file,instance)\n",
    "    print(f\"Errors {errors}. Messages {mistakes}.\")\n",
    "    new_answer = lines_file[-1]\n",
    "    if len(mistakes) > 0:\n",
    "        print(\"Mistake! Last Message : \" + str(previous_messages[-1]))\n",
    "        answer = get_completion_line(\"The last rule that you wrote is wrong. The error message is: ###\" + str(mistakes) + \"###. Can you try again?\"\n",
    "                                    , previous_messages = previous_messages)\n",
    "        lines_file[-1] = answer\n",
    "        print(\"Deep: \"+ str(deep) + \". New answer: \" +answer)\n",
    "        new_answer = quality_check(name_file,lines_file,previous_messages, instance, deep-1)\n",
    "    return lines_file[-1]"
   ]
  },
  {
   "cell_type": "markdown",
   "id": "8e28438f-8fcd-498d-a6ec-540181eb3f5f",
   "metadata": {},
   "source": [
    "## Main : From Script, Line4Line"
   ]
  },
  {
   "cell_type": "code",
   "execution_count": 9,
   "id": "75897c91-482b-486e-b1c8-632c7595012f",
   "metadata": {},
   "outputs": [
    {
     "name": "stdout",
     "output_type": "stream",
     "text": [
      "---------------------------------------------------\n",
      "% The possible next movements of the player \"next\" of 4 variables, are defined as 2 adjacent fields, with \"field\" predicate of 2 variables, that do not have a \"wall\" (4 variables) between them)          \n",
      "next(X,Y,XX,YY) :- field(X,Y), field(XX,YY), not wall(X,Y,XX,YY), not wall(XX,YY,X,Y).\n",
      "---------------------------------------------------\n",
      "            % A \"field\" is \"next\" to itself \n",
      "next(X,Y,X,Y) :- field(X,Y).\n",
      "---------------------------------------------------\n",
      "            % If a field is next to another, then this second one is next to the first one\n",
      "next(X,Y,XX,YY) :- next(XX,YY,X,Y).\n",
      "---------------------------------------------------\n",
      "            % The player, \"at\" 3 variables, is at start position \"start\" 2 Variables, at timestep 0\n",
      "at(X,Y,0) :- start(X,Y).\n",
      "---------------------------------------------------\n",
      "            % The player chooses only one position from the possible \"next\" fields if it is not at the \"goal\" 2 variables, and the timestem T is less than the max steps S \"maxsteps\".\n",
      "1 {at(XX,YY,T+1) : next(X,Y,XX,YY)} 1 :- at(X,Y,T), not goal(X,Y), T < S, maxsteps(S).\n",
      "---------------------------------------------------\n",
      "            % The minotaurs movements \"mino_step\" 5 variables depending of the possible \"next\" movement of the player.     \n",
      "mino_step(X,Y,XX,YY,T) :- mino(X,Y,T), next(X,Y,XX,YY).\n",
      "---------------------------------------------------\n",
      "            % The minotaur's next position as the actual position plus the minotaur's movement\n",
      "mino(XX,YY,T+1) :- mino(X,Y,T), mino_step(X,Y,XX,YY,T).\n",
      "---------------------------------------------------\n",
      "            % The minotaur is at the minotaur's start position at timestep 0\n",
      "mino(X,Y,0) :- mino(X,Y).\n",
      "---------------------------------------------------\n",
      "            % The minotaur's next position depending on the actual position and the next position of the player\n",
      "mino(XX,YY,T+1) :- mino(X,Y,T), next(X,Y,XX,YY), at(XXX,YYY,T+1), next(XXX,YYY,XX,YY).\n",
      "---------------------------------------------------\n",
      "            % The player and the minotaur can not be at the same cell at the same time        \n",
      ":- at(X,Y,T), mino(X,Y,T).\n",
      "---------------------------------------------------\n",
      "            % The goal is achieved when the player is at cell goal\n",
      "goal(X,Y) :- at(X,Y,T).\n",
      "---------------------------------------------------\n",
      "            % It can not be the case, that the goal is not achieved\n",
      ":- not goal(X,Y).\n",
      "---------------------------------------------------\n",
      "            % Optimization: minimize the time T            \n",
      "#minimize {T : at(_,_,T)}.\n",
      "---------------------------------------------------\n",
      "            % Show output predicate\n",
      "#show at/3.\n",
      "#show mino/3.\n"
     ]
    }
   ],
   "source": [
    "for project in projects:\n",
    "    story = project[\"story\"]\n",
    "    encoding = project[\"lines\"]\n",
    "    instance = instances_dict[story]\n",
    "    problem = project[\"problem\"]\n",
    "    representation = project[\"Representation in ASP\"]\n",
    "    lines = encoding.splitlines()\n",
    "    new_file = []\n",
    "    content = f'''Problem: \n",
    "                    {problem}.\n",
    "                  Representation:\n",
    "                    {representation}'''\n",
    "    messages = [{\"role\":\"user\",\"content\":content}]\n",
    "    for line in lines:\n",
    "        if line == '\\n':\n",
    "            continue\n",
    "        if len(line.strip()) > 0 and line.strip()[0] == '%':\n",
    "            print(\"---------------------------------------------------\")\n",
    "            new_file.append(\"\\n\" + line)\n",
    "            messages.append({\"role\":\"user\",\"content\":line})\n",
    "            print(line)\n",
    "            answer = get_completion_representation(line,previous_messages=messages)\n",
    "            print(answer)\n",
    "            new_file.append(\"\\n\" + answer)\n",
    "            messages.append({\"role\":\"assistant\",\"content\":answer})\n",
    "            #new_answer = quality_check(x\",new_file,messages,instance,deep=3)\n",
    "            #new_file[-1] = new_answer\n",
    "    new_file_name = story + \"_v15_RSL_\" + date_time + \".lp\"\n",
    "    prompt = '''Given the description of a problem, predicates in Answer Set Programming, and a commented line, \n",
    "                        your task is to translate this last commented line to a rule in Answer Set Programming, using the given predicates or past rules. \n",
    "                        Just write one or a few predicates or rules. Do not try to solve the whole problem at once.'''\n",
    "    encoding=' '.join(new_file)\n",
    "    save_in_database(conn,prompt,'',encoding.replace(\"'\",\"\"),story,'', '', 15, new_file_name)  "
   ]
  },
  {
   "cell_type": "code",
   "execution_count": 10,
   "id": "8b231938-54d3-4be3-9c53-1b6376d54a76",
   "metadata": {},
   "outputs": [
    {
     "data": {
      "text/plain": [
       "['% Four atoms with predicate \"plus\" of 2 variables with possible values 0 and 1.',\n",
       " 'plus(0,0).\\nplus(0,1).\\nplus(1,0).\\nplus(1,1).',\n",
       " '% The four possible directions, predicate \"dir\" with 2 variables, of value 0, 1 or -1. dir(0,0) is not an option.',\n",
       " 'dir(0,1).\\ndir(0,-1).\\ndir(1,0).\\ndir(-1,0).',\n",
       " '% Predicate \"black\" of 2 variables is generated as the sum of the sum of the position (X,Y) and (A,B), for plus (A,B), if the cell(X+A,Y+B) exists, given hint(X,Y,N). There should be exactly \"N\" \"black\" predicates generated.',\n",
       " '{ black(X1,Y1) : dir(A,B), cell(X+A,Y+B), plus(A,B) } = N :- hint(X,Y,N).',\n",
       " '% Predicate \"path\" has 4 variables, indicating a path between two cells of predicate \"white\" of positions (X,Y) and (P,Q) if the sum of the absolute values of the differences of P and X, and Q and Y, is 1. Absolute value is expresed with bars: \"||\"',\n",
       " 'path(X,Y,P,Q) :- white(X,Y), white(P,Q), |P-X| + |Q-Y| = 1.',\n",
       " '% If a cell is not black, it should be white',\n",
       " 'white(X,Y) :- cell(X,Y), not black(X,Y).',\n",
       " '% If a cell is not white, it should be black',\n",
       " 'black(X,Y) :- cell(X,Y), not white(X,Y).',\n",
       " '% Find the minimum column of predicate \"mini_x\" containing a white cell ',\n",
       " 'mini_x(MinX) :- MinX = #min{ X : white(X,_) }.',\n",
       " '% Find the minimum row, predicate \"mini_y\", containing a white cell in the minimum column containing a white cell, using the last predicate \"mini_x\"',\n",
       " 'mini_y(MinY) :- MinY = #min{ Y : white(MinX,Y) }, mini_x(MinX).',\n",
       " '% The predicate \"first_visit\" has 2 variables: the minimum column and the minimum row defined before',\n",
       " 'first_visit(X,Y) :- mini_x(X), mini_y(Y).',\n",
       " '% Declare a cell as visited if there is an incoming path from the first visited cell',\n",
       " 'visited(X,Y) :- first_visit(X,Y).\\nvisited(X,Y) :- path(P,Q,X,Y), visited(P,Q).',\n",
       " '% Declare a cell as visited if there is an incoming path from a already visited cell',\n",
       " 'visited(X,Y) :- path(P,Q,X,Y), visited(P,Q).',\n",
       " '% It cannot be that a white cell is not visited',\n",
       " ':- white(X,Y), not visited(X,Y).',\n",
       " '% Show output predicate \"black\"',\n",
       " '#show black/2.']"
      ]
     },
     "execution_count": 10,
     "metadata": {},
     "output_type": "execute_result"
    }
   ],
   "source": [
    "new_file"
   ]
  },
  {
   "cell_type": "code",
   "execution_count": null,
   "id": "9b7dc485-f742-4129-8a34-54cf9a13858a",
   "metadata": {},
   "outputs": [],
   "source": []
  }
 ],
 "metadata": {
  "kernelspec": {
   "display_name": "Python 3 (ipykernel)",
   "language": "python",
   "name": "python3"
  },
  "language_info": {
   "codemirror_mode": {
    "name": "ipython",
    "version": 3
   },
   "file_extension": ".py",
   "mimetype": "text/x-python",
   "name": "python",
   "nbconvert_exporter": "python",
   "pygments_lexer": "ipython3",
   "version": "3.9.13"
  }
 },
 "nbformat": 4,
 "nbformat_minor": 5
}
