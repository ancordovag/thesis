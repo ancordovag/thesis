{
 "cells": [
  {
   "cell_type": "code",
   "execution_count": 9,
   "id": "e799646c-d085-4dd0-9357-91465d931a20",
   "metadata": {},
   "outputs": [],
   "source": [
    "from stories1 import *\n",
    "import openai\n",
    "from yaml import load, Loader"
   ]
  },
  {
   "cell_type": "code",
   "execution_count": 10,
   "id": "f6cd2eec-e111-48cd-ae65-e38b49a064b0",
   "metadata": {},
   "outputs": [],
   "source": [
    "with open(\"config.yml\",\"r\") as config:\n",
    "    data = load(config, Loader=Loader)\n",
    "    api_key = data[\"apikey\"]\n",
    "    openai.api_key  = api_key"
   ]
  },
  {
   "cell_type": "code",
   "execution_count": 11,
   "id": "813d195a-a6c9-4666-86e6-47b41fa98581",
   "metadata": {},
   "outputs": [
    {
     "data": {
      "text/plain": [
       "{'story': 'hop',\n",
       " 'problem': 'In this internship task, you are required to solve a logic puzzle using an ASP encoding. The goal of the puzzle is to find a path between predefined start and end points. The path consists of jumps of varying lengths in horizontal or vertical directions, following the pattern 1, 2, 3, 1, 2, 3, and so on. Your task is to determine the cells where you land between these jumps. Some of these cells are already provided, but without a specific order.'}"
      ]
     },
     "execution_count": 11,
     "metadata": {},
     "output_type": "execute_result"
    }
   ],
   "source": [
    "hop"
   ]
  },
  {
   "cell_type": "code",
   "execution_count": 15,
   "id": "b860f63a-b206-436a-968c-b199971e9e61",
   "metadata": {},
   "outputs": [],
   "source": [
    "def generate_list(query, model=\"gpt-3.5-turbo\"):\n",
    "    prompt = f'''Given the following problem description:\n",
    "                    {query}\n",
    "                Please provide a concise summary of the problem and list the specific requirements as follows:\n",
    "                    1) [Requirement 1]\n",
    "                    2) [Requirement 2]\n",
    "                    3) [Requirement 3]\n",
    "                    ...\n",
    "                You can add additional context or details if necessary.'''\n",
    "    messages = [{\"role\": \"user\", \"content\": prompt}]\n",
    "    response = openai.ChatCompletion.create(\n",
    "        model=model,\n",
    "        messages=messages,\n",
    "        temperature=0, # this is the degree of randomness of the model's output\n",
    "    )\n",
    "    return response.choices[0].message[\"content\"]"
   ]
  },
  {
   "cell_type": "code",
   "execution_count": 16,
   "id": "0451b46e-e3df-456f-8574-8f7555de9e8d",
   "metadata": {},
   "outputs": [],
   "source": [
    "problem_as_list = generate_list(hop[\"problem\"])"
   ]
  },
  {
   "cell_type": "code",
   "execution_count": 18,
   "id": "34428477-5df7-4902-890c-f8b02574942f",
   "metadata": {},
   "outputs": [
    {
     "name": "stdout",
     "output_type": "stream",
     "text": [
      "Summary:\n",
      "The problem requires solving a logic puzzle using an ASP encoding. The goal is to find a path between predefined start and end points, where the path consists of jumps of varying lengths in horizontal or vertical directions following the pattern 1, 2, 3, 1, 2, 3, and so on. The task is to determine the cells where the landing occurs between these jumps, with some cells already provided but without a specific order.\n",
      "\n",
      "Requirements:\n",
      "1) Determine the cells where the landing occurs between the jumps.\n",
      "2) Find a path between the predefined start and end points.\n",
      "3) Ensure the path follows the pattern of jumps: 1, 2, 3, 1, 2, 3, and so on.\n",
      "4) Consider jumps in both horizontal and vertical directions.\n",
      "5) Arrange the provided cells in the correct order to form the path.\n",
      "6) Solve the logic puzzle using an ASP encoding.\n"
     ]
    }
   ],
   "source": [
    "print(problem_as_list)"
   ]
  },
  {
   "cell_type": "markdown",
   "id": "ba85680e-ce0b-48c8-a30e-d34472a06fc6",
   "metadata": {},
   "source": []
  }
 ],
 "metadata": {
  "kernelspec": {
   "display_name": "Python 3 (ipykernel)",
   "language": "python",
   "name": "python3"
  },
  "language_info": {
   "codemirror_mode": {
    "name": "ipython",
    "version": 3
   },
   "file_extension": ".py",
   "mimetype": "text/x-python",
   "name": "python",
   "nbconvert_exporter": "python",
   "pygments_lexer": "ipython3",
   "version": "3.9.13"
  }
 },
 "nbformat": 4,
 "nbformat_minor": 5
}
