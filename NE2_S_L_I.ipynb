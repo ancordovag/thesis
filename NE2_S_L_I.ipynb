{
 "cells": [
  {
   "cell_type": "code",
   "execution_count": 1,
   "id": "231ed771-9eeb-4193-bf81-bec7c3e1292c",
   "metadata": {},
   "outputs": [],
   "source": [
    "### Import libraries\n",
    "import openai\n",
    "import random\n",
    "import os\n",
    "import time\n",
    "from datetime import datetime\n",
    "import pandas as pd\n",
    "import clingo\n",
    "from clingo.control import Control\n",
    "import json\n",
    "from helper import *\n",
    "from stories import *\n",
    "from pipelines import *\n",
    "import psycopg2"
   ]
  },
  {
   "cell_type": "code",
   "execution_count": 2,
   "id": "b70b3373-4e0f-4749-a76f-8071543374c1",
   "metadata": {},
   "outputs": [],
   "source": [
    "now = datetime.now()\n",
    "date_time = now.strftime(\"%Y%m%d\")"
   ]
  },
  {
   "cell_type": "markdown",
   "id": "3ce70df2-3967-4366-a57c-b1f09af7fcd9",
   "metadata": {},
   "source": [
    "## OpenAI"
   ]
  },
  {
   "cell_type": "code",
   "execution_count": 3,
   "id": "1acad185-fecc-4ee7-9e88-ee7a70d9e774",
   "metadata": {},
   "outputs": [],
   "source": [
    "set_api_key()"
   ]
  },
  {
   "cell_type": "markdown",
   "id": "fb9ebeb0-b43b-4fac-af7a-b3661c10124d",
   "metadata": {},
   "source": [
    "## Connect to Database"
   ]
  },
  {
   "cell_type": "code",
   "execution_count": 4,
   "id": "1fc18c20-73d6-4715-844f-5304d8026287",
   "metadata": {},
   "outputs": [],
   "source": [
    "conn = get_connection()"
   ]
  },
  {
   "cell_type": "markdown",
   "id": "6186a42c-727e-4160-8c5f-37e04c9a0034",
   "metadata": {},
   "source": [
    "## Load Projects"
   ]
  },
  {
   "cell_type": "code",
   "execution_count": 5,
   "id": "46634a9b-aec1-41ec-8525-b5690c53bca4",
   "metadata": {},
   "outputs": [],
   "source": [
    "projects = get_useful_projects()"
   ]
  },
  {
   "cell_type": "markdown",
   "id": "db4bf793-fe5e-4941-ae4b-d7716ce4df2a",
   "metadata": {},
   "source": [
    "## Functions"
   ]
  },
  {
   "cell_type": "code",
   "execution_count": 6,
   "id": "cb603840-c987-405a-b9a6-ad75da9b38c1",
   "metadata": {},
   "outputs": [],
   "source": [
    "def save_in_database(conn, prompt1, prompt2, encoding, story, story_1, story_2, version, file):\n",
    "    cursor = conn.cursor()\n",
    "    command = \"INSERT INTO ne_linebyline (prompt1, prompt2, encoding, story, story_1, story_2, version, file) VALUES ('%(prompt1)s', '%(prompt2)s', '%(encoding)s', '%(story)s', '%(story_1)s', '%(story_2)s', '%(version)s', '%(file)s');\" % {\"prompt1\": prompt1, \"prompt2\": prompt2, \"encoding\": encoding, \"story\": story, \"story_1\": story_1, \"story_2\":story_2, \"version\":version, \"file\":file}\n",
    "    try:\n",
    "        cursor.execute(command)\n",
    "        conn.commit()\n",
    "        cursor.close()\n",
    "    except Exception as err:\n",
    "        print(command)\n",
    "        print(f\"Unexpected {err=}, {type(err)=}\")\n",
    "        conn.commit()\n",
    "        cursor.close()\n",
    "        pass"
   ]
  },
  {
   "cell_type": "code",
   "execution_count": 7,
   "id": "b1e09924-e766-45ad-8f5a-59a62e81a456",
   "metadata": {},
   "outputs": [],
   "source": [
    "def get_2_random_projects(projects,project):\n",
    "    filtered_projects = [element for element in projects if element != project]\n",
    "    project_1, project_2 = random.sample(filtered_projects,2)\n",
    "    return project_1, project_2"
   ]
  },
  {
   "cell_type": "markdown",
   "id": "8e28438f-8fcd-498d-a6ec-540181eb3f5f",
   "metadata": {},
   "source": [
    "## Main : From Script, Line4Line, ICL"
   ]
  },
  {
   "cell_type": "code",
   "execution_count": 10,
   "id": "75897c91-482b-486e-b1c8-632c7595012f",
   "metadata": {},
   "outputs": [
    {
     "name": "stdout",
     "output_type": "stream",
     "text": [
      "---------------------------------------------------\n",
      "% Define the plus shape by specifying its four corners: (0,0), (0,1), (1,0), and (1,1).\n",
      "plus(0,0). plus(0,1). plus(1,0). plus(1,1).\n",
      "---------------------------------------------------\n",
      "% Define the four possible directions for movement: up (0,1), down (0,-1), right (1,0), and left (-1,0), for orthogonal connectivity and adjacency checks.\n",
      "dir(0,1). dir(0,-1). dir(1,0). dir(-1,0).\n",
      "---------------------------------------------------\n",
      "% Ensure that exactly N cells adjacent to the hint position (X,Y) are blackened, where the adjacency is defined by the plus shape around the hint position.\n",
      "blackened(X,Y,N) :- hint(X,Y,N), N = #count{ X':X+DX, Y':Y+DY : plus(DX,DY), cell(X',Y'), black(X',Y') }.\n",
      "---------------------------------------------------\n",
      "% Define a path between two white cells (X,Y) and (P,Q) if they are orthogonally adjacent, meaning they share a side and are exactly one unit apart.\n",
      "path(X,Y,P,Q) :- white(X,Y), white(P,Q), dir(DX,DY), X = P + DX, Y = Q + DY.\n",
      "---------------------------------------------------\n",
      "% A cell (X,Y) is white (non-blackened) if it is not blackened and exists within the grid.\n",
      "white(X,Y) :- cell(X,Y), not black(X,Y).\n",
      "---------------------------------------------------\n",
      "% A cell (X,Y) is blackened if it is not white and exists within the grid.\n",
      "black(X,Y) :- cell(X,Y), not white(X,Y).\n",
      "---------------------------------------------------\n",
      "% Determines the minimum X-coordinate among all white cells in the grid. \n",
      "minX(X) :- X = #min{ X':white(X',Y) }.\n",
      "---------------------------------------------------\n",
      "% Calculates the minimum Y-coordinate among all white cells that share the minimum X-coordinate determined by mini_x.\n",
      "minY(Y) :- Y = #min{ Y':white(X',Y'), minX(X') }.\n",
      "---------------------------------------------------\n",
      "% Identifies the cell (M, N) as the starting point for path traversal, where M is the minimum X-coordinate and N is the minimum Y-coordinate among all white cells.\n",
      "start(M,N) :- minX(M), minY(N).\n",
      "---------------------------------------------------\n",
      "% Declare a cell as visited if there is an incoming path from the first visited cell\n",
      "visited(X,Y) :- start(X,Y).\n",
      "visited(X,Y) :- path(P,Q,X,Y), visited(P,Q).\n",
      "---------------------------------------------------\n",
      "% Marks the cell at coordinates (X+DX, Y+DY) as visited, starting from the first visited cell (X, Y), if there is a path from (X, Y) to (X+DX, Y+DY) according to the direction specified by dir(DX,DY).\n",
      "visited(X+DX,Y+DY) :- visited(X,Y), dir(DX,DY), white(X+DX,Y+DY).\n",
      "---------------------------------------------------\n",
      "% Ensure that all white cells in the grid are visited. If a white cell (X,Y) is not visited, it violates the constraint.\n",
      ":- white(X,Y), not visited(X,Y).\n",
      "---------------------------------------------------\n",
      "% Show output predicate\n",
      "#show black/2.\n",
      "---------------------------------------------------\n",
      "% Define a neighbour relationship between cell (X,Y) and cell (XX,YY) with direction D (either vertical 'v' or horizontal 'h'), where (XX,YY) is immediately above (for 'v'), below (for 'v'), to the right (for 'h'), or to the left (for 'h') of (X,Y).\n",
      "neighbour(X,Y,XX,Y,'h') :- field(X,Y), field(XX,Y), X+1 == XX.\n",
      "neighbour(X,Y,XX,Y,'h') :- field(X,Y), field(XX,Y), X-1 == XX.\n",
      "neighbour(X,Y,X,YY,'v') :- field(X,Y), field(X,YY), Y+1 == YY.\n",
      "neighbour(X,Y,X,YY,'v') :- field(X,Y), field(X,YY), Y-1 == YY.\n",
      "---------------------------------------------------\n",
      "% Ensure that for each cell (X,Y) that is not the final cell, there is exactly one outgoing edge (XX,YY) with direction D (either vertical 'v' or horizontal 'h') to a neighbouring cell (XX,YY).\n",
      "1 { edge(X,Y,XX,YY,D) : neighbour(X,Y,XX,YY,D) } 1 :- field(X,Y), not final(X,Y).\n",
      "---------------------------------------------------\n",
      " % Define a path between cell (X,Y) and cell (XX,YY) if there exists an edge between them.\n",
      "path(X,Y,XX,YY) :- edge(X,Y,XX,YY,D).\n",
      "---------------------------------------------------\n",
      "% Ensure that each cell (XX,YY) that is not the starting cell has at least one incoming edge from a neighbouring cell.\n",
      ":- field(XX,YY), not start(XX,YY), not edge(X,Y,XX,YY,D).\n",
      "---------------------------------------------------\n",
      "% Mark the starting cell (X,Y) as visited.\n",
      "visited(X,Y) :- start(X,Y).\n",
      "---------------------------------------------------\n",
      "% Mark cell (XX,YY) as visited if there exists a path from a previously visited cell (X,Y) to cell (XX,YY).\n",
      "visited(XX,YY) :- path(X,Y,XX,YY), visited(X,Y).\n",
      "---------------------------------------------------\n",
      "% Ensure that all cells in the grid are visited. If a cell (X,Y) is not visited, it violates the constraint.\n",
      ":- field(X,Y), not visited(X,Y).\n",
      "---------------------------------------------------\n",
      "% Define an X-hint between cell (XX,YY) and a cell containing the hint number N if there exists an edge between (X,Y) and (XX,YY) with direction D.\n",
      "x_hint(XX,YY,N) :- edge(X,Y,XX,YY,D), hint(X,Y,N).\n",
      "---------------------------------------------------\n",
      "% Define an X-hint between cell (XX,YY) and a cell containing the hint number 0 if (X,Y) is the starting cell and there exists an edge between (X,Y) and (XX,YY) with direction D.\n",
      "x_hint(XX,YY,0) :- edge(X,Y,XX,YY,D), start(X,Y).\n",
      "---------------------------------------------------\n",
      "% Define an X-hint between cell (XX,YY) and a cell containing the hint number N if there exists an X-hint between another cell (X,Y) and a cell containing the hint number N with direction D, and there is an edge between (X,Y) and (XX,YY) with direction DD, where D is the same as DD.\n",
      "x_hint(XX,YY,N) :- x_hint(X,Y,N,D), edge(X,Y,XX,YY,DD), D == DD.\n",
      "---------------------------------------------------\n",
      "% Define an X-hint between cell (XX,YY) and a cell containing the hint number (N-1) if there exists an X-hint between another cell (X,Y) and a cell containing the hint number N with direction D, and N is greater than or equal to 1, and there is an edge between (X,Y) and (XX,YY) with direction DD, where D is different from DD.\n",
      "x_hint(XX,YY,N-1) :- x_hint(X,Y,N,D), edge(X,Y,XX,YY,DD), D != DD, N >= 1.\n",
      "---------------------------------------------------\n",
      "% Ensure that if a cell (X,Y) contains a hint number, there must be an X-hint from (X,Y) with hint number 0.\n",
      ":- hint(X,Y,N), not x_hint(X,Y,0).\n",
      "---------------------------------------------------\n",
      "% Ensure that if the final cell (X,Y) is specified, there must be an X-hint from (X,Y) with hint number 0.\n",
      ":- final(X,Y), not x_hint(X,Y,0).\n",
      "---------------------------------------------------\n",
      "% Show output predicate\n",
      "#show edge/5.\n",
      "---------------------------------------------------\n",
      "% Define the four possible directions for movement: up (0,1), down (0,-1), right (1,0), and left (-1,0), for orthogonal connectivity and adjacency checks.\n",
      "direction(0,1). \n",
      "direction(0,-1). \n",
      "direction(1,0). \n",
      "direction(-1,0).\n",
      "---------------------------------------------------\n",
      "% Ensure that each number (X,Y,Z) is moved into exactly one gray area (I,J).\n",
      "1 { moved(X,Y,Z,I,J) : grayArea(I,J) } 1 :- number(X,Y,Z).\n",
      "---------------------------------------------------\n",
      "% Ensure that a number (X,Y) is not moved into more than one gray area (I,J).\n",
      ":- moved(X,Y,Z,I1,J1), moved(X,Y,Z,I2,J2), I1!=I2, J1!=J2.\n",
      "---------------------------------------------------\n",
      "% Ensure that a number (X,Y) is not moved into more than one gray area (I,J).\n",
      ":- moved(X,Y,Z,I1,J1), moved(X,Y,Z,I2,J2), I1!=I2, J1!=J2.\n",
      "---------------------------------------------------\n",
      "% Ensure that a number (X,Y) is moved into a gray area (I,J) such that it is adjacent to it, i.e., (X,Y) shares a side with (I,J).\n",
      "moved(X,Y,Z,I,J) :- number(X,Y,Z), grayArea(I,J), adjacent(X,Y,I,J).\n",
      "---------------------------------------------------\n",
      "% Ensure that two numbers (X,Y) and (X',Y') are not moved into the same gray area (I,J) if they occupy different cells.\n",
      ":- moved(X,Y,Z,I,J), moved(X1,Y1,Z1,I,J), X!=X1, Y!=Y1.\n",
      "---------------------------------------------------\n",
      "% Ensure that two numbers (X,Y) and (X',Y') are not moved into the same gray area (I,J) if they cross each other horizontally.\n",
      ":- moved(X,Y,Z,I,J), moved(X1,Y1,Z1,I,J), X=X1, Y!=Y1.\n",
      "---------------------------------------------------\n",
      "% Ensure that two numbers (X,Y) and (X,Y') are not moved into the same gray area (I,J) if they cross each other vertically.\n",
      ":- moved(X,Y,Z,I,J), moved(X1,Y1,Z1,I,J), Y=Y1, X!=X1.\n",
      "---------------------------------------------------\n",
      "% Count the number of numbers moved into each gray area (A).\n",
      "count(A,N) :- A = #count{ Z : moved(X,Y,Z,I,J) }, grayArea(I,J).\n",
      "---------------------------------------------------\n",
      "% Ensure that each gray area (A) is populated with at least one moved number.\n",
      ":- grayArea(I,J), not 1 { moved(X,Y,Z,I,J) : number(X,Y,Z) }.\n",
      "---------------------------------------------------\n",
      "% Calculate the total sum of the numbers moved into each gray area (A), where the sum is equal to the goal value (V) specified for the area.\n",
      "total(A,V) :- A = #sum{ Z : moved(X,Y,Z,I,J) }, grayArea(I,J), goal(I,J,V).\n",
      "---------------------------------------------------\n",
      "% Ensure that the total sum (S) of the numbers moved into each gray area (A) is equal to the goal value (V) specified for the area.\n",
      ":- total(A,S), goal(A,V), S!=V.\n",
      "---------------------------------------------------\n",
      "% Show output predicate\n",
      "#show moved/5.\n"
     ]
    }
   ],
   "source": [
    "for project in projects:\n",
    "    story = project[\"story\"]\n",
    "    encoding = project[\"lines\"]\n",
    "    instance = instances_dict[story]\n",
    "    problem = project[\"problem\"]\n",
    "    lines = encoding.splitlines()\n",
    "    new_file = []\n",
    "    project_1, project_2 = get_2_random_projects(projects,project)\n",
    "    story_1 = project_1[\"story\"]\n",
    "    story_2 = project_2[\"story\"]\n",
    "    content1 = f'''Problem1: {project_1[\"problem\"]}\n",
    "                    Encoding1: {project_1[\"lines\"]}  '''\n",
    "    content2 = f'''Problem2: {project_2[\"problem\"]}\n",
    "                    Encoding2: {project_2[\"lines\"]}  '''\n",
    "    messages = [{\"role\":\"user\",\"content\":content1}]\n",
    "    messages.append({\"role\":\"user\",\"content\":content2})\n",
    "    messages.append({\"role\":\"user\",\"content\":f\"Problem1: {problem}\"})\n",
    "    for line in lines:\n",
    "        if line == '\\n':\n",
    "            continue\n",
    "        if len(line.strip()) > 0 and line.strip()[0] == '%':\n",
    "            print(\"---------------------------------------------------\")\n",
    "            new_file.append(\"\\n\" + line)\n",
    "            messages.append({\"role\":\"user\",\"content\":line})\n",
    "            print(line)\n",
    "            answer = get_completion_line(line,previous_messages=messages)\n",
    "            print(answer)\n",
    "            new_file.append(\"\\n\" + answer)\n",
    "            messages.append({\"role\":\"assistant\",\"content\":answer})\n",
    "    new_file_name = story + \"_from_\" + story_1 + \"_\" + story_2 + \"_v12_SLI_\" + date_time + \".lp\"\n",
    "    prompt = '''Given the description of a problem, and a commented line, \n",
    "                your task is to translate this commented line in Answer Set Programming. \n",
    "                Just write one or a few predicates or rules. Do not try to solve the whole problem at once.'''\n",
    "    encoding = ' '.join(new_file)\n",
    "    save_in_database(conn,prompt,'',encoding.replace(\"'\",\"\"),story,story_1, story_2, 12, new_file_name)  "
   ]
  },
  {
   "cell_type": "code",
   "execution_count": 9,
   "id": "8b231938-54d3-4be3-9c53-1b6376d54a76",
   "metadata": {},
   "outputs": [
    {
     "data": {
      "text/plain": [
       "['\\n% Define the non-empty cells (X,Y) in the grid, where X ranges from 1 to the number of rows (R) and Y ranges from 1 to the number of columns (C).',\n",
       " '\\ncell(X,Y) :- row(X), column(Y).',\n",
       " '\\n% Define the cells (X,Y) that contain a digit.',\n",
       " '\\ndigit(X,Y,N) :- cell(X,Y), N = #count{ 1 : light(I,J), adjacent(X,Y,I,J) }.',\n",
       " '\\n% Define the four possible directions for illumination: up (1,0), down (-1,0), right (0,1), and left (0,-1).',\n",
       " '\\ndir(1,0). dir(-1,0). dir(0,1). dir(0,-1).',\n",
       " '\\n% Define \"neighbor\" of 6 variables for 2 fields if there is a \"delta\" distance between them TODO',\n",
       " '\\nneighbor(X1,Y1,X2,Y2,DX,DY) :- cell(X1,Y1), cell(X2,Y2), dir(DX,DY), X2 = X1 + DX, Y2 = Y1 + DY.',\n",
       " '\\n% Neighbors that are not \"digit\" are defined as \"reach\" TODO',\n",
       " '\\nreach(X1,Y1,X2,Y2,DX,DY) :- neighbor(X1,Y1,X2,Y2,DX,DY), not digit(X2,Y2,_).',\n",
       " '\\n% Transitive property of relation \"reach\": all fields that are neighbours in the same direction, have a relation reach',\n",
       " '\\nreach(X1,Y1,X3,Y3,DX,DY) :- reach(X1,Y1,X2,Y2,DX,DY), reach(X2,Y2,X3,Y3,DX,DY).',\n",
       " '\\n% Generate between 0 and 1 atoms of predicate \"light\" for field(X,Y) if this is not a digit. TODO',\n",
       " '\\n0 { light(X,Y) } 1 :- cell(X,Y), not digit(X,Y,_).',\n",
       " '\\n% Mark a field as \"lighted\" for a position if there is a relation of \"reach\" between a position of \"light\" and that position',\n",
       " '\\nlighted(X2,Y2) :- light(X1,Y1), reach(X1,Y1,X2,Y2,_,_).',\n",
       " '\\n% Cannnot be the case that a field with a light is not lighted',\n",
       " '\\n:- light(X,Y), not lighted(X,Y).',\n",
       " '\\n% Cannot be the case that a field is not digit and is not lighted',\n",
       " '\\n:- cell(X,Y), not digit(X,Y,_), not lighted(X,Y).',\n",
       " '\\n% A field with a digit N must have exactly N neighbors that are light',\n",
       " '\\n:- digit(X,Y,N), N != #count{ 1 : light(I,J), neighbor(X,Y,I,J,_,_) }.',\n",
       " '\\n% Show output predicate \"light\"',\n",
       " '\\n#show light/2.']"
      ]
     },
     "execution_count": 9,
     "metadata": {},
     "output_type": "execute_result"
    }
   ],
   "source": [
    "new_file"
   ]
  },
  {
   "cell_type": "code",
   "execution_count": null,
   "id": "9b7dc485-f742-4129-8a34-54cf9a13858a",
   "metadata": {},
   "outputs": [],
   "source": []
  }
 ],
 "metadata": {
  "kernelspec": {
   "display_name": "Python 3 (ipykernel)",
   "language": "python",
   "name": "python3"
  },
  "language_info": {
   "codemirror_mode": {
    "name": "ipython",
    "version": 3
   },
   "file_extension": ".py",
   "mimetype": "text/x-python",
   "name": "python",
   "nbconvert_exporter": "python",
   "pygments_lexer": "ipython3",
   "version": "3.9.13"
  }
 },
 "nbformat": 4,
 "nbformat_minor": 5
}
